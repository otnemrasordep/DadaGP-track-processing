{
 "cells": [
  {
   "cell_type": "markdown",
   "metadata": {},
   "source": [
    "## Splitting whole files into 16 bar chunks"
   ]
  },
  {
   "cell_type": "code",
   "execution_count": 2,
   "metadata": {},
   "outputs": [],
   "source": [
    "import os \n",
    "\n",
    "path_output = '/Users/pedro/Desktop/DadaGP-v1.1/data-prep-acc-gen/txts_16_drums/'\n",
    "path_input = '/Users/pedro/Desktop/DadaGP-v1.1/data-prep-acc-gen/txts_16_dg-dg-b/'"
   ]
  },
  {
   "cell_type": "markdown",
   "metadata": {},
   "source": [
    "## Assess there is an equal number of measures in each file"
   ]
  },
  {
   "cell_type": "code",
   "execution_count": 3,
   "metadata": {},
   "outputs": [],
   "source": [
    "output = []\n",
    "input = []\n",
    "\n",
    "for file in os.listdir(path_output):\n",
    "    ouput.append(os.path.join(path_output, file))\n",
    "\n",
    "for file in os.listdir(path_input):\n",
    "    input.append(os.path.join(path_input, file))"
   ]
  },
  {
   "cell_type": "code",
   "execution_count": null,
   "metadata": {},
   "outputs": [],
   "source": []
  }
 ],
 "metadata": {
  "kernelspec": {
   "display_name": "dadaMe",
   "language": "python",
   "name": "python3"
  },
  "language_info": {
   "codemirror_mode": {
    "name": "ipython",
    "version": 3
   },
   "file_extension": ".py",
   "mimetype": "text/x-python",
   "name": "python",
   "nbconvert_exporter": "python",
   "pygments_lexer": "ipython3",
   "version": "3.5.4"
  }
 },
 "nbformat": 4,
 "nbformat_minor": 2
}
