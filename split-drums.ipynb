{
 "cells": [
  {
   "cell_type": "code",
   "execution_count": 4,
   "metadata": {},
   "outputs": [
    {
     "data": {
      "text/plain": [
       "7661"
      ]
     },
     "execution_count": 4,
     "metadata": {},
     "output_type": "execute_result"
    }
   ],
   "source": [
    "import os\n",
    "\n",
    "gps_path = \"/Users/pedro/Desktop/DadaGP-v1.1/data-prep-acc-gen/gps_with_4/\"\n",
    "file_list = []\n",
    "for file in os.listdir(gps_path):\n",
    "    file_list.append(gps_path + file)\n",
    "\n",
    "len(file_list)"
   ]
  },
  {
   "cell_type": "markdown",
   "metadata": {},
   "source": [
    "## Save drums into new .gp file and save the rest into a new .gp file"
   ]
  },
  {
   "cell_type": "code",
   "execution_count": 11,
   "metadata": {},
   "outputs": [
    {
     "name": "stdout",
     "output_type": "stream",
     "text": [
      "drums\n"
     ]
    }
   ],
   "source": [
    "import guitarpro as gp\n",
    "\n",
    "output_directory = \"/Users/pedro/Desktop/DadaGP-v1.1/data-prep-acc-gen/gps_drums/\"\n",
    "\n",
    "# Parse the Guitar Pro file\n",
    "gp_file = gp.parse(file_list[666])\n",
    "_ = gp_file\n",
    "# print(gp_file)\n",
    "filename = file.split('/')[-1]\n",
    "\n",
    "# Filter tracks based on MIDI channel and percussion check\n",
    "for track in gp_file.tracks:\n",
    "    # print(track)\n",
    "    _.tracks = []\n",
    "    if track.isPercussionTrack:\n",
    "        print('drums')\n",
    "        _.tracks.append(track)\n",
    "        gp.write(_, output_directory + filename)"
   ]
  },
  {
   "cell_type": "code",
   "execution_count": 32,
   "metadata": {},
   "outputs": [
    {
     "name": "stderr",
     "output_type": "stream",
     "text": [
      "100%|██████████| 1/1 [00:00<00:00,  3.06it/s]"
     ]
    },
    {
     "name": "stdout",
     "output_type": "stream",
     "text": [
      "[<guitarpro.models.Track object at 0x7f8dc87c1240>, <guitarpro.models.Track object at 0x7f8dc87c11d0>, <guitarpro.models.Track object at 0x7f8dc87e8710>, <guitarpro.models.Track object at 0x7f8dc87e8748>]\n",
      "[<guitarpro.models.Track object at 0x7f8dc87c1240>, <guitarpro.models.Track object at 0x7f8dc87c11d0>, <guitarpro.models.Track object at 0x7f8dc87e8710>, <guitarpro.models.Track object at 0x7f8dc87e8748>, <guitarpro.models.Track object at 0x7f8dc87c1240>]\n",
      "[<guitarpro.models.Track object at 0x7f8dc87c1240>, <guitarpro.models.Track object at 0x7f8dc87c11d0>, <guitarpro.models.Track object at 0x7f8dc87e8710>, <guitarpro.models.Track object at 0x7f8dc87e8748>, <guitarpro.models.Track object at 0x7f8dc87c1240>, <guitarpro.models.Track object at 0x7f8dc87c11d0>]\n",
      "[<guitarpro.models.Track object at 0x7f8dc87c1240>, <guitarpro.models.Track object at 0x7f8dc87c11d0>, <guitarpro.models.Track object at 0x7f8dc87e8710>, <guitarpro.models.Track object at 0x7f8dc87e8748>, <guitarpro.models.Track object at 0x7f8dc87c1240>, <guitarpro.models.Track object at 0x7f8dc87c11d0>, <guitarpro.models.Track object at 0x7f8dc87e8710>]\n",
      "[<guitarpro.models.Track object at 0x7f8dc87c1240>]\n",
      "[<guitarpro.models.Track object at 0x7f8dc87c1240>, <guitarpro.models.Track object at 0x7f8dc87c11d0>]\n",
      "[<guitarpro.models.Track object at 0x7f8dc87c1240>, <guitarpro.models.Track object at 0x7f8dc87c11d0>, <guitarpro.models.Track object at 0x7f8dc87e8710>]\n"
     ]
    },
    {
     "name": "stderr",
     "output_type": "stream",
     "text": [
      "\n"
     ]
    }
   ],
   "source": [
    "import os\n",
    "import shutil\n",
    "from tqdm import tqdm\n",
    "import guitarpro as gp\n",
    "\n",
    "# Directory to save filtered files\n",
    "output_directory_drums = \"/Users/pedro/Desktop/DadaGP-v1.1/data-prep-acc-gen/gps_drums/\"\n",
    "output_directory_others = '/Users/pedro/Desktop/DadaGP-v1.1/data-prep-acc-gen/gps_dg-dg-b/'\n",
    "\n",
    "# Make sure the output directory exists\n",
    "os.makedirs(output_directory, exist_ok=True)\n",
    "\n",
    "for file in tqdm(file_list):\n",
    "    try:\n",
    "        # Parse the Guitar Pro file\n",
    "        gp_file = gp.parse(file)\n",
    "        drums = gp_file\n",
    "        others = gp_file\n",
    "        filename = file.split('/')[-1]\n",
    "\n",
    "        # Filter tracks based on MIDI channel and percussion check\n",
    "        for track in gp_file.tracks:\n",
    "            if track.isPercussionTrack:\n",
    "                drums.tracks = []\n",
    "                drums.tracks.append(track)\n",
    "                gp.write(drums, output_directory_drums + filename)\n",
    "                others.tracks = []\n",
    "            else:\n",
    "                others.tracks.append(track)\n",
    "        \n",
    "        gp.write(others, output_directory_others + filename)\n",
    "\n",
    "    except Exception as e:\n",
    "        print(\"Could not process {}: {}\".format(gp_file, e))\n",
    "\n"
   ]
  }
 ],
 "metadata": {
  "kernelspec": {
   "display_name": "dadaMe",
   "language": "python",
   "name": "python3"
  },
  "language_info": {
   "codemirror_mode": {
    "name": "ipython",
    "version": 3
   },
   "file_extension": ".py",
   "mimetype": "text/x-python",
   "name": "python",
   "nbconvert_exporter": "python",
   "pygments_lexer": "ipython3",
   "version": "3.5.4"
  }
 },
 "nbformat": 4,
 "nbformat_minor": 2
}
