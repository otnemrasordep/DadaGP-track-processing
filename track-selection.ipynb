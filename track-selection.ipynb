{
 "cells": [
  {
   "cell_type": "code",
   "execution_count": 3,
   "metadata": {},
   "outputs": [],
   "source": [
    "dadagp_path = '/Users/pedro/Desktop/DadaGP-v1.1/'\n",
    "all_files_path = '/Users/pedro/Desktop/DadaGP-v1.1/_DadaGP_all_filenames.json'"
   ]
  },
  {
   "cell_type": "markdown",
   "metadata": {},
   "source": [
    "## Get all .gp files"
   ]
  },
  {
   "cell_type": "code",
   "execution_count": 12,
   "metadata": {},
   "outputs": [
    {
     "name": "stdout",
     "output_type": "stream",
     "text": [
      "26181\n"
     ]
    }
   ],
   "source": [
    "import json\n",
    "\n",
    "# Assuming 'all_files_path' contains the path to your JSON file\n",
    "with open(all_files_path, 'r') as f:\n",
    "    file_paths = json.load(f)  # Load JSON data into a Python list\n",
    "\n",
    "# Remove the \".tokens.txt\" part from each path\n",
    "all_gps_paths = [path.replace(\".tokens.txt\", \"\") for path in file_paths]\n",
    "\n",
    "# Print the number of files\n",
    "print(len(all_gps_paths))"
   ]
  },
  {
   "cell_type": "markdown",
   "metadata": {},
   "source": [
    "## Get all .gp files with => 4 tracks"
   ]
  },
  {
   "cell_type": "code",
   "execution_count": 25,
   "metadata": {},
   "outputs": [
    {
     "name": "stderr",
     "output_type": "stream",
     "text": [
      "100%|██████████| 26181/26181 [30:38<00:00, 14.24it/s]  \n"
     ]
    }
   ],
   "source": [
    "import guitarpro as gp\n",
    "import os\n",
    "from tqdm import tqdm\n",
    "\n",
    "gp_files_4plus = []\n",
    "\n",
    "# Iterate over the list of .gp file paths\n",
    "for gp_file_path in tqdm(all_gps_paths):\n",
    "    # Get full path\n",
    "    file_path = os.path.join(dadagp_path, gp_file_path)\n",
    "    # Parse them with pyguitarpro\n",
    "    try:\n",
    "        # Parse the Guitar Pro file\n",
    "        gp_file = gp.parse(file_path)\n",
    "\n",
    "        # Check the number of tracks\n",
    "        if len(gp_file.tracks) >= 4:\n",
    "            gp_files_4plus.append(file_path)\n",
    "            # print('File {} has {} tracks.'.format(file_path, len(gp_file.tracks)))\n",
    "\n",
    "    except Exception as e:\n",
    "        # Handle any parsing errors gracefully\n",
    "        print('Could not parse {}: {}'.format(file_path, e))\n",
    "    "
   ]
  },
  {
   "cell_type": "code",
   "execution_count": 33,
   "metadata": {},
   "outputs": [
    {
     "name": "stdout",
     "output_type": "stream",
     "text": [
      "There are 13413 files with 4 or more tracks, which is 51.23% of the dataset.\n"
     ]
    }
   ],
   "source": [
    "print('There are {} files with 4 or more tracks, which is {:.2f}% of the dataset.'.format(len(gp_files_4plus), 100*len(gp_files_4plus)/len(all_gps_paths)))"
   ]
  },
  {
   "cell_type": "code",
   "execution_count": 34,
   "metadata": {},
   "outputs": [],
   "source": [
    "# Save gp_files_4plus into a .json\n",
    "with open(\"gp_paths_4plustracks.json\", \"w\") as final:\n",
    "\tjson.dump(gp_files_4plus, final)"
   ]
  },
  {
   "cell_type": "markdown",
   "metadata": {},
   "source": [
    "## Remove extra tracks from .gp files"
   ]
  },
  {
   "cell_type": "code",
   "execution_count": 38,
   "metadata": {},
   "outputs": [
    {
     "name": "stdout",
     "output_type": "stream",
     "text": [
      "13413\n"
     ]
    }
   ],
   "source": [
    "# If a track only has 2 distorted guitars, bass, drums -> save the track\n",
    "# If a track has more than those instruments, check if it has 2 DGs, B, D -> save those in new file\n",
    "\n",
    "with open('gp_paths_4plustracks.json', 'r') as f:\n",
    "    gp_files_4plus = json.load(f)  # Load JSON data into a Python list"
   ]
  },
  {
   "cell_type": "code",
   "execution_count": 218,
   "metadata": {},
   "outputs": [
    {
     "name": "stdout",
     "output_type": "stream",
     "text": [
      "Track 1 25\n",
      "Track 2 32\n",
      "bass\n",
      "Track 3 27\n",
      "Percussion 0\n",
      "drums\n",
      "Percussion 0\n",
      "[]\n"
     ]
    }
   ],
   "source": [
    "gp_file = gp.parse(gp_files_4plus[14])\n",
    "_ = gp_file\n",
    "filename = gp_files_4plus[14]\n",
    "\n",
    "# Initialize lists to store required instruments\n",
    "distorted_guitars = []\n",
    "bass = None\n",
    "drums = None\n",
    "\n",
    "for track in gp_file.tracks:\n",
    "        print(track.name, track.channel.instrument)\n",
    "        instrument_type = is_required_instrument(track)\n",
    "        if instrument_type == 'distorted_guitar' and len(distorted_guitars) < 2:\n",
    "            print('dg')\n",
    "            distorted_guitars.append(track)\n",
    "        elif instrument_type == 'bass' and bass is None:\n",
    "            print('bass')\n",
    "            bass = track\n",
    "        elif instrument_type == 'drums' and drums is None:\n",
    "            print('drums')\n",
    "            drums = track\n",
    "\n",
    "print(distorted_guitars)\n",
    "\n",
    "if len(distorted_guitars) == 2 and bass and drums:\n",
    "    required_tracks = distorted_guitars + [bass, drums]\n",
    "    print(required_tracks)\n",
    "\n",
    "    _.tracks = []\n",
    "    for track in required_tracks:\n",
    "        # print(track)\n",
    "        _.tracks.append(track)\n",
    "    gp.write(_, 'a.gp5')\n",
    "    print(\"Created new file with 4 tracks: {}\".format(output_directory + filename))"
   ]
  },
  {
   "cell_type": "code",
   "execution_count": 220,
   "metadata": {},
   "outputs": [
    {
     "name": "stderr",
     "output_type": "stream",
     "text": [
      "  0%|          | 0/13413 [00:00<?, ?it/s]"
     ]
    },
    {
     "name": "stderr",
     "output_type": "stream",
     "text": [
      "100%|██████████| 13413/13413 [35:32<00:00,  6.29it/s] \n"
     ]
    }
   ],
   "source": [
    "import os\n",
    "import shutil\n",
    "from tqdm import tqdm\n",
    "\n",
    "# Directory to save filtered files\n",
    "output_directory = \"/Users/pedro/Desktop/DadaGP-v1.1/data-prep-acc-gen/gps_with_4/\"\n",
    "\n",
    "# Make sure the output directory exists\n",
    "os.makedirs(output_directory, exist_ok=True)\n",
    "\n",
    "# MIDI Channel numbers for the required instruments\n",
    "DISTORTED_GUITAR_CHANNELS = [29, 30]  # Distorted/Overdriven guitars\n",
    "BASS_CHANNEL = [32, 33, 34, 35, 36, 37, 38, 39]  # Finger/Picked Bass\n",
    "# No need to define drums channel as we'll use isPercussionTrack for this\n",
    "\n",
    "# Function to check if a track is a distorted guitar, bass, or drums\n",
    "def is_required_instrument(track):\n",
    "    instrument = track.channel.instrument\n",
    "    if track.isPercussionTrack:  # Check if it's a percussion (drum) track\n",
    "        return 'drums'\n",
    "    elif instrument in DISTORTED_GUITAR_CHANNELS:\n",
    "        return 'distorted_guitar'\n",
    "    elif instrument in BASS_CHANNEL:\n",
    "        return 'bass'\n",
    "    \n",
    "    return None\n",
    "\n",
    "for file in tqdm(gp_files_4plus):\n",
    "    try:\n",
    "        # Parse the Guitar Pro file\n",
    "        gp_file = gp.parse(file)\n",
    "        _ = gp_file\n",
    "        # print(gp_file)\n",
    "        filename = file.split('/')[-1]\n",
    "        # print(filename)\n",
    "\n",
    "        # Initialize lists to store required instruments\n",
    "        distorted_guitars = []\n",
    "        bass = None\n",
    "        drums = None\n",
    "\n",
    "        # Filter tracks based on MIDI channel and percussion check\n",
    "        for track in gp_file.tracks:\n",
    "            # print(track)\n",
    "            instrument_type = is_required_instrument(track)\n",
    "            if instrument_type == 'distorted_guitar' and len(distorted_guitars) < 2:\n",
    "                distorted_guitars.append(track)\n",
    "            elif instrument_type == 'bass' and bass is None:\n",
    "                bass = track\n",
    "            elif instrument_type == 'drums' and drums is None:\n",
    "                drums = track\n",
    "\n",
    "        # Check if we have the required tracks (2 distorted guitars, 1 bass, 1 drums)\n",
    "        if len(distorted_guitars) == 2 and bass and drums:\n",
    "            required_tracks = distorted_guitars + [bass, drums]\n",
    "            # print(required_tracks)\n",
    "\n",
    "            if len(gp_file.tracks) == 4:\n",
    "                # If the file already has exactly 4 tracks, just copy it\n",
    "                output_file = os.path.join(output_directory, filename)\n",
    "                shutil.copy(file, output_file)\n",
    "                # print(\"Copied {} to {}.\".format(filename, output_file))\n",
    "            else:\n",
    "                # _ was a copy of the current .gp file with all tracks\n",
    "                # we need to clear its tracks\n",
    "                _.tracks = []\n",
    "                for track in required_tracks:\n",
    "                    # print(track)\n",
    "                    _.tracks.append(track)\n",
    "                gp.write(_, output_directory + filename)\n",
    "                # print(\"Created new file with 4 tracks: {}\".format(output_directory + filename))\n",
    "\n",
    "    except Exception as e:\n",
    "        print(\"Could not process {}: {}\".format(gp_file, e))\n",
    "\n"
   ]
  },
  {
   "cell_type": "markdown",
   "metadata": {},
   "source": [
    "## Assert all files have four correct tracks"
   ]
  },
  {
   "cell_type": "code",
   "execution_count": 221,
   "metadata": {},
   "outputs": [
    {
     "name": "stdout",
     "output_type": "stream",
     "text": [
      "There are 7725 files with 4 tracks, which is 29.51% of the dataset.\n"
     ]
    }
   ],
   "source": [
    "import os\n",
    "\n",
    "gps_path = '/Users/pedro/Desktop/DadaGP-v1.1/data-prep-acc-gen/gps_with_4'\n",
    "files_4tracks = []\n",
    "for file in os.listdir(gps_path):\n",
    "    files_4tracks.append(file)\n",
    "\n",
    "print('There are {} files with 4 tracks, which is {:.2f}% of the dataset.'.format(len(files_4tracks), 100*len(files_4tracks)/len(all_gps_paths)))"
   ]
  },
  {
   "cell_type": "code",
   "execution_count": 228,
   "metadata": {},
   "outputs": [
    {
     "name": "stdout",
     "output_type": "stream",
     "text": [
      "True\n"
     ]
    }
   ],
   "source": [
    "x = ['dg', 'b', 'dg', 'd']\n",
    "\n",
    "print(set(x) == set(['dg', 'dg', 'b', 'd']))"
   ]
  },
  {
   "cell_type": "code",
   "execution_count": 236,
   "metadata": {},
   "outputs": [
    {
     "name": "stderr",
     "output_type": "stream",
     "text": [
      "  1%|          | 43/7725 [00:04<09:26, 13.55it/s]"
     ]
    },
    {
     "name": "stdout",
     "output_type": "stream",
     "text": [
      "Could not process Black Sabbath - Paranoid (5).gp3: 255 is not a valid NoteType\n"
     ]
    },
    {
     "name": "stderr",
     "output_type": "stream",
     "text": [
      "  1%|          | 63/7725 [00:06<13:26,  9.50it/s]"
     ]
    },
    {
     "name": "stdout",
     "output_type": "stream",
     "text": [
      "Could not process Disturbed - Conflict (2).gp3: \n"
     ]
    },
    {
     "name": "stderr",
     "output_type": "stream",
     "text": [
      "  5%|▍         | 352/7725 [00:44<13:08,  9.35it/s]"
     ]
    },
    {
     "name": "stdout",
     "output_type": "stream",
     "text": [
      "Could not process All That Remains - Regret Not.gp4: \n"
     ]
    },
    {
     "name": "stderr",
     "output_type": "stream",
     "text": [
      "  8%|▊         | 612/7725 [01:18<12:32,  9.46it/s]"
     ]
    },
    {
     "name": "stdout",
     "output_type": "stream",
     "text": [
      "Could not process Whitesnake - Fool For Your Loving.gp3: 255 is not a valid NoteType\n"
     ]
    },
    {
     "name": "stderr",
     "output_type": "stream",
     "text": [
      "  8%|▊         | 636/7725 [01:21<13:26,  8.79it/s]"
     ]
    },
    {
     "name": "stdout",
     "output_type": "stream",
     "text": [
      "Could not process Megadeth - Promises (3).gp4: \n"
     ]
    },
    {
     "name": "stderr",
     "output_type": "stream",
     "text": [
      "  9%|▊         | 667/7725 [01:24<12:12,  9.64it/s]"
     ]
    },
    {
     "name": "stdout",
     "output_type": "stream",
     "text": [
      "Could not process System Of A Down - Chop Suey!.gp4: \n"
     ]
    },
    {
     "name": "stderr",
     "output_type": "stream",
     "text": [
      " 10%|█         | 781/7725 [01:38<11:29, 10.07it/s]"
     ]
    },
    {
     "name": "stdout",
     "output_type": "stream",
     "text": [
      "Could not process Osbourne, Ozzy - I Don_'t Know (2).gp3: 255 is not a valid NoteType\n"
     ]
    },
    {
     "name": "stderr",
     "output_type": "stream",
     "text": [
      " 11%|█         | 862/7725 [01:49<13:53,  8.23it/s]"
     ]
    },
    {
     "name": "stdout",
     "output_type": "stream",
     "text": [
      "Could not process Ruiz, Jacques - Star Life.gp3: 255 is not a valid NoteType\n"
     ]
    },
    {
     "name": "stderr",
     "output_type": "stream",
     "text": [
      " 11%|█         | 868/7725 [01:49<12:32,  9.11it/s]"
     ]
    },
    {
     "name": "stdout",
     "output_type": "stream",
     "text": [
      "Could not process Scorpions - Rock You Like A Hurricane (2).gp3: 255 is not a valid NoteType\n"
     ]
    },
    {
     "name": "stderr",
     "output_type": "stream",
     "text": [
      " 13%|█▎        | 1025/7725 [02:08<14:31,  7.68it/s]"
     ]
    },
    {
     "name": "stdout",
     "output_type": "stream",
     "text": [
      "Could not process Scorpions - Rock You Like A Hurricane (3).gp3: 255 is not a valid NoteType\n"
     ]
    },
    {
     "name": "stderr",
     "output_type": "stream",
     "text": [
      " 15%|█▍        | 1128/7725 [02:21<08:50, 12.44it/s]"
     ]
    },
    {
     "name": "stdout",
     "output_type": "stream",
     "text": [
      "Could not process Led Zeppelin - The Wanton Song.gp3: unpack requires a bytes object of length 4\n"
     ]
    },
    {
     "name": "stderr",
     "output_type": "stream",
     "text": [
      " 20%|██        | 1556/7725 [03:16<10:30,  9.78it/s]"
     ]
    },
    {
     "name": "stdout",
     "output_type": "stream",
     "text": [
      "Could not process Aerosmith - Livin' on the Edge.gp3: 255 is not a valid NoteType\n"
     ]
    },
    {
     "name": "stderr",
     "output_type": "stream",
     "text": [
      " 21%|██        | 1584/7725 [03:19<09:19, 10.98it/s]"
     ]
    },
    {
     "name": "stdout",
     "output_type": "stream",
     "text": [
      "Could not process H_tk_znapi Csal_d_sok - Target.gp4: \n"
     ]
    },
    {
     "name": "stderr",
     "output_type": "stream",
     "text": [
      " 25%|██▌       | 1954/7725 [04:06<11:42,  8.21it/s]"
     ]
    },
    {
     "name": "stdout",
     "output_type": "stream",
     "text": [
      "Could not process Hermetica - Olvidalo y volvera por mas.gp3: 255 is not a valid NoteType\n"
     ]
    },
    {
     "name": "stderr",
     "output_type": "stream",
     "text": [
      " 26%|██▌       | 1983/7725 [04:09<09:58,  9.60it/s]"
     ]
    },
    {
     "name": "stdout",
     "output_type": "stream",
     "text": [
      "Could not process Springsteen, Bruce - Further On (Up the Road).gp3: 255 is not a valid NoteType\n"
     ]
    },
    {
     "name": "stderr",
     "output_type": "stream",
     "text": [
      " 27%|██▋       | 2103/7725 [04:23<06:52, 13.63it/s]"
     ]
    },
    {
     "name": "stdout",
     "output_type": "stream",
     "text": [
      "Could not process ALMAFUERTE - TC.gp3: 255 is not a valid NoteType\n"
     ]
    },
    {
     "name": "stderr",
     "output_type": "stream",
     "text": [
      " 30%|███       | 2323/7725 [04:53<09:41,  9.29it/s]"
     ]
    },
    {
     "name": "stdout",
     "output_type": "stream",
     "text": [
      "Could not process Nahui Ollin - Solo Por Tu Amor.gp4: \n"
     ]
    },
    {
     "name": "stderr",
     "output_type": "stream",
     "text": [
      " 32%|███▏      | 2507/7725 [05:17<14:18,  6.08it/s]"
     ]
    },
    {
     "name": "stdout",
     "output_type": "stream",
     "text": [
      "Could not process Audioslave - Cochise (2).gp3: \n"
     ]
    },
    {
     "name": "stderr",
     "output_type": "stream",
     "text": [
      " 36%|███▌      | 2786/7725 [05:53<09:37,  8.55it/s]"
     ]
    },
    {
     "name": "stdout",
     "output_type": "stream",
     "text": [
      "Could not process Scorpions - Rock You Like a Hurricane.gp3: 255 is not a valid NoteType\n"
     ]
    },
    {
     "name": "stderr",
     "output_type": "stream",
     "text": [
      " 36%|███▌      | 2800/7725 [05:55<10:26,  7.86it/s]"
     ]
    },
    {
     "name": "stdout",
     "output_type": "stream",
     "text": [
      "Could not process Metallica - Whiplash (2).gp3: 255 is not a valid NoteType\n"
     ]
    },
    {
     "name": "stderr",
     "output_type": "stream",
     "text": [
      " 37%|███▋      | 2839/7725 [06:00<08:56,  9.11it/s]"
     ]
    },
    {
     "name": "stdout",
     "output_type": "stream",
     "text": [
      "Could not process Metallica - The Outlaw Torn.gp3: 255 is not a valid NoteType\n"
     ]
    },
    {
     "name": "stderr",
     "output_type": "stream",
     "text": [
      " 38%|███▊      | 2906/7725 [06:08<07:54, 10.15it/s]"
     ]
    },
    {
     "name": "stdout",
     "output_type": "stream",
     "text": [
      "Could not process Pixies - Velouria.gp3: 255 is not a valid NoteType\n"
     ]
    },
    {
     "name": "stderr",
     "output_type": "stream",
     "text": [
      " 39%|███▊      | 2991/7725 [06:19<09:29,  8.31it/s]"
     ]
    },
    {
     "name": "stdout",
     "output_type": "stream",
     "text": [
      "Could not process Guns N' Roses - Sweet Child O_'Mine.gp3: 255 is not a valid NoteType\n"
     ]
    },
    {
     "name": "stderr",
     "output_type": "stream",
     "text": [
      " 42%|████▏     | 3225/7725 [06:47<05:33, 13.51it/s]"
     ]
    },
    {
     "name": "stdout",
     "output_type": "stream",
     "text": [
      "Could not process Garbage - I Think I'm Paranoid.gp3: 255 is not a valid BeatStatus\n"
     ]
    },
    {
     "name": "stderr",
     "output_type": "stream",
     "text": [
      " 43%|████▎     | 3357/7725 [07:05<07:02, 10.34it/s]"
     ]
    },
    {
     "name": "stdout",
     "output_type": "stream",
     "text": [
      "Could not process Muse - Plug in baby.gp3: 255 is not a valid NoteType\n"
     ]
    },
    {
     "name": "stderr",
     "output_type": "stream",
     "text": [
      " 44%|████▍     | 3395/7725 [07:09<08:10,  8.83it/s]"
     ]
    },
    {
     "name": "stdout",
     "output_type": "stream",
     "text": [
      "Could not process Iron Maiden - Hallowed Be Thy Name.gp3: \n"
     ]
    },
    {
     "name": "stderr",
     "output_type": "stream",
     "text": [
      " 45%|████▍     | 3473/7725 [07:18<09:22,  7.55it/s]"
     ]
    },
    {
     "name": "stdout",
     "output_type": "stream",
     "text": [
      "Could not process Metallica - Jump In The Fire.gp3: 255 is not a valid NoteType\n"
     ]
    },
    {
     "name": "stderr",
     "output_type": "stream",
     "text": [
      " 46%|████▌     | 3515/7725 [07:24<06:31, 10.77it/s]"
     ]
    },
    {
     "name": "stdout",
     "output_type": "stream",
     "text": [
      "Could not process Mor Ve Otesi - Cambaz.gp3: 255 is not a valid NoteType\n"
     ]
    },
    {
     "name": "stderr",
     "output_type": "stream",
     "text": [
      " 47%|████▋     | 3602/7725 [07:35<07:44,  8.88it/s]"
     ]
    },
    {
     "name": "stdout",
     "output_type": "stream",
     "text": [
      "Could not process Guns N' Roses - Knockin_' on Heaven_'s Door (3).gp3: 255 is not a valid NoteType\n"
     ]
    },
    {
     "name": "stderr",
     "output_type": "stream",
     "text": [
      " 47%|████▋     | 3617/7725 [07:38<09:49,  6.97it/s]"
     ]
    },
    {
     "name": "stdout",
     "output_type": "stream",
     "text": [
      "Could not process Nada Surf - Icebox.gp3: 255 is not a valid NoteType\n"
     ]
    },
    {
     "name": "stderr",
     "output_type": "stream",
     "text": [
      " 49%|████▉     | 3811/7725 [08:01<07:47,  8.37it/s]"
     ]
    },
    {
     "name": "stdout",
     "output_type": "stream",
     "text": [
      "Could not process Metallica - The Outlaw Torn (2).gp3: 255 is not a valid NoteType\n"
     ]
    },
    {
     "name": "stderr",
     "output_type": "stream",
     "text": [
      " 51%|█████     | 3930/7725 [08:16<07:30,  8.43it/s]"
     ]
    },
    {
     "name": "stdout",
     "output_type": "stream",
     "text": [
      "Could not process Blur - Coffee & TV.gp3: 255 is not a valid NoteType\n"
     ]
    },
    {
     "name": "stderr",
     "output_type": "stream",
     "text": [
      " 52%|█████▏    | 4022/7725 [08:27<04:36, 13.38it/s]"
     ]
    },
    {
     "name": "stdout",
     "output_type": "stream",
     "text": [
      "Could not process Pink Floyd - What do you want from me.gp3: 255 is not a valid NoteType\n"
     ]
    },
    {
     "name": "stderr",
     "output_type": "stream",
     "text": [
      " 54%|█████▍    | 4163/7725 [08:45<05:28, 10.84it/s]"
     ]
    },
    {
     "name": "stdout",
     "output_type": "stream",
     "text": [
      "Could not process Pixies - Cecilia Ann.gp3: 255 is not a valid SlapEffect\n"
     ]
    },
    {
     "name": "stderr",
     "output_type": "stream",
     "text": [
      " 57%|█████▋    | 4403/7725 [09:16<07:26,  7.44it/s]"
     ]
    },
    {
     "name": "stdout",
     "output_type": "stream",
     "text": [
      "Could not process Fredheim, Rolf - The Scarecrow.gp3: 255 is not a valid NoteType\n"
     ]
    },
    {
     "name": "stderr",
     "output_type": "stream",
     "text": [
      " 57%|█████▋    | 4408/7725 [09:16<05:13, 10.58it/s]"
     ]
    },
    {
     "name": "stdout",
     "output_type": "stream",
     "text": [
      "Could not process Guns N' Roses - Mr. Brownstone.gp3: negative shift count\n"
     ]
    },
    {
     "name": "stderr",
     "output_type": "stream",
     "text": [
      " 60%|██████    | 4635/7725 [09:46<06:57,  7.40it/s]"
     ]
    },
    {
     "name": "stdout",
     "output_type": "stream",
     "text": [
      "Could not process Funeral For A Friend - The End Of Nothing.gp4: \n"
     ]
    },
    {
     "name": "stderr",
     "output_type": "stream",
     "text": [
      " 61%|██████    | 4702/7725 [09:54<06:49,  7.37it/s]"
     ]
    },
    {
     "name": "stdout",
     "output_type": "stream",
     "text": [
      "Could not process Dream Theater - Lie (3).gp3: \n"
     ]
    },
    {
     "name": "stderr",
     "output_type": "stream",
     "text": [
      " 61%|██████    | 4720/7725 [09:57<06:36,  7.59it/s]"
     ]
    },
    {
     "name": "stdout",
     "output_type": "stream",
     "text": [
      "Could not process Disturbed - Meaning Of Life.gp4: \n"
     ]
    },
    {
     "name": "stderr",
     "output_type": "stream",
     "text": [
      " 62%|██████▏   | 4820/7725 [10:09<04:11, 11.57it/s]"
     ]
    },
    {
     "name": "stdout",
     "output_type": "stream",
     "text": [
      "Could not process Nahui Ollin - Contigo.gp4: \n"
     ]
    },
    {
     "name": "stderr",
     "output_type": "stream",
     "text": [
      " 63%|██████▎   | 4895/7725 [10:20<05:29,  8.59it/s]"
     ]
    },
    {
     "name": "stdout",
     "output_type": "stream",
     "text": [
      "Could not process Mudvayne - Not Falling (3).gp3: \n"
     ]
    },
    {
     "name": "stderr",
     "output_type": "stream",
     "text": [
      " 64%|██████▍   | 4978/7725 [10:30<03:40, 12.46it/s]"
     ]
    },
    {
     "name": "stdout",
     "output_type": "stream",
     "text": [
      "Could not process Fear Factory - Body Hammer.gp3: 255 is not a valid NoteType\n"
     ]
    },
    {
     "name": "stderr",
     "output_type": "stream",
     "text": [
      " 69%|██████▊   | 5300/7725 [11:12<03:09, 12.77it/s]"
     ]
    },
    {
     "name": "stdout",
     "output_type": "stream",
     "text": [
      "Could not process ALMAFUERTE - En Este Viaje.gp3: 255 is not a valid NoteType\n"
     ]
    },
    {
     "name": "stderr",
     "output_type": "stream",
     "text": [
      " 69%|██████▉   | 5356/7725 [11:19<03:35, 10.99it/s]"
     ]
    },
    {
     "name": "stdout",
     "output_type": "stream",
     "text": [
      "Could not process Twisted Machine - Nobody Give You Face.gp3: 255 is not a valid NoteType\n"
     ]
    },
    {
     "name": "stderr",
     "output_type": "stream",
     "text": [
      " 74%|███████▍  | 5711/7725 [12:02<04:23,  7.63it/s]"
     ]
    },
    {
     "name": "stdout",
     "output_type": "stream",
     "text": [
      "Could not process Jym - SnakeByte.gp3: unpack requires a bytes object of length 4\n"
     ]
    },
    {
     "name": "stderr",
     "output_type": "stream",
     "text": [
      " 74%|███████▍  | 5730/7725 [12:05<04:20,  7.65it/s]"
     ]
    },
    {
     "name": "stdout",
     "output_type": "stream",
     "text": [
      "Could not process Foo Fighters - Learn To Fly.gp3: 32 is not a valid BeatStatus\n"
     ]
    },
    {
     "name": "stderr",
     "output_type": "stream",
     "text": [
      " 75%|███████▌  | 5794/7725 [12:12<04:00,  8.03it/s]"
     ]
    },
    {
     "name": "stdout",
     "output_type": "stream",
     "text": [
      "Could not process Yoon Do-hyun Band - back ha sa tang.gp3: 255 is not a valid NoteType\n"
     ]
    },
    {
     "name": "stderr",
     "output_type": "stream",
     "text": [
      " 77%|███████▋  | 5958/7725 [12:32<02:33, 11.52it/s]"
     ]
    },
    {
     "name": "stdout",
     "output_type": "stream",
     "text": [
      "Could not process Rhapsody - Triumph For My Magic Steel.gp3: 255 is not a valid NoteType\n"
     ]
    },
    {
     "name": "stderr",
     "output_type": "stream",
     "text": [
      " 77%|███████▋  | 5977/7725 [12:35<03:31,  8.25it/s]"
     ]
    },
    {
     "name": "stdout",
     "output_type": "stream",
     "text": [
      "Could not process ACDC - You Shook Me All Night Long (2).gp3: 255 is not a valid NoteType\n"
     ]
    },
    {
     "name": "stderr",
     "output_type": "stream",
     "text": [
      " 78%|███████▊  | 6028/7725 [12:41<02:39, 10.65it/s]"
     ]
    },
    {
     "name": "stdout",
     "output_type": "stream",
     "text": [
      "Could not process Flower - Please.gp3: 255 is not a valid NoteType\n"
     ]
    },
    {
     "name": "stderr",
     "output_type": "stream",
     "text": [
      " 78%|███████▊  | 6030/7725 [12:41<02:38, 10.70it/s]"
     ]
    },
    {
     "name": "stdout",
     "output_type": "stream",
     "text": [
      "Could not process Marilyn Manson - The Love Song (2).gp3: 255 is not a valid NoteType\n"
     ]
    },
    {
     "name": "stderr",
     "output_type": "stream",
     "text": [
      " 78%|███████▊  | 6052/7725 [12:44<02:40, 10.45it/s]"
     ]
    },
    {
     "name": "stdout",
     "output_type": "stream",
     "text": [
      "Could not process Guns N' Roses - Chinese Democracy (Live In Rio 2001).gp3: 119 is not a valid NoteType\n"
     ]
    },
    {
     "name": "stderr",
     "output_type": "stream",
     "text": [
      " 81%|████████▏ | 6283/7725 [13:14<03:20,  7.18it/s]"
     ]
    },
    {
     "name": "stdout",
     "output_type": "stream",
     "text": [
      "Could not process H_tk_znapi Csal_d_sok - Meztelen_l R_szegen.gp4: \n"
     ]
    },
    {
     "name": "stderr",
     "output_type": "stream",
     "text": [
      " 82%|████████▏ | 6332/7725 [13:20<03:15,  7.11it/s]"
     ]
    },
    {
     "name": "stdout",
     "output_type": "stream",
     "text": [
      "Could not process Slipknot - Wait And Bleed (8).gp3: \n"
     ]
    },
    {
     "name": "stderr",
     "output_type": "stream",
     "text": [
      " 85%|████████▍ | 6546/7725 [13:46<01:59,  9.83it/s]"
     ]
    },
    {
     "name": "stdout",
     "output_type": "stream",
     "text": [
      "Could not process Pantera - Fucking Hostile (2).gp3: unpack requires a bytes object of length 4\n"
     ]
    },
    {
     "name": "stderr",
     "output_type": "stream",
     "text": [
      " 85%|████████▌ | 6588/7725 [13:50<01:27, 12.93it/s]"
     ]
    },
    {
     "name": "stdout",
     "output_type": "stream",
     "text": [
      "Could not process No Doubt - Hella Good.gp3: 255 is not a valid NoteType\n"
     ]
    },
    {
     "name": "stderr",
     "output_type": "stream",
     "text": [
      " 86%|████████▋ | 6663/7725 [14:00<02:14,  7.89it/s]"
     ]
    },
    {
     "name": "stdout",
     "output_type": "stream",
     "text": [
      "Could not process Led Zeppelin - Houses of the holy.gp3: 255 is not a valid NoteType\n"
     ]
    },
    {
     "name": "stderr",
     "output_type": "stream",
     "text": [
      " 88%|████████▊ | 6778/7725 [14:15<01:32, 10.19it/s]"
     ]
    },
    {
     "name": "stdout",
     "output_type": "stream",
     "text": [
      "Could not process Creed - Higher (2).gp3: \n"
     ]
    },
    {
     "name": "stderr",
     "output_type": "stream",
     "text": [
      " 89%|████████▊ | 6851/7725 [14:25<01:43,  8.47it/s]"
     ]
    },
    {
     "name": "stdout",
     "output_type": "stream",
     "text": [
      "Could not process System Of A Down - Chop Suey (7).gp3: \n"
     ]
    },
    {
     "name": "stderr",
     "output_type": "stream",
     "text": [
      " 90%|████████▉ | 6914/7725 [14:33<01:36,  8.42it/s]"
     ]
    },
    {
     "name": "stdout",
     "output_type": "stream",
     "text": [
      "Could not process ACDC - Back In Black (4).gp3: 255 is not a valid NoteType\n"
     ]
    },
    {
     "name": "stderr",
     "output_type": "stream",
     "text": [
      " 91%|█████████▏| 7068/7725 [14:53<00:54, 11.96it/s]"
     ]
    },
    {
     "name": "stdout",
     "output_type": "stream",
     "text": [
      "Could not process Vai, Steve - Tender Surrender (2).gp3: 255 is not a valid NoteType\n"
     ]
    },
    {
     "name": "stderr",
     "output_type": "stream",
     "text": [
      " 93%|█████████▎| 7157/7725 [15:04<01:15,  7.52it/s]"
     ]
    },
    {
     "name": "stdout",
     "output_type": "stream",
     "text": [
      "Could not process Metallica - Outlaw Torn (Outro).gp3: 255 is not a valid NoteType\n"
     ]
    },
    {
     "name": "stderr",
     "output_type": "stream",
     "text": [
      " 95%|█████████▌| 7343/7725 [15:27<00:47,  8.07it/s]"
     ]
    },
    {
     "name": "stdout",
     "output_type": "stream",
     "text": [
      "Could not process Guns N' Roses - Bad Apples.gp3: 255 is not a valid NoteType\n"
     ]
    },
    {
     "name": "stderr",
     "output_type": "stream",
     "text": [
      " 95%|█████████▌| 7350/7725 [15:28<00:41,  8.93it/s]"
     ]
    },
    {
     "name": "stdout",
     "output_type": "stream",
     "text": [
      "Could not process Three Days Grace - Home (2).gp4: \n"
     ]
    },
    {
     "name": "stderr",
     "output_type": "stream",
     "text": [
      "100%|██████████| 7725/7725 [16:13<00:00,  7.93it/s]\n"
     ]
    }
   ],
   "source": [
    "import os\n",
    "\n",
    "gps_path = '/Users/pedro/Desktop/DadaGP-v1.1/data-prep-acc-gen/gps_with_4/'\n",
    "\n",
    "DISTORTED_GUITAR_CHANNELS = [29, 30]  # Distorted/Overdriven guitars\n",
    "BASS_CHANNEL = [32, 33, 34, 35, 36, 37, 38, 39]  # Finger/Picked Bass\n",
    "\n",
    "corrupted_list = []\n",
    "\n",
    "for file in tqdm(os.listdir(gps_path)):\n",
    "    try:\n",
    "        # print(file)\n",
    "        track_list = []\n",
    "        gp_ = gp.parse(gps_path + file)\n",
    "        assert len(gp_.tracks) == 4\n",
    "        for track in gp_.tracks:\n",
    "            if track.channel.instrument in DISTORTED_GUITAR_CHANNELS:\n",
    "                track_list.append('dg')\n",
    "            elif track.isPercussionTrack:\n",
    "                track_list.append('d')\n",
    "            elif track.channel.instrument in BASS_CHANNEL:\n",
    "                track_list.append('b')\n",
    "\n",
    "        assert set(track_list) == set(['dg', 'dg', 'b', 'd'])\n",
    "\n",
    "    except Exception as e:\n",
    "        print(\"Could not process {}: {}\".format(file, e))\n",
    "        corrupted_list.append(file)\n",
    "\n"
   ]
  },
  {
   "cell_type": "code",
   "execution_count": 238,
   "metadata": {},
   "outputs": [
    {
     "data": {
      "text/plain": [
       "64"
      ]
     },
     "execution_count": 238,
     "metadata": {},
     "output_type": "execute_result"
    }
   ],
   "source": [
    "len(corrupted_list)"
   ]
  },
  {
   "cell_type": "markdown",
   "metadata": {},
   "source": [
    "## Removing corrupted entries"
   ]
  },
  {
   "cell_type": "markdown",
   "metadata": {},
   "source": []
  }
 ],
 "metadata": {
  "kernelspec": {
   "display_name": "dadaMe",
   "language": "python",
   "name": "python3"
  },
  "language_info": {
   "codemirror_mode": {
    "name": "ipython",
    "version": 3
   },
   "file_extension": ".py",
   "mimetype": "text/x-python",
   "name": "python",
   "nbconvert_exporter": "python",
   "pygments_lexer": "ipython3",
   "version": "3.5.4"
  }
 },
 "nbformat": 4,
 "nbformat_minor": 2
}
