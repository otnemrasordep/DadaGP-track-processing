{
 "cells": [
  {
   "cell_type": "code",
   "execution_count": 4,
   "metadata": {},
   "outputs": [
    {
     "data": {
      "text/plain": [
       "7661"
      ]
     },
     "execution_count": 4,
     "metadata": {},
     "output_type": "execute_result"
    }
   ],
   "source": [
    "import os\n",
    "\n",
    "gps_path = \"/Users/pedro/Desktop/DadaGP-v1.1/data-prep-acc-gen/gps_with_4/\"\n",
    "file_list = []\n",
    "for file in os.listdir(gps_path):\n",
    "    file_list.append(gps_path + file)\n",
    "\n",
    "len(file_list)"
   ]
  },
  {
   "cell_type": "markdown",
   "metadata": {},
   "source": [
    "## Save drums into new .gp file and save the rest into a new .gp file"
   ]
  },
  {
   "cell_type": "code",
   "execution_count": 11,
   "metadata": {},
   "outputs": [
    {
     "name": "stdout",
     "output_type": "stream",
     "text": [
      "drums\n"
     ]
    }
   ],
   "source": [
    "import guitarpro as gp\n",
    "\n",
    "output_directory = \"/Users/pedro/Desktop/DadaGP-v1.1/data-prep-acc-gen/gps_drums/\"\n",
    "\n",
    "# Parse the Guitar Pro file\n",
    "gp_file = gp.parse(file_list[666])\n",
    "_ = gp_file\n",
    "# print(gp_file)\n",
    "filename = file.split('/')[-1]\n",
    "\n",
    "# Filter tracks based on MIDI channel and percussion check\n",
    "for track in gp_file.tracks:\n",
    "    # print(track)\n",
    "    _.tracks = []\n",
    "    if track.isPercussionTrack:\n",
    "        print('drums')\n",
    "        _.tracks.append(track)\n",
    "        gp.write(_, output_directory + filename)"
   ]
  },
  {
   "cell_type": "code",
   "execution_count": 33,
   "metadata": {},
   "outputs": [
    {
     "name": "stderr",
     "output_type": "stream",
     "text": [
      "100%|██████████| 7661/7661 [24:10<00:00,  5.28it/s]\n"
     ]
    }
   ],
   "source": [
    "import os\n",
    "import shutil\n",
    "from tqdm import tqdm\n",
    "import guitarpro as gp\n",
    "\n",
    "# Directory to save filtered files\n",
    "output_directory_drums = \"/Users/pedro/Desktop/DadaGP-v1.1/data-prep-acc-gen/gps_drums/\"\n",
    "output_directory_others = '/Users/pedro/Desktop/DadaGP-v1.1/data-prep-acc-gen/gps_dg-dg-b/'\n",
    "\n",
    "# Make sure the output directory exists\n",
    "os.makedirs(output_directory_drums, exist_ok=True)\n",
    "os.makedirs(output_directory_others, exist_ok=True)\n",
    "\n",
    "for file in tqdm(file_list):\n",
    "    try:\n",
    "        # Parse the Guitar Pro file\n",
    "        gp_file = gp.parse(file)\n",
    "        drums = gp_file\n",
    "        others = gp_file\n",
    "        filename = file.split('/')[-1]\n",
    "\n",
    "        # Filter tracks based on MIDI channel and percussion check\n",
    "        for track in gp_file.tracks:\n",
    "            if track.isPercussionTrack:\n",
    "                drums.tracks = []\n",
    "                drums.tracks.append(track)\n",
    "                gp.write(drums, output_directory_drums + filename)\n",
    "                others.tracks = []\n",
    "            else:\n",
    "                others.tracks.append(track)\n",
    "        \n",
    "        gp.write(others, output_directory_others + filename)\n",
    "\n",
    "    except Exception as e:\n",
    "        print(\"Could not process {}: {}\".format(gp_file, e))\n",
    "\n"
   ]
  },
  {
   "cell_type": "code",
   "execution_count": 38,
   "metadata": {},
   "outputs": [
    {
     "name": "stdout",
     "output_type": "stream",
     "text": [
      "7662\n",
      "7662\n"
     ]
    }
   ],
   "source": [
    "file_list_drums = []\n",
    "file_list_others = []\n",
    "for file in os.listdir('/Users/pedro/Desktop/DadaGP-v1.1/data-prep-acc-gen/gps_drums'):\n",
    "    file_list_drums.append(file)\n",
    "\n",
    "for file in os.listdir('/Users/pedro/Desktop/DadaGP-v1.1/data-prep-acc-gen/gps_dg-dg-b'):\n",
    "    file_list_others.append(file)\n",
    "\n",
    "\n",
    "print(len(file_list_drums))\n",
    "print(len(file_list_others))"
   ]
  },
  {
   "cell_type": "markdown",
   "metadata": {},
   "source": [
    "## Assess count of .txt files"
   ]
  },
  {
   "cell_type": "code",
   "execution_count": 12,
   "metadata": {},
   "outputs": [
    {
     "name": "stdout",
     "output_type": "stream",
     "text": [
      "7654\n",
      "7636\n"
     ]
    }
   ],
   "source": [
    "import os\n",
    "\n",
    "path_drums = '/Users/pedro/Desktop/DadaGP-v1.1/data-prep-acc-gen/txts_drums'\n",
    "path_others = '/Users/pedro/Desktop/DadaGP-v1.1/data-prep-acc-gen/txts_dg-dg-b'\n",
    "txts_drums = []\n",
    "txts_others = []\n",
    "\n",
    "for file in os.listdir(path_drums):\n",
    "    txts_drums.append(file)\n",
    "\n",
    "for file in os.listdir(path_others):\n",
    "    txts_others.append(file)\n",
    "\n",
    "print(len(txts_drums))\n",
    "print(len(txts_others))"
   ]
  },
  {
   "cell_type": "markdown",
   "metadata": {},
   "source": [
    "There are 7654 files in 'txts_drums' and 7636 files in 'txts_others'. Some files got lost in conversion."
   ]
  },
  {
   "cell_type": "markdown",
   "metadata": {},
   "source": [
    "## Script to even the files in both folders"
   ]
  },
  {
   "cell_type": "code",
   "execution_count": 19,
   "metadata": {},
   "outputs": [
    {
     "name": "stdout",
     "output_type": "stream",
     "text": [
      "Files in 'txts_drums' but missing in 'txts_others':\n",
      "- New Found Glory - Hit Or Miss.gp3.tokens.txt\n",
      "- Noir DCsir - Comme Elle Vient.gp3.tokens.txt\n",
      "- Dr Feelgood - Milk And Alcohol.gp3.tokens.txt\n",
      "- .DS_Store\n",
      "- Ruiz, Jacques - Alternative Rock Number 1.gp3.tokens.txt\n",
      "- Malmsteen, Yngwie - Evil Eye.gp3.tokens.txt\n",
      "- Tequila Baby - Velhas Fotos (2).gp3.tokens.txt\n",
      "- Iggy Pop - No Fun (2).gp3.tokens.txt\n",
      "- Rush - Fly By Night.gp3.tokens.txt\n",
      "- ALMAFUERTE - Hombre Peste.gp3.tokens.txt\n",
      "- UFO - Rock Bottom.gp3.tokens.txt\n",
      "- Hermetica - Buscando Razon (2).gp3.tokens.txt\n",
      "- Hermetica - Soy De La Esquina.gp3.tokens.txt\n",
      "- Muse - Bliss (live).gp3.tokens.txt\n",
      "- ALMAFUERTE - Aguante Bonavena.gp3.tokens.txt\n",
      "- Noir D,sir - Comme Elle Vient.gp3.tokens.txt\n",
      "- Faith No More - Ricochet.gp3.tokens.txt\n",
      "- Osbourne, Ozzy - Flying High Again.gp3.tokens.txt\n",
      "\n",
      "No files are missing in 'txts_drums'.\n",
      "\n",
      "Summary:\n",
      "Total files missing in 'txts_others': 18\n",
      "Total files missing in 'txts_drums': 0\n"
     ]
    }
   ],
   "source": [
    "import os\n",
    "\n",
    "# Paths to the folders\n",
    "drums_folder = \"/Users/pedro/Desktop/DadaGP-v1.1/data-prep-acc-gen/txts_drums\"\n",
    "others_folder = \"/Users/pedro/Desktop/DadaGP-v1.1/data-prep-acc-gen/txts_dg-dg-b\"\n",
    "\n",
    "# List files in each folder\n",
    "drums_files = set(os.listdir(drums_folder))\n",
    "others_files = set(os.listdir(others_folder))\n",
    "\n",
    "# Check for missing files\n",
    "missing_in_others = drums_files - others_files  # Files in drums but not in others\n",
    "missing_in_drums = others_files - drums_files  # Files in others but not in drums\n",
    "\n",
    "# Flag files missing in 'txts_others'\n",
    "if missing_in_others:\n",
    "    print(\"Files in 'txts_drums' but missing in 'txts_others':\")\n",
    "    for file in missing_in_others:\n",
    "        print(\"- {}\".format(file))\n",
    "else:\n",
    "    print(\"No files are missing in 'txts_others'.\")\n",
    "\n",
    "# Flag files missing in 'txts_drums'\n",
    "if missing_in_drums:\n",
    "    print(\"\\nFiles in 'txts_others' but missing in 'txts_drums':\")\n",
    "    for file in missing_in_drums:\n",
    "        print(\"- {}\".format(file))\n",
    "else:\n",
    "    print(\"\\nNo files are missing in 'txts_drums'.\")\n",
    "\n",
    "# Summary\n",
    "print(\"\\nSummary:\")\n",
    "print(\"Total files missing in 'txts_others': {}\".format(len(missing_in_others)))\n",
    "print(\"Total files missing in 'txts_drums': {}\".format(len(missing_in_drums)))\n"
   ]
  },
  {
   "cell_type": "code",
   "execution_count": 20,
   "metadata": {},
   "outputs": [
    {
     "name": "stdout",
     "output_type": "stream",
     "text": [
      "Removing extra files from 'txts_drums'...\n",
      "Removed: New Found Glory - Hit Or Miss.gp3.tokens.txt\n",
      "Removed: Noir DCsir - Comme Elle Vient.gp3.tokens.txt\n",
      "Removed: Dr Feelgood - Milk And Alcohol.gp3.tokens.txt\n",
      "Removed: .DS_Store\n",
      "Removed: Ruiz, Jacques - Alternative Rock Number 1.gp3.tokens.txt\n",
      "Removed: Malmsteen, Yngwie - Evil Eye.gp3.tokens.txt\n",
      "Removed: Tequila Baby - Velhas Fotos (2).gp3.tokens.txt\n",
      "Removed: Iggy Pop - No Fun (2).gp3.tokens.txt\n",
      "Removed: Rush - Fly By Night.gp3.tokens.txt\n",
      "Removed: ALMAFUERTE - Hombre Peste.gp3.tokens.txt\n",
      "Removed: UFO - Rock Bottom.gp3.tokens.txt\n",
      "Removed: Hermetica - Buscando Razon (2).gp3.tokens.txt\n",
      "Removed: Hermetica - Soy De La Esquina.gp3.tokens.txt\n",
      "Removed: Muse - Bliss (live).gp3.tokens.txt\n",
      "Removed: ALMAFUERTE - Aguante Bonavena.gp3.tokens.txt\n",
      "Removed: Noir D,sir - Comme Elle Vient.gp3.tokens.txt\n",
      "Removed: Faith No More - Ricochet.gp3.tokens.txt\n",
      "Removed: Osbourne, Ozzy - Flying High Again.gp3.tokens.txt\n",
      "Total extra files removed: 18\n"
     ]
    }
   ],
   "source": [
    "# Remove these files from 'txts_drums'\n",
    "if missing_in_others:\n",
    "    print(\"Removing extra files from 'txts_drums'...\")\n",
    "    for file in missing_in_others:\n",
    "        file_path = os.path.join(drums_folder, file)\n",
    "        try:\n",
    "            os.remove(file_path)\n",
    "            print(\"Removed: {}\".format(file))\n",
    "        except Exception as e:\n",
    "            print(\"Error removing {}: {}\".format(file, e))\n",
    "else:\n",
    "    print(\"No extra files found in 'txts_drums'.\")\n",
    "\n",
    "# Summary\n",
    "print(\"Total extra files removed: {}\".format(len(missing_in_others)))"
   ]
  },
  {
   "cell_type": "code",
   "execution_count": 21,
   "metadata": {},
   "outputs": [
    {
     "name": "stdout",
     "output_type": "stream",
     "text": [
      "7636\n",
      "7636\n"
     ]
    }
   ],
   "source": [
    "import os\n",
    "\n",
    "path_drums = '/Users/pedro/Desktop/DadaGP-v1.1/data-prep-acc-gen/txts_drums'\n",
    "path_others = '/Users/pedro/Desktop/DadaGP-v1.1/data-prep-acc-gen/txts_dg-dg-b'\n",
    "txts_drums = []\n",
    "txts_others = []\n",
    "\n",
    "for file in os.listdir(path_drums):\n",
    "    txts_drums.append(file)\n",
    "\n",
    "for file in os.listdir(path_others):\n",
    "    txts_others.append(file)\n",
    "\n",
    "print(len(txts_drums))\n",
    "print(len(txts_others))"
   ]
  },
  {
   "cell_type": "code",
   "execution_count": 23,
   "metadata": {},
   "outputs": [
    {
     "name": "stdout",
     "output_type": "stream",
     "text": [
      "True\n"
     ]
    }
   ],
   "source": [
    "# asserting we have the same files in each\n",
    "print(set(txts_drums) == set(txts_others))"
   ]
  }
 ],
 "metadata": {
  "kernelspec": {
   "display_name": "dadaMe",
   "language": "python",
   "name": "python3"
  },
  "language_info": {
   "codemirror_mode": {
    "name": "ipython",
    "version": 3
   },
   "file_extension": ".py",
   "mimetype": "text/x-python",
   "name": "python",
   "nbconvert_exporter": "python",
   "pygments_lexer": "ipython3",
   "version": "3.5.4"
  }
 },
 "nbformat": 4,
 "nbformat_minor": 2
}
