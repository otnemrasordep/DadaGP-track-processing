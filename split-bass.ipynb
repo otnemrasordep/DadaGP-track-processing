{
 "cells": [
  {
   "cell_type": "code",
   "execution_count": 2,
   "metadata": {},
   "outputs": [
    {
     "data": {
      "text/plain": [
       "7661"
      ]
     },
     "execution_count": 2,
     "metadata": {},
     "output_type": "execute_result"
    }
   ],
   "source": [
    "import os\n",
    "\n",
    "gps_path = \"/Users/pedro/Desktop/DadaGP-v1.1/data-prep-acc-gen/gps_with_4/\"\n",
    "file_list = []\n",
    "for file in os.listdir(gps_path):\n",
    "    file_list.append(gps_path + file)\n",
    "\n",
    "len(file_list)"
   ]
  },
  {
   "cell_type": "markdown",
   "metadata": {},
   "source": [
    "## Save bass into new .gp file"
   ]
  },
  {
   "cell_type": "code",
   "execution_count": 3,
   "metadata": {},
   "outputs": [
    {
     "name": "stderr",
     "output_type": "stream",
     "text": [
      "100%|██████████| 7661/7661 [15:37<00:00,  8.17it/s]\n"
     ]
    }
   ],
   "source": [
    "import os\n",
    "import shutil\n",
    "from tqdm import tqdm\n",
    "import guitarpro as gp\n",
    "\n",
    "# Directory to save filtered files\n",
    "output_directory_bass = \"/Users/pedro/Desktop/DadaGP-v1.1/data-prep-acc-gen/gps_bass/\"\n",
    "\n",
    "# Make sure the output directory exists\n",
    "os.makedirs(output_directory_bass, exist_ok=True)\n",
    "\n",
    "# List of MIDI instruments for bass\n",
    "BASS_CHANNEL = [32, 33, 34, 35, 36, 37, 38, 39]  # Finger/Picked Bass\n",
    "\n",
    "for file in tqdm(file_list):\n",
    "    try:\n",
    "        # Parse the Guitar Pro file\n",
    "        gp_file = gp.parse(file)\n",
    "        bass = gp_file\n",
    "        filename = file.split('/')[-1]\n",
    "\n",
    "        # Filter tracks based on MIDI channel and percussion check\n",
    "        for track in gp_file.tracks:\n",
    "            if track.channel.instrument in BASS_CHANNEL:\n",
    "                bass.tracks = []\n",
    "                bass.tracks.append(track)\n",
    "                gp.write(bass, output_directory_bass + filename)\n",
    "\n",
    "    except Exception as e:\n",
    "        print(\"Could not process {}: {}\".format(gp_file, e))\n",
    "\n"
   ]
  },
  {
   "cell_type": "code",
   "execution_count": 4,
   "metadata": {},
   "outputs": [
    {
     "name": "stderr",
     "output_type": "stream",
     "text": [
      " 21%|██        | 1611/7661 [04:25<21:36,  4.67it/s]"
     ]
    }
   ],
   "source": [
    "import os\n",
    "import shutil\n",
    "from tqdm import tqdm\n",
    "import guitarpro as gp\n",
    "\n",
    "# Directory to save filtered files\n",
    "output_directory_drums = \"/Users/pedro/Desktop/DadaGP-v1.1/data-prep-acc-gen/gps_drums/\"\n",
    "output_directory_others = '/Users/pedro/Desktop/DadaGP-v1.1/data-prep-acc-gen/gps_dg-dg-d/'\n",
    "\n",
    "# Make sure the output directory exists\n",
    "os.makedirs(output_directory_drums, exist_ok=True)\n",
    "os.makedirs(output_directory_others, exist_ok=True)\n",
    "\n",
    "for file in tqdm(file_list):\n",
    "    try:\n",
    "        # Parse the Guitar Pro file\n",
    "        gp_file = gp.parse(file)\n",
    "        drums = gp_file\n",
    "        others = gp_file\n",
    "        filename = file.split('/')[-1]\n",
    "\n",
    "        for track in gp_file.tracks:\n",
    "            if track.channel.instrument in BASS_CHANNEL:\n",
    "                # bass.tracks = []\n",
    "                # bass.tracks.append(track)\n",
    "                # gp.write(bass, output_directory_bass + filename)  \n",
    "                others.tracks = []      \n",
    "            else:\n",
    "                others.tracks.append(track)\n",
    "\n",
    "        gp.write(others, output_directory_others + filename)\n",
    "\n",
    "    except Exception as e:\n",
    "        print(\"Could not process {}: {}\".format(gp_file, e))\n",
    "\n"
   ]
  }
 ],
 "metadata": {
  "kernelspec": {
   "display_name": "dadaMe",
   "language": "python",
   "name": "python3"
  },
  "language_info": {
   "codemirror_mode": {
    "name": "ipython",
    "version": 3
   },
   "file_extension": ".py",
   "mimetype": "text/x-python",
   "name": "python",
   "nbconvert_exporter": "python",
   "pygments_lexer": "ipython3",
   "version": "3.5.4"
  }
 },
 "nbformat": 4,
 "nbformat_minor": 2
}
