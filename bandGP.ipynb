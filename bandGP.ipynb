{
  "nbformat": 4,
  "nbformat_minor": 0,
  "metadata": {
    "colab": {
      "provenance": [],
      "gpuType": "T4",
      "authorship_tag": "ABX9TyOsSr6r3d0mP8MiJ306lVF4",
      "include_colab_link": true
    },
    "kernelspec": {
      "name": "python3",
      "display_name": "Python 3"
    },
    "language_info": {
      "name": "python"
    },
    "widgets": {
      "application/vnd.jupyter.widget-state+json": {
        "05c2495b861246c9b9780a966403bba8": {
          "model_module": "@jupyter-widgets/controls",
          "model_name": "HBoxModel",
          "model_module_version": "1.5.0",
          "state": {
            "_dom_classes": [],
            "_model_module": "@jupyter-widgets/controls",
            "_model_module_version": "1.5.0",
            "_model_name": "HBoxModel",
            "_view_count": null,
            "_view_module": "@jupyter-widgets/controls",
            "_view_module_version": "1.5.0",
            "_view_name": "HBoxView",
            "box_style": "",
            "children": [
              "IPY_MODEL_b77aff4de9fe4180aeee6711d1baf457",
              "IPY_MODEL_fc794bf1fd5c42ac999f73738b8f9faa",
              "IPY_MODEL_7c794f84b22241dc9f667681c4636481"
            ],
            "layout": "IPY_MODEL_0c48fdc63c974e03877fde5ef67079b8"
          }
        },
        "b77aff4de9fe4180aeee6711d1baf457": {
          "model_module": "@jupyter-widgets/controls",
          "model_name": "HTMLModel",
          "model_module_version": "1.5.0",
          "state": {
            "_dom_classes": [],
            "_model_module": "@jupyter-widgets/controls",
            "_model_module_version": "1.5.0",
            "_model_name": "HTMLModel",
            "_view_count": null,
            "_view_module": "@jupyter-widgets/controls",
            "_view_module_version": "1.5.0",
            "_view_name": "HTMLView",
            "description": "",
            "description_tooltip": null,
            "layout": "IPY_MODEL_cf54e805cafd47848e954e9c612ccc24",
            "placeholder": "​",
            "style": "IPY_MODEL_a02c048470f44a008fb9ffde85f9f79c",
            "value": "Extracting files: 100%"
          }
        },
        "fc794bf1fd5c42ac999f73738b8f9faa": {
          "model_module": "@jupyter-widgets/controls",
          "model_name": "FloatProgressModel",
          "model_module_version": "1.5.0",
          "state": {
            "_dom_classes": [],
            "_model_module": "@jupyter-widgets/controls",
            "_model_module_version": "1.5.0",
            "_model_name": "FloatProgressModel",
            "_view_count": null,
            "_view_module": "@jupyter-widgets/controls",
            "_view_module_version": "1.5.0",
            "_view_name": "ProgressView",
            "bar_style": "success",
            "description": "",
            "description_tooltip": null,
            "layout": "IPY_MODEL_4128edaa25494804aabf90db4cbe0adb",
            "max": 49574,
            "min": 0,
            "orientation": "horizontal",
            "style": "IPY_MODEL_3ebee5693b1440f38d493c5d4116b30b",
            "value": 49574
          }
        },
        "7c794f84b22241dc9f667681c4636481": {
          "model_module": "@jupyter-widgets/controls",
          "model_name": "HTMLModel",
          "model_module_version": "1.5.0",
          "state": {
            "_dom_classes": [],
            "_model_module": "@jupyter-widgets/controls",
            "_model_module_version": "1.5.0",
            "_model_name": "HTMLModel",
            "_view_count": null,
            "_view_module": "@jupyter-widgets/controls",
            "_view_module_version": "1.5.0",
            "_view_name": "HTMLView",
            "description": "",
            "description_tooltip": null,
            "layout": "IPY_MODEL_6bbe29264d83450db785575e94d39fef",
            "placeholder": "​",
            "style": "IPY_MODEL_580e9450152448fc957bfbf89d137e35",
            "value": " 49574/49574 [17:25&lt;00:00, 63.43it/s]"
          }
        },
        "0c48fdc63c974e03877fde5ef67079b8": {
          "model_module": "@jupyter-widgets/base",
          "model_name": "LayoutModel",
          "model_module_version": "1.2.0",
          "state": {
            "_model_module": "@jupyter-widgets/base",
            "_model_module_version": "1.2.0",
            "_model_name": "LayoutModel",
            "_view_count": null,
            "_view_module": "@jupyter-widgets/base",
            "_view_module_version": "1.2.0",
            "_view_name": "LayoutView",
            "align_content": null,
            "align_items": null,
            "align_self": null,
            "border": null,
            "bottom": null,
            "display": null,
            "flex": null,
            "flex_flow": null,
            "grid_area": null,
            "grid_auto_columns": null,
            "grid_auto_flow": null,
            "grid_auto_rows": null,
            "grid_column": null,
            "grid_gap": null,
            "grid_row": null,
            "grid_template_areas": null,
            "grid_template_columns": null,
            "grid_template_rows": null,
            "height": null,
            "justify_content": null,
            "justify_items": null,
            "left": null,
            "margin": null,
            "max_height": null,
            "max_width": null,
            "min_height": null,
            "min_width": null,
            "object_fit": null,
            "object_position": null,
            "order": null,
            "overflow": null,
            "overflow_x": null,
            "overflow_y": null,
            "padding": null,
            "right": null,
            "top": null,
            "visibility": null,
            "width": null
          }
        },
        "cf54e805cafd47848e954e9c612ccc24": {
          "model_module": "@jupyter-widgets/base",
          "model_name": "LayoutModel",
          "model_module_version": "1.2.0",
          "state": {
            "_model_module": "@jupyter-widgets/base",
            "_model_module_version": "1.2.0",
            "_model_name": "LayoutModel",
            "_view_count": null,
            "_view_module": "@jupyter-widgets/base",
            "_view_module_version": "1.2.0",
            "_view_name": "LayoutView",
            "align_content": null,
            "align_items": null,
            "align_self": null,
            "border": null,
            "bottom": null,
            "display": null,
            "flex": null,
            "flex_flow": null,
            "grid_area": null,
            "grid_auto_columns": null,
            "grid_auto_flow": null,
            "grid_auto_rows": null,
            "grid_column": null,
            "grid_gap": null,
            "grid_row": null,
            "grid_template_areas": null,
            "grid_template_columns": null,
            "grid_template_rows": null,
            "height": null,
            "justify_content": null,
            "justify_items": null,
            "left": null,
            "margin": null,
            "max_height": null,
            "max_width": null,
            "min_height": null,
            "min_width": null,
            "object_fit": null,
            "object_position": null,
            "order": null,
            "overflow": null,
            "overflow_x": null,
            "overflow_y": null,
            "padding": null,
            "right": null,
            "top": null,
            "visibility": null,
            "width": null
          }
        },
        "a02c048470f44a008fb9ffde85f9f79c": {
          "model_module": "@jupyter-widgets/controls",
          "model_name": "DescriptionStyleModel",
          "model_module_version": "1.5.0",
          "state": {
            "_model_module": "@jupyter-widgets/controls",
            "_model_module_version": "1.5.0",
            "_model_name": "DescriptionStyleModel",
            "_view_count": null,
            "_view_module": "@jupyter-widgets/base",
            "_view_module_version": "1.2.0",
            "_view_name": "StyleView",
            "description_width": ""
          }
        },
        "4128edaa25494804aabf90db4cbe0adb": {
          "model_module": "@jupyter-widgets/base",
          "model_name": "LayoutModel",
          "model_module_version": "1.2.0",
          "state": {
            "_model_module": "@jupyter-widgets/base",
            "_model_module_version": "1.2.0",
            "_model_name": "LayoutModel",
            "_view_count": null,
            "_view_module": "@jupyter-widgets/base",
            "_view_module_version": "1.2.0",
            "_view_name": "LayoutView",
            "align_content": null,
            "align_items": null,
            "align_self": null,
            "border": null,
            "bottom": null,
            "display": null,
            "flex": null,
            "flex_flow": null,
            "grid_area": null,
            "grid_auto_columns": null,
            "grid_auto_flow": null,
            "grid_auto_rows": null,
            "grid_column": null,
            "grid_gap": null,
            "grid_row": null,
            "grid_template_areas": null,
            "grid_template_columns": null,
            "grid_template_rows": null,
            "height": null,
            "justify_content": null,
            "justify_items": null,
            "left": null,
            "margin": null,
            "max_height": null,
            "max_width": null,
            "min_height": null,
            "min_width": null,
            "object_fit": null,
            "object_position": null,
            "order": null,
            "overflow": null,
            "overflow_x": null,
            "overflow_y": null,
            "padding": null,
            "right": null,
            "top": null,
            "visibility": null,
            "width": null
          }
        },
        "3ebee5693b1440f38d493c5d4116b30b": {
          "model_module": "@jupyter-widgets/controls",
          "model_name": "ProgressStyleModel",
          "model_module_version": "1.5.0",
          "state": {
            "_model_module": "@jupyter-widgets/controls",
            "_model_module_version": "1.5.0",
            "_model_name": "ProgressStyleModel",
            "_view_count": null,
            "_view_module": "@jupyter-widgets/base",
            "_view_module_version": "1.2.0",
            "_view_name": "StyleView",
            "bar_color": null,
            "description_width": ""
          }
        },
        "6bbe29264d83450db785575e94d39fef": {
          "model_module": "@jupyter-widgets/base",
          "model_name": "LayoutModel",
          "model_module_version": "1.2.0",
          "state": {
            "_model_module": "@jupyter-widgets/base",
            "_model_module_version": "1.2.0",
            "_model_name": "LayoutModel",
            "_view_count": null,
            "_view_module": "@jupyter-widgets/base",
            "_view_module_version": "1.2.0",
            "_view_name": "LayoutView",
            "align_content": null,
            "align_items": null,
            "align_self": null,
            "border": null,
            "bottom": null,
            "display": null,
            "flex": null,
            "flex_flow": null,
            "grid_area": null,
            "grid_auto_columns": null,
            "grid_auto_flow": null,
            "grid_auto_rows": null,
            "grid_column": null,
            "grid_gap": null,
            "grid_row": null,
            "grid_template_areas": null,
            "grid_template_columns": null,
            "grid_template_rows": null,
            "height": null,
            "justify_content": null,
            "justify_items": null,
            "left": null,
            "margin": null,
            "max_height": null,
            "max_width": null,
            "min_height": null,
            "min_width": null,
            "object_fit": null,
            "object_position": null,
            "order": null,
            "overflow": null,
            "overflow_x": null,
            "overflow_y": null,
            "padding": null,
            "right": null,
            "top": null,
            "visibility": null,
            "width": null
          }
        },
        "580e9450152448fc957bfbf89d137e35": {
          "model_module": "@jupyter-widgets/controls",
          "model_name": "DescriptionStyleModel",
          "model_module_version": "1.5.0",
          "state": {
            "_model_module": "@jupyter-widgets/controls",
            "_model_module_version": "1.5.0",
            "_model_name": "DescriptionStyleModel",
            "_view_count": null,
            "_view_module": "@jupyter-widgets/base",
            "_view_module_version": "1.2.0",
            "_view_name": "StyleView",
            "description_width": ""
          }
        },
        "e2c0aab41ad547e286c5b32acd4c86d7": {
          "model_module": "@jupyter-widgets/controls",
          "model_name": "HBoxModel",
          "model_module_version": "1.5.0",
          "state": {
            "_dom_classes": [],
            "_model_module": "@jupyter-widgets/controls",
            "_model_module_version": "1.5.0",
            "_model_name": "HBoxModel",
            "_view_count": null,
            "_view_module": "@jupyter-widgets/controls",
            "_view_module_version": "1.5.0",
            "_view_name": "HBoxView",
            "box_style": "",
            "children": [
              "IPY_MODEL_0fa2651e094a4892a7bf785f86a9b9a9",
              "IPY_MODEL_e27e3ed595e34ee495f457489430c6c4",
              "IPY_MODEL_6d5d1b8f1e70427db56cd304348516af"
            ],
            "layout": "IPY_MODEL_bd16fe0bb6d2451f9d7bda36459bda74"
          }
        },
        "0fa2651e094a4892a7bf785f86a9b9a9": {
          "model_module": "@jupyter-widgets/controls",
          "model_name": "HTMLModel",
          "model_module_version": "1.5.0",
          "state": {
            "_dom_classes": [],
            "_model_module": "@jupyter-widgets/controls",
            "_model_module_version": "1.5.0",
            "_model_name": "HTMLModel",
            "_view_count": null,
            "_view_module": "@jupyter-widgets/controls",
            "_view_module_version": "1.5.0",
            "_view_name": "HTMLView",
            "description": "",
            "description_tooltip": null,
            "layout": "IPY_MODEL_f5cc6f438f134d14a77db3f1f4f18c9a",
            "placeholder": "​",
            "style": "IPY_MODEL_1d3cd689f3f74278a51b2664b16dbf58",
            "value": "Extracting files: 100%"
          }
        },
        "e27e3ed595e34ee495f457489430c6c4": {
          "model_module": "@jupyter-widgets/controls",
          "model_name": "FloatProgressModel",
          "model_module_version": "1.5.0",
          "state": {
            "_dom_classes": [],
            "_model_module": "@jupyter-widgets/controls",
            "_model_module_version": "1.5.0",
            "_model_name": "FloatProgressModel",
            "_view_count": null,
            "_view_module": "@jupyter-widgets/controls",
            "_view_module_version": "1.5.0",
            "_view_name": "ProgressView",
            "bar_style": "success",
            "description": "",
            "description_tooltip": null,
            "layout": "IPY_MODEL_536a11ceb17f41c2a5aba005f25e3fe9",
            "max": 49574,
            "min": 0,
            "orientation": "horizontal",
            "style": "IPY_MODEL_35f98615ae3c464cb69f3300bfa3bdc3",
            "value": 49574
          }
        },
        "6d5d1b8f1e70427db56cd304348516af": {
          "model_module": "@jupyter-widgets/controls",
          "model_name": "HTMLModel",
          "model_module_version": "1.5.0",
          "state": {
            "_dom_classes": [],
            "_model_module": "@jupyter-widgets/controls",
            "_model_module_version": "1.5.0",
            "_model_name": "HTMLModel",
            "_view_count": null,
            "_view_module": "@jupyter-widgets/controls",
            "_view_module_version": "1.5.0",
            "_view_name": "HTMLView",
            "description": "",
            "description_tooltip": null,
            "layout": "IPY_MODEL_717e2650d971482d8d47d521be793684",
            "placeholder": "​",
            "style": "IPY_MODEL_2f38e6360dd6491db221e2afbaa1a522",
            "value": " 49574/49574 [20:59&lt;00:00, 34.67it/s]"
          }
        },
        "bd16fe0bb6d2451f9d7bda36459bda74": {
          "model_module": "@jupyter-widgets/base",
          "model_name": "LayoutModel",
          "model_module_version": "1.2.0",
          "state": {
            "_model_module": "@jupyter-widgets/base",
            "_model_module_version": "1.2.0",
            "_model_name": "LayoutModel",
            "_view_count": null,
            "_view_module": "@jupyter-widgets/base",
            "_view_module_version": "1.2.0",
            "_view_name": "LayoutView",
            "align_content": null,
            "align_items": null,
            "align_self": null,
            "border": null,
            "bottom": null,
            "display": null,
            "flex": null,
            "flex_flow": null,
            "grid_area": null,
            "grid_auto_columns": null,
            "grid_auto_flow": null,
            "grid_auto_rows": null,
            "grid_column": null,
            "grid_gap": null,
            "grid_row": null,
            "grid_template_areas": null,
            "grid_template_columns": null,
            "grid_template_rows": null,
            "height": null,
            "justify_content": null,
            "justify_items": null,
            "left": null,
            "margin": null,
            "max_height": null,
            "max_width": null,
            "min_height": null,
            "min_width": null,
            "object_fit": null,
            "object_position": null,
            "order": null,
            "overflow": null,
            "overflow_x": null,
            "overflow_y": null,
            "padding": null,
            "right": null,
            "top": null,
            "visibility": null,
            "width": null
          }
        },
        "f5cc6f438f134d14a77db3f1f4f18c9a": {
          "model_module": "@jupyter-widgets/base",
          "model_name": "LayoutModel",
          "model_module_version": "1.2.0",
          "state": {
            "_model_module": "@jupyter-widgets/base",
            "_model_module_version": "1.2.0",
            "_model_name": "LayoutModel",
            "_view_count": null,
            "_view_module": "@jupyter-widgets/base",
            "_view_module_version": "1.2.0",
            "_view_name": "LayoutView",
            "align_content": null,
            "align_items": null,
            "align_self": null,
            "border": null,
            "bottom": null,
            "display": null,
            "flex": null,
            "flex_flow": null,
            "grid_area": null,
            "grid_auto_columns": null,
            "grid_auto_flow": null,
            "grid_auto_rows": null,
            "grid_column": null,
            "grid_gap": null,
            "grid_row": null,
            "grid_template_areas": null,
            "grid_template_columns": null,
            "grid_template_rows": null,
            "height": null,
            "justify_content": null,
            "justify_items": null,
            "left": null,
            "margin": null,
            "max_height": null,
            "max_width": null,
            "min_height": null,
            "min_width": null,
            "object_fit": null,
            "object_position": null,
            "order": null,
            "overflow": null,
            "overflow_x": null,
            "overflow_y": null,
            "padding": null,
            "right": null,
            "top": null,
            "visibility": null,
            "width": null
          }
        },
        "1d3cd689f3f74278a51b2664b16dbf58": {
          "model_module": "@jupyter-widgets/controls",
          "model_name": "DescriptionStyleModel",
          "model_module_version": "1.5.0",
          "state": {
            "_model_module": "@jupyter-widgets/controls",
            "_model_module_version": "1.5.0",
            "_model_name": "DescriptionStyleModel",
            "_view_count": null,
            "_view_module": "@jupyter-widgets/base",
            "_view_module_version": "1.2.0",
            "_view_name": "StyleView",
            "description_width": ""
          }
        },
        "536a11ceb17f41c2a5aba005f25e3fe9": {
          "model_module": "@jupyter-widgets/base",
          "model_name": "LayoutModel",
          "model_module_version": "1.2.0",
          "state": {
            "_model_module": "@jupyter-widgets/base",
            "_model_module_version": "1.2.0",
            "_model_name": "LayoutModel",
            "_view_count": null,
            "_view_module": "@jupyter-widgets/base",
            "_view_module_version": "1.2.0",
            "_view_name": "LayoutView",
            "align_content": null,
            "align_items": null,
            "align_self": null,
            "border": null,
            "bottom": null,
            "display": null,
            "flex": null,
            "flex_flow": null,
            "grid_area": null,
            "grid_auto_columns": null,
            "grid_auto_flow": null,
            "grid_auto_rows": null,
            "grid_column": null,
            "grid_gap": null,
            "grid_row": null,
            "grid_template_areas": null,
            "grid_template_columns": null,
            "grid_template_rows": null,
            "height": null,
            "justify_content": null,
            "justify_items": null,
            "left": null,
            "margin": null,
            "max_height": null,
            "max_width": null,
            "min_height": null,
            "min_width": null,
            "object_fit": null,
            "object_position": null,
            "order": null,
            "overflow": null,
            "overflow_x": null,
            "overflow_y": null,
            "padding": null,
            "right": null,
            "top": null,
            "visibility": null,
            "width": null
          }
        },
        "35f98615ae3c464cb69f3300bfa3bdc3": {
          "model_module": "@jupyter-widgets/controls",
          "model_name": "ProgressStyleModel",
          "model_module_version": "1.5.0",
          "state": {
            "_model_module": "@jupyter-widgets/controls",
            "_model_module_version": "1.5.0",
            "_model_name": "ProgressStyleModel",
            "_view_count": null,
            "_view_module": "@jupyter-widgets/base",
            "_view_module_version": "1.2.0",
            "_view_name": "StyleView",
            "bar_color": null,
            "description_width": ""
          }
        },
        "717e2650d971482d8d47d521be793684": {
          "model_module": "@jupyter-widgets/base",
          "model_name": "LayoutModel",
          "model_module_version": "1.2.0",
          "state": {
            "_model_module": "@jupyter-widgets/base",
            "_model_module_version": "1.2.0",
            "_model_name": "LayoutModel",
            "_view_count": null,
            "_view_module": "@jupyter-widgets/base",
            "_view_module_version": "1.2.0",
            "_view_name": "LayoutView",
            "align_content": null,
            "align_items": null,
            "align_self": null,
            "border": null,
            "bottom": null,
            "display": null,
            "flex": null,
            "flex_flow": null,
            "grid_area": null,
            "grid_auto_columns": null,
            "grid_auto_flow": null,
            "grid_auto_rows": null,
            "grid_column": null,
            "grid_gap": null,
            "grid_row": null,
            "grid_template_areas": null,
            "grid_template_columns": null,
            "grid_template_rows": null,
            "height": null,
            "justify_content": null,
            "justify_items": null,
            "left": null,
            "margin": null,
            "max_height": null,
            "max_width": null,
            "min_height": null,
            "min_width": null,
            "object_fit": null,
            "object_position": null,
            "order": null,
            "overflow": null,
            "overflow_x": null,
            "overflow_y": null,
            "padding": null,
            "right": null,
            "top": null,
            "visibility": null,
            "width": null
          }
        },
        "2f38e6360dd6491db221e2afbaa1a522": {
          "model_module": "@jupyter-widgets/controls",
          "model_name": "DescriptionStyleModel",
          "model_module_version": "1.5.0",
          "state": {
            "_model_module": "@jupyter-widgets/controls",
            "_model_module_version": "1.5.0",
            "_model_name": "DescriptionStyleModel",
            "_view_count": null,
            "_view_module": "@jupyter-widgets/base",
            "_view_module_version": "1.2.0",
            "_view_name": "StyleView",
            "description_width": ""
          }
        },
        "a1233cd8ad15448fa44b1c9fe883f415": {
          "model_module": "@jupyter-widgets/controls",
          "model_name": "HBoxModel",
          "model_module_version": "1.5.0",
          "state": {
            "_dom_classes": [],
            "_model_module": "@jupyter-widgets/controls",
            "_model_module_version": "1.5.0",
            "_model_name": "HBoxModel",
            "_view_count": null,
            "_view_module": "@jupyter-widgets/controls",
            "_view_module_version": "1.5.0",
            "_view_name": "HBoxView",
            "box_style": "",
            "children": [
              "IPY_MODEL_b89b7d00f3e7417cbca7b96cde64e011",
              "IPY_MODEL_afad1bc9921541ca96e649ae5c7e0369",
              "IPY_MODEL_b74e115412eb41d6aaaf77cc8f278894"
            ],
            "layout": "IPY_MODEL_ed6dae4ba6364eef80efc54ef8d1389d"
          }
        },
        "b89b7d00f3e7417cbca7b96cde64e011": {
          "model_module": "@jupyter-widgets/controls",
          "model_name": "HTMLModel",
          "model_module_version": "1.5.0",
          "state": {
            "_dom_classes": [],
            "_model_module": "@jupyter-widgets/controls",
            "_model_module_version": "1.5.0",
            "_model_name": "HTMLModel",
            "_view_count": null,
            "_view_module": "@jupyter-widgets/controls",
            "_view_module_version": "1.5.0",
            "_view_name": "HTMLView",
            "description": "",
            "description_tooltip": null,
            "layout": "IPY_MODEL_e4d2840cc3b04dc08c7df0725451c8f6",
            "placeholder": "​",
            "style": "IPY_MODEL_143f0b2b20f54f5187a11e95a39cc501",
            "value": ""
          }
        },
        "afad1bc9921541ca96e649ae5c7e0369": {
          "model_module": "@jupyter-widgets/controls",
          "model_name": "FloatProgressModel",
          "model_module_version": "1.5.0",
          "state": {
            "_dom_classes": [],
            "_model_module": "@jupyter-widgets/controls",
            "_model_module_version": "1.5.0",
            "_model_name": "FloatProgressModel",
            "_view_count": null,
            "_view_module": "@jupyter-widgets/controls",
            "_view_module_version": "1.5.0",
            "_view_name": "ProgressView",
            "bar_style": "success",
            "description": "",
            "description_tooltip": null,
            "layout": "IPY_MODEL_05e87a71b1d54c73adc1ece051e6c91a",
            "max": 1,
            "min": 0,
            "orientation": "horizontal",
            "style": "IPY_MODEL_8e4f224962b84e779d372ecec7973663",
            "value": 1
          }
        },
        "b74e115412eb41d6aaaf77cc8f278894": {
          "model_module": "@jupyter-widgets/controls",
          "model_name": "HTMLModel",
          "model_module_version": "1.5.0",
          "state": {
            "_dom_classes": [],
            "_model_module": "@jupyter-widgets/controls",
            "_model_module_version": "1.5.0",
            "_model_name": "HTMLModel",
            "_view_count": null,
            "_view_module": "@jupyter-widgets/controls",
            "_view_module_version": "1.5.0",
            "_view_name": "HTMLView",
            "description": "",
            "description_tooltip": null,
            "layout": "IPY_MODEL_12281ded82d143dcbf9a6623b778a937",
            "placeholder": "​",
            "style": "IPY_MODEL_d3af595e75af4544a0c200c379be1264",
            "value": " 49572/? [11:53&lt;00:00, 98.06it/s]"
          }
        },
        "ed6dae4ba6364eef80efc54ef8d1389d": {
          "model_module": "@jupyter-widgets/base",
          "model_name": "LayoutModel",
          "model_module_version": "1.2.0",
          "state": {
            "_model_module": "@jupyter-widgets/base",
            "_model_module_version": "1.2.0",
            "_model_name": "LayoutModel",
            "_view_count": null,
            "_view_module": "@jupyter-widgets/base",
            "_view_module_version": "1.2.0",
            "_view_name": "LayoutView",
            "align_content": null,
            "align_items": null,
            "align_self": null,
            "border": null,
            "bottom": null,
            "display": null,
            "flex": null,
            "flex_flow": null,
            "grid_area": null,
            "grid_auto_columns": null,
            "grid_auto_flow": null,
            "grid_auto_rows": null,
            "grid_column": null,
            "grid_gap": null,
            "grid_row": null,
            "grid_template_areas": null,
            "grid_template_columns": null,
            "grid_template_rows": null,
            "height": null,
            "justify_content": null,
            "justify_items": null,
            "left": null,
            "margin": null,
            "max_height": null,
            "max_width": null,
            "min_height": null,
            "min_width": null,
            "object_fit": null,
            "object_position": null,
            "order": null,
            "overflow": null,
            "overflow_x": null,
            "overflow_y": null,
            "padding": null,
            "right": null,
            "top": null,
            "visibility": null,
            "width": null
          }
        },
        "e4d2840cc3b04dc08c7df0725451c8f6": {
          "model_module": "@jupyter-widgets/base",
          "model_name": "LayoutModel",
          "model_module_version": "1.2.0",
          "state": {
            "_model_module": "@jupyter-widgets/base",
            "_model_module_version": "1.2.0",
            "_model_name": "LayoutModel",
            "_view_count": null,
            "_view_module": "@jupyter-widgets/base",
            "_view_module_version": "1.2.0",
            "_view_name": "LayoutView",
            "align_content": null,
            "align_items": null,
            "align_self": null,
            "border": null,
            "bottom": null,
            "display": null,
            "flex": null,
            "flex_flow": null,
            "grid_area": null,
            "grid_auto_columns": null,
            "grid_auto_flow": null,
            "grid_auto_rows": null,
            "grid_column": null,
            "grid_gap": null,
            "grid_row": null,
            "grid_template_areas": null,
            "grid_template_columns": null,
            "grid_template_rows": null,
            "height": null,
            "justify_content": null,
            "justify_items": null,
            "left": null,
            "margin": null,
            "max_height": null,
            "max_width": null,
            "min_height": null,
            "min_width": null,
            "object_fit": null,
            "object_position": null,
            "order": null,
            "overflow": null,
            "overflow_x": null,
            "overflow_y": null,
            "padding": null,
            "right": null,
            "top": null,
            "visibility": null,
            "width": null
          }
        },
        "143f0b2b20f54f5187a11e95a39cc501": {
          "model_module": "@jupyter-widgets/controls",
          "model_name": "DescriptionStyleModel",
          "model_module_version": "1.5.0",
          "state": {
            "_model_module": "@jupyter-widgets/controls",
            "_model_module_version": "1.5.0",
            "_model_name": "DescriptionStyleModel",
            "_view_count": null,
            "_view_module": "@jupyter-widgets/base",
            "_view_module_version": "1.2.0",
            "_view_name": "StyleView",
            "description_width": ""
          }
        },
        "05e87a71b1d54c73adc1ece051e6c91a": {
          "model_module": "@jupyter-widgets/base",
          "model_name": "LayoutModel",
          "model_module_version": "1.2.0",
          "state": {
            "_model_module": "@jupyter-widgets/base",
            "_model_module_version": "1.2.0",
            "_model_name": "LayoutModel",
            "_view_count": null,
            "_view_module": "@jupyter-widgets/base",
            "_view_module_version": "1.2.0",
            "_view_name": "LayoutView",
            "align_content": null,
            "align_items": null,
            "align_self": null,
            "border": null,
            "bottom": null,
            "display": null,
            "flex": null,
            "flex_flow": null,
            "grid_area": null,
            "grid_auto_columns": null,
            "grid_auto_flow": null,
            "grid_auto_rows": null,
            "grid_column": null,
            "grid_gap": null,
            "grid_row": null,
            "grid_template_areas": null,
            "grid_template_columns": null,
            "grid_template_rows": null,
            "height": null,
            "justify_content": null,
            "justify_items": null,
            "left": null,
            "margin": null,
            "max_height": null,
            "max_width": null,
            "min_height": null,
            "min_width": null,
            "object_fit": null,
            "object_position": null,
            "order": null,
            "overflow": null,
            "overflow_x": null,
            "overflow_y": null,
            "padding": null,
            "right": null,
            "top": null,
            "visibility": null,
            "width": "20px"
          }
        },
        "8e4f224962b84e779d372ecec7973663": {
          "model_module": "@jupyter-widgets/controls",
          "model_name": "ProgressStyleModel",
          "model_module_version": "1.5.0",
          "state": {
            "_model_module": "@jupyter-widgets/controls",
            "_model_module_version": "1.5.0",
            "_model_name": "ProgressStyleModel",
            "_view_count": null,
            "_view_module": "@jupyter-widgets/base",
            "_view_module_version": "1.2.0",
            "_view_name": "StyleView",
            "bar_color": null,
            "description_width": ""
          }
        },
        "12281ded82d143dcbf9a6623b778a937": {
          "model_module": "@jupyter-widgets/base",
          "model_name": "LayoutModel",
          "model_module_version": "1.2.0",
          "state": {
            "_model_module": "@jupyter-widgets/base",
            "_model_module_version": "1.2.0",
            "_model_name": "LayoutModel",
            "_view_count": null,
            "_view_module": "@jupyter-widgets/base",
            "_view_module_version": "1.2.0",
            "_view_name": "LayoutView",
            "align_content": null,
            "align_items": null,
            "align_self": null,
            "border": null,
            "bottom": null,
            "display": null,
            "flex": null,
            "flex_flow": null,
            "grid_area": null,
            "grid_auto_columns": null,
            "grid_auto_flow": null,
            "grid_auto_rows": null,
            "grid_column": null,
            "grid_gap": null,
            "grid_row": null,
            "grid_template_areas": null,
            "grid_template_columns": null,
            "grid_template_rows": null,
            "height": null,
            "justify_content": null,
            "justify_items": null,
            "left": null,
            "margin": null,
            "max_height": null,
            "max_width": null,
            "min_height": null,
            "min_width": null,
            "object_fit": null,
            "object_position": null,
            "order": null,
            "overflow": null,
            "overflow_x": null,
            "overflow_y": null,
            "padding": null,
            "right": null,
            "top": null,
            "visibility": null,
            "width": null
          }
        },
        "d3af595e75af4544a0c200c379be1264": {
          "model_module": "@jupyter-widgets/controls",
          "model_name": "DescriptionStyleModel",
          "model_module_version": "1.5.0",
          "state": {
            "_model_module": "@jupyter-widgets/controls",
            "_model_module_version": "1.5.0",
            "_model_name": "DescriptionStyleModel",
            "_view_count": null,
            "_view_module": "@jupyter-widgets/base",
            "_view_module_version": "1.2.0",
            "_view_name": "StyleView",
            "description_width": ""
          }
        },
        "b94f64fdda0e405e8de12b65644f0c6d": {
          "model_module": "@jupyter-widgets/controls",
          "model_name": "HBoxModel",
          "model_module_version": "1.5.0",
          "state": {
            "_dom_classes": [],
            "_model_module": "@jupyter-widgets/controls",
            "_model_module_version": "1.5.0",
            "_model_name": "HBoxModel",
            "_view_count": null,
            "_view_module": "@jupyter-widgets/controls",
            "_view_module_version": "1.5.0",
            "_view_name": "HBoxView",
            "box_style": "",
            "children": [
              "IPY_MODEL_090fb073b57c4659afdb24b227c0f0b2",
              "IPY_MODEL_adc85c37deed46909e865b6e60e99a94",
              "IPY_MODEL_569853c46ef6463b9fddc539c777ddfc"
            ],
            "layout": "IPY_MODEL_766516e1d1434b53a2ed842beee2f354"
          }
        },
        "090fb073b57c4659afdb24b227c0f0b2": {
          "model_module": "@jupyter-widgets/controls",
          "model_name": "HTMLModel",
          "model_module_version": "1.5.0",
          "state": {
            "_dom_classes": [],
            "_model_module": "@jupyter-widgets/controls",
            "_model_module_version": "1.5.0",
            "_model_name": "HTMLModel",
            "_view_count": null,
            "_view_module": "@jupyter-widgets/controls",
            "_view_module_version": "1.5.0",
            "_view_name": "HTMLView",
            "description": "",
            "description_tooltip": null,
            "layout": "IPY_MODEL_c0591685a49c40ae9f338ae772cf3716",
            "placeholder": "​",
            "style": "IPY_MODEL_cc91e8831af44c15976660e5138a5758",
            "value": "Generating data split: "
          }
        },
        "adc85c37deed46909e865b6e60e99a94": {
          "model_module": "@jupyter-widgets/controls",
          "model_name": "FloatProgressModel",
          "model_module_version": "1.5.0",
          "state": {
            "_dom_classes": [],
            "_model_module": "@jupyter-widgets/controls",
            "_model_module_version": "1.5.0",
            "_model_name": "FloatProgressModel",
            "_view_count": null,
            "_view_module": "@jupyter-widgets/controls",
            "_view_module_version": "1.5.0",
            "_view_name": "ProgressView",
            "bar_style": "success",
            "description": "",
            "description_tooltip": null,
            "layout": "IPY_MODEL_117f1b9b7581450da5e6cec25a4603d2",
            "max": 1,
            "min": 0,
            "orientation": "horizontal",
            "style": "IPY_MODEL_78cd0842818e4c3c95cba382ce311152",
            "value": 1
          }
        },
        "569853c46ef6463b9fddc539c777ddfc": {
          "model_module": "@jupyter-widgets/controls",
          "model_name": "HTMLModel",
          "model_module_version": "1.5.0",
          "state": {
            "_dom_classes": [],
            "_model_module": "@jupyter-widgets/controls",
            "_model_module_version": "1.5.0",
            "_model_name": "HTMLModel",
            "_view_count": null,
            "_view_module": "@jupyter-widgets/controls",
            "_view_module_version": "1.5.0",
            "_view_name": "HTMLView",
            "description": "",
            "description_tooltip": null,
            "layout": "IPY_MODEL_69d63c7d046b453f82f256179f246f2d",
            "placeholder": "​",
            "style": "IPY_MODEL_3fc69a6188624289b9c1c920f90b5524",
            "value": " 49572/0 [00:54&lt;00:00, 912.31 examples/s]"
          }
        },
        "766516e1d1434b53a2ed842beee2f354": {
          "model_module": "@jupyter-widgets/base",
          "model_name": "LayoutModel",
          "model_module_version": "1.2.0",
          "state": {
            "_model_module": "@jupyter-widgets/base",
            "_model_module_version": "1.2.0",
            "_model_name": "LayoutModel",
            "_view_count": null,
            "_view_module": "@jupyter-widgets/base",
            "_view_module_version": "1.2.0",
            "_view_name": "LayoutView",
            "align_content": null,
            "align_items": null,
            "align_self": null,
            "border": null,
            "bottom": null,
            "display": null,
            "flex": null,
            "flex_flow": null,
            "grid_area": null,
            "grid_auto_columns": null,
            "grid_auto_flow": null,
            "grid_auto_rows": null,
            "grid_column": null,
            "grid_gap": null,
            "grid_row": null,
            "grid_template_areas": null,
            "grid_template_columns": null,
            "grid_template_rows": null,
            "height": null,
            "justify_content": null,
            "justify_items": null,
            "left": null,
            "margin": null,
            "max_height": null,
            "max_width": null,
            "min_height": null,
            "min_width": null,
            "object_fit": null,
            "object_position": null,
            "order": null,
            "overflow": null,
            "overflow_x": null,
            "overflow_y": null,
            "padding": null,
            "right": null,
            "top": null,
            "visibility": null,
            "width": null
          }
        },
        "c0591685a49c40ae9f338ae772cf3716": {
          "model_module": "@jupyter-widgets/base",
          "model_name": "LayoutModel",
          "model_module_version": "1.2.0",
          "state": {
            "_model_module": "@jupyter-widgets/base",
            "_model_module_version": "1.2.0",
            "_model_name": "LayoutModel",
            "_view_count": null,
            "_view_module": "@jupyter-widgets/base",
            "_view_module_version": "1.2.0",
            "_view_name": "LayoutView",
            "align_content": null,
            "align_items": null,
            "align_self": null,
            "border": null,
            "bottom": null,
            "display": null,
            "flex": null,
            "flex_flow": null,
            "grid_area": null,
            "grid_auto_columns": null,
            "grid_auto_flow": null,
            "grid_auto_rows": null,
            "grid_column": null,
            "grid_gap": null,
            "grid_row": null,
            "grid_template_areas": null,
            "grid_template_columns": null,
            "grid_template_rows": null,
            "height": null,
            "justify_content": null,
            "justify_items": null,
            "left": null,
            "margin": null,
            "max_height": null,
            "max_width": null,
            "min_height": null,
            "min_width": null,
            "object_fit": null,
            "object_position": null,
            "order": null,
            "overflow": null,
            "overflow_x": null,
            "overflow_y": null,
            "padding": null,
            "right": null,
            "top": null,
            "visibility": null,
            "width": null
          }
        },
        "cc91e8831af44c15976660e5138a5758": {
          "model_module": "@jupyter-widgets/controls",
          "model_name": "DescriptionStyleModel",
          "model_module_version": "1.5.0",
          "state": {
            "_model_module": "@jupyter-widgets/controls",
            "_model_module_version": "1.5.0",
            "_model_name": "DescriptionStyleModel",
            "_view_count": null,
            "_view_module": "@jupyter-widgets/base",
            "_view_module_version": "1.2.0",
            "_view_name": "StyleView",
            "description_width": ""
          }
        },
        "117f1b9b7581450da5e6cec25a4603d2": {
          "model_module": "@jupyter-widgets/base",
          "model_name": "LayoutModel",
          "model_module_version": "1.2.0",
          "state": {
            "_model_module": "@jupyter-widgets/base",
            "_model_module_version": "1.2.0",
            "_model_name": "LayoutModel",
            "_view_count": null,
            "_view_module": "@jupyter-widgets/base",
            "_view_module_version": "1.2.0",
            "_view_name": "LayoutView",
            "align_content": null,
            "align_items": null,
            "align_self": null,
            "border": null,
            "bottom": null,
            "display": null,
            "flex": null,
            "flex_flow": null,
            "grid_area": null,
            "grid_auto_columns": null,
            "grid_auto_flow": null,
            "grid_auto_rows": null,
            "grid_column": null,
            "grid_gap": null,
            "grid_row": null,
            "grid_template_areas": null,
            "grid_template_columns": null,
            "grid_template_rows": null,
            "height": null,
            "justify_content": null,
            "justify_items": null,
            "left": null,
            "margin": null,
            "max_height": null,
            "max_width": null,
            "min_height": null,
            "min_width": null,
            "object_fit": null,
            "object_position": null,
            "order": null,
            "overflow": null,
            "overflow_x": null,
            "overflow_y": null,
            "padding": null,
            "right": null,
            "top": null,
            "visibility": null,
            "width": "20px"
          }
        },
        "78cd0842818e4c3c95cba382ce311152": {
          "model_module": "@jupyter-widgets/controls",
          "model_name": "ProgressStyleModel",
          "model_module_version": "1.5.0",
          "state": {
            "_model_module": "@jupyter-widgets/controls",
            "_model_module_version": "1.5.0",
            "_model_name": "ProgressStyleModel",
            "_view_count": null,
            "_view_module": "@jupyter-widgets/base",
            "_view_module_version": "1.2.0",
            "_view_name": "StyleView",
            "bar_color": null,
            "description_width": ""
          }
        },
        "69d63c7d046b453f82f256179f246f2d": {
          "model_module": "@jupyter-widgets/base",
          "model_name": "LayoutModel",
          "model_module_version": "1.2.0",
          "state": {
            "_model_module": "@jupyter-widgets/base",
            "_model_module_version": "1.2.0",
            "_model_name": "LayoutModel",
            "_view_count": null,
            "_view_module": "@jupyter-widgets/base",
            "_view_module_version": "1.2.0",
            "_view_name": "LayoutView",
            "align_content": null,
            "align_items": null,
            "align_self": null,
            "border": null,
            "bottom": null,
            "display": null,
            "flex": null,
            "flex_flow": null,
            "grid_area": null,
            "grid_auto_columns": null,
            "grid_auto_flow": null,
            "grid_auto_rows": null,
            "grid_column": null,
            "grid_gap": null,
            "grid_row": null,
            "grid_template_areas": null,
            "grid_template_columns": null,
            "grid_template_rows": null,
            "height": null,
            "justify_content": null,
            "justify_items": null,
            "left": null,
            "margin": null,
            "max_height": null,
            "max_width": null,
            "min_height": null,
            "min_width": null,
            "object_fit": null,
            "object_position": null,
            "order": null,
            "overflow": null,
            "overflow_x": null,
            "overflow_y": null,
            "padding": null,
            "right": null,
            "top": null,
            "visibility": null,
            "width": null
          }
        },
        "3fc69a6188624289b9c1c920f90b5524": {
          "model_module": "@jupyter-widgets/controls",
          "model_name": "DescriptionStyleModel",
          "model_module_version": "1.5.0",
          "state": {
            "_model_module": "@jupyter-widgets/controls",
            "_model_module_version": "1.5.0",
            "_model_name": "DescriptionStyleModel",
            "_view_count": null,
            "_view_module": "@jupyter-widgets/base",
            "_view_module_version": "1.2.0",
            "_view_name": "StyleView",
            "description_width": ""
          }
        },
        "a690ee336458432bb53a7dee1ca83da7": {
          "model_module": "@jupyter-widgets/controls",
          "model_name": "HBoxModel",
          "model_module_version": "1.5.0",
          "state": {
            "_dom_classes": [],
            "_model_module": "@jupyter-widgets/controls",
            "_model_module_version": "1.5.0",
            "_model_name": "HBoxModel",
            "_view_count": null,
            "_view_module": "@jupyter-widgets/controls",
            "_view_module_version": "1.5.0",
            "_view_name": "HBoxView",
            "box_style": "",
            "children": [
              "IPY_MODEL_7b09a19345e74d7da8311cb72eaa3e01",
              "IPY_MODEL_53488edea36c42f8abf2652e89a58023",
              "IPY_MODEL_f373eef37113400fa1d1ab22db0870f3"
            ],
            "layout": "IPY_MODEL_b3c6a0e88a6548da902f2700f21ca47a"
          }
        },
        "7b09a19345e74d7da8311cb72eaa3e01": {
          "model_module": "@jupyter-widgets/controls",
          "model_name": "HTMLModel",
          "model_module_version": "1.5.0",
          "state": {
            "_dom_classes": [],
            "_model_module": "@jupyter-widgets/controls",
            "_model_module_version": "1.5.0",
            "_model_name": "HTMLModel",
            "_view_count": null,
            "_view_module": "@jupyter-widgets/controls",
            "_view_module_version": "1.5.0",
            "_view_name": "HTMLView",
            "description": "",
            "description_tooltip": null,
            "layout": "IPY_MODEL_7bef1326fe8f4f85b1eee416bd663c3e",
            "placeholder": "​",
            "style": "IPY_MODEL_5b38aa83a7e64f7184300f2111b702fb",
            "value": "tokenizer_config.json: 100%"
          }
        },
        "53488edea36c42f8abf2652e89a58023": {
          "model_module": "@jupyter-widgets/controls",
          "model_name": "FloatProgressModel",
          "model_module_version": "1.5.0",
          "state": {
            "_dom_classes": [],
            "_model_module": "@jupyter-widgets/controls",
            "_model_module_version": "1.5.0",
            "_model_name": "FloatProgressModel",
            "_view_count": null,
            "_view_module": "@jupyter-widgets/controls",
            "_view_module_version": "1.5.0",
            "_view_name": "ProgressView",
            "bar_style": "success",
            "description": "",
            "description_tooltip": null,
            "layout": "IPY_MODEL_93ebe7b3a51543e39887d03f3884a8e9",
            "max": 2324,
            "min": 0,
            "orientation": "horizontal",
            "style": "IPY_MODEL_8e539462972446ceb7ab488935edcfe5",
            "value": 2324
          }
        },
        "f373eef37113400fa1d1ab22db0870f3": {
          "model_module": "@jupyter-widgets/controls",
          "model_name": "HTMLModel",
          "model_module_version": "1.5.0",
          "state": {
            "_dom_classes": [],
            "_model_module": "@jupyter-widgets/controls",
            "_model_module_version": "1.5.0",
            "_model_name": "HTMLModel",
            "_view_count": null,
            "_view_module": "@jupyter-widgets/controls",
            "_view_module_version": "1.5.0",
            "_view_name": "HTMLView",
            "description": "",
            "description_tooltip": null,
            "layout": "IPY_MODEL_eac117af7ae34e16a400ed22c04ea80b",
            "placeholder": "​",
            "style": "IPY_MODEL_7e4a3ef5986e460cafd2636514bd395f",
            "value": " 2.32k/2.32k [00:00&lt;00:00, 115kB/s]"
          }
        },
        "b3c6a0e88a6548da902f2700f21ca47a": {
          "model_module": "@jupyter-widgets/base",
          "model_name": "LayoutModel",
          "model_module_version": "1.2.0",
          "state": {
            "_model_module": "@jupyter-widgets/base",
            "_model_module_version": "1.2.0",
            "_model_name": "LayoutModel",
            "_view_count": null,
            "_view_module": "@jupyter-widgets/base",
            "_view_module_version": "1.2.0",
            "_view_name": "LayoutView",
            "align_content": null,
            "align_items": null,
            "align_self": null,
            "border": null,
            "bottom": null,
            "display": null,
            "flex": null,
            "flex_flow": null,
            "grid_area": null,
            "grid_auto_columns": null,
            "grid_auto_flow": null,
            "grid_auto_rows": null,
            "grid_column": null,
            "grid_gap": null,
            "grid_row": null,
            "grid_template_areas": null,
            "grid_template_columns": null,
            "grid_template_rows": null,
            "height": null,
            "justify_content": null,
            "justify_items": null,
            "left": null,
            "margin": null,
            "max_height": null,
            "max_width": null,
            "min_height": null,
            "min_width": null,
            "object_fit": null,
            "object_position": null,
            "order": null,
            "overflow": null,
            "overflow_x": null,
            "overflow_y": null,
            "padding": null,
            "right": null,
            "top": null,
            "visibility": null,
            "width": null
          }
        },
        "7bef1326fe8f4f85b1eee416bd663c3e": {
          "model_module": "@jupyter-widgets/base",
          "model_name": "LayoutModel",
          "model_module_version": "1.2.0",
          "state": {
            "_model_module": "@jupyter-widgets/base",
            "_model_module_version": "1.2.0",
            "_model_name": "LayoutModel",
            "_view_count": null,
            "_view_module": "@jupyter-widgets/base",
            "_view_module_version": "1.2.0",
            "_view_name": "LayoutView",
            "align_content": null,
            "align_items": null,
            "align_self": null,
            "border": null,
            "bottom": null,
            "display": null,
            "flex": null,
            "flex_flow": null,
            "grid_area": null,
            "grid_auto_columns": null,
            "grid_auto_flow": null,
            "grid_auto_rows": null,
            "grid_column": null,
            "grid_gap": null,
            "grid_row": null,
            "grid_template_areas": null,
            "grid_template_columns": null,
            "grid_template_rows": null,
            "height": null,
            "justify_content": null,
            "justify_items": null,
            "left": null,
            "margin": null,
            "max_height": null,
            "max_width": null,
            "min_height": null,
            "min_width": null,
            "object_fit": null,
            "object_position": null,
            "order": null,
            "overflow": null,
            "overflow_x": null,
            "overflow_y": null,
            "padding": null,
            "right": null,
            "top": null,
            "visibility": null,
            "width": null
          }
        },
        "5b38aa83a7e64f7184300f2111b702fb": {
          "model_module": "@jupyter-widgets/controls",
          "model_name": "DescriptionStyleModel",
          "model_module_version": "1.5.0",
          "state": {
            "_model_module": "@jupyter-widgets/controls",
            "_model_module_version": "1.5.0",
            "_model_name": "DescriptionStyleModel",
            "_view_count": null,
            "_view_module": "@jupyter-widgets/base",
            "_view_module_version": "1.2.0",
            "_view_name": "StyleView",
            "description_width": ""
          }
        },
        "93ebe7b3a51543e39887d03f3884a8e9": {
          "model_module": "@jupyter-widgets/base",
          "model_name": "LayoutModel",
          "model_module_version": "1.2.0",
          "state": {
            "_model_module": "@jupyter-widgets/base",
            "_model_module_version": "1.2.0",
            "_model_name": "LayoutModel",
            "_view_count": null,
            "_view_module": "@jupyter-widgets/base",
            "_view_module_version": "1.2.0",
            "_view_name": "LayoutView",
            "align_content": null,
            "align_items": null,
            "align_self": null,
            "border": null,
            "bottom": null,
            "display": null,
            "flex": null,
            "flex_flow": null,
            "grid_area": null,
            "grid_auto_columns": null,
            "grid_auto_flow": null,
            "grid_auto_rows": null,
            "grid_column": null,
            "grid_gap": null,
            "grid_row": null,
            "grid_template_areas": null,
            "grid_template_columns": null,
            "grid_template_rows": null,
            "height": null,
            "justify_content": null,
            "justify_items": null,
            "left": null,
            "margin": null,
            "max_height": null,
            "max_width": null,
            "min_height": null,
            "min_width": null,
            "object_fit": null,
            "object_position": null,
            "order": null,
            "overflow": null,
            "overflow_x": null,
            "overflow_y": null,
            "padding": null,
            "right": null,
            "top": null,
            "visibility": null,
            "width": null
          }
        },
        "8e539462972446ceb7ab488935edcfe5": {
          "model_module": "@jupyter-widgets/controls",
          "model_name": "ProgressStyleModel",
          "model_module_version": "1.5.0",
          "state": {
            "_model_module": "@jupyter-widgets/controls",
            "_model_module_version": "1.5.0",
            "_model_name": "ProgressStyleModel",
            "_view_count": null,
            "_view_module": "@jupyter-widgets/base",
            "_view_module_version": "1.2.0",
            "_view_name": "StyleView",
            "bar_color": null,
            "description_width": ""
          }
        },
        "eac117af7ae34e16a400ed22c04ea80b": {
          "model_module": "@jupyter-widgets/base",
          "model_name": "LayoutModel",
          "model_module_version": "1.2.0",
          "state": {
            "_model_module": "@jupyter-widgets/base",
            "_model_module_version": "1.2.0",
            "_model_name": "LayoutModel",
            "_view_count": null,
            "_view_module": "@jupyter-widgets/base",
            "_view_module_version": "1.2.0",
            "_view_name": "LayoutView",
            "align_content": null,
            "align_items": null,
            "align_self": null,
            "border": null,
            "bottom": null,
            "display": null,
            "flex": null,
            "flex_flow": null,
            "grid_area": null,
            "grid_auto_columns": null,
            "grid_auto_flow": null,
            "grid_auto_rows": null,
            "grid_column": null,
            "grid_gap": null,
            "grid_row": null,
            "grid_template_areas": null,
            "grid_template_columns": null,
            "grid_template_rows": null,
            "height": null,
            "justify_content": null,
            "justify_items": null,
            "left": null,
            "margin": null,
            "max_height": null,
            "max_width": null,
            "min_height": null,
            "min_width": null,
            "object_fit": null,
            "object_position": null,
            "order": null,
            "overflow": null,
            "overflow_x": null,
            "overflow_y": null,
            "padding": null,
            "right": null,
            "top": null,
            "visibility": null,
            "width": null
          }
        },
        "7e4a3ef5986e460cafd2636514bd395f": {
          "model_module": "@jupyter-widgets/controls",
          "model_name": "DescriptionStyleModel",
          "model_module_version": "1.5.0",
          "state": {
            "_model_module": "@jupyter-widgets/controls",
            "_model_module_version": "1.5.0",
            "_model_name": "DescriptionStyleModel",
            "_view_count": null,
            "_view_module": "@jupyter-widgets/base",
            "_view_module_version": "1.2.0",
            "_view_name": "StyleView",
            "description_width": ""
          }
        },
        "8ae6209ed7f24061b0e85c302d39ada6": {
          "model_module": "@jupyter-widgets/controls",
          "model_name": "HBoxModel",
          "model_module_version": "1.5.0",
          "state": {
            "_dom_classes": [],
            "_model_module": "@jupyter-widgets/controls",
            "_model_module_version": "1.5.0",
            "_model_name": "HBoxModel",
            "_view_count": null,
            "_view_module": "@jupyter-widgets/controls",
            "_view_module_version": "1.5.0",
            "_view_name": "HBoxView",
            "box_style": "",
            "children": [
              "IPY_MODEL_bd851914a4804a839054978468eee7f4",
              "IPY_MODEL_23fe758ada404dcdb0eb289b04ee25e1",
              "IPY_MODEL_e1e9ea39ce434a448ae263b2c2e1d14e"
            ],
            "layout": "IPY_MODEL_697d3b61f3f14596877ea452e75a22ed"
          }
        },
        "bd851914a4804a839054978468eee7f4": {
          "model_module": "@jupyter-widgets/controls",
          "model_name": "HTMLModel",
          "model_module_version": "1.5.0",
          "state": {
            "_dom_classes": [],
            "_model_module": "@jupyter-widgets/controls",
            "_model_module_version": "1.5.0",
            "_model_name": "HTMLModel",
            "_view_count": null,
            "_view_module": "@jupyter-widgets/controls",
            "_view_module_version": "1.5.0",
            "_view_name": "HTMLView",
            "description": "",
            "description_tooltip": null,
            "layout": "IPY_MODEL_548ee6b39a534d6fb4861650f9ca295f",
            "placeholder": "​",
            "style": "IPY_MODEL_1beceba22b0a45849cabd885295902a6",
            "value": "spiece.model: 100%"
          }
        },
        "23fe758ada404dcdb0eb289b04ee25e1": {
          "model_module": "@jupyter-widgets/controls",
          "model_name": "FloatProgressModel",
          "model_module_version": "1.5.0",
          "state": {
            "_dom_classes": [],
            "_model_module": "@jupyter-widgets/controls",
            "_model_module_version": "1.5.0",
            "_model_name": "FloatProgressModel",
            "_view_count": null,
            "_view_module": "@jupyter-widgets/controls",
            "_view_module_version": "1.5.0",
            "_view_name": "ProgressView",
            "bar_style": "success",
            "description": "",
            "description_tooltip": null,
            "layout": "IPY_MODEL_26a6f139c35c4700b0653507cbb94b75",
            "max": 791656,
            "min": 0,
            "orientation": "horizontal",
            "style": "IPY_MODEL_a1cc367e95984bfe8968b5e43fd4618b",
            "value": 791656
          }
        },
        "e1e9ea39ce434a448ae263b2c2e1d14e": {
          "model_module": "@jupyter-widgets/controls",
          "model_name": "HTMLModel",
          "model_module_version": "1.5.0",
          "state": {
            "_dom_classes": [],
            "_model_module": "@jupyter-widgets/controls",
            "_model_module_version": "1.5.0",
            "_model_name": "HTMLModel",
            "_view_count": null,
            "_view_module": "@jupyter-widgets/controls",
            "_view_module_version": "1.5.0",
            "_view_name": "HTMLView",
            "description": "",
            "description_tooltip": null,
            "layout": "IPY_MODEL_5b133f72ffbb44a88ef3099fe4e82ef6",
            "placeholder": "​",
            "style": "IPY_MODEL_539509f61fe44114887195d2851dd494",
            "value": " 792k/792k [00:00&lt;00:00, 1.07MB/s]"
          }
        },
        "697d3b61f3f14596877ea452e75a22ed": {
          "model_module": "@jupyter-widgets/base",
          "model_name": "LayoutModel",
          "model_module_version": "1.2.0",
          "state": {
            "_model_module": "@jupyter-widgets/base",
            "_model_module_version": "1.2.0",
            "_model_name": "LayoutModel",
            "_view_count": null,
            "_view_module": "@jupyter-widgets/base",
            "_view_module_version": "1.2.0",
            "_view_name": "LayoutView",
            "align_content": null,
            "align_items": null,
            "align_self": null,
            "border": null,
            "bottom": null,
            "display": null,
            "flex": null,
            "flex_flow": null,
            "grid_area": null,
            "grid_auto_columns": null,
            "grid_auto_flow": null,
            "grid_auto_rows": null,
            "grid_column": null,
            "grid_gap": null,
            "grid_row": null,
            "grid_template_areas": null,
            "grid_template_columns": null,
            "grid_template_rows": null,
            "height": null,
            "justify_content": null,
            "justify_items": null,
            "left": null,
            "margin": null,
            "max_height": null,
            "max_width": null,
            "min_height": null,
            "min_width": null,
            "object_fit": null,
            "object_position": null,
            "order": null,
            "overflow": null,
            "overflow_x": null,
            "overflow_y": null,
            "padding": null,
            "right": null,
            "top": null,
            "visibility": null,
            "width": null
          }
        },
        "548ee6b39a534d6fb4861650f9ca295f": {
          "model_module": "@jupyter-widgets/base",
          "model_name": "LayoutModel",
          "model_module_version": "1.2.0",
          "state": {
            "_model_module": "@jupyter-widgets/base",
            "_model_module_version": "1.2.0",
            "_model_name": "LayoutModel",
            "_view_count": null,
            "_view_module": "@jupyter-widgets/base",
            "_view_module_version": "1.2.0",
            "_view_name": "LayoutView",
            "align_content": null,
            "align_items": null,
            "align_self": null,
            "border": null,
            "bottom": null,
            "display": null,
            "flex": null,
            "flex_flow": null,
            "grid_area": null,
            "grid_auto_columns": null,
            "grid_auto_flow": null,
            "grid_auto_rows": null,
            "grid_column": null,
            "grid_gap": null,
            "grid_row": null,
            "grid_template_areas": null,
            "grid_template_columns": null,
            "grid_template_rows": null,
            "height": null,
            "justify_content": null,
            "justify_items": null,
            "left": null,
            "margin": null,
            "max_height": null,
            "max_width": null,
            "min_height": null,
            "min_width": null,
            "object_fit": null,
            "object_position": null,
            "order": null,
            "overflow": null,
            "overflow_x": null,
            "overflow_y": null,
            "padding": null,
            "right": null,
            "top": null,
            "visibility": null,
            "width": null
          }
        },
        "1beceba22b0a45849cabd885295902a6": {
          "model_module": "@jupyter-widgets/controls",
          "model_name": "DescriptionStyleModel",
          "model_module_version": "1.5.0",
          "state": {
            "_model_module": "@jupyter-widgets/controls",
            "_model_module_version": "1.5.0",
            "_model_name": "DescriptionStyleModel",
            "_view_count": null,
            "_view_module": "@jupyter-widgets/base",
            "_view_module_version": "1.2.0",
            "_view_name": "StyleView",
            "description_width": ""
          }
        },
        "26a6f139c35c4700b0653507cbb94b75": {
          "model_module": "@jupyter-widgets/base",
          "model_name": "LayoutModel",
          "model_module_version": "1.2.0",
          "state": {
            "_model_module": "@jupyter-widgets/base",
            "_model_module_version": "1.2.0",
            "_model_name": "LayoutModel",
            "_view_count": null,
            "_view_module": "@jupyter-widgets/base",
            "_view_module_version": "1.2.0",
            "_view_name": "LayoutView",
            "align_content": null,
            "align_items": null,
            "align_self": null,
            "border": null,
            "bottom": null,
            "display": null,
            "flex": null,
            "flex_flow": null,
            "grid_area": null,
            "grid_auto_columns": null,
            "grid_auto_flow": null,
            "grid_auto_rows": null,
            "grid_column": null,
            "grid_gap": null,
            "grid_row": null,
            "grid_template_areas": null,
            "grid_template_columns": null,
            "grid_template_rows": null,
            "height": null,
            "justify_content": null,
            "justify_items": null,
            "left": null,
            "margin": null,
            "max_height": null,
            "max_width": null,
            "min_height": null,
            "min_width": null,
            "object_fit": null,
            "object_position": null,
            "order": null,
            "overflow": null,
            "overflow_x": null,
            "overflow_y": null,
            "padding": null,
            "right": null,
            "top": null,
            "visibility": null,
            "width": null
          }
        },
        "a1cc367e95984bfe8968b5e43fd4618b": {
          "model_module": "@jupyter-widgets/controls",
          "model_name": "ProgressStyleModel",
          "model_module_version": "1.5.0",
          "state": {
            "_model_module": "@jupyter-widgets/controls",
            "_model_module_version": "1.5.0",
            "_model_name": "ProgressStyleModel",
            "_view_count": null,
            "_view_module": "@jupyter-widgets/base",
            "_view_module_version": "1.2.0",
            "_view_name": "StyleView",
            "bar_color": null,
            "description_width": ""
          }
        },
        "5b133f72ffbb44a88ef3099fe4e82ef6": {
          "model_module": "@jupyter-widgets/base",
          "model_name": "LayoutModel",
          "model_module_version": "1.2.0",
          "state": {
            "_model_module": "@jupyter-widgets/base",
            "_model_module_version": "1.2.0",
            "_model_name": "LayoutModel",
            "_view_count": null,
            "_view_module": "@jupyter-widgets/base",
            "_view_module_version": "1.2.0",
            "_view_name": "LayoutView",
            "align_content": null,
            "align_items": null,
            "align_self": null,
            "border": null,
            "bottom": null,
            "display": null,
            "flex": null,
            "flex_flow": null,
            "grid_area": null,
            "grid_auto_columns": null,
            "grid_auto_flow": null,
            "grid_auto_rows": null,
            "grid_column": null,
            "grid_gap": null,
            "grid_row": null,
            "grid_template_areas": null,
            "grid_template_columns": null,
            "grid_template_rows": null,
            "height": null,
            "justify_content": null,
            "justify_items": null,
            "left": null,
            "margin": null,
            "max_height": null,
            "max_width": null,
            "min_height": null,
            "min_width": null,
            "object_fit": null,
            "object_position": null,
            "order": null,
            "overflow": null,
            "overflow_x": null,
            "overflow_y": null,
            "padding": null,
            "right": null,
            "top": null,
            "visibility": null,
            "width": null
          }
        },
        "539509f61fe44114887195d2851dd494": {
          "model_module": "@jupyter-widgets/controls",
          "model_name": "DescriptionStyleModel",
          "model_module_version": "1.5.0",
          "state": {
            "_model_module": "@jupyter-widgets/controls",
            "_model_module_version": "1.5.0",
            "_model_name": "DescriptionStyleModel",
            "_view_count": null,
            "_view_module": "@jupyter-widgets/base",
            "_view_module_version": "1.2.0",
            "_view_name": "StyleView",
            "description_width": ""
          }
        },
        "ba0979035ae44bc2877b01d440933d4e": {
          "model_module": "@jupyter-widgets/controls",
          "model_name": "HBoxModel",
          "model_module_version": "1.5.0",
          "state": {
            "_dom_classes": [],
            "_model_module": "@jupyter-widgets/controls",
            "_model_module_version": "1.5.0",
            "_model_name": "HBoxModel",
            "_view_count": null,
            "_view_module": "@jupyter-widgets/controls",
            "_view_module_version": "1.5.0",
            "_view_name": "HBoxView",
            "box_style": "",
            "children": [
              "IPY_MODEL_9b3045946be0442482464d7a519bc1df",
              "IPY_MODEL_badcc62929204c8291a83d139bfae98f",
              "IPY_MODEL_37e7a063b1ce4b4dbe19fcd0d144a0ed"
            ],
            "layout": "IPY_MODEL_e2ee45d6766f4af48afc9d1b61b44691"
          }
        },
        "9b3045946be0442482464d7a519bc1df": {
          "model_module": "@jupyter-widgets/controls",
          "model_name": "HTMLModel",
          "model_module_version": "1.5.0",
          "state": {
            "_dom_classes": [],
            "_model_module": "@jupyter-widgets/controls",
            "_model_module_version": "1.5.0",
            "_model_name": "HTMLModel",
            "_view_count": null,
            "_view_module": "@jupyter-widgets/controls",
            "_view_module_version": "1.5.0",
            "_view_name": "HTMLView",
            "description": "",
            "description_tooltip": null,
            "layout": "IPY_MODEL_12484e1e2a7c40319d05417fa085be39",
            "placeholder": "​",
            "style": "IPY_MODEL_5b071b7d645247c4b36073f736184dd1",
            "value": "tokenizer.json: 100%"
          }
        },
        "badcc62929204c8291a83d139bfae98f": {
          "model_module": "@jupyter-widgets/controls",
          "model_name": "FloatProgressModel",
          "model_module_version": "1.5.0",
          "state": {
            "_dom_classes": [],
            "_model_module": "@jupyter-widgets/controls",
            "_model_module_version": "1.5.0",
            "_model_name": "FloatProgressModel",
            "_view_count": null,
            "_view_module": "@jupyter-widgets/controls",
            "_view_module_version": "1.5.0",
            "_view_name": "ProgressView",
            "bar_style": "success",
            "description": "",
            "description_tooltip": null,
            "layout": "IPY_MODEL_264706a1062d45ee8aa645f305073970",
            "max": 1389353,
            "min": 0,
            "orientation": "horizontal",
            "style": "IPY_MODEL_86e554021188405ba4e650bb8127dbef",
            "value": 1389353
          }
        },
        "37e7a063b1ce4b4dbe19fcd0d144a0ed": {
          "model_module": "@jupyter-widgets/controls",
          "model_name": "HTMLModel",
          "model_module_version": "1.5.0",
          "state": {
            "_dom_classes": [],
            "_model_module": "@jupyter-widgets/controls",
            "_model_module_version": "1.5.0",
            "_model_name": "HTMLModel",
            "_view_count": null,
            "_view_module": "@jupyter-widgets/controls",
            "_view_module_version": "1.5.0",
            "_view_name": "HTMLView",
            "description": "",
            "description_tooltip": null,
            "layout": "IPY_MODEL_b8cd8a81eb5c42f4ae899824df67c813",
            "placeholder": "​",
            "style": "IPY_MODEL_d8b1a664963744f2862bbd738bb4c628",
            "value": " 1.39M/1.39M [00:00&lt;00:00, 1.94MB/s]"
          }
        },
        "e2ee45d6766f4af48afc9d1b61b44691": {
          "model_module": "@jupyter-widgets/base",
          "model_name": "LayoutModel",
          "model_module_version": "1.2.0",
          "state": {
            "_model_module": "@jupyter-widgets/base",
            "_model_module_version": "1.2.0",
            "_model_name": "LayoutModel",
            "_view_count": null,
            "_view_module": "@jupyter-widgets/base",
            "_view_module_version": "1.2.0",
            "_view_name": "LayoutView",
            "align_content": null,
            "align_items": null,
            "align_self": null,
            "border": null,
            "bottom": null,
            "display": null,
            "flex": null,
            "flex_flow": null,
            "grid_area": null,
            "grid_auto_columns": null,
            "grid_auto_flow": null,
            "grid_auto_rows": null,
            "grid_column": null,
            "grid_gap": null,
            "grid_row": null,
            "grid_template_areas": null,
            "grid_template_columns": null,
            "grid_template_rows": null,
            "height": null,
            "justify_content": null,
            "justify_items": null,
            "left": null,
            "margin": null,
            "max_height": null,
            "max_width": null,
            "min_height": null,
            "min_width": null,
            "object_fit": null,
            "object_position": null,
            "order": null,
            "overflow": null,
            "overflow_x": null,
            "overflow_y": null,
            "padding": null,
            "right": null,
            "top": null,
            "visibility": null,
            "width": null
          }
        },
        "12484e1e2a7c40319d05417fa085be39": {
          "model_module": "@jupyter-widgets/base",
          "model_name": "LayoutModel",
          "model_module_version": "1.2.0",
          "state": {
            "_model_module": "@jupyter-widgets/base",
            "_model_module_version": "1.2.0",
            "_model_name": "LayoutModel",
            "_view_count": null,
            "_view_module": "@jupyter-widgets/base",
            "_view_module_version": "1.2.0",
            "_view_name": "LayoutView",
            "align_content": null,
            "align_items": null,
            "align_self": null,
            "border": null,
            "bottom": null,
            "display": null,
            "flex": null,
            "flex_flow": null,
            "grid_area": null,
            "grid_auto_columns": null,
            "grid_auto_flow": null,
            "grid_auto_rows": null,
            "grid_column": null,
            "grid_gap": null,
            "grid_row": null,
            "grid_template_areas": null,
            "grid_template_columns": null,
            "grid_template_rows": null,
            "height": null,
            "justify_content": null,
            "justify_items": null,
            "left": null,
            "margin": null,
            "max_height": null,
            "max_width": null,
            "min_height": null,
            "min_width": null,
            "object_fit": null,
            "object_position": null,
            "order": null,
            "overflow": null,
            "overflow_x": null,
            "overflow_y": null,
            "padding": null,
            "right": null,
            "top": null,
            "visibility": null,
            "width": null
          }
        },
        "5b071b7d645247c4b36073f736184dd1": {
          "model_module": "@jupyter-widgets/controls",
          "model_name": "DescriptionStyleModel",
          "model_module_version": "1.5.0",
          "state": {
            "_model_module": "@jupyter-widgets/controls",
            "_model_module_version": "1.5.0",
            "_model_name": "DescriptionStyleModel",
            "_view_count": null,
            "_view_module": "@jupyter-widgets/base",
            "_view_module_version": "1.2.0",
            "_view_name": "StyleView",
            "description_width": ""
          }
        },
        "264706a1062d45ee8aa645f305073970": {
          "model_module": "@jupyter-widgets/base",
          "model_name": "LayoutModel",
          "model_module_version": "1.2.0",
          "state": {
            "_model_module": "@jupyter-widgets/base",
            "_model_module_version": "1.2.0",
            "_model_name": "LayoutModel",
            "_view_count": null,
            "_view_module": "@jupyter-widgets/base",
            "_view_module_version": "1.2.0",
            "_view_name": "LayoutView",
            "align_content": null,
            "align_items": null,
            "align_self": null,
            "border": null,
            "bottom": null,
            "display": null,
            "flex": null,
            "flex_flow": null,
            "grid_area": null,
            "grid_auto_columns": null,
            "grid_auto_flow": null,
            "grid_auto_rows": null,
            "grid_column": null,
            "grid_gap": null,
            "grid_row": null,
            "grid_template_areas": null,
            "grid_template_columns": null,
            "grid_template_rows": null,
            "height": null,
            "justify_content": null,
            "justify_items": null,
            "left": null,
            "margin": null,
            "max_height": null,
            "max_width": null,
            "min_height": null,
            "min_width": null,
            "object_fit": null,
            "object_position": null,
            "order": null,
            "overflow": null,
            "overflow_x": null,
            "overflow_y": null,
            "padding": null,
            "right": null,
            "top": null,
            "visibility": null,
            "width": null
          }
        },
        "86e554021188405ba4e650bb8127dbef": {
          "model_module": "@jupyter-widgets/controls",
          "model_name": "ProgressStyleModel",
          "model_module_version": "1.5.0",
          "state": {
            "_model_module": "@jupyter-widgets/controls",
            "_model_module_version": "1.5.0",
            "_model_name": "ProgressStyleModel",
            "_view_count": null,
            "_view_module": "@jupyter-widgets/base",
            "_view_module_version": "1.2.0",
            "_view_name": "StyleView",
            "bar_color": null,
            "description_width": ""
          }
        },
        "b8cd8a81eb5c42f4ae899824df67c813": {
          "model_module": "@jupyter-widgets/base",
          "model_name": "LayoutModel",
          "model_module_version": "1.2.0",
          "state": {
            "_model_module": "@jupyter-widgets/base",
            "_model_module_version": "1.2.0",
            "_model_name": "LayoutModel",
            "_view_count": null,
            "_view_module": "@jupyter-widgets/base",
            "_view_module_version": "1.2.0",
            "_view_name": "LayoutView",
            "align_content": null,
            "align_items": null,
            "align_self": null,
            "border": null,
            "bottom": null,
            "display": null,
            "flex": null,
            "flex_flow": null,
            "grid_area": null,
            "grid_auto_columns": null,
            "grid_auto_flow": null,
            "grid_auto_rows": null,
            "grid_column": null,
            "grid_gap": null,
            "grid_row": null,
            "grid_template_areas": null,
            "grid_template_columns": null,
            "grid_template_rows": null,
            "height": null,
            "justify_content": null,
            "justify_items": null,
            "left": null,
            "margin": null,
            "max_height": null,
            "max_width": null,
            "min_height": null,
            "min_width": null,
            "object_fit": null,
            "object_position": null,
            "order": null,
            "overflow": null,
            "overflow_x": null,
            "overflow_y": null,
            "padding": null,
            "right": null,
            "top": null,
            "visibility": null,
            "width": null
          }
        },
        "d8b1a664963744f2862bbd738bb4c628": {
          "model_module": "@jupyter-widgets/controls",
          "model_name": "DescriptionStyleModel",
          "model_module_version": "1.5.0",
          "state": {
            "_model_module": "@jupyter-widgets/controls",
            "_model_module_version": "1.5.0",
            "_model_name": "DescriptionStyleModel",
            "_view_count": null,
            "_view_module": "@jupyter-widgets/base",
            "_view_module_version": "1.2.0",
            "_view_name": "StyleView",
            "description_width": ""
          }
        },
        "363c9a4eb27d46fbba8bd666375281df": {
          "model_module": "@jupyter-widgets/controls",
          "model_name": "HBoxModel",
          "model_module_version": "1.5.0",
          "state": {
            "_dom_classes": [],
            "_model_module": "@jupyter-widgets/controls",
            "_model_module_version": "1.5.0",
            "_model_name": "HBoxModel",
            "_view_count": null,
            "_view_module": "@jupyter-widgets/controls",
            "_view_module_version": "1.5.0",
            "_view_name": "HBoxView",
            "box_style": "",
            "children": [
              "IPY_MODEL_53ea4ecadc844d70995e1643cf6f5f5d",
              "IPY_MODEL_7fac648506164914b0214e134a033323",
              "IPY_MODEL_770e2a0df92f4b1ebb7b7d3870d85c9c"
            ],
            "layout": "IPY_MODEL_863c38b7a6c946c8b04ba5ca1767c2d1"
          }
        },
        "53ea4ecadc844d70995e1643cf6f5f5d": {
          "model_module": "@jupyter-widgets/controls",
          "model_name": "HTMLModel",
          "model_module_version": "1.5.0",
          "state": {
            "_dom_classes": [],
            "_model_module": "@jupyter-widgets/controls",
            "_model_module_version": "1.5.0",
            "_model_name": "HTMLModel",
            "_view_count": null,
            "_view_module": "@jupyter-widgets/controls",
            "_view_module_version": "1.5.0",
            "_view_name": "HTMLView",
            "description": "",
            "description_tooltip": null,
            "layout": "IPY_MODEL_a754180fa98946169d0ac92594a836a5",
            "placeholder": "​",
            "style": "IPY_MODEL_3f434026019e42348964124e82b07ad0",
            "value": "Map: 100%"
          }
        },
        "7fac648506164914b0214e134a033323": {
          "model_module": "@jupyter-widgets/controls",
          "model_name": "FloatProgressModel",
          "model_module_version": "1.5.0",
          "state": {
            "_dom_classes": [],
            "_model_module": "@jupyter-widgets/controls",
            "_model_module_version": "1.5.0",
            "_model_name": "FloatProgressModel",
            "_view_count": null,
            "_view_module": "@jupyter-widgets/controls",
            "_view_module_version": "1.5.0",
            "_view_name": "ProgressView",
            "bar_style": "success",
            "description": "",
            "description_tooltip": null,
            "layout": "IPY_MODEL_d1d6541a01764440908a9b13cfc2c29b",
            "max": 9915,
            "min": 0,
            "orientation": "horizontal",
            "style": "IPY_MODEL_b8ac6a4b3c0641fa925392212ea0396a",
            "value": 9915
          }
        },
        "770e2a0df92f4b1ebb7b7d3870d85c9c": {
          "model_module": "@jupyter-widgets/controls",
          "model_name": "HTMLModel",
          "model_module_version": "1.5.0",
          "state": {
            "_dom_classes": [],
            "_model_module": "@jupyter-widgets/controls",
            "_model_module_version": "1.5.0",
            "_model_name": "HTMLModel",
            "_view_count": null,
            "_view_module": "@jupyter-widgets/controls",
            "_view_module_version": "1.5.0",
            "_view_name": "HTMLView",
            "description": "",
            "description_tooltip": null,
            "layout": "IPY_MODEL_15c4baa0887e42f38744d22025622d7c",
            "placeholder": "​",
            "style": "IPY_MODEL_f42b8b5a729c4839a4a0e89c95709b4e",
            "value": " 9915/9915 [00:09&lt;00:00, 1331.90 examples/s]"
          }
        },
        "863c38b7a6c946c8b04ba5ca1767c2d1": {
          "model_module": "@jupyter-widgets/base",
          "model_name": "LayoutModel",
          "model_module_version": "1.2.0",
          "state": {
            "_model_module": "@jupyter-widgets/base",
            "_model_module_version": "1.2.0",
            "_model_name": "LayoutModel",
            "_view_count": null,
            "_view_module": "@jupyter-widgets/base",
            "_view_module_version": "1.2.0",
            "_view_name": "LayoutView",
            "align_content": null,
            "align_items": null,
            "align_self": null,
            "border": null,
            "bottom": null,
            "display": null,
            "flex": null,
            "flex_flow": null,
            "grid_area": null,
            "grid_auto_columns": null,
            "grid_auto_flow": null,
            "grid_auto_rows": null,
            "grid_column": null,
            "grid_gap": null,
            "grid_row": null,
            "grid_template_areas": null,
            "grid_template_columns": null,
            "grid_template_rows": null,
            "height": null,
            "justify_content": null,
            "justify_items": null,
            "left": null,
            "margin": null,
            "max_height": null,
            "max_width": null,
            "min_height": null,
            "min_width": null,
            "object_fit": null,
            "object_position": null,
            "order": null,
            "overflow": null,
            "overflow_x": null,
            "overflow_y": null,
            "padding": null,
            "right": null,
            "top": null,
            "visibility": null,
            "width": null
          }
        },
        "a754180fa98946169d0ac92594a836a5": {
          "model_module": "@jupyter-widgets/base",
          "model_name": "LayoutModel",
          "model_module_version": "1.2.0",
          "state": {
            "_model_module": "@jupyter-widgets/base",
            "_model_module_version": "1.2.0",
            "_model_name": "LayoutModel",
            "_view_count": null,
            "_view_module": "@jupyter-widgets/base",
            "_view_module_version": "1.2.0",
            "_view_name": "LayoutView",
            "align_content": null,
            "align_items": null,
            "align_self": null,
            "border": null,
            "bottom": null,
            "display": null,
            "flex": null,
            "flex_flow": null,
            "grid_area": null,
            "grid_auto_columns": null,
            "grid_auto_flow": null,
            "grid_auto_rows": null,
            "grid_column": null,
            "grid_gap": null,
            "grid_row": null,
            "grid_template_areas": null,
            "grid_template_columns": null,
            "grid_template_rows": null,
            "height": null,
            "justify_content": null,
            "justify_items": null,
            "left": null,
            "margin": null,
            "max_height": null,
            "max_width": null,
            "min_height": null,
            "min_width": null,
            "object_fit": null,
            "object_position": null,
            "order": null,
            "overflow": null,
            "overflow_x": null,
            "overflow_y": null,
            "padding": null,
            "right": null,
            "top": null,
            "visibility": null,
            "width": null
          }
        },
        "3f434026019e42348964124e82b07ad0": {
          "model_module": "@jupyter-widgets/controls",
          "model_name": "DescriptionStyleModel",
          "model_module_version": "1.5.0",
          "state": {
            "_model_module": "@jupyter-widgets/controls",
            "_model_module_version": "1.5.0",
            "_model_name": "DescriptionStyleModel",
            "_view_count": null,
            "_view_module": "@jupyter-widgets/base",
            "_view_module_version": "1.2.0",
            "_view_name": "StyleView",
            "description_width": ""
          }
        },
        "d1d6541a01764440908a9b13cfc2c29b": {
          "model_module": "@jupyter-widgets/base",
          "model_name": "LayoutModel",
          "model_module_version": "1.2.0",
          "state": {
            "_model_module": "@jupyter-widgets/base",
            "_model_module_version": "1.2.0",
            "_model_name": "LayoutModel",
            "_view_count": null,
            "_view_module": "@jupyter-widgets/base",
            "_view_module_version": "1.2.0",
            "_view_name": "LayoutView",
            "align_content": null,
            "align_items": null,
            "align_self": null,
            "border": null,
            "bottom": null,
            "display": null,
            "flex": null,
            "flex_flow": null,
            "grid_area": null,
            "grid_auto_columns": null,
            "grid_auto_flow": null,
            "grid_auto_rows": null,
            "grid_column": null,
            "grid_gap": null,
            "grid_row": null,
            "grid_template_areas": null,
            "grid_template_columns": null,
            "grid_template_rows": null,
            "height": null,
            "justify_content": null,
            "justify_items": null,
            "left": null,
            "margin": null,
            "max_height": null,
            "max_width": null,
            "min_height": null,
            "min_width": null,
            "object_fit": null,
            "object_position": null,
            "order": null,
            "overflow": null,
            "overflow_x": null,
            "overflow_y": null,
            "padding": null,
            "right": null,
            "top": null,
            "visibility": null,
            "width": null
          }
        },
        "b8ac6a4b3c0641fa925392212ea0396a": {
          "model_module": "@jupyter-widgets/controls",
          "model_name": "ProgressStyleModel",
          "model_module_version": "1.5.0",
          "state": {
            "_model_module": "@jupyter-widgets/controls",
            "_model_module_version": "1.5.0",
            "_model_name": "ProgressStyleModel",
            "_view_count": null,
            "_view_module": "@jupyter-widgets/base",
            "_view_module_version": "1.2.0",
            "_view_name": "StyleView",
            "bar_color": null,
            "description_width": ""
          }
        },
        "15c4baa0887e42f38744d22025622d7c": {
          "model_module": "@jupyter-widgets/base",
          "model_name": "LayoutModel",
          "model_module_version": "1.2.0",
          "state": {
            "_model_module": "@jupyter-widgets/base",
            "_model_module_version": "1.2.0",
            "_model_name": "LayoutModel",
            "_view_count": null,
            "_view_module": "@jupyter-widgets/base",
            "_view_module_version": "1.2.0",
            "_view_name": "LayoutView",
            "align_content": null,
            "align_items": null,
            "align_self": null,
            "border": null,
            "bottom": null,
            "display": null,
            "flex": null,
            "flex_flow": null,
            "grid_area": null,
            "grid_auto_columns": null,
            "grid_auto_flow": null,
            "grid_auto_rows": null,
            "grid_column": null,
            "grid_gap": null,
            "grid_row": null,
            "grid_template_areas": null,
            "grid_template_columns": null,
            "grid_template_rows": null,
            "height": null,
            "justify_content": null,
            "justify_items": null,
            "left": null,
            "margin": null,
            "max_height": null,
            "max_width": null,
            "min_height": null,
            "min_width": null,
            "object_fit": null,
            "object_position": null,
            "order": null,
            "overflow": null,
            "overflow_x": null,
            "overflow_y": null,
            "padding": null,
            "right": null,
            "top": null,
            "visibility": null,
            "width": null
          }
        },
        "f42b8b5a729c4839a4a0e89c95709b4e": {
          "model_module": "@jupyter-widgets/controls",
          "model_name": "DescriptionStyleModel",
          "model_module_version": "1.5.0",
          "state": {
            "_model_module": "@jupyter-widgets/controls",
            "_model_module_version": "1.5.0",
            "_model_name": "DescriptionStyleModel",
            "_view_count": null,
            "_view_module": "@jupyter-widgets/base",
            "_view_module_version": "1.2.0",
            "_view_name": "StyleView",
            "description_width": ""
          }
        },
        "9a7e59cfed29410883b3b6ae7da394ec": {
          "model_module": "@jupyter-widgets/controls",
          "model_name": "HBoxModel",
          "model_module_version": "1.5.0",
          "state": {
            "_dom_classes": [],
            "_model_module": "@jupyter-widgets/controls",
            "_model_module_version": "1.5.0",
            "_model_name": "HBoxModel",
            "_view_count": null,
            "_view_module": "@jupyter-widgets/controls",
            "_view_module_version": "1.5.0",
            "_view_name": "HBoxView",
            "box_style": "",
            "children": [
              "IPY_MODEL_92ba795107b94be1860c86e2fd14a8cc",
              "IPY_MODEL_30408d37a1fd4406b7a6d09284918b74",
              "IPY_MODEL_bd7cdb7717944ee589afd491d13a9cbe"
            ],
            "layout": "IPY_MODEL_a7436b3921f04d239fb9eb1dbede7562"
          }
        },
        "92ba795107b94be1860c86e2fd14a8cc": {
          "model_module": "@jupyter-widgets/controls",
          "model_name": "HTMLModel",
          "model_module_version": "1.5.0",
          "state": {
            "_dom_classes": [],
            "_model_module": "@jupyter-widgets/controls",
            "_model_module_version": "1.5.0",
            "_model_name": "HTMLModel",
            "_view_count": null,
            "_view_module": "@jupyter-widgets/controls",
            "_view_module_version": "1.5.0",
            "_view_name": "HTMLView",
            "description": "",
            "description_tooltip": null,
            "layout": "IPY_MODEL_fa5f1016e57041238968b1eda1db29c9",
            "placeholder": "​",
            "style": "IPY_MODEL_58b96207534e4573ade2099e6a05579d",
            "value": "tokenizer_config.json: 100%"
          }
        },
        "30408d37a1fd4406b7a6d09284918b74": {
          "model_module": "@jupyter-widgets/controls",
          "model_name": "FloatProgressModel",
          "model_module_version": "1.5.0",
          "state": {
            "_dom_classes": [],
            "_model_module": "@jupyter-widgets/controls",
            "_model_module_version": "1.5.0",
            "_model_name": "FloatProgressModel",
            "_view_count": null,
            "_view_module": "@jupyter-widgets/controls",
            "_view_module_version": "1.5.0",
            "_view_name": "ProgressView",
            "bar_style": "success",
            "description": "",
            "description_tooltip": null,
            "layout": "IPY_MODEL_a6f83555680b41ddb208a8995dcef534",
            "max": 2324,
            "min": 0,
            "orientation": "horizontal",
            "style": "IPY_MODEL_df78710894d64574a661851c475db07b",
            "value": 2324
          }
        },
        "bd7cdb7717944ee589afd491d13a9cbe": {
          "model_module": "@jupyter-widgets/controls",
          "model_name": "HTMLModel",
          "model_module_version": "1.5.0",
          "state": {
            "_dom_classes": [],
            "_model_module": "@jupyter-widgets/controls",
            "_model_module_version": "1.5.0",
            "_model_name": "HTMLModel",
            "_view_count": null,
            "_view_module": "@jupyter-widgets/controls",
            "_view_module_version": "1.5.0",
            "_view_name": "HTMLView",
            "description": "",
            "description_tooltip": null,
            "layout": "IPY_MODEL_39157e1c98c84ee790ad87f13f781c3f",
            "placeholder": "​",
            "style": "IPY_MODEL_2e393f1dd9ea46e6b4b8a12f0d586100",
            "value": " 2.32k/2.32k [00:00&lt;00:00, 52.0kB/s]"
          }
        },
        "a7436b3921f04d239fb9eb1dbede7562": {
          "model_module": "@jupyter-widgets/base",
          "model_name": "LayoutModel",
          "model_module_version": "1.2.0",
          "state": {
            "_model_module": "@jupyter-widgets/base",
            "_model_module_version": "1.2.0",
            "_model_name": "LayoutModel",
            "_view_count": null,
            "_view_module": "@jupyter-widgets/base",
            "_view_module_version": "1.2.0",
            "_view_name": "LayoutView",
            "align_content": null,
            "align_items": null,
            "align_self": null,
            "border": null,
            "bottom": null,
            "display": null,
            "flex": null,
            "flex_flow": null,
            "grid_area": null,
            "grid_auto_columns": null,
            "grid_auto_flow": null,
            "grid_auto_rows": null,
            "grid_column": null,
            "grid_gap": null,
            "grid_row": null,
            "grid_template_areas": null,
            "grid_template_columns": null,
            "grid_template_rows": null,
            "height": null,
            "justify_content": null,
            "justify_items": null,
            "left": null,
            "margin": null,
            "max_height": null,
            "max_width": null,
            "min_height": null,
            "min_width": null,
            "object_fit": null,
            "object_position": null,
            "order": null,
            "overflow": null,
            "overflow_x": null,
            "overflow_y": null,
            "padding": null,
            "right": null,
            "top": null,
            "visibility": null,
            "width": null
          }
        },
        "fa5f1016e57041238968b1eda1db29c9": {
          "model_module": "@jupyter-widgets/base",
          "model_name": "LayoutModel",
          "model_module_version": "1.2.0",
          "state": {
            "_model_module": "@jupyter-widgets/base",
            "_model_module_version": "1.2.0",
            "_model_name": "LayoutModel",
            "_view_count": null,
            "_view_module": "@jupyter-widgets/base",
            "_view_module_version": "1.2.0",
            "_view_name": "LayoutView",
            "align_content": null,
            "align_items": null,
            "align_self": null,
            "border": null,
            "bottom": null,
            "display": null,
            "flex": null,
            "flex_flow": null,
            "grid_area": null,
            "grid_auto_columns": null,
            "grid_auto_flow": null,
            "grid_auto_rows": null,
            "grid_column": null,
            "grid_gap": null,
            "grid_row": null,
            "grid_template_areas": null,
            "grid_template_columns": null,
            "grid_template_rows": null,
            "height": null,
            "justify_content": null,
            "justify_items": null,
            "left": null,
            "margin": null,
            "max_height": null,
            "max_width": null,
            "min_height": null,
            "min_width": null,
            "object_fit": null,
            "object_position": null,
            "order": null,
            "overflow": null,
            "overflow_x": null,
            "overflow_y": null,
            "padding": null,
            "right": null,
            "top": null,
            "visibility": null,
            "width": null
          }
        },
        "58b96207534e4573ade2099e6a05579d": {
          "model_module": "@jupyter-widgets/controls",
          "model_name": "DescriptionStyleModel",
          "model_module_version": "1.5.0",
          "state": {
            "_model_module": "@jupyter-widgets/controls",
            "_model_module_version": "1.5.0",
            "_model_name": "DescriptionStyleModel",
            "_view_count": null,
            "_view_module": "@jupyter-widgets/base",
            "_view_module_version": "1.2.0",
            "_view_name": "StyleView",
            "description_width": ""
          }
        },
        "a6f83555680b41ddb208a8995dcef534": {
          "model_module": "@jupyter-widgets/base",
          "model_name": "LayoutModel",
          "model_module_version": "1.2.0",
          "state": {
            "_model_module": "@jupyter-widgets/base",
            "_model_module_version": "1.2.0",
            "_model_name": "LayoutModel",
            "_view_count": null,
            "_view_module": "@jupyter-widgets/base",
            "_view_module_version": "1.2.0",
            "_view_name": "LayoutView",
            "align_content": null,
            "align_items": null,
            "align_self": null,
            "border": null,
            "bottom": null,
            "display": null,
            "flex": null,
            "flex_flow": null,
            "grid_area": null,
            "grid_auto_columns": null,
            "grid_auto_flow": null,
            "grid_auto_rows": null,
            "grid_column": null,
            "grid_gap": null,
            "grid_row": null,
            "grid_template_areas": null,
            "grid_template_columns": null,
            "grid_template_rows": null,
            "height": null,
            "justify_content": null,
            "justify_items": null,
            "left": null,
            "margin": null,
            "max_height": null,
            "max_width": null,
            "min_height": null,
            "min_width": null,
            "object_fit": null,
            "object_position": null,
            "order": null,
            "overflow": null,
            "overflow_x": null,
            "overflow_y": null,
            "padding": null,
            "right": null,
            "top": null,
            "visibility": null,
            "width": null
          }
        },
        "df78710894d64574a661851c475db07b": {
          "model_module": "@jupyter-widgets/controls",
          "model_name": "ProgressStyleModel",
          "model_module_version": "1.5.0",
          "state": {
            "_model_module": "@jupyter-widgets/controls",
            "_model_module_version": "1.5.0",
            "_model_name": "ProgressStyleModel",
            "_view_count": null,
            "_view_module": "@jupyter-widgets/base",
            "_view_module_version": "1.2.0",
            "_view_name": "StyleView",
            "bar_color": null,
            "description_width": ""
          }
        },
        "39157e1c98c84ee790ad87f13f781c3f": {
          "model_module": "@jupyter-widgets/base",
          "model_name": "LayoutModel",
          "model_module_version": "1.2.0",
          "state": {
            "_model_module": "@jupyter-widgets/base",
            "_model_module_version": "1.2.0",
            "_model_name": "LayoutModel",
            "_view_count": null,
            "_view_module": "@jupyter-widgets/base",
            "_view_module_version": "1.2.0",
            "_view_name": "LayoutView",
            "align_content": null,
            "align_items": null,
            "align_self": null,
            "border": null,
            "bottom": null,
            "display": null,
            "flex": null,
            "flex_flow": null,
            "grid_area": null,
            "grid_auto_columns": null,
            "grid_auto_flow": null,
            "grid_auto_rows": null,
            "grid_column": null,
            "grid_gap": null,
            "grid_row": null,
            "grid_template_areas": null,
            "grid_template_columns": null,
            "grid_template_rows": null,
            "height": null,
            "justify_content": null,
            "justify_items": null,
            "left": null,
            "margin": null,
            "max_height": null,
            "max_width": null,
            "min_height": null,
            "min_width": null,
            "object_fit": null,
            "object_position": null,
            "order": null,
            "overflow": null,
            "overflow_x": null,
            "overflow_y": null,
            "padding": null,
            "right": null,
            "top": null,
            "visibility": null,
            "width": null
          }
        },
        "2e393f1dd9ea46e6b4b8a12f0d586100": {
          "model_module": "@jupyter-widgets/controls",
          "model_name": "DescriptionStyleModel",
          "model_module_version": "1.5.0",
          "state": {
            "_model_module": "@jupyter-widgets/controls",
            "_model_module_version": "1.5.0",
            "_model_name": "DescriptionStyleModel",
            "_view_count": null,
            "_view_module": "@jupyter-widgets/base",
            "_view_module_version": "1.2.0",
            "_view_name": "StyleView",
            "description_width": ""
          }
        },
        "58f8930c3bad4238b18b60ce432a81b3": {
          "model_module": "@jupyter-widgets/controls",
          "model_name": "HBoxModel",
          "model_module_version": "1.5.0",
          "state": {
            "_dom_classes": [],
            "_model_module": "@jupyter-widgets/controls",
            "_model_module_version": "1.5.0",
            "_model_name": "HBoxModel",
            "_view_count": null,
            "_view_module": "@jupyter-widgets/controls",
            "_view_module_version": "1.5.0",
            "_view_name": "HBoxView",
            "box_style": "",
            "children": [
              "IPY_MODEL_f543923b7c584c84ba51351632a034bd",
              "IPY_MODEL_591ea174a9f34dd1aa35d460492db890",
              "IPY_MODEL_1352aaeed9dd4991b611347341eff58a"
            ],
            "layout": "IPY_MODEL_d757b6b0d97d421491fbed093e66beec"
          }
        },
        "f543923b7c584c84ba51351632a034bd": {
          "model_module": "@jupyter-widgets/controls",
          "model_name": "HTMLModel",
          "model_module_version": "1.5.0",
          "state": {
            "_dom_classes": [],
            "_model_module": "@jupyter-widgets/controls",
            "_model_module_version": "1.5.0",
            "_model_name": "HTMLModel",
            "_view_count": null,
            "_view_module": "@jupyter-widgets/controls",
            "_view_module_version": "1.5.0",
            "_view_name": "HTMLView",
            "description": "",
            "description_tooltip": null,
            "layout": "IPY_MODEL_61514cdd03d84ede93d1bc8f8d1ee35a",
            "placeholder": "​",
            "style": "IPY_MODEL_f43a866ef5e045a282cf95fad0ebc7ca",
            "value": "spiece.model: 100%"
          }
        },
        "591ea174a9f34dd1aa35d460492db890": {
          "model_module": "@jupyter-widgets/controls",
          "model_name": "FloatProgressModel",
          "model_module_version": "1.5.0",
          "state": {
            "_dom_classes": [],
            "_model_module": "@jupyter-widgets/controls",
            "_model_module_version": "1.5.0",
            "_model_name": "FloatProgressModel",
            "_view_count": null,
            "_view_module": "@jupyter-widgets/controls",
            "_view_module_version": "1.5.0",
            "_view_name": "ProgressView",
            "bar_style": "success",
            "description": "",
            "description_tooltip": null,
            "layout": "IPY_MODEL_76403d67f80148deae2765d20faf7969",
            "max": 791656,
            "min": 0,
            "orientation": "horizontal",
            "style": "IPY_MODEL_74f22993698c4efa9301b2cde35e5600",
            "value": 791656
          }
        },
        "1352aaeed9dd4991b611347341eff58a": {
          "model_module": "@jupyter-widgets/controls",
          "model_name": "HTMLModel",
          "model_module_version": "1.5.0",
          "state": {
            "_dom_classes": [],
            "_model_module": "@jupyter-widgets/controls",
            "_model_module_version": "1.5.0",
            "_model_name": "HTMLModel",
            "_view_count": null,
            "_view_module": "@jupyter-widgets/controls",
            "_view_module_version": "1.5.0",
            "_view_name": "HTMLView",
            "description": "",
            "description_tooltip": null,
            "layout": "IPY_MODEL_a07bf79560dc41708f795f08b0ef0499",
            "placeholder": "​",
            "style": "IPY_MODEL_385124c9cdaa48f0bc3b564d51958baa",
            "value": " 792k/792k [00:00&lt;00:00, 1.12MB/s]"
          }
        },
        "d757b6b0d97d421491fbed093e66beec": {
          "model_module": "@jupyter-widgets/base",
          "model_name": "LayoutModel",
          "model_module_version": "1.2.0",
          "state": {
            "_model_module": "@jupyter-widgets/base",
            "_model_module_version": "1.2.0",
            "_model_name": "LayoutModel",
            "_view_count": null,
            "_view_module": "@jupyter-widgets/base",
            "_view_module_version": "1.2.0",
            "_view_name": "LayoutView",
            "align_content": null,
            "align_items": null,
            "align_self": null,
            "border": null,
            "bottom": null,
            "display": null,
            "flex": null,
            "flex_flow": null,
            "grid_area": null,
            "grid_auto_columns": null,
            "grid_auto_flow": null,
            "grid_auto_rows": null,
            "grid_column": null,
            "grid_gap": null,
            "grid_row": null,
            "grid_template_areas": null,
            "grid_template_columns": null,
            "grid_template_rows": null,
            "height": null,
            "justify_content": null,
            "justify_items": null,
            "left": null,
            "margin": null,
            "max_height": null,
            "max_width": null,
            "min_height": null,
            "min_width": null,
            "object_fit": null,
            "object_position": null,
            "order": null,
            "overflow": null,
            "overflow_x": null,
            "overflow_y": null,
            "padding": null,
            "right": null,
            "top": null,
            "visibility": null,
            "width": null
          }
        },
        "61514cdd03d84ede93d1bc8f8d1ee35a": {
          "model_module": "@jupyter-widgets/base",
          "model_name": "LayoutModel",
          "model_module_version": "1.2.0",
          "state": {
            "_model_module": "@jupyter-widgets/base",
            "_model_module_version": "1.2.0",
            "_model_name": "LayoutModel",
            "_view_count": null,
            "_view_module": "@jupyter-widgets/base",
            "_view_module_version": "1.2.0",
            "_view_name": "LayoutView",
            "align_content": null,
            "align_items": null,
            "align_self": null,
            "border": null,
            "bottom": null,
            "display": null,
            "flex": null,
            "flex_flow": null,
            "grid_area": null,
            "grid_auto_columns": null,
            "grid_auto_flow": null,
            "grid_auto_rows": null,
            "grid_column": null,
            "grid_gap": null,
            "grid_row": null,
            "grid_template_areas": null,
            "grid_template_columns": null,
            "grid_template_rows": null,
            "height": null,
            "justify_content": null,
            "justify_items": null,
            "left": null,
            "margin": null,
            "max_height": null,
            "max_width": null,
            "min_height": null,
            "min_width": null,
            "object_fit": null,
            "object_position": null,
            "order": null,
            "overflow": null,
            "overflow_x": null,
            "overflow_y": null,
            "padding": null,
            "right": null,
            "top": null,
            "visibility": null,
            "width": null
          }
        },
        "f43a866ef5e045a282cf95fad0ebc7ca": {
          "model_module": "@jupyter-widgets/controls",
          "model_name": "DescriptionStyleModel",
          "model_module_version": "1.5.0",
          "state": {
            "_model_module": "@jupyter-widgets/controls",
            "_model_module_version": "1.5.0",
            "_model_name": "DescriptionStyleModel",
            "_view_count": null,
            "_view_module": "@jupyter-widgets/base",
            "_view_module_version": "1.2.0",
            "_view_name": "StyleView",
            "description_width": ""
          }
        },
        "76403d67f80148deae2765d20faf7969": {
          "model_module": "@jupyter-widgets/base",
          "model_name": "LayoutModel",
          "model_module_version": "1.2.0",
          "state": {
            "_model_module": "@jupyter-widgets/base",
            "_model_module_version": "1.2.0",
            "_model_name": "LayoutModel",
            "_view_count": null,
            "_view_module": "@jupyter-widgets/base",
            "_view_module_version": "1.2.0",
            "_view_name": "LayoutView",
            "align_content": null,
            "align_items": null,
            "align_self": null,
            "border": null,
            "bottom": null,
            "display": null,
            "flex": null,
            "flex_flow": null,
            "grid_area": null,
            "grid_auto_columns": null,
            "grid_auto_flow": null,
            "grid_auto_rows": null,
            "grid_column": null,
            "grid_gap": null,
            "grid_row": null,
            "grid_template_areas": null,
            "grid_template_columns": null,
            "grid_template_rows": null,
            "height": null,
            "justify_content": null,
            "justify_items": null,
            "left": null,
            "margin": null,
            "max_height": null,
            "max_width": null,
            "min_height": null,
            "min_width": null,
            "object_fit": null,
            "object_position": null,
            "order": null,
            "overflow": null,
            "overflow_x": null,
            "overflow_y": null,
            "padding": null,
            "right": null,
            "top": null,
            "visibility": null,
            "width": null
          }
        },
        "74f22993698c4efa9301b2cde35e5600": {
          "model_module": "@jupyter-widgets/controls",
          "model_name": "ProgressStyleModel",
          "model_module_version": "1.5.0",
          "state": {
            "_model_module": "@jupyter-widgets/controls",
            "_model_module_version": "1.5.0",
            "_model_name": "ProgressStyleModel",
            "_view_count": null,
            "_view_module": "@jupyter-widgets/base",
            "_view_module_version": "1.2.0",
            "_view_name": "StyleView",
            "bar_color": null,
            "description_width": ""
          }
        },
        "a07bf79560dc41708f795f08b0ef0499": {
          "model_module": "@jupyter-widgets/base",
          "model_name": "LayoutModel",
          "model_module_version": "1.2.0",
          "state": {
            "_model_module": "@jupyter-widgets/base",
            "_model_module_version": "1.2.0",
            "_model_name": "LayoutModel",
            "_view_count": null,
            "_view_module": "@jupyter-widgets/base",
            "_view_module_version": "1.2.0",
            "_view_name": "LayoutView",
            "align_content": null,
            "align_items": null,
            "align_self": null,
            "border": null,
            "bottom": null,
            "display": null,
            "flex": null,
            "flex_flow": null,
            "grid_area": null,
            "grid_auto_columns": null,
            "grid_auto_flow": null,
            "grid_auto_rows": null,
            "grid_column": null,
            "grid_gap": null,
            "grid_row": null,
            "grid_template_areas": null,
            "grid_template_columns": null,
            "grid_template_rows": null,
            "height": null,
            "justify_content": null,
            "justify_items": null,
            "left": null,
            "margin": null,
            "max_height": null,
            "max_width": null,
            "min_height": null,
            "min_width": null,
            "object_fit": null,
            "object_position": null,
            "order": null,
            "overflow": null,
            "overflow_x": null,
            "overflow_y": null,
            "padding": null,
            "right": null,
            "top": null,
            "visibility": null,
            "width": null
          }
        },
        "385124c9cdaa48f0bc3b564d51958baa": {
          "model_module": "@jupyter-widgets/controls",
          "model_name": "DescriptionStyleModel",
          "model_module_version": "1.5.0",
          "state": {
            "_model_module": "@jupyter-widgets/controls",
            "_model_module_version": "1.5.0",
            "_model_name": "DescriptionStyleModel",
            "_view_count": null,
            "_view_module": "@jupyter-widgets/base",
            "_view_module_version": "1.2.0",
            "_view_name": "StyleView",
            "description_width": ""
          }
        },
        "eba595c32a084629bfe1fdc1e71d69d1": {
          "model_module": "@jupyter-widgets/controls",
          "model_name": "HBoxModel",
          "model_module_version": "1.5.0",
          "state": {
            "_dom_classes": [],
            "_model_module": "@jupyter-widgets/controls",
            "_model_module_version": "1.5.0",
            "_model_name": "HBoxModel",
            "_view_count": null,
            "_view_module": "@jupyter-widgets/controls",
            "_view_module_version": "1.5.0",
            "_view_name": "HBoxView",
            "box_style": "",
            "children": [
              "IPY_MODEL_c213f40b349b4f6397faa43c49f9ecd5",
              "IPY_MODEL_69de7807cd3c404cadfb904407b53f42",
              "IPY_MODEL_62923653c9184b9eb565b008b12c6383"
            ],
            "layout": "IPY_MODEL_3896db7630044e23ad78095548de831b"
          }
        },
        "c213f40b349b4f6397faa43c49f9ecd5": {
          "model_module": "@jupyter-widgets/controls",
          "model_name": "HTMLModel",
          "model_module_version": "1.5.0",
          "state": {
            "_dom_classes": [],
            "_model_module": "@jupyter-widgets/controls",
            "_model_module_version": "1.5.0",
            "_model_name": "HTMLModel",
            "_view_count": null,
            "_view_module": "@jupyter-widgets/controls",
            "_view_module_version": "1.5.0",
            "_view_name": "HTMLView",
            "description": "",
            "description_tooltip": null,
            "layout": "IPY_MODEL_164560e7b37649c5806f090ae2084850",
            "placeholder": "​",
            "style": "IPY_MODEL_839b271bc7d147768e5a4755e85c79c7",
            "value": "tokenizer.json: 100%"
          }
        },
        "69de7807cd3c404cadfb904407b53f42": {
          "model_module": "@jupyter-widgets/controls",
          "model_name": "FloatProgressModel",
          "model_module_version": "1.5.0",
          "state": {
            "_dom_classes": [],
            "_model_module": "@jupyter-widgets/controls",
            "_model_module_version": "1.5.0",
            "_model_name": "FloatProgressModel",
            "_view_count": null,
            "_view_module": "@jupyter-widgets/controls",
            "_view_module_version": "1.5.0",
            "_view_name": "ProgressView",
            "bar_style": "success",
            "description": "",
            "description_tooltip": null,
            "layout": "IPY_MODEL_7c98b0035ec7427ca00a08812b04adbd",
            "max": 1389353,
            "min": 0,
            "orientation": "horizontal",
            "style": "IPY_MODEL_54fbc9a767b94036aef79cbd7f6fc6aa",
            "value": 1389353
          }
        },
        "62923653c9184b9eb565b008b12c6383": {
          "model_module": "@jupyter-widgets/controls",
          "model_name": "HTMLModel",
          "model_module_version": "1.5.0",
          "state": {
            "_dom_classes": [],
            "_model_module": "@jupyter-widgets/controls",
            "_model_module_version": "1.5.0",
            "_model_name": "HTMLModel",
            "_view_count": null,
            "_view_module": "@jupyter-widgets/controls",
            "_view_module_version": "1.5.0",
            "_view_name": "HTMLView",
            "description": "",
            "description_tooltip": null,
            "layout": "IPY_MODEL_164417f584d943df94b56c87c06e350e",
            "placeholder": "​",
            "style": "IPY_MODEL_f2055dae1ee5452d8c3256a36b388766",
            "value": " 1.39M/1.39M [00:00&lt;00:00, 1.98MB/s]"
          }
        },
        "3896db7630044e23ad78095548de831b": {
          "model_module": "@jupyter-widgets/base",
          "model_name": "LayoutModel",
          "model_module_version": "1.2.0",
          "state": {
            "_model_module": "@jupyter-widgets/base",
            "_model_module_version": "1.2.0",
            "_model_name": "LayoutModel",
            "_view_count": null,
            "_view_module": "@jupyter-widgets/base",
            "_view_module_version": "1.2.0",
            "_view_name": "LayoutView",
            "align_content": null,
            "align_items": null,
            "align_self": null,
            "border": null,
            "bottom": null,
            "display": null,
            "flex": null,
            "flex_flow": null,
            "grid_area": null,
            "grid_auto_columns": null,
            "grid_auto_flow": null,
            "grid_auto_rows": null,
            "grid_column": null,
            "grid_gap": null,
            "grid_row": null,
            "grid_template_areas": null,
            "grid_template_columns": null,
            "grid_template_rows": null,
            "height": null,
            "justify_content": null,
            "justify_items": null,
            "left": null,
            "margin": null,
            "max_height": null,
            "max_width": null,
            "min_height": null,
            "min_width": null,
            "object_fit": null,
            "object_position": null,
            "order": null,
            "overflow": null,
            "overflow_x": null,
            "overflow_y": null,
            "padding": null,
            "right": null,
            "top": null,
            "visibility": null,
            "width": null
          }
        },
        "164560e7b37649c5806f090ae2084850": {
          "model_module": "@jupyter-widgets/base",
          "model_name": "LayoutModel",
          "model_module_version": "1.2.0",
          "state": {
            "_model_module": "@jupyter-widgets/base",
            "_model_module_version": "1.2.0",
            "_model_name": "LayoutModel",
            "_view_count": null,
            "_view_module": "@jupyter-widgets/base",
            "_view_module_version": "1.2.0",
            "_view_name": "LayoutView",
            "align_content": null,
            "align_items": null,
            "align_self": null,
            "border": null,
            "bottom": null,
            "display": null,
            "flex": null,
            "flex_flow": null,
            "grid_area": null,
            "grid_auto_columns": null,
            "grid_auto_flow": null,
            "grid_auto_rows": null,
            "grid_column": null,
            "grid_gap": null,
            "grid_row": null,
            "grid_template_areas": null,
            "grid_template_columns": null,
            "grid_template_rows": null,
            "height": null,
            "justify_content": null,
            "justify_items": null,
            "left": null,
            "margin": null,
            "max_height": null,
            "max_width": null,
            "min_height": null,
            "min_width": null,
            "object_fit": null,
            "object_position": null,
            "order": null,
            "overflow": null,
            "overflow_x": null,
            "overflow_y": null,
            "padding": null,
            "right": null,
            "top": null,
            "visibility": null,
            "width": null
          }
        },
        "839b271bc7d147768e5a4755e85c79c7": {
          "model_module": "@jupyter-widgets/controls",
          "model_name": "DescriptionStyleModel",
          "model_module_version": "1.5.0",
          "state": {
            "_model_module": "@jupyter-widgets/controls",
            "_model_module_version": "1.5.0",
            "_model_name": "DescriptionStyleModel",
            "_view_count": null,
            "_view_module": "@jupyter-widgets/base",
            "_view_module_version": "1.2.0",
            "_view_name": "StyleView",
            "description_width": ""
          }
        },
        "7c98b0035ec7427ca00a08812b04adbd": {
          "model_module": "@jupyter-widgets/base",
          "model_name": "LayoutModel",
          "model_module_version": "1.2.0",
          "state": {
            "_model_module": "@jupyter-widgets/base",
            "_model_module_version": "1.2.0",
            "_model_name": "LayoutModel",
            "_view_count": null,
            "_view_module": "@jupyter-widgets/base",
            "_view_module_version": "1.2.0",
            "_view_name": "LayoutView",
            "align_content": null,
            "align_items": null,
            "align_self": null,
            "border": null,
            "bottom": null,
            "display": null,
            "flex": null,
            "flex_flow": null,
            "grid_area": null,
            "grid_auto_columns": null,
            "grid_auto_flow": null,
            "grid_auto_rows": null,
            "grid_column": null,
            "grid_gap": null,
            "grid_row": null,
            "grid_template_areas": null,
            "grid_template_columns": null,
            "grid_template_rows": null,
            "height": null,
            "justify_content": null,
            "justify_items": null,
            "left": null,
            "margin": null,
            "max_height": null,
            "max_width": null,
            "min_height": null,
            "min_width": null,
            "object_fit": null,
            "object_position": null,
            "order": null,
            "overflow": null,
            "overflow_x": null,
            "overflow_y": null,
            "padding": null,
            "right": null,
            "top": null,
            "visibility": null,
            "width": null
          }
        },
        "54fbc9a767b94036aef79cbd7f6fc6aa": {
          "model_module": "@jupyter-widgets/controls",
          "model_name": "ProgressStyleModel",
          "model_module_version": "1.5.0",
          "state": {
            "_model_module": "@jupyter-widgets/controls",
            "_model_module_version": "1.5.0",
            "_model_name": "ProgressStyleModel",
            "_view_count": null,
            "_view_module": "@jupyter-widgets/base",
            "_view_module_version": "1.2.0",
            "_view_name": "StyleView",
            "bar_color": null,
            "description_width": ""
          }
        },
        "164417f584d943df94b56c87c06e350e": {
          "model_module": "@jupyter-widgets/base",
          "model_name": "LayoutModel",
          "model_module_version": "1.2.0",
          "state": {
            "_model_module": "@jupyter-widgets/base",
            "_model_module_version": "1.2.0",
            "_model_name": "LayoutModel",
            "_view_count": null,
            "_view_module": "@jupyter-widgets/base",
            "_view_module_version": "1.2.0",
            "_view_name": "LayoutView",
            "align_content": null,
            "align_items": null,
            "align_self": null,
            "border": null,
            "bottom": null,
            "display": null,
            "flex": null,
            "flex_flow": null,
            "grid_area": null,
            "grid_auto_columns": null,
            "grid_auto_flow": null,
            "grid_auto_rows": null,
            "grid_column": null,
            "grid_gap": null,
            "grid_row": null,
            "grid_template_areas": null,
            "grid_template_columns": null,
            "grid_template_rows": null,
            "height": null,
            "justify_content": null,
            "justify_items": null,
            "left": null,
            "margin": null,
            "max_height": null,
            "max_width": null,
            "min_height": null,
            "min_width": null,
            "object_fit": null,
            "object_position": null,
            "order": null,
            "overflow": null,
            "overflow_x": null,
            "overflow_y": null,
            "padding": null,
            "right": null,
            "top": null,
            "visibility": null,
            "width": null
          }
        },
        "f2055dae1ee5452d8c3256a36b388766": {
          "model_module": "@jupyter-widgets/controls",
          "model_name": "DescriptionStyleModel",
          "model_module_version": "1.5.0",
          "state": {
            "_model_module": "@jupyter-widgets/controls",
            "_model_module_version": "1.5.0",
            "_model_name": "DescriptionStyleModel",
            "_view_count": null,
            "_view_module": "@jupyter-widgets/base",
            "_view_module_version": "1.2.0",
            "_view_name": "StyleView",
            "description_width": ""
          }
        },
        "67293bb269504255b787ac24bef0a275": {
          "model_module": "@jupyter-widgets/controls",
          "model_name": "HBoxModel",
          "model_module_version": "1.5.0",
          "state": {
            "_dom_classes": [],
            "_model_module": "@jupyter-widgets/controls",
            "_model_module_version": "1.5.0",
            "_model_name": "HBoxModel",
            "_view_count": null,
            "_view_module": "@jupyter-widgets/controls",
            "_view_module_version": "1.5.0",
            "_view_name": "HBoxView",
            "box_style": "",
            "children": [
              "IPY_MODEL_7c0de935b0954e4297f1679ca28cfda7",
              "IPY_MODEL_c64b847dcb0644a0a5dea7d638a9d283",
              "IPY_MODEL_bb5931337d9043e9994a8e98ea8f48d5"
            ],
            "layout": "IPY_MODEL_cf97c111be394d91818f3a2a5cd77dd2"
          }
        },
        "7c0de935b0954e4297f1679ca28cfda7": {
          "model_module": "@jupyter-widgets/controls",
          "model_name": "HTMLModel",
          "model_module_version": "1.5.0",
          "state": {
            "_dom_classes": [],
            "_model_module": "@jupyter-widgets/controls",
            "_model_module_version": "1.5.0",
            "_model_name": "HTMLModel",
            "_view_count": null,
            "_view_module": "@jupyter-widgets/controls",
            "_view_module_version": "1.5.0",
            "_view_name": "HTMLView",
            "description": "",
            "description_tooltip": null,
            "layout": "IPY_MODEL_5ba061c236dd4223ba3736ae8ac390d1",
            "placeholder": "​",
            "style": "IPY_MODEL_de8cb77c177340ddae1e3c1d7d646dd4",
            "value": "Saving the dataset (4/4 shards): 100%"
          }
        },
        "c64b847dcb0644a0a5dea7d638a9d283": {
          "model_module": "@jupyter-widgets/controls",
          "model_name": "FloatProgressModel",
          "model_module_version": "1.5.0",
          "state": {
            "_dom_classes": [],
            "_model_module": "@jupyter-widgets/controls",
            "_model_module_version": "1.5.0",
            "_model_name": "FloatProgressModel",
            "_view_count": null,
            "_view_module": "@jupyter-widgets/controls",
            "_view_module_version": "1.5.0",
            "_view_name": "ProgressView",
            "bar_style": "success",
            "description": "",
            "description_tooltip": null,
            "layout": "IPY_MODEL_829955761cc6487aaa87262cced2c56c",
            "max": 39657,
            "min": 0,
            "orientation": "horizontal",
            "style": "IPY_MODEL_1497346891cf408f9da75917e163a3b8",
            "value": 39657
          }
        },
        "bb5931337d9043e9994a8e98ea8f48d5": {
          "model_module": "@jupyter-widgets/controls",
          "model_name": "HTMLModel",
          "model_module_version": "1.5.0",
          "state": {
            "_dom_classes": [],
            "_model_module": "@jupyter-widgets/controls",
            "_model_module_version": "1.5.0",
            "_model_name": "HTMLModel",
            "_view_count": null,
            "_view_module": "@jupyter-widgets/controls",
            "_view_module_version": "1.5.0",
            "_view_name": "HTMLView",
            "description": "",
            "description_tooltip": null,
            "layout": "IPY_MODEL_09c5cb8b132541e1a61d28117edbb009",
            "placeholder": "​",
            "style": "IPY_MODEL_0065e410f8ea41039cb8ac0c2741e921",
            "value": " 39657/39657 [00:23&lt;00:00, 2162.16 examples/s]"
          }
        },
        "cf97c111be394d91818f3a2a5cd77dd2": {
          "model_module": "@jupyter-widgets/base",
          "model_name": "LayoutModel",
          "model_module_version": "1.2.0",
          "state": {
            "_model_module": "@jupyter-widgets/base",
            "_model_module_version": "1.2.0",
            "_model_name": "LayoutModel",
            "_view_count": null,
            "_view_module": "@jupyter-widgets/base",
            "_view_module_version": "1.2.0",
            "_view_name": "LayoutView",
            "align_content": null,
            "align_items": null,
            "align_self": null,
            "border": null,
            "bottom": null,
            "display": null,
            "flex": null,
            "flex_flow": null,
            "grid_area": null,
            "grid_auto_columns": null,
            "grid_auto_flow": null,
            "grid_auto_rows": null,
            "grid_column": null,
            "grid_gap": null,
            "grid_row": null,
            "grid_template_areas": null,
            "grid_template_columns": null,
            "grid_template_rows": null,
            "height": null,
            "justify_content": null,
            "justify_items": null,
            "left": null,
            "margin": null,
            "max_height": null,
            "max_width": null,
            "min_height": null,
            "min_width": null,
            "object_fit": null,
            "object_position": null,
            "order": null,
            "overflow": null,
            "overflow_x": null,
            "overflow_y": null,
            "padding": null,
            "right": null,
            "top": null,
            "visibility": null,
            "width": null
          }
        },
        "5ba061c236dd4223ba3736ae8ac390d1": {
          "model_module": "@jupyter-widgets/base",
          "model_name": "LayoutModel",
          "model_module_version": "1.2.0",
          "state": {
            "_model_module": "@jupyter-widgets/base",
            "_model_module_version": "1.2.0",
            "_model_name": "LayoutModel",
            "_view_count": null,
            "_view_module": "@jupyter-widgets/base",
            "_view_module_version": "1.2.0",
            "_view_name": "LayoutView",
            "align_content": null,
            "align_items": null,
            "align_self": null,
            "border": null,
            "bottom": null,
            "display": null,
            "flex": null,
            "flex_flow": null,
            "grid_area": null,
            "grid_auto_columns": null,
            "grid_auto_flow": null,
            "grid_auto_rows": null,
            "grid_column": null,
            "grid_gap": null,
            "grid_row": null,
            "grid_template_areas": null,
            "grid_template_columns": null,
            "grid_template_rows": null,
            "height": null,
            "justify_content": null,
            "justify_items": null,
            "left": null,
            "margin": null,
            "max_height": null,
            "max_width": null,
            "min_height": null,
            "min_width": null,
            "object_fit": null,
            "object_position": null,
            "order": null,
            "overflow": null,
            "overflow_x": null,
            "overflow_y": null,
            "padding": null,
            "right": null,
            "top": null,
            "visibility": null,
            "width": null
          }
        },
        "de8cb77c177340ddae1e3c1d7d646dd4": {
          "model_module": "@jupyter-widgets/controls",
          "model_name": "DescriptionStyleModel",
          "model_module_version": "1.5.0",
          "state": {
            "_model_module": "@jupyter-widgets/controls",
            "_model_module_version": "1.5.0",
            "_model_name": "DescriptionStyleModel",
            "_view_count": null,
            "_view_module": "@jupyter-widgets/base",
            "_view_module_version": "1.2.0",
            "_view_name": "StyleView",
            "description_width": ""
          }
        },
        "829955761cc6487aaa87262cced2c56c": {
          "model_module": "@jupyter-widgets/base",
          "model_name": "LayoutModel",
          "model_module_version": "1.2.0",
          "state": {
            "_model_module": "@jupyter-widgets/base",
            "_model_module_version": "1.2.0",
            "_model_name": "LayoutModel",
            "_view_count": null,
            "_view_module": "@jupyter-widgets/base",
            "_view_module_version": "1.2.0",
            "_view_name": "LayoutView",
            "align_content": null,
            "align_items": null,
            "align_self": null,
            "border": null,
            "bottom": null,
            "display": null,
            "flex": null,
            "flex_flow": null,
            "grid_area": null,
            "grid_auto_columns": null,
            "grid_auto_flow": null,
            "grid_auto_rows": null,
            "grid_column": null,
            "grid_gap": null,
            "grid_row": null,
            "grid_template_areas": null,
            "grid_template_columns": null,
            "grid_template_rows": null,
            "height": null,
            "justify_content": null,
            "justify_items": null,
            "left": null,
            "margin": null,
            "max_height": null,
            "max_width": null,
            "min_height": null,
            "min_width": null,
            "object_fit": null,
            "object_position": null,
            "order": null,
            "overflow": null,
            "overflow_x": null,
            "overflow_y": null,
            "padding": null,
            "right": null,
            "top": null,
            "visibility": null,
            "width": null
          }
        },
        "1497346891cf408f9da75917e163a3b8": {
          "model_module": "@jupyter-widgets/controls",
          "model_name": "ProgressStyleModel",
          "model_module_version": "1.5.0",
          "state": {
            "_model_module": "@jupyter-widgets/controls",
            "_model_module_version": "1.5.0",
            "_model_name": "ProgressStyleModel",
            "_view_count": null,
            "_view_module": "@jupyter-widgets/base",
            "_view_module_version": "1.2.0",
            "_view_name": "StyleView",
            "bar_color": null,
            "description_width": ""
          }
        },
        "09c5cb8b132541e1a61d28117edbb009": {
          "model_module": "@jupyter-widgets/base",
          "model_name": "LayoutModel",
          "model_module_version": "1.2.0",
          "state": {
            "_model_module": "@jupyter-widgets/base",
            "_model_module_version": "1.2.0",
            "_model_name": "LayoutModel",
            "_view_count": null,
            "_view_module": "@jupyter-widgets/base",
            "_view_module_version": "1.2.0",
            "_view_name": "LayoutView",
            "align_content": null,
            "align_items": null,
            "align_self": null,
            "border": null,
            "bottom": null,
            "display": null,
            "flex": null,
            "flex_flow": null,
            "grid_area": null,
            "grid_auto_columns": null,
            "grid_auto_flow": null,
            "grid_auto_rows": null,
            "grid_column": null,
            "grid_gap": null,
            "grid_row": null,
            "grid_template_areas": null,
            "grid_template_columns": null,
            "grid_template_rows": null,
            "height": null,
            "justify_content": null,
            "justify_items": null,
            "left": null,
            "margin": null,
            "max_height": null,
            "max_width": null,
            "min_height": null,
            "min_width": null,
            "object_fit": null,
            "object_position": null,
            "order": null,
            "overflow": null,
            "overflow_x": null,
            "overflow_y": null,
            "padding": null,
            "right": null,
            "top": null,
            "visibility": null,
            "width": null
          }
        },
        "0065e410f8ea41039cb8ac0c2741e921": {
          "model_module": "@jupyter-widgets/controls",
          "model_name": "DescriptionStyleModel",
          "model_module_version": "1.5.0",
          "state": {
            "_model_module": "@jupyter-widgets/controls",
            "_model_module_version": "1.5.0",
            "_model_name": "DescriptionStyleModel",
            "_view_count": null,
            "_view_module": "@jupyter-widgets/base",
            "_view_module_version": "1.2.0",
            "_view_name": "StyleView",
            "description_width": ""
          }
        },
        "c3ed4e122f1345c3a43333155dd69c8d": {
          "model_module": "@jupyter-widgets/controls",
          "model_name": "HBoxModel",
          "model_module_version": "1.5.0",
          "state": {
            "_dom_classes": [],
            "_model_module": "@jupyter-widgets/controls",
            "_model_module_version": "1.5.0",
            "_model_name": "HBoxModel",
            "_view_count": null,
            "_view_module": "@jupyter-widgets/controls",
            "_view_module_version": "1.5.0",
            "_view_name": "HBoxView",
            "box_style": "",
            "children": [
              "IPY_MODEL_a859ee7c3f354ccf9563f7cb0ff1bcd9",
              "IPY_MODEL_3163f6c658ed4234aa2e46d9574c4112",
              "IPY_MODEL_1874af82aef64b1da6be66804e61706c"
            ],
            "layout": "IPY_MODEL_9c24567bf2fb4b12bc80fc1beb42f5dc"
          }
        },
        "a859ee7c3f354ccf9563f7cb0ff1bcd9": {
          "model_module": "@jupyter-widgets/controls",
          "model_name": "HTMLModel",
          "model_module_version": "1.5.0",
          "state": {
            "_dom_classes": [],
            "_model_module": "@jupyter-widgets/controls",
            "_model_module_version": "1.5.0",
            "_model_name": "HTMLModel",
            "_view_count": null,
            "_view_module": "@jupyter-widgets/controls",
            "_view_module_version": "1.5.0",
            "_view_name": "HTMLView",
            "description": "",
            "description_tooltip": null,
            "layout": "IPY_MODEL_4958de1a34564a0e91641f003bb3f37a",
            "placeholder": "​",
            "style": "IPY_MODEL_a8bb37a5a0db4e7f9a76cedf4ee332b0",
            "value": "Saving the dataset (1/1 shards): 100%"
          }
        },
        "3163f6c658ed4234aa2e46d9574c4112": {
          "model_module": "@jupyter-widgets/controls",
          "model_name": "FloatProgressModel",
          "model_module_version": "1.5.0",
          "state": {
            "_dom_classes": [],
            "_model_module": "@jupyter-widgets/controls",
            "_model_module_version": "1.5.0",
            "_model_name": "FloatProgressModel",
            "_view_count": null,
            "_view_module": "@jupyter-widgets/controls",
            "_view_module_version": "1.5.0",
            "_view_name": "ProgressView",
            "bar_style": "success",
            "description": "",
            "description_tooltip": null,
            "layout": "IPY_MODEL_e95c0deabba94213a3b4ade42e841d23",
            "max": 9915,
            "min": 0,
            "orientation": "horizontal",
            "style": "IPY_MODEL_63f9842f04d34f8fbe90098b514bead2",
            "value": 9915
          }
        },
        "1874af82aef64b1da6be66804e61706c": {
          "model_module": "@jupyter-widgets/controls",
          "model_name": "HTMLModel",
          "model_module_version": "1.5.0",
          "state": {
            "_dom_classes": [],
            "_model_module": "@jupyter-widgets/controls",
            "_model_module_version": "1.5.0",
            "_model_name": "HTMLModel",
            "_view_count": null,
            "_view_module": "@jupyter-widgets/controls",
            "_view_module_version": "1.5.0",
            "_view_name": "HTMLView",
            "description": "",
            "description_tooltip": null,
            "layout": "IPY_MODEL_f53331276f0447d589a31594d9d64d1b",
            "placeholder": "​",
            "style": "IPY_MODEL_bd837943ca154701889547edeb0273ae",
            "value": " 9915/9915 [00:05&lt;00:00, 1582.74 examples/s]"
          }
        },
        "9c24567bf2fb4b12bc80fc1beb42f5dc": {
          "model_module": "@jupyter-widgets/base",
          "model_name": "LayoutModel",
          "model_module_version": "1.2.0",
          "state": {
            "_model_module": "@jupyter-widgets/base",
            "_model_module_version": "1.2.0",
            "_model_name": "LayoutModel",
            "_view_count": null,
            "_view_module": "@jupyter-widgets/base",
            "_view_module_version": "1.2.0",
            "_view_name": "LayoutView",
            "align_content": null,
            "align_items": null,
            "align_self": null,
            "border": null,
            "bottom": null,
            "display": null,
            "flex": null,
            "flex_flow": null,
            "grid_area": null,
            "grid_auto_columns": null,
            "grid_auto_flow": null,
            "grid_auto_rows": null,
            "grid_column": null,
            "grid_gap": null,
            "grid_row": null,
            "grid_template_areas": null,
            "grid_template_columns": null,
            "grid_template_rows": null,
            "height": null,
            "justify_content": null,
            "justify_items": null,
            "left": null,
            "margin": null,
            "max_height": null,
            "max_width": null,
            "min_height": null,
            "min_width": null,
            "object_fit": null,
            "object_position": null,
            "order": null,
            "overflow": null,
            "overflow_x": null,
            "overflow_y": null,
            "padding": null,
            "right": null,
            "top": null,
            "visibility": null,
            "width": null
          }
        },
        "4958de1a34564a0e91641f003bb3f37a": {
          "model_module": "@jupyter-widgets/base",
          "model_name": "LayoutModel",
          "model_module_version": "1.2.0",
          "state": {
            "_model_module": "@jupyter-widgets/base",
            "_model_module_version": "1.2.0",
            "_model_name": "LayoutModel",
            "_view_count": null,
            "_view_module": "@jupyter-widgets/base",
            "_view_module_version": "1.2.0",
            "_view_name": "LayoutView",
            "align_content": null,
            "align_items": null,
            "align_self": null,
            "border": null,
            "bottom": null,
            "display": null,
            "flex": null,
            "flex_flow": null,
            "grid_area": null,
            "grid_auto_columns": null,
            "grid_auto_flow": null,
            "grid_auto_rows": null,
            "grid_column": null,
            "grid_gap": null,
            "grid_row": null,
            "grid_template_areas": null,
            "grid_template_columns": null,
            "grid_template_rows": null,
            "height": null,
            "justify_content": null,
            "justify_items": null,
            "left": null,
            "margin": null,
            "max_height": null,
            "max_width": null,
            "min_height": null,
            "min_width": null,
            "object_fit": null,
            "object_position": null,
            "order": null,
            "overflow": null,
            "overflow_x": null,
            "overflow_y": null,
            "padding": null,
            "right": null,
            "top": null,
            "visibility": null,
            "width": null
          }
        },
        "a8bb37a5a0db4e7f9a76cedf4ee332b0": {
          "model_module": "@jupyter-widgets/controls",
          "model_name": "DescriptionStyleModel",
          "model_module_version": "1.5.0",
          "state": {
            "_model_module": "@jupyter-widgets/controls",
            "_model_module_version": "1.5.0",
            "_model_name": "DescriptionStyleModel",
            "_view_count": null,
            "_view_module": "@jupyter-widgets/base",
            "_view_module_version": "1.2.0",
            "_view_name": "StyleView",
            "description_width": ""
          }
        },
        "e95c0deabba94213a3b4ade42e841d23": {
          "model_module": "@jupyter-widgets/base",
          "model_name": "LayoutModel",
          "model_module_version": "1.2.0",
          "state": {
            "_model_module": "@jupyter-widgets/base",
            "_model_module_version": "1.2.0",
            "_model_name": "LayoutModel",
            "_view_count": null,
            "_view_module": "@jupyter-widgets/base",
            "_view_module_version": "1.2.0",
            "_view_name": "LayoutView",
            "align_content": null,
            "align_items": null,
            "align_self": null,
            "border": null,
            "bottom": null,
            "display": null,
            "flex": null,
            "flex_flow": null,
            "grid_area": null,
            "grid_auto_columns": null,
            "grid_auto_flow": null,
            "grid_auto_rows": null,
            "grid_column": null,
            "grid_gap": null,
            "grid_row": null,
            "grid_template_areas": null,
            "grid_template_columns": null,
            "grid_template_rows": null,
            "height": null,
            "justify_content": null,
            "justify_items": null,
            "left": null,
            "margin": null,
            "max_height": null,
            "max_width": null,
            "min_height": null,
            "min_width": null,
            "object_fit": null,
            "object_position": null,
            "order": null,
            "overflow": null,
            "overflow_x": null,
            "overflow_y": null,
            "padding": null,
            "right": null,
            "top": null,
            "visibility": null,
            "width": null
          }
        },
        "63f9842f04d34f8fbe90098b514bead2": {
          "model_module": "@jupyter-widgets/controls",
          "model_name": "ProgressStyleModel",
          "model_module_version": "1.5.0",
          "state": {
            "_model_module": "@jupyter-widgets/controls",
            "_model_module_version": "1.5.0",
            "_model_name": "ProgressStyleModel",
            "_view_count": null,
            "_view_module": "@jupyter-widgets/base",
            "_view_module_version": "1.2.0",
            "_view_name": "StyleView",
            "bar_color": null,
            "description_width": ""
          }
        },
        "f53331276f0447d589a31594d9d64d1b": {
          "model_module": "@jupyter-widgets/base",
          "model_name": "LayoutModel",
          "model_module_version": "1.2.0",
          "state": {
            "_model_module": "@jupyter-widgets/base",
            "_model_module_version": "1.2.0",
            "_model_name": "LayoutModel",
            "_view_count": null,
            "_view_module": "@jupyter-widgets/base",
            "_view_module_version": "1.2.0",
            "_view_name": "LayoutView",
            "align_content": null,
            "align_items": null,
            "align_self": null,
            "border": null,
            "bottom": null,
            "display": null,
            "flex": null,
            "flex_flow": null,
            "grid_area": null,
            "grid_auto_columns": null,
            "grid_auto_flow": null,
            "grid_auto_rows": null,
            "grid_column": null,
            "grid_gap": null,
            "grid_row": null,
            "grid_template_areas": null,
            "grid_template_columns": null,
            "grid_template_rows": null,
            "height": null,
            "justify_content": null,
            "justify_items": null,
            "left": null,
            "margin": null,
            "max_height": null,
            "max_width": null,
            "min_height": null,
            "min_width": null,
            "object_fit": null,
            "object_position": null,
            "order": null,
            "overflow": null,
            "overflow_x": null,
            "overflow_y": null,
            "padding": null,
            "right": null,
            "top": null,
            "visibility": null,
            "width": null
          }
        },
        "bd837943ca154701889547edeb0273ae": {
          "model_module": "@jupyter-widgets/controls",
          "model_name": "DescriptionStyleModel",
          "model_module_version": "1.5.0",
          "state": {
            "_model_module": "@jupyter-widgets/controls",
            "_model_module_version": "1.5.0",
            "_model_name": "DescriptionStyleModel",
            "_view_count": null,
            "_view_module": "@jupyter-widgets/base",
            "_view_module_version": "1.2.0",
            "_view_name": "StyleView",
            "description_width": ""
          }
        },
        "f8efa861578446a5b3d7f260cddcb992": {
          "model_module": "@jupyter-widgets/controls",
          "model_name": "HBoxModel",
          "model_module_version": "1.5.0",
          "state": {
            "_dom_classes": [],
            "_model_module": "@jupyter-widgets/controls",
            "_model_module_version": "1.5.0",
            "_model_name": "HBoxModel",
            "_view_count": null,
            "_view_module": "@jupyter-widgets/controls",
            "_view_module_version": "1.5.0",
            "_view_name": "HBoxView",
            "box_style": "",
            "children": [
              "IPY_MODEL_2bf04c4a3ab14e24bfa1c944ce9b0e99",
              "IPY_MODEL_d42b21d443d741f192385a764d3fb5d3",
              "IPY_MODEL_eefb05568a414023a7a34e68b290ea18"
            ],
            "layout": "IPY_MODEL_67da2f0208b940b68e2ec1d69b339388"
          }
        },
        "2bf04c4a3ab14e24bfa1c944ce9b0e99": {
          "model_module": "@jupyter-widgets/controls",
          "model_name": "HTMLModel",
          "model_module_version": "1.5.0",
          "state": {
            "_dom_classes": [],
            "_model_module": "@jupyter-widgets/controls",
            "_model_module_version": "1.5.0",
            "_model_name": "HTMLModel",
            "_view_count": null,
            "_view_module": "@jupyter-widgets/controls",
            "_view_module_version": "1.5.0",
            "_view_name": "HTMLView",
            "description": "",
            "description_tooltip": null,
            "layout": "IPY_MODEL_b4c05c742a374167986817500e042dd0",
            "placeholder": "​",
            "style": "IPY_MODEL_5569f2fb861847e39b862d2810a97723",
            "value": "config.json: 100%"
          }
        },
        "d42b21d443d741f192385a764d3fb5d3": {
          "model_module": "@jupyter-widgets/controls",
          "model_name": "FloatProgressModel",
          "model_module_version": "1.5.0",
          "state": {
            "_dom_classes": [],
            "_model_module": "@jupyter-widgets/controls",
            "_model_module_version": "1.5.0",
            "_model_name": "FloatProgressModel",
            "_view_count": null,
            "_view_module": "@jupyter-widgets/controls",
            "_view_module_version": "1.5.0",
            "_view_name": "ProgressView",
            "bar_style": "success",
            "description": "",
            "description_tooltip": null,
            "layout": "IPY_MODEL_1b8f2a65f8844bb8934ee53eaf022a7b",
            "max": 1206,
            "min": 0,
            "orientation": "horizontal",
            "style": "IPY_MODEL_e1e24897a1874647b5c0494ded5383c0",
            "value": 1206
          }
        },
        "eefb05568a414023a7a34e68b290ea18": {
          "model_module": "@jupyter-widgets/controls",
          "model_name": "HTMLModel",
          "model_module_version": "1.5.0",
          "state": {
            "_dom_classes": [],
            "_model_module": "@jupyter-widgets/controls",
            "_model_module_version": "1.5.0",
            "_model_name": "HTMLModel",
            "_view_count": null,
            "_view_module": "@jupyter-widgets/controls",
            "_view_module_version": "1.5.0",
            "_view_name": "HTMLView",
            "description": "",
            "description_tooltip": null,
            "layout": "IPY_MODEL_5230b388349c49ff9bd4799abefc00ed",
            "placeholder": "​",
            "style": "IPY_MODEL_e34526e1c1374f279f130f53b051df4a",
            "value": " 1.21k/1.21k [00:00&lt;00:00, 61.4kB/s]"
          }
        },
        "67da2f0208b940b68e2ec1d69b339388": {
          "model_module": "@jupyter-widgets/base",
          "model_name": "LayoutModel",
          "model_module_version": "1.2.0",
          "state": {
            "_model_module": "@jupyter-widgets/base",
            "_model_module_version": "1.2.0",
            "_model_name": "LayoutModel",
            "_view_count": null,
            "_view_module": "@jupyter-widgets/base",
            "_view_module_version": "1.2.0",
            "_view_name": "LayoutView",
            "align_content": null,
            "align_items": null,
            "align_self": null,
            "border": null,
            "bottom": null,
            "display": null,
            "flex": null,
            "flex_flow": null,
            "grid_area": null,
            "grid_auto_columns": null,
            "grid_auto_flow": null,
            "grid_auto_rows": null,
            "grid_column": null,
            "grid_gap": null,
            "grid_row": null,
            "grid_template_areas": null,
            "grid_template_columns": null,
            "grid_template_rows": null,
            "height": null,
            "justify_content": null,
            "justify_items": null,
            "left": null,
            "margin": null,
            "max_height": null,
            "max_width": null,
            "min_height": null,
            "min_width": null,
            "object_fit": null,
            "object_position": null,
            "order": null,
            "overflow": null,
            "overflow_x": null,
            "overflow_y": null,
            "padding": null,
            "right": null,
            "top": null,
            "visibility": null,
            "width": null
          }
        },
        "b4c05c742a374167986817500e042dd0": {
          "model_module": "@jupyter-widgets/base",
          "model_name": "LayoutModel",
          "model_module_version": "1.2.0",
          "state": {
            "_model_module": "@jupyter-widgets/base",
            "_model_module_version": "1.2.0",
            "_model_name": "LayoutModel",
            "_view_count": null,
            "_view_module": "@jupyter-widgets/base",
            "_view_module_version": "1.2.0",
            "_view_name": "LayoutView",
            "align_content": null,
            "align_items": null,
            "align_self": null,
            "border": null,
            "bottom": null,
            "display": null,
            "flex": null,
            "flex_flow": null,
            "grid_area": null,
            "grid_auto_columns": null,
            "grid_auto_flow": null,
            "grid_auto_rows": null,
            "grid_column": null,
            "grid_gap": null,
            "grid_row": null,
            "grid_template_areas": null,
            "grid_template_columns": null,
            "grid_template_rows": null,
            "height": null,
            "justify_content": null,
            "justify_items": null,
            "left": null,
            "margin": null,
            "max_height": null,
            "max_width": null,
            "min_height": null,
            "min_width": null,
            "object_fit": null,
            "object_position": null,
            "order": null,
            "overflow": null,
            "overflow_x": null,
            "overflow_y": null,
            "padding": null,
            "right": null,
            "top": null,
            "visibility": null,
            "width": null
          }
        },
        "5569f2fb861847e39b862d2810a97723": {
          "model_module": "@jupyter-widgets/controls",
          "model_name": "DescriptionStyleModel",
          "model_module_version": "1.5.0",
          "state": {
            "_model_module": "@jupyter-widgets/controls",
            "_model_module_version": "1.5.0",
            "_model_name": "DescriptionStyleModel",
            "_view_count": null,
            "_view_module": "@jupyter-widgets/base",
            "_view_module_version": "1.2.0",
            "_view_name": "StyleView",
            "description_width": ""
          }
        },
        "1b8f2a65f8844bb8934ee53eaf022a7b": {
          "model_module": "@jupyter-widgets/base",
          "model_name": "LayoutModel",
          "model_module_version": "1.2.0",
          "state": {
            "_model_module": "@jupyter-widgets/base",
            "_model_module_version": "1.2.0",
            "_model_name": "LayoutModel",
            "_view_count": null,
            "_view_module": "@jupyter-widgets/base",
            "_view_module_version": "1.2.0",
            "_view_name": "LayoutView",
            "align_content": null,
            "align_items": null,
            "align_self": null,
            "border": null,
            "bottom": null,
            "display": null,
            "flex": null,
            "flex_flow": null,
            "grid_area": null,
            "grid_auto_columns": null,
            "grid_auto_flow": null,
            "grid_auto_rows": null,
            "grid_column": null,
            "grid_gap": null,
            "grid_row": null,
            "grid_template_areas": null,
            "grid_template_columns": null,
            "grid_template_rows": null,
            "height": null,
            "justify_content": null,
            "justify_items": null,
            "left": null,
            "margin": null,
            "max_height": null,
            "max_width": null,
            "min_height": null,
            "min_width": null,
            "object_fit": null,
            "object_position": null,
            "order": null,
            "overflow": null,
            "overflow_x": null,
            "overflow_y": null,
            "padding": null,
            "right": null,
            "top": null,
            "visibility": null,
            "width": null
          }
        },
        "e1e24897a1874647b5c0494ded5383c0": {
          "model_module": "@jupyter-widgets/controls",
          "model_name": "ProgressStyleModel",
          "model_module_version": "1.5.0",
          "state": {
            "_model_module": "@jupyter-widgets/controls",
            "_model_module_version": "1.5.0",
            "_model_name": "ProgressStyleModel",
            "_view_count": null,
            "_view_module": "@jupyter-widgets/base",
            "_view_module_version": "1.2.0",
            "_view_name": "StyleView",
            "bar_color": null,
            "description_width": ""
          }
        },
        "5230b388349c49ff9bd4799abefc00ed": {
          "model_module": "@jupyter-widgets/base",
          "model_name": "LayoutModel",
          "model_module_version": "1.2.0",
          "state": {
            "_model_module": "@jupyter-widgets/base",
            "_model_module_version": "1.2.0",
            "_model_name": "LayoutModel",
            "_view_count": null,
            "_view_module": "@jupyter-widgets/base",
            "_view_module_version": "1.2.0",
            "_view_name": "LayoutView",
            "align_content": null,
            "align_items": null,
            "align_self": null,
            "border": null,
            "bottom": null,
            "display": null,
            "flex": null,
            "flex_flow": null,
            "grid_area": null,
            "grid_auto_columns": null,
            "grid_auto_flow": null,
            "grid_auto_rows": null,
            "grid_column": null,
            "grid_gap": null,
            "grid_row": null,
            "grid_template_areas": null,
            "grid_template_columns": null,
            "grid_template_rows": null,
            "height": null,
            "justify_content": null,
            "justify_items": null,
            "left": null,
            "margin": null,
            "max_height": null,
            "max_width": null,
            "min_height": null,
            "min_width": null,
            "object_fit": null,
            "object_position": null,
            "order": null,
            "overflow": null,
            "overflow_x": null,
            "overflow_y": null,
            "padding": null,
            "right": null,
            "top": null,
            "visibility": null,
            "width": null
          }
        },
        "e34526e1c1374f279f130f53b051df4a": {
          "model_module": "@jupyter-widgets/controls",
          "model_name": "DescriptionStyleModel",
          "model_module_version": "1.5.0",
          "state": {
            "_model_module": "@jupyter-widgets/controls",
            "_model_module_version": "1.5.0",
            "_model_name": "DescriptionStyleModel",
            "_view_count": null,
            "_view_module": "@jupyter-widgets/base",
            "_view_module_version": "1.2.0",
            "_view_name": "StyleView",
            "description_width": ""
          }
        },
        "cbfb1c9b02574a67bf857093e3170c5b": {
          "model_module": "@jupyter-widgets/controls",
          "model_name": "HBoxModel",
          "model_module_version": "1.5.0",
          "state": {
            "_dom_classes": [],
            "_model_module": "@jupyter-widgets/controls",
            "_model_module_version": "1.5.0",
            "_model_name": "HBoxModel",
            "_view_count": null,
            "_view_module": "@jupyter-widgets/controls",
            "_view_module_version": "1.5.0",
            "_view_name": "HBoxView",
            "box_style": "",
            "children": [
              "IPY_MODEL_a09d0c80345b49798e8555c76ca0726a",
              "IPY_MODEL_3ca4765690794128956f4793e512e45e",
              "IPY_MODEL_4318f5cb45ac41e6a78ef481d7bbae88"
            ],
            "layout": "IPY_MODEL_4a3001d33c14484dbf1d794b78277d45"
          }
        },
        "a09d0c80345b49798e8555c76ca0726a": {
          "model_module": "@jupyter-widgets/controls",
          "model_name": "HTMLModel",
          "model_module_version": "1.5.0",
          "state": {
            "_dom_classes": [],
            "_model_module": "@jupyter-widgets/controls",
            "_model_module_version": "1.5.0",
            "_model_name": "HTMLModel",
            "_view_count": null,
            "_view_module": "@jupyter-widgets/controls",
            "_view_module_version": "1.5.0",
            "_view_name": "HTMLView",
            "description": "",
            "description_tooltip": null,
            "layout": "IPY_MODEL_f47050c17dd04b95a9459ba98bb0f11d",
            "placeholder": "​",
            "style": "IPY_MODEL_a18167a60f0f4408830bc5740bf54c21",
            "value": "model.safetensors: 100%"
          }
        },
        "3ca4765690794128956f4793e512e45e": {
          "model_module": "@jupyter-widgets/controls",
          "model_name": "FloatProgressModel",
          "model_module_version": "1.5.0",
          "state": {
            "_dom_classes": [],
            "_model_module": "@jupyter-widgets/controls",
            "_model_module_version": "1.5.0",
            "_model_name": "FloatProgressModel",
            "_view_count": null,
            "_view_module": "@jupyter-widgets/controls",
            "_view_module_version": "1.5.0",
            "_view_name": "ProgressView",
            "bar_style": "success",
            "description": "",
            "description_tooltip": null,
            "layout": "IPY_MODEL_e0f10f1f1ecd4dfa855ee01d5a2f531a",
            "max": 242043056,
            "min": 0,
            "orientation": "horizontal",
            "style": "IPY_MODEL_0349a9052cde47ebb66be77b3b900fac",
            "value": 242043056
          }
        },
        "4318f5cb45ac41e6a78ef481d7bbae88": {
          "model_module": "@jupyter-widgets/controls",
          "model_name": "HTMLModel",
          "model_module_version": "1.5.0",
          "state": {
            "_dom_classes": [],
            "_model_module": "@jupyter-widgets/controls",
            "_model_module_version": "1.5.0",
            "_model_name": "HTMLModel",
            "_view_count": null,
            "_view_module": "@jupyter-widgets/controls",
            "_view_module_version": "1.5.0",
            "_view_name": "HTMLView",
            "description": "",
            "description_tooltip": null,
            "layout": "IPY_MODEL_97ec1b61e2c14371bc91161efaf6156e",
            "placeholder": "​",
            "style": "IPY_MODEL_df5900691a5c49acb78a03afccab4063",
            "value": " 242M/242M [00:01&lt;00:00, 205MB/s]"
          }
        },
        "4a3001d33c14484dbf1d794b78277d45": {
          "model_module": "@jupyter-widgets/base",
          "model_name": "LayoutModel",
          "model_module_version": "1.2.0",
          "state": {
            "_model_module": "@jupyter-widgets/base",
            "_model_module_version": "1.2.0",
            "_model_name": "LayoutModel",
            "_view_count": null,
            "_view_module": "@jupyter-widgets/base",
            "_view_module_version": "1.2.0",
            "_view_name": "LayoutView",
            "align_content": null,
            "align_items": null,
            "align_self": null,
            "border": null,
            "bottom": null,
            "display": null,
            "flex": null,
            "flex_flow": null,
            "grid_area": null,
            "grid_auto_columns": null,
            "grid_auto_flow": null,
            "grid_auto_rows": null,
            "grid_column": null,
            "grid_gap": null,
            "grid_row": null,
            "grid_template_areas": null,
            "grid_template_columns": null,
            "grid_template_rows": null,
            "height": null,
            "justify_content": null,
            "justify_items": null,
            "left": null,
            "margin": null,
            "max_height": null,
            "max_width": null,
            "min_height": null,
            "min_width": null,
            "object_fit": null,
            "object_position": null,
            "order": null,
            "overflow": null,
            "overflow_x": null,
            "overflow_y": null,
            "padding": null,
            "right": null,
            "top": null,
            "visibility": null,
            "width": null
          }
        },
        "f47050c17dd04b95a9459ba98bb0f11d": {
          "model_module": "@jupyter-widgets/base",
          "model_name": "LayoutModel",
          "model_module_version": "1.2.0",
          "state": {
            "_model_module": "@jupyter-widgets/base",
            "_model_module_version": "1.2.0",
            "_model_name": "LayoutModel",
            "_view_count": null,
            "_view_module": "@jupyter-widgets/base",
            "_view_module_version": "1.2.0",
            "_view_name": "LayoutView",
            "align_content": null,
            "align_items": null,
            "align_self": null,
            "border": null,
            "bottom": null,
            "display": null,
            "flex": null,
            "flex_flow": null,
            "grid_area": null,
            "grid_auto_columns": null,
            "grid_auto_flow": null,
            "grid_auto_rows": null,
            "grid_column": null,
            "grid_gap": null,
            "grid_row": null,
            "grid_template_areas": null,
            "grid_template_columns": null,
            "grid_template_rows": null,
            "height": null,
            "justify_content": null,
            "justify_items": null,
            "left": null,
            "margin": null,
            "max_height": null,
            "max_width": null,
            "min_height": null,
            "min_width": null,
            "object_fit": null,
            "object_position": null,
            "order": null,
            "overflow": null,
            "overflow_x": null,
            "overflow_y": null,
            "padding": null,
            "right": null,
            "top": null,
            "visibility": null,
            "width": null
          }
        },
        "a18167a60f0f4408830bc5740bf54c21": {
          "model_module": "@jupyter-widgets/controls",
          "model_name": "DescriptionStyleModel",
          "model_module_version": "1.5.0",
          "state": {
            "_model_module": "@jupyter-widgets/controls",
            "_model_module_version": "1.5.0",
            "_model_name": "DescriptionStyleModel",
            "_view_count": null,
            "_view_module": "@jupyter-widgets/base",
            "_view_module_version": "1.2.0",
            "_view_name": "StyleView",
            "description_width": ""
          }
        },
        "e0f10f1f1ecd4dfa855ee01d5a2f531a": {
          "model_module": "@jupyter-widgets/base",
          "model_name": "LayoutModel",
          "model_module_version": "1.2.0",
          "state": {
            "_model_module": "@jupyter-widgets/base",
            "_model_module_version": "1.2.0",
            "_model_name": "LayoutModel",
            "_view_count": null,
            "_view_module": "@jupyter-widgets/base",
            "_view_module_version": "1.2.0",
            "_view_name": "LayoutView",
            "align_content": null,
            "align_items": null,
            "align_self": null,
            "border": null,
            "bottom": null,
            "display": null,
            "flex": null,
            "flex_flow": null,
            "grid_area": null,
            "grid_auto_columns": null,
            "grid_auto_flow": null,
            "grid_auto_rows": null,
            "grid_column": null,
            "grid_gap": null,
            "grid_row": null,
            "grid_template_areas": null,
            "grid_template_columns": null,
            "grid_template_rows": null,
            "height": null,
            "justify_content": null,
            "justify_items": null,
            "left": null,
            "margin": null,
            "max_height": null,
            "max_width": null,
            "min_height": null,
            "min_width": null,
            "object_fit": null,
            "object_position": null,
            "order": null,
            "overflow": null,
            "overflow_x": null,
            "overflow_y": null,
            "padding": null,
            "right": null,
            "top": null,
            "visibility": null,
            "width": null
          }
        },
        "0349a9052cde47ebb66be77b3b900fac": {
          "model_module": "@jupyter-widgets/controls",
          "model_name": "ProgressStyleModel",
          "model_module_version": "1.5.0",
          "state": {
            "_model_module": "@jupyter-widgets/controls",
            "_model_module_version": "1.5.0",
            "_model_name": "ProgressStyleModel",
            "_view_count": null,
            "_view_module": "@jupyter-widgets/base",
            "_view_module_version": "1.2.0",
            "_view_name": "StyleView",
            "bar_color": null,
            "description_width": ""
          }
        },
        "97ec1b61e2c14371bc91161efaf6156e": {
          "model_module": "@jupyter-widgets/base",
          "model_name": "LayoutModel",
          "model_module_version": "1.2.0",
          "state": {
            "_model_module": "@jupyter-widgets/base",
            "_model_module_version": "1.2.0",
            "_model_name": "LayoutModel",
            "_view_count": null,
            "_view_module": "@jupyter-widgets/base",
            "_view_module_version": "1.2.0",
            "_view_name": "LayoutView",
            "align_content": null,
            "align_items": null,
            "align_self": null,
            "border": null,
            "bottom": null,
            "display": null,
            "flex": null,
            "flex_flow": null,
            "grid_area": null,
            "grid_auto_columns": null,
            "grid_auto_flow": null,
            "grid_auto_rows": null,
            "grid_column": null,
            "grid_gap": null,
            "grid_row": null,
            "grid_template_areas": null,
            "grid_template_columns": null,
            "grid_template_rows": null,
            "height": null,
            "justify_content": null,
            "justify_items": null,
            "left": null,
            "margin": null,
            "max_height": null,
            "max_width": null,
            "min_height": null,
            "min_width": null,
            "object_fit": null,
            "object_position": null,
            "order": null,
            "overflow": null,
            "overflow_x": null,
            "overflow_y": null,
            "padding": null,
            "right": null,
            "top": null,
            "visibility": null,
            "width": null
          }
        },
        "df5900691a5c49acb78a03afccab4063": {
          "model_module": "@jupyter-widgets/controls",
          "model_name": "DescriptionStyleModel",
          "model_module_version": "1.5.0",
          "state": {
            "_model_module": "@jupyter-widgets/controls",
            "_model_module_version": "1.5.0",
            "_model_name": "DescriptionStyleModel",
            "_view_count": null,
            "_view_module": "@jupyter-widgets/base",
            "_view_module_version": "1.2.0",
            "_view_name": "StyleView",
            "description_width": ""
          }
        },
        "6e0e1ba5d59c4c399cfa020764c66d72": {
          "model_module": "@jupyter-widgets/controls",
          "model_name": "HBoxModel",
          "model_module_version": "1.5.0",
          "state": {
            "_dom_classes": [],
            "_model_module": "@jupyter-widgets/controls",
            "_model_module_version": "1.5.0",
            "_model_name": "HBoxModel",
            "_view_count": null,
            "_view_module": "@jupyter-widgets/controls",
            "_view_module_version": "1.5.0",
            "_view_name": "HBoxView",
            "box_style": "",
            "children": [
              "IPY_MODEL_c71c60ead4f246f6bf3d44df5bb9999c",
              "IPY_MODEL_96a6f5d1a2fe4887b86d21d8c6b0e1cf",
              "IPY_MODEL_9a7ae777a4d9470fbb7da03559ae374d"
            ],
            "layout": "IPY_MODEL_b1419830560f4a9eb9613f90dfa791c0"
          }
        },
        "c71c60ead4f246f6bf3d44df5bb9999c": {
          "model_module": "@jupyter-widgets/controls",
          "model_name": "HTMLModel",
          "model_module_version": "1.5.0",
          "state": {
            "_dom_classes": [],
            "_model_module": "@jupyter-widgets/controls",
            "_model_module_version": "1.5.0",
            "_model_name": "HTMLModel",
            "_view_count": null,
            "_view_module": "@jupyter-widgets/controls",
            "_view_module_version": "1.5.0",
            "_view_name": "HTMLView",
            "description": "",
            "description_tooltip": null,
            "layout": "IPY_MODEL_26e69428e75647a4ac5dda0d406186f4",
            "placeholder": "​",
            "style": "IPY_MODEL_94b3c3fdb5d04381a51168106cb057e5",
            "value": "generation_config.json: 100%"
          }
        },
        "96a6f5d1a2fe4887b86d21d8c6b0e1cf": {
          "model_module": "@jupyter-widgets/controls",
          "model_name": "FloatProgressModel",
          "model_module_version": "1.5.0",
          "state": {
            "_dom_classes": [],
            "_model_module": "@jupyter-widgets/controls",
            "_model_module_version": "1.5.0",
            "_model_name": "FloatProgressModel",
            "_view_count": null,
            "_view_module": "@jupyter-widgets/controls",
            "_view_module_version": "1.5.0",
            "_view_name": "ProgressView",
            "bar_style": "success",
            "description": "",
            "description_tooltip": null,
            "layout": "IPY_MODEL_645eb2bf187c4e67be924862f308f806",
            "max": 147,
            "min": 0,
            "orientation": "horizontal",
            "style": "IPY_MODEL_2aa2de8d373f40ba9e6862766c467b65",
            "value": 147
          }
        },
        "9a7ae777a4d9470fbb7da03559ae374d": {
          "model_module": "@jupyter-widgets/controls",
          "model_name": "HTMLModel",
          "model_module_version": "1.5.0",
          "state": {
            "_dom_classes": [],
            "_model_module": "@jupyter-widgets/controls",
            "_model_module_version": "1.5.0",
            "_model_name": "HTMLModel",
            "_view_count": null,
            "_view_module": "@jupyter-widgets/controls",
            "_view_module_version": "1.5.0",
            "_view_name": "HTMLView",
            "description": "",
            "description_tooltip": null,
            "layout": "IPY_MODEL_44edd8392d584449ad3d828544c35d4e",
            "placeholder": "​",
            "style": "IPY_MODEL_7b6bcb927ec04db88448924ec32be00f",
            "value": " 147/147 [00:00&lt;00:00, 7.89kB/s]"
          }
        },
        "b1419830560f4a9eb9613f90dfa791c0": {
          "model_module": "@jupyter-widgets/base",
          "model_name": "LayoutModel",
          "model_module_version": "1.2.0",
          "state": {
            "_model_module": "@jupyter-widgets/base",
            "_model_module_version": "1.2.0",
            "_model_name": "LayoutModel",
            "_view_count": null,
            "_view_module": "@jupyter-widgets/base",
            "_view_module_version": "1.2.0",
            "_view_name": "LayoutView",
            "align_content": null,
            "align_items": null,
            "align_self": null,
            "border": null,
            "bottom": null,
            "display": null,
            "flex": null,
            "flex_flow": null,
            "grid_area": null,
            "grid_auto_columns": null,
            "grid_auto_flow": null,
            "grid_auto_rows": null,
            "grid_column": null,
            "grid_gap": null,
            "grid_row": null,
            "grid_template_areas": null,
            "grid_template_columns": null,
            "grid_template_rows": null,
            "height": null,
            "justify_content": null,
            "justify_items": null,
            "left": null,
            "margin": null,
            "max_height": null,
            "max_width": null,
            "min_height": null,
            "min_width": null,
            "object_fit": null,
            "object_position": null,
            "order": null,
            "overflow": null,
            "overflow_x": null,
            "overflow_y": null,
            "padding": null,
            "right": null,
            "top": null,
            "visibility": null,
            "width": null
          }
        },
        "26e69428e75647a4ac5dda0d406186f4": {
          "model_module": "@jupyter-widgets/base",
          "model_name": "LayoutModel",
          "model_module_version": "1.2.0",
          "state": {
            "_model_module": "@jupyter-widgets/base",
            "_model_module_version": "1.2.0",
            "_model_name": "LayoutModel",
            "_view_count": null,
            "_view_module": "@jupyter-widgets/base",
            "_view_module_version": "1.2.0",
            "_view_name": "LayoutView",
            "align_content": null,
            "align_items": null,
            "align_self": null,
            "border": null,
            "bottom": null,
            "display": null,
            "flex": null,
            "flex_flow": null,
            "grid_area": null,
            "grid_auto_columns": null,
            "grid_auto_flow": null,
            "grid_auto_rows": null,
            "grid_column": null,
            "grid_gap": null,
            "grid_row": null,
            "grid_template_areas": null,
            "grid_template_columns": null,
            "grid_template_rows": null,
            "height": null,
            "justify_content": null,
            "justify_items": null,
            "left": null,
            "margin": null,
            "max_height": null,
            "max_width": null,
            "min_height": null,
            "min_width": null,
            "object_fit": null,
            "object_position": null,
            "order": null,
            "overflow": null,
            "overflow_x": null,
            "overflow_y": null,
            "padding": null,
            "right": null,
            "top": null,
            "visibility": null,
            "width": null
          }
        },
        "94b3c3fdb5d04381a51168106cb057e5": {
          "model_module": "@jupyter-widgets/controls",
          "model_name": "DescriptionStyleModel",
          "model_module_version": "1.5.0",
          "state": {
            "_model_module": "@jupyter-widgets/controls",
            "_model_module_version": "1.5.0",
            "_model_name": "DescriptionStyleModel",
            "_view_count": null,
            "_view_module": "@jupyter-widgets/base",
            "_view_module_version": "1.2.0",
            "_view_name": "StyleView",
            "description_width": ""
          }
        },
        "645eb2bf187c4e67be924862f308f806": {
          "model_module": "@jupyter-widgets/base",
          "model_name": "LayoutModel",
          "model_module_version": "1.2.0",
          "state": {
            "_model_module": "@jupyter-widgets/base",
            "_model_module_version": "1.2.0",
            "_model_name": "LayoutModel",
            "_view_count": null,
            "_view_module": "@jupyter-widgets/base",
            "_view_module_version": "1.2.0",
            "_view_name": "LayoutView",
            "align_content": null,
            "align_items": null,
            "align_self": null,
            "border": null,
            "bottom": null,
            "display": null,
            "flex": null,
            "flex_flow": null,
            "grid_area": null,
            "grid_auto_columns": null,
            "grid_auto_flow": null,
            "grid_auto_rows": null,
            "grid_column": null,
            "grid_gap": null,
            "grid_row": null,
            "grid_template_areas": null,
            "grid_template_columns": null,
            "grid_template_rows": null,
            "height": null,
            "justify_content": null,
            "justify_items": null,
            "left": null,
            "margin": null,
            "max_height": null,
            "max_width": null,
            "min_height": null,
            "min_width": null,
            "object_fit": null,
            "object_position": null,
            "order": null,
            "overflow": null,
            "overflow_x": null,
            "overflow_y": null,
            "padding": null,
            "right": null,
            "top": null,
            "visibility": null,
            "width": null
          }
        },
        "2aa2de8d373f40ba9e6862766c467b65": {
          "model_module": "@jupyter-widgets/controls",
          "model_name": "ProgressStyleModel",
          "model_module_version": "1.5.0",
          "state": {
            "_model_module": "@jupyter-widgets/controls",
            "_model_module_version": "1.5.0",
            "_model_name": "ProgressStyleModel",
            "_view_count": null,
            "_view_module": "@jupyter-widgets/base",
            "_view_module_version": "1.2.0",
            "_view_name": "StyleView",
            "bar_color": null,
            "description_width": ""
          }
        },
        "44edd8392d584449ad3d828544c35d4e": {
          "model_module": "@jupyter-widgets/base",
          "model_name": "LayoutModel",
          "model_module_version": "1.2.0",
          "state": {
            "_model_module": "@jupyter-widgets/base",
            "_model_module_version": "1.2.0",
            "_model_name": "LayoutModel",
            "_view_count": null,
            "_view_module": "@jupyter-widgets/base",
            "_view_module_version": "1.2.0",
            "_view_name": "LayoutView",
            "align_content": null,
            "align_items": null,
            "align_self": null,
            "border": null,
            "bottom": null,
            "display": null,
            "flex": null,
            "flex_flow": null,
            "grid_area": null,
            "grid_auto_columns": null,
            "grid_auto_flow": null,
            "grid_auto_rows": null,
            "grid_column": null,
            "grid_gap": null,
            "grid_row": null,
            "grid_template_areas": null,
            "grid_template_columns": null,
            "grid_template_rows": null,
            "height": null,
            "justify_content": null,
            "justify_items": null,
            "left": null,
            "margin": null,
            "max_height": null,
            "max_width": null,
            "min_height": null,
            "min_width": null,
            "object_fit": null,
            "object_position": null,
            "order": null,
            "overflow": null,
            "overflow_x": null,
            "overflow_y": null,
            "padding": null,
            "right": null,
            "top": null,
            "visibility": null,
            "width": null
          }
        },
        "7b6bcb927ec04db88448924ec32be00f": {
          "model_module": "@jupyter-widgets/controls",
          "model_name": "DescriptionStyleModel",
          "model_module_version": "1.5.0",
          "state": {
            "_model_module": "@jupyter-widgets/controls",
            "_model_module_version": "1.5.0",
            "_model_name": "DescriptionStyleModel",
            "_view_count": null,
            "_view_module": "@jupyter-widgets/base",
            "_view_module_version": "1.2.0",
            "_view_name": "StyleView",
            "description_width": ""
          }
        }
      }
    },
    "accelerator": "GPU"
  },
  "cells": [
    {
      "cell_type": "markdown",
      "metadata": {
        "id": "view-in-github",
        "colab_type": "text"
      },
      "source": [
        "<a href=\"https://colab.research.google.com/github/otnemrasordep/DadaGP-track-processing/blob/main/bandGP.ipynb\" target=\"_parent\"><img src=\"https://colab.research.google.com/assets/colab-badge.svg\" alt=\"Open In Colab\"/></a>"
      ]
    },
    {
      "cell_type": "code",
      "execution_count": 1,
      "metadata": {
        "id": "pHvzY4rr86W7",
        "colab": {
          "base_uri": "https://localhost:8080/"
        },
        "outputId": "e750575b-d3c3-4826-da23-3ec1f77404c8"
      },
      "outputs": [
        {
          "output_type": "stream",
          "name": "stdout",
          "text": [
            "Mounted at /content/drive\n"
          ]
        }
      ],
      "source": [
        "# Mount drive\n",
        "from google.colab import drive\n",
        "drive.mount('/content/drive')"
      ]
    },
    {
      "cell_type": "code",
      "source": [
        "%cd /content/drive/MyDrive/bandGP\n"
      ],
      "metadata": {
        "colab": {
          "base_uri": "https://localhost:8080/"
        },
        "id": "Tgi9TEuTDOU6",
        "outputId": "8e180b06-cb9e-46b7-c58f-d360a4b2518c"
      },
      "execution_count": 2,
      "outputs": [
        {
          "output_type": "stream",
          "name": "stdout",
          "text": [
            "/content/drive/MyDrive/bandGP\n"
          ]
        }
      ]
    },
    {
      "cell_type": "code",
      "source": [
        "!ls"
      ],
      "metadata": {
        "colab": {
          "base_uri": "https://localhost:8080/"
        },
        "id": "A-lzDkC7DXLI",
        "outputId": "089b7662-351c-4c2f-fa84-f11b38f386c1"
      },
      "execution_count": null,
      "outputs": [
        {
          "output_type": "stream",
          "name": "stdout",
          "text": [
            "filtered_dg-dg-b      filtered_drums.zip\t       tokenized_train_t5_dgdgb-drums\n",
            "filtered_dg-dg-b.zip  __MACOSX\t\t\t       tokenized_validation_t5_dgdgb-drums\n",
            "filtered_drums\t      paired-dataset-dgdgb-drums.json  wandb\n"
          ]
        }
      ]
    },
    {
      "cell_type": "code",
      "source": [
        "# Install necessary libraries\n",
        "!pip install transformers datasets wandb accelerate"
      ],
      "metadata": {
        "colab": {
          "base_uri": "https://localhost:8080/"
        },
        "id": "ftDJhqptCz0N",
        "outputId": "09ebc8b5-4386-407a-af96-5c33e3ebf7a0"
      },
      "execution_count": 3,
      "outputs": [
        {
          "output_type": "stream",
          "name": "stdout",
          "text": [
            "Requirement already satisfied: transformers in /usr/local/lib/python3.10/dist-packages (4.46.2)\n",
            "Collecting datasets\n",
            "  Downloading datasets-3.1.0-py3-none-any.whl.metadata (20 kB)\n",
            "Requirement already satisfied: wandb in /usr/local/lib/python3.10/dist-packages (0.18.7)\n",
            "Requirement already satisfied: accelerate in /usr/local/lib/python3.10/dist-packages (1.1.1)\n",
            "Requirement already satisfied: filelock in /usr/local/lib/python3.10/dist-packages (from transformers) (3.16.1)\n",
            "Requirement already satisfied: huggingface-hub<1.0,>=0.23.2 in /usr/local/lib/python3.10/dist-packages (from transformers) (0.26.2)\n",
            "Requirement already satisfied: numpy>=1.17 in /usr/local/lib/python3.10/dist-packages (from transformers) (1.26.4)\n",
            "Requirement already satisfied: packaging>=20.0 in /usr/local/lib/python3.10/dist-packages (from transformers) (24.2)\n",
            "Requirement already satisfied: pyyaml>=5.1 in /usr/local/lib/python3.10/dist-packages (from transformers) (6.0.2)\n",
            "Requirement already satisfied: regex!=2019.12.17 in /usr/local/lib/python3.10/dist-packages (from transformers) (2024.9.11)\n",
            "Requirement already satisfied: requests in /usr/local/lib/python3.10/dist-packages (from transformers) (2.32.3)\n",
            "Requirement already satisfied: safetensors>=0.4.1 in /usr/local/lib/python3.10/dist-packages (from transformers) (0.4.5)\n",
            "Requirement already satisfied: tokenizers<0.21,>=0.20 in /usr/local/lib/python3.10/dist-packages (from transformers) (0.20.3)\n",
            "Requirement already satisfied: tqdm>=4.27 in /usr/local/lib/python3.10/dist-packages (from transformers) (4.66.6)\n",
            "Requirement already satisfied: pyarrow>=15.0.0 in /usr/local/lib/python3.10/dist-packages (from datasets) (17.0.0)\n",
            "Collecting dill<0.3.9,>=0.3.0 (from datasets)\n",
            "  Downloading dill-0.3.8-py3-none-any.whl.metadata (10 kB)\n",
            "Requirement already satisfied: pandas in /usr/local/lib/python3.10/dist-packages (from datasets) (2.2.2)\n",
            "Collecting xxhash (from datasets)\n",
            "  Downloading xxhash-3.5.0-cp310-cp310-manylinux_2_17_x86_64.manylinux2014_x86_64.whl.metadata (12 kB)\n",
            "Collecting multiprocess<0.70.17 (from datasets)\n",
            "  Downloading multiprocess-0.70.16-py310-none-any.whl.metadata (7.2 kB)\n",
            "Collecting fsspec<=2024.9.0,>=2023.1.0 (from fsspec[http]<=2024.9.0,>=2023.1.0->datasets)\n",
            "  Downloading fsspec-2024.9.0-py3-none-any.whl.metadata (11 kB)\n",
            "Requirement already satisfied: aiohttp in /usr/local/lib/python3.10/dist-packages (from datasets) (3.11.2)\n",
            "Requirement already satisfied: click!=8.0.0,>=7.1 in /usr/local/lib/python3.10/dist-packages (from wandb) (8.1.7)\n",
            "Requirement already satisfied: docker-pycreds>=0.4.0 in /usr/local/lib/python3.10/dist-packages (from wandb) (0.4.0)\n",
            "Requirement already satisfied: gitpython!=3.1.29,>=1.0.0 in /usr/local/lib/python3.10/dist-packages (from wandb) (3.1.43)\n",
            "Requirement already satisfied: platformdirs in /usr/local/lib/python3.10/dist-packages (from wandb) (4.3.6)\n",
            "Requirement already satisfied: protobuf!=4.21.0,!=5.28.0,<6,>=3.19.0 in /usr/local/lib/python3.10/dist-packages (from wandb) (4.25.5)\n",
            "Requirement already satisfied: psutil>=5.0.0 in /usr/local/lib/python3.10/dist-packages (from wandb) (5.9.5)\n",
            "Requirement already satisfied: sentry-sdk>=2.0.0 in /usr/local/lib/python3.10/dist-packages (from wandb) (2.18.0)\n",
            "Requirement already satisfied: setproctitle in /usr/local/lib/python3.10/dist-packages (from wandb) (1.3.4)\n",
            "Requirement already satisfied: setuptools in /usr/local/lib/python3.10/dist-packages (from wandb) (75.1.0)\n",
            "Requirement already satisfied: typing-extensions<5,>=4.4 in /usr/local/lib/python3.10/dist-packages (from wandb) (4.12.2)\n",
            "Requirement already satisfied: torch>=1.10.0 in /usr/local/lib/python3.10/dist-packages (from accelerate) (2.5.1+cu121)\n",
            "Requirement already satisfied: six>=1.4.0 in /usr/local/lib/python3.10/dist-packages (from docker-pycreds>=0.4.0->wandb) (1.16.0)\n",
            "Requirement already satisfied: aiohappyeyeballs>=2.3.0 in /usr/local/lib/python3.10/dist-packages (from aiohttp->datasets) (2.4.3)\n",
            "Requirement already satisfied: aiosignal>=1.1.2 in /usr/local/lib/python3.10/dist-packages (from aiohttp->datasets) (1.3.1)\n",
            "Requirement already satisfied: attrs>=17.3.0 in /usr/local/lib/python3.10/dist-packages (from aiohttp->datasets) (24.2.0)\n",
            "Requirement already satisfied: frozenlist>=1.1.1 in /usr/local/lib/python3.10/dist-packages (from aiohttp->datasets) (1.5.0)\n",
            "Requirement already satisfied: multidict<7.0,>=4.5 in /usr/local/lib/python3.10/dist-packages (from aiohttp->datasets) (6.1.0)\n",
            "Requirement already satisfied: propcache>=0.2.0 in /usr/local/lib/python3.10/dist-packages (from aiohttp->datasets) (0.2.0)\n",
            "Requirement already satisfied: yarl<2.0,>=1.17.0 in /usr/local/lib/python3.10/dist-packages (from aiohttp->datasets) (1.17.2)\n",
            "Requirement already satisfied: async-timeout<6.0,>=4.0 in /usr/local/lib/python3.10/dist-packages (from aiohttp->datasets) (4.0.3)\n",
            "Requirement already satisfied: gitdb<5,>=4.0.1 in /usr/local/lib/python3.10/dist-packages (from gitpython!=3.1.29,>=1.0.0->wandb) (4.0.11)\n",
            "Requirement already satisfied: charset-normalizer<4,>=2 in /usr/local/lib/python3.10/dist-packages (from requests->transformers) (3.4.0)\n",
            "Requirement already satisfied: idna<4,>=2.5 in /usr/local/lib/python3.10/dist-packages (from requests->transformers) (3.10)\n",
            "Requirement already satisfied: urllib3<3,>=1.21.1 in /usr/local/lib/python3.10/dist-packages (from requests->transformers) (2.2.3)\n",
            "Requirement already satisfied: certifi>=2017.4.17 in /usr/local/lib/python3.10/dist-packages (from requests->transformers) (2024.8.30)\n",
            "Requirement already satisfied: networkx in /usr/local/lib/python3.10/dist-packages (from torch>=1.10.0->accelerate) (3.4.2)\n",
            "Requirement already satisfied: jinja2 in /usr/local/lib/python3.10/dist-packages (from torch>=1.10.0->accelerate) (3.1.4)\n",
            "Requirement already satisfied: sympy==1.13.1 in /usr/local/lib/python3.10/dist-packages (from torch>=1.10.0->accelerate) (1.13.1)\n",
            "Requirement already satisfied: mpmath<1.4,>=1.1.0 in /usr/local/lib/python3.10/dist-packages (from sympy==1.13.1->torch>=1.10.0->accelerate) (1.3.0)\n",
            "Requirement already satisfied: python-dateutil>=2.8.2 in /usr/local/lib/python3.10/dist-packages (from pandas->datasets) (2.8.2)\n",
            "Requirement already satisfied: pytz>=2020.1 in /usr/local/lib/python3.10/dist-packages (from pandas->datasets) (2024.2)\n",
            "Requirement already satisfied: tzdata>=2022.7 in /usr/local/lib/python3.10/dist-packages (from pandas->datasets) (2024.2)\n",
            "Requirement already satisfied: smmap<6,>=3.0.1 in /usr/local/lib/python3.10/dist-packages (from gitdb<5,>=4.0.1->gitpython!=3.1.29,>=1.0.0->wandb) (5.0.1)\n",
            "Requirement already satisfied: MarkupSafe>=2.0 in /usr/local/lib/python3.10/dist-packages (from jinja2->torch>=1.10.0->accelerate) (3.0.2)\n",
            "Downloading datasets-3.1.0-py3-none-any.whl (480 kB)\n",
            "\u001b[2K   \u001b[90m━━━━━━━━━━━━━━━━━━━━━━━━━━━━━━━━━━━━━━━━\u001b[0m \u001b[32m480.6/480.6 kB\u001b[0m \u001b[31m12.8 MB/s\u001b[0m eta \u001b[36m0:00:00\u001b[0m\n",
            "\u001b[?25hDownloading dill-0.3.8-py3-none-any.whl (116 kB)\n",
            "\u001b[2K   \u001b[90m━━━━━━━━━━━━━━━━━━━━━━━━━━━━━━━━━━━━━━━━\u001b[0m \u001b[32m116.3/116.3 kB\u001b[0m \u001b[31m10.7 MB/s\u001b[0m eta \u001b[36m0:00:00\u001b[0m\n",
            "\u001b[?25hDownloading fsspec-2024.9.0-py3-none-any.whl (179 kB)\n",
            "\u001b[2K   \u001b[90m━━━━━━━━━━━━━━━━━━━━━━━━━━━━━━━━━━━━━━━━\u001b[0m \u001b[32m179.3/179.3 kB\u001b[0m \u001b[31m18.4 MB/s\u001b[0m eta \u001b[36m0:00:00\u001b[0m\n",
            "\u001b[?25hDownloading multiprocess-0.70.16-py310-none-any.whl (134 kB)\n",
            "\u001b[2K   \u001b[90m━━━━━━━━━━━━━━━━━━━━━━━━━━━━━━━━━━━━━━━━\u001b[0m \u001b[32m134.8/134.8 kB\u001b[0m \u001b[31m14.9 MB/s\u001b[0m eta \u001b[36m0:00:00\u001b[0m\n",
            "\u001b[?25hDownloading xxhash-3.5.0-cp310-cp310-manylinux_2_17_x86_64.manylinux2014_x86_64.whl (194 kB)\n",
            "\u001b[2K   \u001b[90m━━━━━━━━━━━━━━━━━━━━━━━━━━━━━━━━━━━━━━━━\u001b[0m \u001b[32m194.1/194.1 kB\u001b[0m \u001b[31m19.8 MB/s\u001b[0m eta \u001b[36m0:00:00\u001b[0m\n",
            "\u001b[?25hInstalling collected packages: xxhash, fsspec, dill, multiprocess, datasets\n",
            "  Attempting uninstall: fsspec\n",
            "    Found existing installation: fsspec 2024.10.0\n",
            "    Uninstalling fsspec-2024.10.0:\n",
            "      Successfully uninstalled fsspec-2024.10.0\n",
            "\u001b[31mERROR: pip's dependency resolver does not currently take into account all the packages that are installed. This behaviour is the source of the following dependency conflicts.\n",
            "gcsfs 2024.10.0 requires fsspec==2024.10.0, but you have fsspec 2024.9.0 which is incompatible.\u001b[0m\u001b[31m\n",
            "\u001b[0mSuccessfully installed datasets-3.1.0 dill-0.3.8 fsspec-2024.9.0 multiprocess-0.70.16 xxhash-3.5.0\n"
          ]
        }
      ]
    },
    {
      "cell_type": "code",
      "source": [
        "# Import required libraries\n",
        "import wandb\n",
        "from transformers import T5Tokenizer, T5ForConditionalGeneration, Trainer, TrainingArguments\n",
        "from datasets import load_dataset"
      ],
      "metadata": {
        "id": "lVnqF2BnC845"
      },
      "execution_count": 4,
      "outputs": []
    },
    {
      "cell_type": "code",
      "source": [
        "`f4b59c6bd3b9fe56f0dce11ecd227554c36bae87`"
      ],
      "metadata": {
        "id": "ptMIajk43iGR"
      },
      "execution_count": null,
      "outputs": []
    },
    {
      "cell_type": "code",
      "source": [
        "# Initialize Weights & Biases\n",
        "# wandb.login(relogin=True)\n",
        "wandb.login()"
      ],
      "metadata": {
        "id": "WaH4Gq77EF3q",
        "colab": {
          "base_uri": "https://localhost:8080/",
          "height": 139
        },
        "outputId": "a677d3e5-456c-49c9-b1b3-0de24b2b0972"
      },
      "execution_count": 5,
      "outputs": [
        {
          "output_type": "stream",
          "name": "stderr",
          "text": [
            "\u001b[34m\u001b[1mwandb\u001b[0m: Using wandb-core as the SDK backend.  Please refer to https://wandb.me/wandb-core for more information.\n"
          ]
        },
        {
          "output_type": "display_data",
          "data": {
            "text/plain": [
              "<IPython.core.display.Javascript object>"
            ],
            "application/javascript": [
              "\n",
              "        window._wandbApiKey = new Promise((resolve, reject) => {\n",
              "            function loadScript(url) {\n",
              "            return new Promise(function(resolve, reject) {\n",
              "                let newScript = document.createElement(\"script\");\n",
              "                newScript.onerror = reject;\n",
              "                newScript.onload = resolve;\n",
              "                document.body.appendChild(newScript);\n",
              "                newScript.src = url;\n",
              "            });\n",
              "            }\n",
              "            loadScript(\"https://cdn.jsdelivr.net/npm/postmate/build/postmate.min.js\").then(() => {\n",
              "            const iframe = document.createElement('iframe')\n",
              "            iframe.style.cssText = \"width:0;height:0;border:none\"\n",
              "            document.body.appendChild(iframe)\n",
              "            const handshake = new Postmate({\n",
              "                container: iframe,\n",
              "                url: 'https://wandb.ai/authorize'\n",
              "            });\n",
              "            const timeout = setTimeout(() => reject(\"Couldn't auto authenticate\"), 5000)\n",
              "            handshake.then(function(child) {\n",
              "                child.on('authorize', data => {\n",
              "                    clearTimeout(timeout)\n",
              "                    resolve(data)\n",
              "                });\n",
              "            });\n",
              "            })\n",
              "        });\n",
              "    "
            ]
          },
          "metadata": {}
        },
        {
          "output_type": "stream",
          "name": "stderr",
          "text": [
            "\u001b[34m\u001b[1mwandb\u001b[0m: Logging into wandb.ai. (Learn how to deploy a W&B server locally: https://wandb.me/wandb-server)\n",
            "\u001b[34m\u001b[1mwandb\u001b[0m: You can find your API key in your browser here: https://wandb.ai/authorize\n",
            "wandb: Paste an API key from your profile and hit enter, or press ctrl+c to quit:"
          ]
        },
        {
          "name": "stdout",
          "output_type": "stream",
          "text": [
            " ··········\n"
          ]
        },
        {
          "output_type": "stream",
          "name": "stderr",
          "text": [
            "\u001b[34m\u001b[1mwandb\u001b[0m: Appending key for api.wandb.ai to your netrc file: /root/.netrc\n"
          ]
        },
        {
          "output_type": "execute_result",
          "data": {
            "text/plain": [
              "True"
            ]
          },
          "metadata": {},
          "execution_count": 5
        }
      ]
    },
    {
      "cell_type": "code",
      "source": [
        "# Start a new W&B run with increased timeout\n",
        "wandb.init(\n",
        "    project=\"bandGP-finetuning-t5\",\n",
        "    entity=\"otnemrasordep-queen-mary-university-of-london\",\n",
        "    settings=wandb.Settings(init_timeout=120),  # Increase timeout to 120 seconds\n",
        ")"
      ],
      "metadata": {
        "colab": {
          "base_uri": "https://localhost:8080/",
          "height": 142
        },
        "collapsed": true,
        "id": "fsjSvxVFJFAt",
        "outputId": "93a2d678-63af-4573-e26e-a29d098aa821"
      },
      "execution_count": 6,
      "outputs": [
        {
          "output_type": "stream",
          "name": "stderr",
          "text": [
            "\u001b[34m\u001b[1mwandb\u001b[0m: Currently logged in as: \u001b[33motnemrasordep\u001b[0m (\u001b[33motnemrasordep-queen-mary-university-of-london\u001b[0m). Use \u001b[1m`wandb login --relogin`\u001b[0m to force relogin\n"
          ]
        },
        {
          "output_type": "display_data",
          "data": {
            "text/plain": [
              "<IPython.core.display.HTML object>"
            ],
            "text/html": [
              "Tracking run with wandb version 0.18.7"
            ]
          },
          "metadata": {}
        },
        {
          "output_type": "display_data",
          "data": {
            "text/plain": [
              "<IPython.core.display.HTML object>"
            ],
            "text/html": [
              "Run data is saved locally in <code>/content/drive/MyDrive/bandGP/wandb/run-20241127_142744-o0q01xl0</code>"
            ]
          },
          "metadata": {}
        },
        {
          "output_type": "display_data",
          "data": {
            "text/plain": [
              "<IPython.core.display.HTML object>"
            ],
            "text/html": [
              "Syncing run <strong><a href='https://wandb.ai/otnemrasordep-queen-mary-university-of-london/bandGP-finetuning-t5/runs/o0q01xl0' target=\"_blank\">soft-lake-11</a></strong> to <a href='https://wandb.ai/otnemrasordep-queen-mary-university-of-london/bandGP-finetuning-t5' target=\"_blank\">Weights & Biases</a> (<a href='https://wandb.me/developer-guide' target=\"_blank\">docs</a>)<br/>"
            ]
          },
          "metadata": {}
        },
        {
          "output_type": "display_data",
          "data": {
            "text/plain": [
              "<IPython.core.display.HTML object>"
            ],
            "text/html": [
              " View project at <a href='https://wandb.ai/otnemrasordep-queen-mary-university-of-london/bandGP-finetuning-t5' target=\"_blank\">https://wandb.ai/otnemrasordep-queen-mary-university-of-london/bandGP-finetuning-t5</a>"
            ]
          },
          "metadata": {}
        },
        {
          "output_type": "display_data",
          "data": {
            "text/plain": [
              "<IPython.core.display.HTML object>"
            ],
            "text/html": [
              " View run at <a href='https://wandb.ai/otnemrasordep-queen-mary-university-of-london/bandGP-finetuning-t5/runs/o0q01xl0' target=\"_blank\">https://wandb.ai/otnemrasordep-queen-mary-university-of-london/bandGP-finetuning-t5/runs/o0q01xl0</a>"
            ]
          },
          "metadata": {}
        },
        {
          "output_type": "execute_result",
          "data": {
            "text/html": [
              "<button onClick=\"this.nextSibling.style.display='block';this.style.display='none';\">Display W&B run</button><iframe src='https://wandb.ai/otnemrasordep-queen-mary-university-of-london/bandGP-finetuning-t5/runs/o0q01xl0?jupyter=true' style='border:none;width:100%;height:420px;display:none;'></iframe>"
            ],
            "text/plain": [
              "<wandb.sdk.wandb_run.Run at 0x7fd6c9c86500>"
            ]
          },
          "metadata": {},
          "execution_count": 6
        }
      ]
    },
    {
      "cell_type": "code",
      "source": [
        "# Extract INPUT\n",
        "import zipfile\n",
        "import os\n",
        "from tqdm.notebook import tqdm\n",
        "\n",
        "# Path to your ZIP file\n",
        "zip_file_path = \"/content/drive/MyDrive/bandGP/filtered_dg-dg-b.zip\"\n",
        "# Destination folder for extracted files\n",
        "extract_to = \"/content/drive/MyDrive/bandGP/\"\n",
        "\n",
        "# Open the ZIP file\n",
        "with zipfile.ZipFile(zip_file_path, 'r') as zip_ref:\n",
        "    # Get the list of files in the ZIP archive\n",
        "    file_list = zip_ref.namelist()\n",
        "    total_files = len(file_list)\n",
        "\n",
        "    # Use tqdm to show progress\n",
        "    with tqdm(total=total_files, desc=\"Extracting files\") as pbar:\n",
        "        for file in file_list:\n",
        "            zip_ref.extract(file, extract_to)\n",
        "            pbar.update(1)  # Update progress\n"
      ],
      "metadata": {
        "colab": {
          "base_uri": "https://localhost:8080/",
          "height": 49,
          "referenced_widgets": [
            "05c2495b861246c9b9780a966403bba8",
            "b77aff4de9fe4180aeee6711d1baf457",
            "fc794bf1fd5c42ac999f73738b8f9faa",
            "7c794f84b22241dc9f667681c4636481",
            "0c48fdc63c974e03877fde5ef67079b8",
            "cf54e805cafd47848e954e9c612ccc24",
            "a02c048470f44a008fb9ffde85f9f79c",
            "4128edaa25494804aabf90db4cbe0adb",
            "3ebee5693b1440f38d493c5d4116b30b",
            "6bbe29264d83450db785575e94d39fef",
            "580e9450152448fc957bfbf89d137e35"
          ]
        },
        "id": "KSkqr11RUmdp",
        "outputId": "f2d6dad6-6238-422f-f6be-eca4495034c9"
      },
      "execution_count": null,
      "outputs": [
        {
          "output_type": "display_data",
          "data": {
            "text/plain": [
              "Extracting files:   0%|          | 0/49574 [00:00<?, ?it/s]"
            ],
            "application/vnd.jupyter.widget-view+json": {
              "version_major": 2,
              "version_minor": 0,
              "model_id": "05c2495b861246c9b9780a966403bba8"
            }
          },
          "metadata": {}
        }
      ]
    },
    {
      "cell_type": "code",
      "source": [
        "len(os.listdir('/content/drive/MyDrive/bandGP/filtered_dg-dg-b'))"
      ],
      "metadata": {
        "colab": {
          "base_uri": "https://localhost:8080/"
        },
        "id": "hCGCJy-qboUI",
        "outputId": "8a39e8eb-a7d4-40bd-8fbb-b4230100e14d"
      },
      "execution_count": null,
      "outputs": [
        {
          "output_type": "execute_result",
          "data": {
            "text/plain": [
              "49572"
            ]
          },
          "metadata": {},
          "execution_count": 15
        }
      ]
    },
    {
      "cell_type": "code",
      "source": [
        "!rm -r /content/drive/MyDrive/bandGP/filtered_drums"
      ],
      "metadata": {
        "id": "nXYk61IjkxK9"
      },
      "execution_count": null,
      "outputs": []
    },
    {
      "cell_type": "code",
      "source": [
        "# Extract OUTPUT\n",
        "import zipfile\n",
        "import os\n",
        "from tqdm.notebook import tqdm\n",
        "\n",
        "# Path to your ZIP file\n",
        "zip_file_path = \"/content/drive/MyDrive/bandGP/filtered_drums.zip\"\n",
        "# Destination folder for extracted files\n",
        "extract_to = \"/content/drive/MyDrive/bandGP/\"\n",
        "\n",
        "# Open the ZIP file\n",
        "with zipfile.ZipFile(zip_file_path, 'r') as zip_ref:\n",
        "    # Get the list of files in the ZIP archive\n",
        "    file_list = zip_ref.namelist()\n",
        "    total_files = len(file_list)\n",
        "\n",
        "    # Use tqdm to show progress\n",
        "    with tqdm(total=total_files, desc=\"Extracting files\") as pbar:\n",
        "        for file in file_list:\n",
        "            # print(file)\n",
        "            zip_ref.extract(file, extract_to)\n",
        "            pbar.update(1)  # Update progress"
      ],
      "metadata": {
        "colab": {
          "base_uri": "https://localhost:8080/",
          "height": 49,
          "referenced_widgets": [
            "e2c0aab41ad547e286c5b32acd4c86d7",
            "0fa2651e094a4892a7bf785f86a9b9a9",
            "e27e3ed595e34ee495f457489430c6c4",
            "6d5d1b8f1e70427db56cd304348516af",
            "bd16fe0bb6d2451f9d7bda36459bda74",
            "f5cc6f438f134d14a77db3f1f4f18c9a",
            "1d3cd689f3f74278a51b2664b16dbf58",
            "536a11ceb17f41c2a5aba005f25e3fe9",
            "35f98615ae3c464cb69f3300bfa3bdc3",
            "717e2650d971482d8d47d521be793684",
            "2f38e6360dd6491db221e2afbaa1a522"
          ]
        },
        "id": "T5hsvP_YYbgQ",
        "outputId": "af51c070-934a-407e-e6f2-4f1783ad029a"
      },
      "execution_count": null,
      "outputs": [
        {
          "output_type": "display_data",
          "data": {
            "text/plain": [
              "Extracting files:   0%|          | 0/49574 [00:00<?, ?it/s]"
            ],
            "application/vnd.jupyter.widget-view+json": {
              "version_major": 2,
              "version_minor": 0,
              "model_id": "e2c0aab41ad547e286c5b32acd4c86d7"
            }
          },
          "metadata": {}
        }
      ]
    },
    {
      "cell_type": "code",
      "source": [
        "len(os.listdir('/content/drive/MyDrive/bandGP/filtered_drums'))"
      ],
      "metadata": {
        "colab": {
          "base_uri": "https://localhost:8080/"
        },
        "id": "m35mAqUBb8Ew",
        "outputId": "60604a42-6c62-4d26-fe3a-9a01303224a5"
      },
      "execution_count": null,
      "outputs": [
        {
          "output_type": "execute_result",
          "data": {
            "text/plain": [
              "49572"
            ]
          },
          "metadata": {},
          "execution_count": 19
        }
      ]
    },
    {
      "cell_type": "code",
      "source": [
        "import json\n",
        "\n",
        "# Collect input-output pairs\n",
        "# T5 expects a \"Input: xxx; Output: yyy\" format for every file\n",
        "pairs = []\n",
        "\n",
        "# Input and output directories\n",
        "input_dir = \"/content/drive/MyDrive/bandGP/filtered_dg-dg-b\"\n",
        "output_dir = \"/content/drive/MyDrive/bandGP/filtered_drums\"\n",
        "\n",
        "# Ensure files are sorted for pairing\n",
        "input_files = sorted(os.listdir(input_dir))\n",
        "output_files = sorted(os.listdir(output_dir))\n",
        "\n",
        "# Create pairs\n",
        "for x_file, y_file in tqdm(zip(input_files, output_files)):\n",
        "    x_path = os.path.join(input_dir, x_file)\n",
        "    y_path = os.path.join(output_dir, y_file)\n",
        "\n",
        "    with open(x_path, \"r\") as x, open(y_path, \"r\") as y:\n",
        "        input_text = x.read().strip()\n",
        "        output_text = y.read().strip()\n",
        "        pairs.append(f\"Input: {input_text}\\nOutput: {output_text}\")\n",
        "\n",
        "with open(\"paired-dataset-dgdgb-drums.json\", \"w\") as final:\n",
        "\tjson.dump(pairs, final)"
      ],
      "metadata": {
        "colab": {
          "base_uri": "https://localhost:8080/",
          "height": 49,
          "referenced_widgets": [
            "a1233cd8ad15448fa44b1c9fe883f415",
            "b89b7d00f3e7417cbca7b96cde64e011",
            "afad1bc9921541ca96e649ae5c7e0369",
            "b74e115412eb41d6aaaf77cc8f278894",
            "ed6dae4ba6364eef80efc54ef8d1389d",
            "e4d2840cc3b04dc08c7df0725451c8f6",
            "143f0b2b20f54f5187a11e95a39cc501",
            "05e87a71b1d54c73adc1ece051e6c91a",
            "8e4f224962b84e779d372ecec7973663",
            "12281ded82d143dcbf9a6623b778a937",
            "d3af595e75af4544a0c200c379be1264"
          ]
        },
        "id": "_Sh1i5e_Yfu2",
        "outputId": "1c73e51b-7342-4354-bbe4-a30988bce59f"
      },
      "execution_count": null,
      "outputs": [
        {
          "output_type": "display_data",
          "data": {
            "text/plain": [
              "0it [00:00, ?it/s]"
            ],
            "application/vnd.jupyter.widget-view+json": {
              "version_major": 2,
              "version_minor": 0,
              "model_id": "a1233cd8ad15448fa44b1c9fe883f415"
            }
          },
          "metadata": {}
        }
      ]
    },
    {
      "cell_type": "code",
      "source": [
        "import json\n",
        "\n",
        "with open(\"paired-dataset-dgdgb-drums.json\", \"r\") as final:\n",
        "\tpairs = json.load(final)"
      ],
      "metadata": {
        "id": "IqF4b9aPus0O"
      },
      "execution_count": null,
      "outputs": []
    },
    {
      "cell_type": "code",
      "source": [
        "from datasets import load_dataset\n",
        "\n",
        "# Load the JSON dataset\n",
        "dataset = load_dataset(\"json\", data_files={\"data\": \"paired-dataset-dgdgb-drums.json\"})\n",
        "dataset = dataset[\"data\"]  # Access the dataset\n"
      ],
      "metadata": {
        "colab": {
          "base_uri": "https://localhost:8080/",
          "height": 49,
          "referenced_widgets": [
            "b94f64fdda0e405e8de12b65644f0c6d",
            "090fb073b57c4659afdb24b227c0f0b2",
            "adc85c37deed46909e865b6e60e99a94",
            "569853c46ef6463b9fddc539c777ddfc",
            "766516e1d1434b53a2ed842beee2f354",
            "c0591685a49c40ae9f338ae772cf3716",
            "cc91e8831af44c15976660e5138a5758",
            "117f1b9b7581450da5e6cec25a4603d2",
            "78cd0842818e4c3c95cba382ce311152",
            "69d63c7d046b453f82f256179f246f2d",
            "3fc69a6188624289b9c1c920f90b5524"
          ]
        },
        "id": "zfzH8b_J91k0",
        "outputId": "c476e89a-8edd-42f5-cd5f-af63fe0d6b41"
      },
      "execution_count": null,
      "outputs": [
        {
          "output_type": "display_data",
          "data": {
            "text/plain": [
              "Generating data split: 0 examples [00:00, ? examples/s]"
            ],
            "application/vnd.jupyter.widget-view+json": {
              "version_major": 2,
              "version_minor": 0,
              "model_id": "b94f64fdda0e405e8de12b65644f0c6d"
            }
          },
          "metadata": {}
        }
      ]
    },
    {
      "cell_type": "code",
      "source": [
        "# Split into training and validation (80-20 split)\n",
        "split = dataset.train_test_split(test_size=0.2, seed=42)\n",
        "\n",
        "train_dataset = split[\"train\"]\n",
        "validation_dataset = split[\"test\"]\n"
      ],
      "metadata": {
        "id": "QqDBkukn_vwO"
      },
      "execution_count": null,
      "outputs": []
    },
    {
      "cell_type": "code",
      "source": [
        "print(f'Training set: {len(train_dataset)} exampples')\n",
        "print(f'Validation set: {len(validation_dataset)} exampples')"
      ],
      "metadata": {
        "colab": {
          "base_uri": "https://localhost:8080/"
        },
        "id": "X8iHD2zdvqVx",
        "outputId": "4fce7a38-8c68-4c26-d3b7-cf20bcb4bad9"
      },
      "execution_count": null,
      "outputs": [
        {
          "output_type": "stream",
          "name": "stdout",
          "text": [
            "Training set: 39657 exampples\n",
            "Validation set: 9915 exampples\n"
          ]
        }
      ]
    },
    {
      "cell_type": "code",
      "source": [
        "print(dataset[0])"
      ],
      "metadata": {
        "colab": {
          "base_uri": "https://localhost:8080/"
        },
        "id": "W37V6zuiwH8o",
        "outputId": "9f02483c-833a-4936-86c5-25fcbd179c63"
      },
      "execution_count": null,
      "outputs": [
        {
          "output_type": "stream",
          "name": "stdout",
          "text": [
            "{'text': 'Input: artist:dgdgb\\ndowntune:-3\\ntempo:100\\nstart\\nnew_measure\\ndistorted0:note:s6:f-2\\ndistorted1:note:s6:f-2\\nbass:note:s5:f-2\\nwait:480\\ndistorted0:note:s3:f10\\ndistorted0:note:s4:f10\\ndistorted0:note:s5:f8\\ndistorted1:note:s3:f10\\ndistorted1:note:s4:f10\\ndistorted1:note:s5:f8\\nbass:note:s4:f8\\nwait:240\\ndistorted0:note:s3:f10\\ndistorted0:note:s4:f10\\ndistorted0:note:s5:f8\\ndistorted1:note:s3:f10\\ndistorted1:note:s4:f10\\ndistorted1:note:s5:f8\\nbass:note:s4:f8\\nwait:240\\ndistorted0:note:s3:f10\\ndistorted0:note:s4:f10\\ndistorted0:note:s5:f8\\ndistorted1:note:s3:f10\\ndistorted1:note:s4:f10\\ndistorted1:note:s5:f8\\nbass:note:s4:f8\\nwait:240\\ndistorted0:note:s3:f10\\ndistorted0:note:s4:f10\\ndistorted0:note:s5:f8\\ndistorted1:note:s3:f10\\ndistorted1:note:s4:f10\\ndistorted1:note:s5:f8\\nbass:note:s4:f8\\nwait:240\\ndistorted0:note:s5:f0\\nnfx:dead\\ndistorted0:note:s6:f-2\\nnfx:dead\\ndistorted1:note:s5:f0\\nnfx:dead\\ndistorted1:note:s6:f-2\\nnfx:dead\\nbass:rest\\nwait:240\\ndistorted0:note:s5:f0\\nnfx:dead\\ndistorted0:note:s6:f-2\\nnfx:dead\\ndistorted1:note:s5:f0\\nnfx:dead\\ndistorted1:note:s6:f-2\\nnfx:dead\\nwait:240\\ndistorted0:note:s3:f6\\ndistorted0:note:s4:f6\\ndistorted0:note:s5:f4\\ndistorted1:note:s3:f6\\ndistorted1:note:s4:f6\\ndistorted1:note:s5:f4\\nbass:note:s4:f4\\nwait:240\\ndistorted0:note:s3:f6\\ndistorted0:note:s4:f6\\ndistorted0:note:s5:f4\\ndistorted1:note:s3:f6\\ndistorted1:note:s4:f6\\ndistorted1:note:s5:f4\\nbass:note:s4:f4\\nwait:240\\ndistorted0:note:s3:f6\\ndistorted0:note:s4:f6\\ndistorted0:note:s5:f4\\ndistorted1:note:s3:f6\\ndistorted1:note:s4:f6\\ndistorted1:note:s5:f4\\nbass:note:s4:f4\\nwait:240\\ndistorted0:note:s3:f6\\ndistorted0:note:s4:f6\\ndistorted0:note:s5:f4\\ndistorted1:note:s3:f6\\ndistorted1:note:s4:f6\\ndistorted1:note:s5:f4\\nbass:note:s4:f4\\nwait:240\\ndistorted0:note:s5:f6\\nnfx:dead\\ndistorted0:note:s6:f4\\nnfx:dead\\ndistorted1:note:s5:f6\\nnfx:dead\\ndistorted1:note:s6:f4\\nnfx:dead\\nbass:rest\\nwait:240\\ndistorted0:note:s5:f0\\nnfx:dead\\ndistorted0:note:s6:f-2\\nnfx:dead\\ndistorted1:note:s5:f0\\nnfx:dead\\ndistorted1:note:s6:f-2\\nnfx:dead\\nwait:240\\ndistorted0:note:s4:f6\\ndistorted0:note:s5:f6\\ndistorted0:note:s6:f4\\ndistorted1:note:s4:f6\\ndistorted1:note:s5:f6\\ndistorted1:note:s6:f4\\nbass:note:s5:f4\\nwait:480\\nnew_measure\\ndistorted0:rest\\ndistorted1:rest\\nbass:rest\\nwait:480\\ndistorted0:note:s4:f6\\ndistorted0:note:s5:f6\\ndistorted0:note:s6:f4\\ndistorted1:note:s3:f10\\ndistorted1:note:s4:f10\\nnfx:dead\\ndistorted1:note:s5:f8\\nbass:note:s5:f4\\nwait:240\\ndistorted0:note:s4:f6\\ndistorted0:note:s5:f6\\ndistorted0:note:s6:f4\\ndistorted1:note:s3:f10\\ndistorted1:note:s4:f6\\nnfx:dead\\ndistorted1:note:s5:f8\\nbass:note:s5:f4\\nwait:240\\ndistorted0:note:s4:f6\\ndistorted0:note:s5:f6\\ndistorted0:note:s6:f4\\ndistorted1:note:s3:f10\\ndistorted1:note:s4:f6\\nnfx:dead\\ndistorted1:note:s5:f8\\nbass:note:s5:f4\\nwait:240\\ndistorted0:note:s4:f6\\ndistorted0:note:s5:f6\\ndistorted0:note:s6:f4\\ndistorted1:note:s3:f10\\ndistorted1:note:s4:f6\\nnfx:dead\\ndistorted1:note:s5:f8\\nbass:note:s5:f4\\nwait:240\\ndistorted0:note:s5:f0\\nnfx:dead\\ndistorted0:note:s6:f4\\nnfx:dead\\ndistorted1:note:s5:f0\\nnfx:dead\\ndistorted1:note:s6:f4\\nnfx:dead\\nbass:rest\\nwait:240\\ndistorted0:note:s5:f0\\nnfx:dead\\ndistorted0:note:s6:f4\\nnfx:dead\\ndistorted1:note:s5:f0\\nnfx:dead\\ndistorted1:note:s6:f4\\nnfx:dead\\nwait:240\\ndistorted0:note:s4:f5\\ndistorted0:note:s5:f5\\ndistorted0:note:s6:f3\\ndistorted1:note:s3:f10\\ndistorted1:note:s4:f5\\nnfx:dead\\ndistorted1:note:s5:f8\\nbass:note:s5:f3\\nwait:240\\ndistorted0:note:s4:f5\\ndistorted0:note:s5:f5\\ndistorted0:note:s6:f3\\ndistorted1:note:s3:f10\\ndistorted1:note:s4:f5\\nnfx:dead\\ndistorted1:note:s5:f8\\nbass:note:s5:f3\\nwait:240\\ndistorted0:note:s4:f5\\ndistorted0:note:s5:f5\\ndistorted0:note:s6:f3\\ndistorted1:note:s3:f10\\ndistorted1:note:s4:f5\\nnfx:dead\\ndistorted1:note:s5:f8\\nbass:note:s5:f3\\nwait:240\\ndistorted0:note:s4:f5\\ndistorted0:note:s5:f5\\ndistorted0:note:s6:f3\\ndistorted1:note:s3:f10\\ndistorted1:note:s4:f5\\nnfx:dead\\ndistorted1:note:s5:f8\\nbass:note:s5:f3\\nwait:240\\ndistorted0:note:s5:f0\\nnfx:dead\\ndistorted0:note:s6:f-2\\nnfx:dead\\ndistorted1:note:s5:f0\\nnfx:dead\\ndistorted1:note:s6:f-2\\nnfx:dead\\nbass:rest\\nwait:240\\ndistorted0:note:s5:f0\\nnfx:dead\\ndistorted0:note:s6:f-2\\nnfx:dead\\ndistorted1:note:s5:f0\\nnfx:dead\\ndistorted1:note:s6:f-2\\nnfx:dead\\nwait:240\\ndistorted0:note:s4:f5\\ndistorted0:note:s5:f5\\ndistorted0:note:s6:f3\\ndistorted1:note:s3:f10\\ndistorted1:note:s4:f5\\nnfx:dead\\ndistorted1:note:s5:f8\\nbass:note:s5:f3\\nwait:480\\nnew_measure\\ndistorted0:note:s6:f-2\\ndistorted1:note:s6:f-2\\nbass:note:s5:f-2\\nwait:480\\ndistorted0:note:s3:f10\\ndistorted0:note:s4:f10\\ndistorted0:note:s5:f8\\ndistorted1:note:s3:f10\\ndistorted1:note:s4:f10\\ndistorted1:note:s5:f8\\nbass:note:s4:f8\\nwait:240\\ndistorted0:note:s3:f10\\ndistorted0:note:s4:f10\\ndistorted0:note:s5:f8\\ndistorted1:note:s3:f10\\ndistorted1:note:s4:f10\\ndistorted1:note:s5:f8\\nbass:note:s4:f8\\nwait:240\\ndistorted0:note:s3:f10\\ndistorted0:note:s4:f10\\ndistorted0:note:s5:f8\\ndistorted1:note:s3:f10\\ndistorted1:note:s4:f10\\ndistorted1:note:s5:f8\\nbass:note:s4:f8\\nwait:240\\ndistorted0:note:s3:f10\\ndistorted0:note:s4:f10\\ndistorted0:note:s5:f8\\ndistorted1:note:s3:f10\\ndistorted1:note:s4:f10\\ndistorted1:note:s5:f8\\nbass:note:s4:f8\\nwait:240\\ndistorted0:note:s5:f0\\nnfx:dead\\ndistorted0:note:s6:f-2\\nnfx:dead\\ndistorted1:note:s5:f0\\nnfx:dead\\ndistorted1:note:s6:f-2\\nnfx:dead\\nbass:rest\\nwait:240\\ndistorted0:note:s5:f0\\nnfx:dead\\ndistorted0:note:s6:f-2\\nnfx:dead\\ndistorted1:note:s5:f0\\nnfx:dead\\ndistorted1:note:s6:f-2\\nnfx:dead\\nwait:240\\ndistorted0:note:s3:f6\\ndistorted0:note:s4:f6\\ndistorted0:note:s5:f4\\ndistorted1:note:s3:f6\\ndistorted1:note:s4:f6\\ndistorted1:note:s5:f4\\nbass:note:s4:f4\\nwait:240\\ndistorted0:note:s3:f6\\ndistorted0:note:s4:f6\\ndistorted0:note:s5:f4\\ndistorted1:note:s3:f6\\ndistorted1:note:s4:f6\\ndistorted1:note:s5:f4\\nbass:note:s4:f4\\nwait:240\\ndistorted0:note:s3:f6\\ndistorted0:note:s4:f6\\ndistorted0:note:s5:f4\\ndistorted1:note:s3:f6\\ndistorted1:note:s4:f6\\ndistorted1:note:s5:f4\\nbass:note:s4:f4\\nwait:240\\ndistorted0:note:s3:f6\\ndistorted0:note:s4:f6\\ndistorted0:note:s5:f4\\ndistorted1:note:s3:f6\\ndistorted1:note:s4:f6\\ndistorted1:note:s5:f4\\nbass:note:s4:f4\\nwait:240\\ndistorted0:note:s5:f6\\nnfx:dead\\ndistorted0:note:s6:f4\\nnfx:dead\\ndistorted1:note:s5:f6\\nnfx:dead\\ndistorted1:note:s6:f4\\nnfx:dead\\nbass:rest\\nwait:240\\ndistorted0:note:s5:f0\\nnfx:dead\\ndistorted0:note:s6:f-2\\nnfx:dead\\ndistorted1:note:s5:f0\\nnfx:dead\\ndistorted1:note:s6:f-2\\nnfx:dead\\nwait:240\\ndistorted0:note:s4:f6\\ndistorted0:note:s5:f6\\ndistorted0:note:s6:f4\\ndistorted1:note:s4:f6\\ndistorted1:note:s5:f6\\ndistorted1:note:s6:f4\\nbass:note:s5:f4\\nwait:480\\nnew_measure\\ndistorted0:rest\\ndistorted1:rest\\nbass:rest\\nwait:480\\ndistorted0:note:s4:f6\\ndistorted0:note:s5:f6\\ndistorted0:note:s6:f4\\ndistorted1:note:s3:f10\\ndistorted1:note:s4:f10\\nnfx:dead\\ndistorted1:note:s5:f8\\nbass:note:s5:f4\\nwait:240\\ndistorted0:note:s4:f6\\ndistorted0:note:s5:f6\\ndistorted0:note:s6:f4\\ndistorted1:note:s3:f10\\ndistorted1:note:s4:f6\\nnfx:dead\\ndistorted1:note:s5:f8\\nbass:note:s5:f4\\nwait:240\\ndistorted0:note:s4:f6\\ndistorted0:note:s5:f6\\ndistorted0:note:s6:f4\\ndistorted1:note:s3:f10\\ndistorted1:note:s4:f6\\nnfx:dead\\ndistorted1:note:s5:f8\\nbass:note:s5:f4\\nwait:240\\ndistorted0:note:s4:f6\\ndistorted0:note:s5:f6\\ndistorted0:note:s6:f4\\ndistorted1:note:s3:f10\\ndistorted1:note:s4:f6\\nnfx:dead\\ndistorted1:note:s5:f8\\nbass:note:s5:f4\\nwait:240\\ndistorted0:note:s5:f0\\nnfx:dead\\ndistorted0:note:s6:f4\\nnfx:dead\\ndistorted1:note:s5:f0\\nnfx:dead\\ndistorted1:note:s6:f4\\nnfx:dead\\nbass:rest\\nwait:240\\ndistorted0:note:s5:f0\\nnfx:dead\\ndistorted0:note:s6:f4\\nnfx:dead\\ndistorted1:note:s5:f0\\nnfx:dead\\ndistorted1:note:s6:f4\\nnfx:dead\\nwait:240\\ndistorted0:note:s4:f5\\ndistorted0:note:s5:f5\\ndistorted0:note:s6:f3\\ndistorted1:note:s3:f10\\ndistorted1:note:s4:f5\\nnfx:dead\\ndistorted1:note:s5:f8\\nbass:note:s5:f3\\nwait:240\\ndistorted0:note:s4:f5\\ndistorted0:note:s5:f5\\ndistorted0:note:s6:f3\\ndistorted1:note:s3:f10\\ndistorted1:note:s4:f5\\nnfx:dead\\ndistorted1:note:s5:f8\\nbass:note:s5:f3\\nwait:240\\ndistorted0:note:s4:f5\\ndistorted0:note:s5:f5\\ndistorted0:note:s6:f3\\ndistorted1:note:s3:f10\\ndistorted1:note:s4:f5\\nnfx:dead\\ndistorted1:note:s5:f8\\nbass:note:s5:f3\\nwait:240\\ndistorted0:note:s4:f5\\ndistorted0:note:s5:f5\\ndistorted0:note:s6:f3\\ndistorted1:note:s3:f10\\ndistorted1:note:s4:f5\\nnfx:dead\\ndistorted1:note:s5:f8\\nbass:note:s5:f3\\nwait:240\\ndistorted0:note:s5:f0\\nnfx:dead\\ndistorted0:note:s6:f-2\\nnfx:dead\\ndistorted1:note:s5:f0\\nnfx:dead\\ndistorted1:note:s6:f-2\\nnfx:dead\\nbass:rest\\nwait:240\\ndistorted0:note:s5:f0\\nnfx:dead\\ndistorted0:note:s6:f-2\\nnfx:dead\\ndistorted1:note:s5:f0\\nnfx:dead\\ndistorted1:note:s6:f-2\\nnfx:dead\\nwait:240\\ndistorted0:note:s4:f5\\ndistorted0:note:s5:f5\\ndistorted0:note:s6:f3\\ndistorted1:note:s3:f10\\ndistorted1:note:s4:f5\\nnfx:dead\\ndistorted1:note:s5:f8\\nbass:note:s5:f3\\nwait:480\\nnew_measure\\ndistorted0:note:s6:f-2\\ndistorted1:note:s6:f-2\\nbass:note:s5:f-2\\nwait:480\\ndistorted0:note:s3:f10\\ndistorted0:note:s4:f10\\ndistorted0:note:s5:f8\\ndistorted1:note:s3:f10\\ndistorted1:note:s4:f10\\ndistorted1:note:s5:f8\\nbass:note:s4:f8\\nwait:240\\ndistorted0:note:s3:f10\\ndistorted0:note:s4:f10\\ndistorted0:note:s5:f8\\ndistorted1:note:s3:f10\\ndistorted1:note:s4:f10\\ndistorted1:note:s5:f8\\nbass:note:s4:f8\\nwait:240\\ndistorted0:note:s3:f10\\ndistorted0:note:s4:f10\\ndistorted0:note:s5:f8\\ndistorted1:note:s3:f10\\ndistorted1:note:s4:f10\\ndistorted1:note:s5:f8\\nbass:note:s4:f8\\nwait:240\\ndistorted0:note:s3:f10\\ndistorted0:note:s4:f10\\ndistorted0:note:s5:f8\\ndistorted1:note:s3:f10\\ndistorted1:note:s4:f10\\ndistorted1:note:s5:f8\\nbass:note:s4:f8\\nwait:240\\ndistorted0:note:s5:f0\\nnfx:dead\\ndistorted0:note:s6:f-2\\nnfx:dead\\ndistorted1:note:s5:f0\\nnfx:dead\\ndistorted1:note:s6:f-2\\nnfx:dead\\nbass:rest\\nwait:240\\ndistorted0:note:s5:f0\\nnfx:dead\\ndistorted0:note:s6:f-2\\nnfx:dead\\ndistorted1:note:s5:f0\\nnfx:dead\\ndistorted1:note:s6:f-2\\nnfx:dead\\nwait:240\\ndistorted0:note:s3:f6\\ndistorted0:note:s4:f6\\ndistorted0:note:s5:f4\\ndistorted1:note:s3:f6\\ndistorted1:note:s4:f6\\ndistorted1:note:s5:f4\\nbass:note:s4:f4\\nwait:240\\ndistorted0:note:s3:f6\\ndistorted0:note:s4:f6\\ndistorted0:note:s5:f4\\ndistorted1:note:s3:f6\\ndistorted1:note:s4:f6\\ndistorted1:note:s5:f4\\nbass:note:s4:f4\\nwait:240\\ndistorted0:note:s3:f6\\ndistorted0:note:s4:f6\\ndistorted0:note:s5:f4\\ndistorted1:note:s3:f6\\ndistorted1:note:s4:f6\\ndistorted1:note:s5:f4\\nbass:note:s4:f4\\nwait:240\\ndistorted0:note:s3:f6\\ndistorted0:note:s4:f6\\ndistorted0:note:s5:f4\\ndistorted1:note:s3:f6\\ndistorted1:note:s4:f6\\ndistorted1:note:s5:f4\\nbass:note:s4:f4\\nwait:240\\ndistorted0:note:s5:f6\\nnfx:dead\\ndistorted0:note:s6:f4\\nnfx:dead\\ndistorted1:note:s5:f6\\nnfx:dead\\ndistorted1:note:s6:f4\\nnfx:dead\\nbass:rest\\nwait:240\\ndistorted0:note:s5:f0\\nnfx:dead\\ndistorted0:note:s6:f-2\\nnfx:dead\\ndistorted1:note:s5:f0\\nnfx:dead\\ndistorted1:note:s6:f-2\\nnfx:dead\\nwait:240\\ndistorted0:note:s4:f6\\ndistorted0:note:s5:f6\\ndistorted0:note:s6:f4\\ndistorted1:note:s4:f6\\ndistorted1:note:s5:f6\\ndistorted1:note:s6:f4\\nbass:note:s5:f4\\nwait:480\\nnew_measure\\ndistorted0:rest\\ndistorted1:rest\\nbass:rest\\nwait:480\\ndistorted0:note:s4:f6\\ndistorted0:note:s5:f6\\ndistorted0:note:s6:f4\\ndistorted1:note:s3:f10\\ndistorted1:note:s4:f10\\nnfx:dead\\ndistorted1:note:s5:f8\\nbass:note:s5:f4\\nwait:240\\ndistorted0:note:s4:f6\\ndistorted0:note:s5:f6\\ndistorted0:note:s6:f4\\ndistorted1:note:s3:f10\\ndistorted1:note:s4:f6\\nnfx:dead\\ndistorted1:note:s5:f8\\nbass:note:s5:f4\\nwait:240\\ndistorted0:note:s4:f6\\ndistorted0:note:s5:f6\\ndistorted0:note:s6:f4\\ndistorted1:note:s3:f10\\ndistorted1:note:s4:f6\\nnfx:dead\\ndistorted1:note:s5:f8\\nbass:note:s5:f4\\nwait:240\\ndistorted0:note:s4:f6\\ndistorted0:note:s5:f6\\ndistorted0:note:s6:f4\\ndistorted1:note:s3:f10\\ndistorted1:note:s4:f6\\nnfx:dead\\ndistorted1:note:s5:f8\\nbass:note:s5:f4\\nwait:240\\ndistorted0:note:s5:f0\\nnfx:dead\\ndistorted0:note:s6:f4\\nnfx:dead\\ndistorted1:note:s5:f0\\nnfx:dead\\ndistorted1:note:s6:f4\\nnfx:dead\\nbass:rest\\nwait:240\\ndistorted0:note:s5:f0\\nnfx:dead\\ndistorted0:note:s6:f4\\nnfx:dead\\ndistorted1:note:s5:f0\\nnfx:dead\\ndistorted1:note:s6:f4\\nnfx:dead\\nwait:240\\ndistorted0:note:s4:f5\\ndistorted0:note:s5:f5\\ndistorted0:note:s6:f3\\ndistorted1:note:s3:f10\\ndistorted1:note:s4:f5\\nnfx:dead\\ndistorted1:note:s5:f8\\nbass:note:s5:f3\\nwait:240\\ndistorted0:note:s4:f5\\ndistorted0:note:s5:f5\\ndistorted0:note:s6:f3\\ndistorted1:note:s3:f10\\ndistorted1:note:s4:f5\\nnfx:dead\\ndistorted1:note:s5:f8\\nbass:note:s5:f3\\nwait:240\\ndistorted0:note:s4:f5\\ndistorted0:note:s5:f5\\ndistorted0:note:s6:f3\\ndistorted1:note:s3:f10\\ndistorted1:note:s4:f5\\nnfx:dead\\ndistorted1:note:s5:f8\\nbass:note:s5:f3\\nwait:240\\ndistorted0:note:s4:f5\\ndistorted0:note:s5:f5\\ndistorted0:note:s6:f3\\ndistorted1:note:s3:f10\\ndistorted1:note:s4:f5\\nnfx:dead\\ndistorted1:note:s5:f8\\nbass:note:s5:f3\\nwait:240\\ndistorted0:note:s5:f0\\nnfx:dead\\ndistorted0:note:s6:f-2\\nnfx:dead\\ndistorted1:note:s5:f0\\nnfx:dead\\ndistorted1:note:s6:f-2\\nnfx:dead\\nbass:rest\\nwait:240\\ndistorted0:note:s5:f0\\nnfx:dead\\ndistorted0:note:s6:f-2\\nnfx:dead\\ndistorted1:note:s5:f0\\nnfx:dead\\ndistorted1:note:s6:f-2\\nnfx:dead\\nwait:240\\ndistorted0:note:s4:f5\\ndistorted0:note:s5:f5\\ndistorted0:note:s6:f3\\ndistorted1:note:s3:f10\\ndistorted1:note:s4:f5\\nnfx:dead\\ndistorted1:note:s5:f8\\nbass:note:s5:f3\\nwait:480\\nnew_measure\\ndistorted0:note:s6:f-2\\ndistorted1:note:s6:f-2\\nbass:note:s5:f-2\\nwait:480\\ndistorted0:note:s3:f10\\ndistorted0:note:s4:f10\\ndistorted0:note:s5:f8\\ndistorted1:note:s3:f10\\ndistorted1:note:s4:f10\\ndistorted1:note:s5:f8\\nbass:note:s4:f8\\nwait:240\\ndistorted0:note:s3:f10\\ndistorted0:note:s4:f10\\ndistorted0:note:s5:f8\\ndistorted1:note:s3:f10\\ndistorted1:note:s4:f10\\ndistorted1:note:s5:f8\\nbass:note:s4:f8\\nwait:240\\ndistorted0:note:s3:f10\\ndistorted0:note:s4:f10\\ndistorted0:note:s5:f8\\ndistorted1:note:s3:f10\\ndistorted1:note:s4:f10\\ndistorted1:note:s5:f8\\nbass:note:s4:f8\\nwait:240\\ndistorted0:note:s3:f10\\ndistorted0:note:s4:f10\\ndistorted0:note:s5:f8\\ndistorted1:note:s3:f10\\ndistorted1:note:s4:f10\\ndistorted1:note:s5:f8\\nbass:note:s4:f8\\nwait:240\\ndistorted0:note:s5:f0\\nnfx:dead\\ndistorted0:note:s6:f-2\\nnfx:dead\\ndistorted1:note:s5:f0\\nnfx:dead\\ndistorted1:note:s6:f-2\\nnfx:dead\\nbass:rest\\nwait:240\\ndistorted0:note:s5:f0\\nnfx:dead\\ndistorted0:note:s6:f-2\\nnfx:dead\\ndistorted1:note:s5:f0\\nnfx:dead\\ndistorted1:note:s6:f-2\\nnfx:dead\\nwait:240\\ndistorted0:note:s3:f6\\ndistorted0:note:s4:f6\\ndistorted0:note:s5:f4\\ndistorted1:note:s3:f6\\ndistorted1:note:s4:f6\\ndistorted1:note:s5:f4\\nbass:note:s4:f4\\nwait:240\\ndistorted0:note:s3:f6\\ndistorted0:note:s4:f6\\ndistorted0:note:s5:f4\\ndistorted1:note:s3:f6\\ndistorted1:note:s4:f6\\ndistorted1:note:s5:f4\\nbass:note:s4:f4\\nwait:240\\ndistorted0:note:s3:f6\\ndistorted0:note:s4:f6\\ndistorted0:note:s5:f4\\ndistorted1:note:s3:f6\\ndistorted1:note:s4:f6\\ndistorted1:note:s5:f4\\nbass:note:s4:f4\\nwait:240\\ndistorted0:note:s3:f6\\ndistorted0:note:s4:f6\\ndistorted0:note:s5:f4\\ndistorted1:note:s3:f6\\ndistorted1:note:s4:f6\\ndistorted1:note:s5:f4\\nbass:note:s4:f4\\nwait:240\\ndistorted0:note:s5:f6\\nnfx:dead\\ndistorted0:note:s6:f4\\nnfx:dead\\ndistorted1:note:s5:f6\\nnfx:dead\\ndistorted1:note:s6:f4\\nnfx:dead\\nbass:rest\\nwait:240\\ndistorted0:note:s5:f0\\nnfx:dead\\ndistorted0:note:s6:f-2\\nnfx:dead\\ndistorted1:note:s5:f0\\nnfx:dead\\ndistorted1:note:s6:f-2\\nnfx:dead\\nwait:240\\ndistorted0:note:s4:f6\\ndistorted0:note:s5:f6\\ndistorted0:note:s6:f4\\ndistorted1:note:s4:f6\\ndistorted1:note:s5:f6\\ndistorted1:note:s6:f4\\nbass:note:s5:f4\\nwait:480\\nnew_measure\\ndistorted0:rest\\ndistorted1:rest\\nbass:rest\\nwait:480\\ndistorted0:note:s4:f6\\ndistorted0:note:s5:f6\\ndistorted0:note:s6:f4\\ndistorted1:note:s3:f10\\ndistorted1:note:s4:f10\\nnfx:dead\\ndistorted1:note:s5:f8\\nbass:note:s5:f4\\nwait:240\\ndistorted0:note:s4:f6\\ndistorted0:note:s5:f6\\ndistorted0:note:s6:f4\\ndistorted1:note:s3:f10\\ndistorted1:note:s4:f6\\nnfx:dead\\ndistorted1:note:s5:f8\\nbass:note:s5:f4\\nwait:240\\ndistorted0:note:s4:f6\\ndistorted0:note:s5:f6\\ndistorted0:note:s6:f4\\ndistorted1:note:s3:f10\\ndistorted1:note:s4:f6\\nnfx:dead\\ndistorted1:note:s5:f8\\nbass:note:s5:f4\\nwait:240\\ndistorted0:note:s4:f6\\ndistorted0:note:s5:f6\\ndistorted0:note:s6:f4\\ndistorted1:note:s3:f10\\ndistorted1:note:s4:f6\\nnfx:dead\\ndistorted1:note:s5:f8\\nbass:note:s5:f4\\nwait:240\\ndistorted0:note:s5:f0\\nnfx:dead\\ndistorted0:note:s6:f4\\nnfx:dead\\ndistorted1:note:s5:f0\\nnfx:dead\\ndistorted1:note:s6:f4\\nnfx:dead\\nbass:rest\\nwait:240\\ndistorted0:note:s5:f0\\nnfx:dead\\ndistorted0:note:s6:f4\\nnfx:dead\\ndistorted1:note:s5:f0\\nnfx:dead\\ndistorted1:note:s6:f4\\nnfx:dead\\nwait:240\\ndistorted0:note:s4:f5\\ndistorted0:note:s5:f5\\ndistorted0:note:s6:f3\\ndistorted1:note:s3:f10\\ndistorted1:note:s4:f5\\nnfx:dead\\ndistorted1:note:s5:f8\\nbass:note:s5:f3\\nwait:240\\ndistorted0:note:s4:f5\\ndistorted0:note:s5:f5\\ndistorted0:note:s6:f3\\ndistorted1:note:s3:f10\\ndistorted1:note:s4:f5\\nnfx:dead\\ndistorted1:note:s5:f8\\nbass:note:s5:f3\\nwait:240\\ndistorted0:note:s4:f5\\ndistorted0:note:s5:f5\\ndistorted0:note:s6:f3\\ndistorted1:note:s3:f10\\ndistorted1:note:s4:f5\\nnfx:dead\\ndistorted1:note:s5:f8\\nbass:note:s5:f3\\nwait:240\\ndistorted0:note:s4:f5\\ndistorted0:note:s5:f5\\ndistorted0:note:s6:f3\\ndistorted1:note:s3:f10\\ndistorted1:note:s4:f5\\nnfx:dead\\ndistorted1:note:s5:f8\\nbass:note:s5:f3\\nwait:240\\ndistorted0:note:s5:f0\\nnfx:dead\\ndistorted0:note:s6:f-2\\nnfx:dead\\ndistorted1:note:s5:f0\\nnfx:dead\\ndistorted1:note:s6:f-2\\nnfx:dead\\nbass:rest\\nwait:240\\ndistorted0:note:s5:f0\\nnfx:dead\\ndistorted0:note:s6:f-2\\nnfx:dead\\ndistorted1:note:s5:f0\\nnfx:dead\\ndistorted1:note:s6:f-2\\nnfx:dead\\nwait:240\\ndistorted0:note:s4:f5\\ndistorted0:note:s5:f5\\ndistorted0:note:s6:f3\\ndistorted1:note:s3:f10\\ndistorted1:note:s4:f5\\nnfx:dead\\ndistorted1:note:s5:f8\\nbass:note:s5:f3\\nwait:480\\nnew_measure\\ndistorted0:rest\\ndistorted1:rest\\nbass:note:s5:f-2\\nwait:480\\nbass:note:s5:f1\\nwait:480\\nbass:rest\\nwait:480\\nbass:rest\\nwait:240\\nbass:note:s5:f-2\\nwait:240\\nbass:note:s5:f-2\\nwait:480\\nbass:rest\\nwait:960\\nbass:rest\\nwait:240\\nbass:note:s5:f1\\nwait:240\\nnew_measure\\ndistorted0:rest\\ndistorted1:rest\\nbass:note:s5:f-2\\nwait:480\\nbass:note:s5:f1\\nwait:480\\nbass:rest\\nwait:480\\nbass:rest\\nwait:240\\nbass:note:s5:f-2\\nwait:240\\nbass:note:s5:f1\\nwait:240\\nbass:note:s5:f1\\nwait:240\\nbass:rest\\nwait:240\\nbass:note:s5:f1\\nwait:240\\nbass:rest\\nwait:480\\nbass:note:s5:f1\\nwait:480\\nnew_measure\\ndistorted0:rest\\ndistorted1:rest\\nbass:note:s5:f-2\\nwait:480\\nbass:note:s5:f1\\nwait:480\\nbass:rest\\nwait:480\\nbass:rest\\nwait:240\\nbass:note:s5:f-2\\nwait:240\\nbass:note:s5:f-2\\nwait:480\\nbass:rest\\nwait:960\\nbass:rest\\nwait:240\\nbass:note:s5:f1\\nwait:240\\nnew_measure\\ndistorted0:rest\\ndistorted1:rest\\nbass:note:s5:f-2\\nwait:480\\nbass:note:s5:f1\\nwait:480\\nbass:rest\\nwait:480\\nbass:rest\\nwait:240\\nbass:note:s5:f-2\\nwait:240\\nbass:note:s5:f1\\nwait:240\\nbass:note:s5:f1\\nwait:240\\nbass:rest\\nwait:240\\nbass:note:s5:f1\\nwait:240\\nbass:rest\\nwait:480\\nbass:note:s5:f1\\nwait:480\\nnew_measure\\ndistorted0:rest\\ndistorted1:rest\\nbass:note:s5:f-2\\nwait:480\\nbass:note:s5:f1\\nwait:480\\nbass:rest\\nwait:480\\nbass:rest\\nwait:240\\nbass:note:s5:f-2\\nwait:240\\nbass:note:s5:f-2\\nwait:480\\nbass:rest\\nwait:960\\nbass:rest\\nwait:240\\nbass:note:s5:f1\\nwait:240\\nnew_measure\\ndistorted0:rest\\ndistorted1:rest\\nbass:note:s5:f-2\\nwait:480\\nbass:note:s5:f1\\nwait:480\\nbass:rest\\nwait:480\\nbass:rest\\nwait:240\\nbass:note:s5:f-2\\nwait:240\\nbass:note:s5:f1\\nwait:240\\nbass:note:s5:f1\\nwait:240\\nbass:rest\\nwait:240\\nbass:note:s5:f1\\nwait:240\\nbass:rest\\nwait:480\\nbass:note:s5:f1\\nwait:480\\nnew_measure\\ndistorted0:rest\\ndistorted1:rest\\nbass:note:s5:f-2\\nwait:480\\nbass:note:s5:f1\\nwait:480\\nbass:rest\\nwait:480\\nbass:rest\\nwait:240\\nbass:note:s5:f-2\\nwait:240\\nbass:note:s5:f-2\\nwait:480\\nbass:rest\\nwait:960\\nbass:rest\\nwait:240\\nbass:note:s5:f1\\nwait:240\\nnew_measure\\ndistorted0:rest\\ndistorted1:rest\\nbass:note:s5:f-2\\nwait:480\\nbass:note:s5:f1\\nwait:480\\nbass:rest\\nwait:480\\nbass:rest\\nwait:240\\nbass:note:s5:f-2\\nwait:240\\nbass:note:s5:f1\\nwait:240\\nbass:note:s5:f1\\nwait:240\\nbass:rest\\nwait:240\\nbass:note:s5:f1\\nwait:240\\nbass:rest\\nwait:480\\nbass:note:s5:f1\\nwait:480\\nend\\nOutput: artist:drums\\ndowntune:0\\ntempo:100\\nstart\\nnew_measure\\ndrums:note:49\\ndrums:note:36\\nwait:480\\ndrums:note:46\\ndrums:note:36\\nwait:480\\ndrums:note:46\\ndrums:note:40\\nwait:240\\ndrums:note:36\\nwait:240\\ndrums:note:46\\nwait:240\\ndrums:note:40\\nnfx:ghost_note\\nwait:240\\ndrums:note:46\\ndrums:note:36\\nwait:240\\ndrums:note:40\\nnfx:ghost_note\\nwait:240\\ndrums:note:46\\nwait:240\\ndrums:note:36\\nwait:240\\ndrums:note:46\\ndrums:note:40\\nwait:480\\ndrums:note:46\\ndrums:note:36\\nwait:240\\ndrums:note:36\\nwait:240\\nnew_measure\\ndrums:note:46\\nwait:480\\ndrums:note:46\\ndrums:note:36\\nwait:480\\ndrums:note:46\\ndrums:note:40\\nwait:240\\ndrums:note:36\\nwait:240\\ndrums:note:46\\nwait:240\\ndrums:note:40\\nnfx:ghost_note\\nwait:240\\ndrums:note:46\\ndrums:note:36\\nwait:480\\ndrums:note:46\\nwait:240\\ndrums:note:36\\nwait:240\\ndrums:note:49\\ndrums:note:40\\nwait:480\\ndrums:note:46\\nwait:240\\ndrums:note:40\\nwait:240\\nnew_measure\\ndrums:note:49\\ndrums:note:36\\nwait:480\\ndrums:note:46\\ndrums:note:36\\nwait:480\\ndrums:note:46\\ndrums:note:40\\nwait:240\\ndrums:note:36\\nwait:240\\ndrums:note:46\\nwait:240\\ndrums:note:40\\nnfx:ghost_note\\nwait:240\\ndrums:note:46\\ndrums:note:36\\nwait:480\\ndrums:note:46\\nwait:240\\ndrums:note:36\\nwait:240\\ndrums:note:46\\ndrums:note:40\\nwait:480\\ndrums:note:46\\ndrums:note:36\\nwait:240\\ndrums:note:36\\nwait:240\\nnew_measure\\ndrums:note:46\\nwait:480\\ndrums:note:46\\ndrums:note:36\\nwait:480\\ndrums:note:46\\ndrums:note:40\\nwait:240\\ndrums:note:36\\nwait:240\\ndrums:note:46\\nwait:240\\ndrums:note:40\\nnfx:ghost_note\\nwait:240\\ndrums:note:46\\ndrums:note:36\\nwait:240\\ndrums:note:40\\nnfx:ghost_note\\nwait:240\\ndrums:note:46\\nwait:240\\ndrums:note:36\\nwait:240\\ndrums:note:49\\ndrums:note:40\\nwait:480\\ndrums:note:40\\nwait:240\\ndrums:note:40\\nwait:240\\nnew_measure\\ndrums:note:49\\ndrums:note:36\\nwait:480\\ndrums:note:46\\ndrums:note:36\\nwait:480\\ndrums:note:46\\ndrums:note:40\\nwait:240\\ndrums:note:36\\nwait:240\\ndrums:note:46\\nwait:240\\ndrums:note:40\\nnfx:ghost_note\\nwait:240\\ndrums:note:46\\ndrums:note:36\\nwait:240\\ndrums:note:40\\nnfx:ghost_note\\nwait:240\\ndrums:note:46\\nwait:240\\ndrums:note:36\\nwait:240\\ndrums:note:46\\ndrums:note:40\\nwait:480\\ndrums:note:46\\ndrums:note:36\\nwait:240\\ndrums:note:36\\nwait:240\\nnew_measure\\ndrums:note:46\\nwait:480\\ndrums:note:46\\ndrums:note:36\\nwait:480\\ndrums:note:46\\ndrums:note:40\\nwait:240\\ndrums:note:36\\nwait:240\\ndrums:note:46\\nwait:240\\ndrums:note:40\\nnfx:ghost_note\\nwait:240\\ndrums:note:46\\ndrums:note:36\\nwait:480\\ndrums:note:46\\nwait:240\\ndrums:note:36\\nwait:240\\ndrums:note:49\\ndrums:note:40\\nwait:480\\ndrums:note:46\\nwait:240\\ndrums:note:40\\nwait:240\\nnew_measure\\ndrums:note:49\\ndrums:note:36\\nwait:480\\ndrums:note:46\\ndrums:note:36\\nwait:480\\ndrums:note:46\\ndrums:note:40\\nwait:240\\ndrums:note:36\\nwait:240\\ndrums:note:46\\nwait:240\\ndrums:note:40\\nnfx:ghost_note\\nwait:240\\ndrums:note:46\\ndrums:note:36\\nwait:480\\ndrums:note:46\\nwait:240\\ndrums:note:36\\nwait:240\\ndrums:note:46\\ndrums:note:40\\nwait:480\\ndrums:note:46\\ndrums:note:36\\nwait:240\\ndrums:note:36\\nwait:240\\nnew_measure\\ndrums:note:46\\nwait:480\\ndrums:note:46\\ndrums:note:36\\nwait:480\\ndrums:note:46\\ndrums:note:40\\nwait:240\\ndrums:note:36\\nwait:240\\ndrums:note:46\\nwait:240\\ndrums:note:40\\nnfx:ghost_note\\nwait:240\\ndrums:note:46\\ndrums:note:36\\nwait:240\\ndrums:note:40\\nnfx:ghost_note\\nwait:240\\ndrums:note:46\\nwait:240\\ndrums:note:36\\nwait:240\\ndrums:note:40\\nnfx:grace:fret40\\nparam:duration128:dead0:beat0:transition2\\nwait:480\\ndrums:note:40\\nwait:240\\ndrums:note:40\\nwait:240\\nnew_measure\\ndrums:note:46\\ndrums:note:36\\nwait:480\\ndrums:note:46\\ndrums:note:36\\nwait:480\\ndrums:note:40\\nwait:240\\ndrums:note:42\\nwait:240\\ndrums:rest\\nwait:240\\ndrums:note:36\\nwait:240\\ndrums:note:42\\ndrums:note:36\\nwait:480\\ndrums:rest\\nwait:240\\ndrums:note:42\\nwait:240\\ndrums:note:40\\nwait:480\\ndrums:note:42\\nwait:240\\ndrums:note:36\\nwait:240\\nnew_measure\\ndrums:note:36\\nwait:480\\ndrums:note:42\\ndrums:note:36\\nwait:480\\ndrums:note:40\\nwait:240\\ndrums:note:42\\nwait:240\\ndrums:rest\\nwait:240\\ndrums:note:36\\nwait:240\\ndrums:note:42\\ndrums:note:36\\nwait:240\\ndrums:note:36\\nwait:240\\ndrums:rest\\nwait:240\\ndrums:note:42\\ndrums:note:36\\nwait:240\\ndrums:note:40\\nwait:480\\ndrums:note:46\\ndrums:note:36\\nwait:480\\nnew_measure\\ndrums:note:46\\ndrums:note:36\\nwait:480\\ndrums:note:46\\ndrums:note:36\\nwait:480\\ndrums:note:40\\nwait:240\\ndrums:note:42\\nwait:240\\ndrums:rest\\nwait:240\\ndrums:note:36\\nwait:240\\ndrums:note:42\\ndrums:note:36\\nwait:480\\ndrums:rest\\nwait:240\\ndrums:note:42\\nwait:240\\ndrums:note:40\\nwait:480\\ndrums:note:42\\nwait:240\\ndrums:note:36\\nwait:240\\nnew_measure\\ndrums:note:36\\nwait:480\\ndrums:note:42\\ndrums:note:36\\nwait:480\\ndrums:note:40\\nwait:240\\ndrums:note:42\\nwait:240\\ndrums:rest\\nwait:240\\ndrums:note:36\\nwait:240\\ndrums:note:42\\ndrums:note:36\\nwait:240\\ndrums:note:36\\nwait:240\\ndrums:rest\\nwait:240\\ndrums:note:42\\ndrums:note:36\\nwait:240\\ndrums:note:40\\nwait:480\\ndrums:note:46\\ndrums:note:36\\nwait:480\\nnew_measure\\ndrums:note:46\\ndrums:note:36\\nwait:480\\ndrums:note:46\\ndrums:note:36\\nwait:480\\ndrums:note:42\\ndrums:note:40\\nwait:240\\ndrums:note:42\\nwait:240\\ndrums:note:42\\nwait:240\\ndrums:note:36\\nwait:240\\ndrums:note:42\\ndrums:note:36\\nwait:480\\ndrums:note:42\\nwait:240\\ndrums:note:42\\nwait:240\\ndrums:note:40\\nwait:480\\ndrums:note:42\\nwait:240\\ndrums:note:36\\nwait:240\\nnew_measure\\ndrums:note:42\\ndrums:note:36\\nwait:480\\ndrums:note:42\\ndrums:note:36\\nwait:480\\ndrums:note:42\\ndrums:note:40\\nwait:240\\ndrums:note:42\\nwait:240\\ndrums:note:42\\nwait:240\\ndrums:note:36\\nwait:240\\ndrums:note:42\\ndrums:note:36\\nwait:240\\ndrums:note:36\\nwait:240\\ndrums:note:42\\nwait:240\\ndrums:note:42\\ndrums:note:36\\nwait:240\\ndrums:note:42\\ndrums:note:40\\nwait:480\\ndrums:note:46\\ndrums:note:36\\nwait:480\\nnew_measure\\ndrums:note:46\\ndrums:note:36\\nwait:480\\ndrums:note:46\\ndrums:note:36\\nwait:480\\ndrums:note:42\\ndrums:note:40\\nwait:240\\ndrums:note:42\\nwait:240\\ndrums:note:42\\nwait:240\\ndrums:note:36\\nwait:240\\ndrums:note:42\\ndrums:note:36\\nwait:480\\ndrums:note:42\\nwait:240\\ndrums:note:42\\nwait:240\\ndrums:note:40\\nwait:480\\ndrums:note:42\\nwait:240\\ndrums:note:36\\nwait:240\\nnew_measure\\ndrums:note:42\\ndrums:note:36\\nwait:480\\ndrums:note:42\\ndrums:note:36\\nwait:480\\ndrums:note:42\\ndrums:note:40\\nwait:240\\ndrums:note:42\\nwait:240\\ndrums:note:42\\nwait:240\\ndrums:note:36\\nwait:240\\ndrums:note:42\\ndrums:note:36\\nwait:240\\ndrums:note:36\\nwait:240\\ndrums:note:42\\nwait:240\\ndrums:note:42\\ndrums:note:36\\nwait:240\\ndrums:note:42\\ndrums:note:40\\nwait:480\\ndrums:note:46\\ndrums:note:36\\nwait:480\\nend'}\n"
          ]
        }
      ]
    },
    {
      "cell_type": "markdown",
      "source": [
        "## Tokenization for T5\n"
      ],
      "metadata": {
        "id": "FAx7XzFjvgfP"
      }
    },
    {
      "cell_type": "code",
      "source": [
        "from transformers import AutoTokenizer\n",
        "\n",
        "# Load the T5 tokenizer\n",
        "tokenizer = AutoTokenizer.from_pretrained(\"t5-small\")  # Replace with your desired T5 model size\n"
      ],
      "metadata": {
        "colab": {
          "base_uri": "https://localhost:8080/",
          "height": 237,
          "referenced_widgets": [
            "a690ee336458432bb53a7dee1ca83da7",
            "7b09a19345e74d7da8311cb72eaa3e01",
            "53488edea36c42f8abf2652e89a58023",
            "f373eef37113400fa1d1ab22db0870f3",
            "b3c6a0e88a6548da902f2700f21ca47a",
            "7bef1326fe8f4f85b1eee416bd663c3e",
            "5b38aa83a7e64f7184300f2111b702fb",
            "93ebe7b3a51543e39887d03f3884a8e9",
            "8e539462972446ceb7ab488935edcfe5",
            "eac117af7ae34e16a400ed22c04ea80b",
            "7e4a3ef5986e460cafd2636514bd395f",
            "8ae6209ed7f24061b0e85c302d39ada6",
            "bd851914a4804a839054978468eee7f4",
            "23fe758ada404dcdb0eb289b04ee25e1",
            "e1e9ea39ce434a448ae263b2c2e1d14e",
            "697d3b61f3f14596877ea452e75a22ed",
            "548ee6b39a534d6fb4861650f9ca295f",
            "1beceba22b0a45849cabd885295902a6",
            "26a6f139c35c4700b0653507cbb94b75",
            "a1cc367e95984bfe8968b5e43fd4618b",
            "5b133f72ffbb44a88ef3099fe4e82ef6",
            "539509f61fe44114887195d2851dd494",
            "ba0979035ae44bc2877b01d440933d4e",
            "9b3045946be0442482464d7a519bc1df",
            "badcc62929204c8291a83d139bfae98f",
            "37e7a063b1ce4b4dbe19fcd0d144a0ed",
            "e2ee45d6766f4af48afc9d1b61b44691",
            "12484e1e2a7c40319d05417fa085be39",
            "5b071b7d645247c4b36073f736184dd1",
            "264706a1062d45ee8aa645f305073970",
            "86e554021188405ba4e650bb8127dbef",
            "b8cd8a81eb5c42f4ae899824df67c813",
            "d8b1a664963744f2862bbd738bb4c628"
          ]
        },
        "id": "nZl8-I1yzFVK",
        "outputId": "74cac2af-6679-4864-a9bb-759d6e707f4c"
      },
      "execution_count": null,
      "outputs": [
        {
          "output_type": "stream",
          "name": "stderr",
          "text": [
            "/usr/local/lib/python3.10/dist-packages/huggingface_hub/utils/_auth.py:94: UserWarning: \n",
            "The secret `HF_TOKEN` does not exist in your Colab secrets.\n",
            "To authenticate with the Hugging Face Hub, create a token in your settings tab (https://huggingface.co/settings/tokens), set it as secret in your Google Colab and restart your session.\n",
            "You will be able to reuse this secret in all of your notebooks.\n",
            "Please note that authentication is recommended but still optional to access public models or datasets.\n",
            "  warnings.warn(\n"
          ]
        },
        {
          "output_type": "display_data",
          "data": {
            "text/plain": [
              "tokenizer_config.json:   0%|          | 0.00/2.32k [00:00<?, ?B/s]"
            ],
            "application/vnd.jupyter.widget-view+json": {
              "version_major": 2,
              "version_minor": 0,
              "model_id": "a690ee336458432bb53a7dee1ca83da7"
            }
          },
          "metadata": {}
        },
        {
          "output_type": "display_data",
          "data": {
            "text/plain": [
              "spiece.model:   0%|          | 0.00/792k [00:00<?, ?B/s]"
            ],
            "application/vnd.jupyter.widget-view+json": {
              "version_major": 2,
              "version_minor": 0,
              "model_id": "8ae6209ed7f24061b0e85c302d39ada6"
            }
          },
          "metadata": {}
        },
        {
          "output_type": "display_data",
          "data": {
            "text/plain": [
              "tokenizer.json:   0%|          | 0.00/1.39M [00:00<?, ?B/s]"
            ],
            "application/vnd.jupyter.widget-view+json": {
              "version_major": 2,
              "version_minor": 0,
              "model_id": "ba0979035ae44bc2877b01d440933d4e"
            }
          },
          "metadata": {}
        }
      ]
    },
    {
      "cell_type": "code",
      "source": [
        "def preprocess_text_split(example):\n",
        "    text = example[\"text\"]\n",
        "    if \"Input:\" in text and \"Output:\" in text:\n",
        "        input_start = text.find(\"Input:\") + len(\"Input:\")\n",
        "        output_start = text.find(\"Output:\")\n",
        "        input_text = text[input_start:output_start].strip()\n",
        "        target_text = text[output_start + len(\"Output:\"):].strip()\n",
        "    else:\n",
        "        input_text = \"\"\n",
        "        target_text = \"\"\n",
        "    return {\"input_text\": input_text, \"target_text\": target_text}\n",
        "\n",
        "# Apply preprocessing\n",
        "train_dataset = train_dataset.map(preprocess_text_split)\n",
        "validation_dataset = validation_dataset.map(preprocess_text_split)\n"
      ],
      "metadata": {
        "colab": {
          "base_uri": "https://localhost:8080/",
          "height": 49,
          "referenced_widgets": [
            "363c9a4eb27d46fbba8bd666375281df",
            "53ea4ecadc844d70995e1643cf6f5f5d",
            "7fac648506164914b0214e134a033323",
            "770e2a0df92f4b1ebb7b7d3870d85c9c",
            "863c38b7a6c946c8b04ba5ca1767c2d1",
            "a754180fa98946169d0ac92594a836a5",
            "3f434026019e42348964124e82b07ad0",
            "d1d6541a01764440908a9b13cfc2c29b",
            "b8ac6a4b3c0641fa925392212ea0396a",
            "15c4baa0887e42f38744d22025622d7c",
            "f42b8b5a729c4839a4a0e89c95709b4e"
          ]
        },
        "id": "PMGg8PZc-4ap",
        "outputId": "c4cc7d45-0092-4d9a-ceb3-5e3b692966d0"
      },
      "execution_count": null,
      "outputs": [
        {
          "output_type": "display_data",
          "data": {
            "text/plain": [
              "Map:   0%|          | 0/9915 [00:00<?, ? examples/s]"
            ],
            "application/vnd.jupyter.widget-view+json": {
              "version_major": 2,
              "version_minor": 0,
              "model_id": "363c9a4eb27d46fbba8bd666375281df"
            }
          },
          "metadata": {}
        }
      ]
    },
    {
      "cell_type": "code",
      "source": [
        "validation_dataset[0]"
      ],
      "metadata": {
        "colab": {
          "base_uri": "https://localhost:8080/"
        },
        "id": "L2y8va9lAGCA",
        "outputId": "b5adc5d2-4206-4ee2-98a9-cbc7e081e339"
      },
      "execution_count": null,
      "outputs": [
        {
          "output_type": "execute_result",
          "data": {
            "text/plain": [
              "{'text': 'Input: artist:dgdgb\\ndowntune:-1\\ntempo:130\\nstart\\nnew_measure\\ndistorted0:rest\\ndistorted1:rest\\nbass:rest\\nwait:1920\\ndistorted0:rest\\ndistorted1:rest\\nwait:960\\ndistorted0:rest\\ndistorted1:rest\\nwait:480\\ndistorted0:note:s1:f7\\ndistorted0:note:s2:f7\\ndistorted0:note:s3:f8\\ndistorted0:note:s4:f9\\ndistorted0:note:s5:f9\\ndistorted0:note:s6:f7\\ndistorted1:note:s2:f12\\ndistorted1:note:s3:f11\\ndistorted1:note:s4:f9\\nwait:240\\ndistorted0:note:s1:f7\\ndistorted0:note:s2:f7\\ndistorted0:note:s3:f8\\ndistorted0:note:s4:f9\\ndistorted0:note:s5:f9\\ndistorted0:note:s6:f7\\ndistorted1:note:s2:f12\\ndistorted1:note:s3:f11\\ndistorted1:note:s4:f9\\nwait:240\\nnew_measure\\ndistorted0:note:s1:f7\\ndistorted0:note:s2:f7\\ndistorted0:note:s3:f8\\ndistorted0:note:s4:f9\\ndistorted0:note:s5:f9\\ndistorted0:note:s6:f7\\ndistorted1:note:s2:f12\\ndistorted1:note:s3:f11\\ndistorted1:note:s4:f9\\nbass:note:s4:f2\\nwait:960\\ndistorted0:note:s5:f11\\ndistorted0:note:s6:f7\\nbass:note:s4:f2\\nwait:480\\ndistorted0:note:s5:f9\\ndistorted0:note:s6:f7\\nwait:480\\ndistorted0:note:s5:f11\\ndistorted0:note:s6:f7\\ndistorted1:note:s2:f12\\nnfx:tie\\ndistorted1:note:s3:f11\\nnfx:tie\\ndistorted1:note:s4:f9\\nnfx:tie\\nbass:note:s5:f0\\nwait:480\\ndistorted0:note:s5:f9\\ndistorted0:note:s6:f7\\nbass:note:s5:f1\\nwait:480\\ndistorted0:note:s6:f7\\ndistorted1:note:s2:f12\\nnfx:tie\\ndistorted1:note:s3:f11\\nnfx:tie\\ndistorted1:note:s4:f9\\nnfx:tie\\nbass:note:s5:f2\\nwait:480\\ndistorted0:note:s2:f12\\ndistorted0:note:s3:f12\\ndistorted0:note:s4:f12\\ndistorted0:note:s5:f10\\ndistorted1:note:s3:f12\\ndistorted1:note:s4:f12\\ndistorted1:note:s5:f10\\nbass:note:s5:f3\\nwait:480\\nnew_measure\\ndistorted0:note:s2:f0\\nnfx:tie\\ndistorted0:note:s3:f0\\nnfx:tie\\ndistorted0:note:s4:f0\\nnfx:tie\\ndistorted0:note:s5:f0\\nnfx:tie\\ndistorted1:note:s3:f0\\nnfx:tie\\ndistorted1:note:s4:f0\\nnfx:tie\\ndistorted1:note:s5:f0\\nnfx:tie\\nbass:note:s5:f0\\nnfx:tie\\nwait:480\\ndistorted0:note:s5:f10\\nbass:rest\\nwait:480\\ndistorted0:note:s4:f14\\ndistorted0:note:s5:f10\\nbass:note:s4:f2\\nwait:480\\ndistorted0:note:s5:f10\\nwait:480\\ndistorted0:note:s3:f12\\ndistorted0:note:s4:f12\\ndistorted0:note:s5:f10\\ndistorted1:note:s3:f0\\nnfx:tie\\ndistorted1:note:s4:f0\\nnfx:tie\\ndistorted1:note:s5:f0\\nnfx:tie\\nbass:note:s4:f3\\nwait:480\\ndistorted0:note:s3:f12\\ndistorted0:note:s4:f12\\ndistorted0:note:s5:f10\\nwait:480\\ndistorted0:note:s5:f10\\ndistorted1:note:s3:f0\\nnfx:tie\\ndistorted1:note:s4:f0\\nnfx:tie\\ndistorted1:note:s5:f0\\nnfx:tie\\nbass:note:s4:f4\\nwait:480\\ndistorted0:note:s4:f12\\ndistorted0:note:s5:f12\\ndistorted0:note:s6:f10\\ndistorted1:note:s2:f15\\ndistorted1:note:s3:f14\\ndistorted1:note:s4:f12\\nbass:note:s4:f5\\nwait:240\\ndistorted0:note:s4:f12\\ndistorted0:note:s5:f12\\ndistorted0:note:s6:f10\\ndistorted1:note:s2:f15\\ndistorted1:note:s3:f14\\ndistorted1:note:s4:f12\\nwait:240\\nnew_measure\\ndistorted0:note:s4:f12\\ndistorted0:note:s5:f12\\ndistorted0:note:s6:f10\\ndistorted1:note:s2:f15\\ndistorted1:note:s3:f14\\ndistorted1:note:s4:f12\\nbass:note:s4:f0\\nnfx:tie\\nwait:480\\ndistorted0:note:s6:f10\\nbass:note:s4:f5\\nwait:480\\ndistorted0:note:s5:f14\\ndistorted0:note:s6:f10\\nbass:note:s3:f4\\nwait:480\\ndistorted0:note:s5:f12\\ndistorted0:note:s6:f10\\nbass:note:s3:f4\\nnfx:tie\\nwait:480\\ndistorted0:note:s5:f14\\ndistorted0:note:s6:f10\\ndistorted1:note:s2:f15\\nnfx:tie\\ndistorted1:note:s3:f14\\nnfx:tie\\ndistorted1:note:s4:f12\\nnfx:tie\\nbass:note:s3:f7\\nwait:480\\ndistorted0:note:s5:f12\\ndistorted0:note:s6:f10\\nbass:note:s3:f4\\nnfx:tie\\nwait:480\\ndistorted0:note:s6:f10\\ndistorted1:note:s2:f15\\nnfx:tie\\ndistorted1:note:s3:f14\\nnfx:tie\\ndistorted1:note:s4:f12\\nnfx:tie\\nbass:note:s3:f4\\nwait:480\\ndistorted0:note:s1:f5\\ndistorted0:note:s2:f5\\ndistorted0:note:s3:f6\\ndistorted0:note:s4:f7\\ndistorted0:note:s5:f7\\ndistorted0:note:s6:f5\\ndistorted1:note:s3:f14\\ndistorted1:note:s4:f14\\ndistorted1:note:s5:f12\\nbass:note:s4:f0\\nwait:480\\nnew_measure\\ndistorted0:note:s1:f0\\nnfx:tie\\ndistorted0:note:s2:f0\\nnfx:tie\\ndistorted0:note:s3:f0\\nnfx:tie\\ndistorted0:note:s4:f0\\nnfx:tie\\ndistorted0:note:s5:f0\\nnfx:tie\\ndistorted0:note:s6:f0\\nnfx:tie\\ndistorted1:note:s3:f0\\nnfx:tie\\ndistorted1:note:s4:f0\\nnfx:tie\\ndistorted1:note:s5:f0\\nnfx:tie\\nbass:note:s4:f0\\nnfx:tie\\nwait:480\\ndistorted0:note:s6:f5\\ndistorted1:note:s3:f0\\nnfx:tie\\ndistorted1:note:s4:f0\\nnfx:tie\\ndistorted1:note:s5:f0\\nnfx:tie\\nbass:note:s4:f0\\nwait:480\\ndistorted0:note:s5:f9\\ndistorted0:note:s6:f5\\ndistorted1:note:s3:f0\\nnfx:tie\\ndistorted1:note:s4:f0\\nnfx:tie\\ndistorted1:note:s5:f0\\nnfx:tie\\nbass:note:s4:f4\\nwait:480\\ndistorted0:note:s5:f7\\ndistorted0:note:s6:f5\\ndistorted1:note:s3:f14\\ndistorted1:note:s4:f14\\ndistorted1:note:s5:f12\\nwait:480\\ndistorted0:note:s5:f9\\ndistorted0:note:s6:f5\\ndistorted1:rest\\nbass:note:s3:f2\\nwait:480\\ndistorted0:note:s4:f7\\ndistorted0:note:s5:f7\\ndistorted0:note:s6:f5\\ndistorted1:note:s3:f14\\ndistorted1:note:s4:f14\\ndistorted1:note:s5:f12\\nwait:480\\ndistorted0:note:s6:f5\\ndistorted1:rest\\nbass:note:s4:f4\\nwait:480\\ndistorted0:note:s1:f7\\ndistorted0:note:s2:f7\\ndistorted0:note:s3:f8\\ndistorted0:note:s4:f9\\ndistorted0:note:s5:f9\\ndistorted0:note:s6:f7\\ndistorted1:note:s2:f12\\ndistorted1:note:s3:f11\\ndistorted1:note:s4:f9\\nwait:240\\ndistorted0:note:s1:f7\\ndistorted0:note:s2:f7\\ndistorted0:note:s3:f8\\ndistorted0:note:s4:f9\\ndistorted0:note:s5:f9\\ndistorted0:note:s6:f7\\ndistorted1:note:s2:f12\\ndistorted1:note:s3:f11\\ndistorted1:note:s4:f9\\nwait:240\\nnew_measure\\ndistorted0:note:s1:f7\\ndistorted0:note:s2:f7\\ndistorted0:note:s3:f8\\ndistorted0:note:s4:f9\\ndistorted0:note:s5:f9\\ndistorted0:note:s6:f7\\ndistorted1:note:s2:f12\\ndistorted1:note:s3:f11\\ndistorted1:note:s4:f9\\nbass:note:s4:f2\\nwait:960\\ndistorted0:note:s5:f11\\ndistorted0:note:s6:f7\\nbass:note:s4:f2\\nwait:480\\ndistorted0:note:s5:f9\\ndistorted0:note:s6:f7\\nwait:480\\ndistorted0:note:s5:f11\\ndistorted0:note:s6:f7\\ndistorted1:note:s2:f12\\nnfx:tie\\ndistorted1:note:s3:f11\\nnfx:tie\\ndistorted1:note:s4:f9\\nnfx:tie\\nbass:note:s5:f0\\nwait:480\\ndistorted0:note:s5:f9\\ndistorted0:note:s6:f7\\nbass:note:s5:f1\\nwait:480\\ndistorted0:note:s6:f7\\ndistorted1:note:s2:f12\\nnfx:tie\\ndistorted1:note:s3:f11\\nnfx:tie\\ndistorted1:note:s4:f9\\nnfx:tie\\nbass:note:s5:f2\\nwait:480\\ndistorted0:note:s2:f12\\ndistorted0:note:s3:f12\\ndistorted0:note:s4:f12\\ndistorted0:note:s5:f10\\ndistorted1:note:s3:f12\\ndistorted1:note:s4:f12\\ndistorted1:note:s5:f10\\nbass:note:s5:f3\\nwait:480\\nnew_measure\\ndistorted0:note:s2:f0\\nnfx:tie\\ndistorted0:note:s3:f0\\nnfx:tie\\ndistorted0:note:s4:f0\\nnfx:tie\\ndistorted0:note:s5:f0\\nnfx:tie\\ndistorted1:note:s3:f0\\nnfx:tie\\ndistorted1:note:s4:f0\\nnfx:tie\\ndistorted1:note:s5:f0\\nnfx:tie\\nbass:note:s5:f0\\nnfx:tie\\nwait:480\\ndistorted0:note:s5:f10\\nbass:rest\\nwait:480\\ndistorted0:note:s4:f14\\ndistorted0:note:s5:f10\\nbass:note:s4:f2\\nwait:480\\ndistorted0:note:s5:f10\\nwait:480\\ndistorted0:note:s3:f12\\ndistorted0:note:s4:f12\\ndistorted0:note:s5:f10\\ndistorted1:note:s3:f0\\nnfx:tie\\ndistorted1:note:s4:f0\\nnfx:tie\\ndistorted1:note:s5:f0\\nnfx:tie\\nbass:note:s4:f3\\nwait:480\\ndistorted0:note:s3:f12\\ndistorted0:note:s4:f12\\ndistorted0:note:s5:f10\\nwait:480\\ndistorted0:note:s5:f10\\ndistorted1:note:s3:f0\\nnfx:tie\\ndistorted1:note:s4:f0\\nnfx:tie\\ndistorted1:note:s5:f0\\nnfx:tie\\nbass:note:s4:f4\\nwait:480\\ndistorted0:note:s4:f12\\ndistorted0:note:s5:f12\\ndistorted0:note:s6:f10\\ndistorted1:note:s2:f15\\ndistorted1:note:s3:f14\\ndistorted1:note:s4:f12\\nbass:note:s4:f5\\nwait:240\\ndistorted0:note:s4:f12\\ndistorted0:note:s5:f12\\ndistorted0:note:s6:f10\\ndistorted1:note:s2:f15\\ndistorted1:note:s3:f14\\ndistorted1:note:s4:f12\\nwait:240\\nnew_measure\\ndistorted0:note:s5:f12\\ndistorted0:note:s6:f10\\ndistorted1:note:s2:f15\\ndistorted1:note:s3:f14\\ndistorted1:note:s4:f12\\nbass:note:s4:f0\\nnfx:tie\\nwait:480\\ndistorted0:note:s6:f10\\nbass:note:s4:f5\\nwait:480\\ndistorted0:note:s5:f14\\ndistorted0:note:s6:f10\\nbass:note:s3:f4\\nwait:480\\ndistorted0:note:s6:f10\\nbass:note:s3:f4\\nnfx:tie\\nwait:480\\ndistorted0:note:s4:f12\\ndistorted0:note:s5:f12\\ndistorted0:note:s6:f10\\nbass:note:s3:f7\\nwait:480\\ndistorted0:note:s4:f12\\ndistorted0:note:s5:f12\\ndistorted0:note:s6:f10\\nbass:note:s3:f4\\nnfx:tie\\nwait:480\\ndistorted0:note:s5:f14\\ndistorted0:note:s6:f10\\nbass:note:s3:f4\\nwait:480\\ndistorted0:note:s5:f12\\ndistorted0:note:s6:f10\\nbass:note:s4:f5\\nwait:480\\nnew_measure\\ndistorted0:note:s5:f0\\nnfx:tie\\ndistorted0:note:s6:f0\\nnfx:tie\\ndistorted1:note:s2:f15\\ndistorted1:note:s3:f14\\ndistorted1:note:s4:f12\\nbass:note:s4:f0\\nnfx:tie\\nwait:480\\ndistorted0:note:s6:f10\\nbass:note:s4:f5\\nwait:480\\ndistorted0:note:s5:f14\\ndistorted0:note:s6:f10\\ndistorted1:rest\\nbass:note:s3:f4\\nwait:480\\ndistorted0:note:s6:f10\\ndistorted1:note:s2:f15\\ndistorted1:note:s3:f14\\ndistorted1:note:s4:f12\\nwait:480\\ndistorted0:note:s5:f12\\ndistorted0:note:s6:f10\\ndistorted1:rest\\nbass:note:s3:f7\\nwait:480\\ndistorted0:note:s5:f12\\ndistorted0:note:s6:f10\\ndistorted1:note:s2:f15\\ndistorted1:note:s3:f14\\ndistorted1:note:s4:f12\\nwait:480\\ndistorted0:note:s4:f0\\nnfx:ghost_note\\ndistorted0:note:s5:f0\\nnfx:ghost_note\\ndistorted1:rest\\nbass:note:s3:f4\\nwait:480\\ndistorted0:note:s1:f7\\ndistorted0:note:s2:f7\\ndistorted0:note:s3:f8\\ndistorted0:note:s4:f9\\ndistorted0:note:s5:f9\\ndistorted0:note:s6:f7\\ndistorted1:rest\\nwait:240\\ndistorted0:note:s1:f7\\ndistorted0:note:s2:f7\\ndistorted0:note:s3:f8\\ndistorted0:note:s4:f9\\ndistorted0:note:s5:f9\\ndistorted0:note:s6:f7\\nwait:240\\nnew_measure\\ndistorted0:note:s1:f7\\ndistorted0:note:s2:f7\\ndistorted0:note:s3:f8\\ndistorted0:note:s4:f9\\ndistorted0:note:s5:f9\\ndistorted0:note:s6:f7\\ndistorted1:note:s2:f12\\ndistorted1:note:s3:f11\\ndistorted1:note:s4:f9\\nbass:note:s4:f2\\nwait:960\\nbass:note:s4:f2\\nwait:960\\ndistorted0:note:s1:f7\\nnfx:tie\\ndistorted0:note:s2:f7\\nnfx:tie\\ndistorted0:note:s3:f8\\nnfx:tie\\ndistorted0:note:s4:f9\\nnfx:tie\\ndistorted0:note:s5:f9\\nnfx:tie\\ndistorted0:note:s6:f7\\nnfx:tie\\nbass:note:s5:f0\\nwait:480\\ndistorted0:note:s4:f9\\ndistorted0:note:s5:f9\\ndistorted0:note:s6:f7\\nbass:note:s5:f1\\nwait:480\\ndistorted0:note:s4:f9\\ndistorted0:note:s5:f9\\ndistorted0:note:s6:f7\\nbass:note:s5:f2\\nwait:480\\ndistorted0:note:s4:f5\\ndistorted0:note:s5:f5\\ndistorted0:note:s6:f3\\nbass:note:s5:f3\\nwait:480\\nnew_measure\\ndistorted0:note:s4:f0\\nnfx:tie\\ndistorted0:note:s5:f0\\nnfx:tie\\ndistorted0:note:s6:f0\\nnfx:tie\\ndistorted1:rest\\nbass:note:s5:f0\\nnfx:tie\\nwait:480\\ndistorted0:note:s4:f5\\ndistorted0:note:s5:f5\\ndistorted0:note:s6:f3\\nbass:rest\\nwait:480\\ndistorted0:note:s5:f7\\ndistorted0:note:s6:f3\\nbass:note:s4:f2\\nwait:480\\ndistorted0:note:s6:f3\\nwait:480\\ndistorted0:note:s4:f5\\ndistorted0:note:s5:f5\\ndistorted0:note:s6:f3\\nbass:note:s4:f3\\nwait:960\\ndistorted0:rest\\nbass:note:s4:f4\\nwait:480\\ndistorted0:note:s2:f7\\ndistorted0:note:s3:f7\\ndistorted0:note:s4:f7\\ndistorted0:note:s5:f5\\nbass:note:s4:f5\\nwait:480\\nnew_measure\\ndistorted0:note:s2:f0\\nnfx:tie\\ndistorted0:note:s3:f0\\nnfx:tie\\ndistorted0:note:s4:f0\\nnfx:tie\\ndistorted0:note:s5:f0\\nnfx:tie\\ndistorted1:rest\\nbass:note:s4:f0\\nnfx:tie\\nwait:480\\ndistorted0:note:s5:f5\\nbass:note:s4:f5\\nwait:480\\ndistorted0:note:s4:f9\\ndistorted0:note:s5:f5\\nbass:note:s4:f4\\nwait:480\\ndistorted0:note:s5:f5\\nwait:480\\ndistorted0:note:s3:f7\\ndistorted0:note:s4:f7\\ndistorted0:note:s5:f5\\nbass:note:s4:f2\\nwait:480\\ndistorted0:note:s3:f7\\ndistorted0:note:s4:f7\\ndistorted0:note:s5:f5\\nwait:480\\ndistorted0:rest\\nbass:note:s4:f0\\nwait:480\\ndistorted0:note:s2:f7\\ndistorted0:note:s3:f7\\ndistorted0:note:s4:f7\\nbass:note:s4:f5\\nwait:480\\nnew_measure\\ndistorted0:note:s2:f8\\ndistorted0:note:s3:f7\\ndistorted0:note:s4:f9\\ndistorted1:rest\\nbass:note:s4:f0\\nnfx:tie\\nwait:480\\ndistorted0:note:s2:f8\\ndistorted0:note:s3:f7\\ndistorted0:note:s4:f9\\ndistorted1:note:s2:f15\\ndistorted1:note:s3:f14\\ndistorted1:note:s4:f12\\nbass:note:s4:f5\\nwait:480\\ndistorted0:note:s2:f8\\ndistorted0:note:s3:f7\\ndistorted0:note:s4:f9\\nbass:note:s4:f4\\nwait:480\\ndistorted0:note:s2:f8\\ndistorted0:note:s3:f7\\ndistorted0:note:s4:f9\\ndistorted1:rest\\nwait:480\\ndistorted0:note:s2:f8\\ndistorted0:note:s3:f7\\ndistorted0:note:s4:f9\\ndistorted1:note:s2:f15\\ndistorted1:note:s3:f14\\ndistorted1:note:s4:f12\\nbass:note:s4:f2\\nwait:480\\ndistorted0:note:s2:f7\\ndistorted0:note:s3:f7\\ndistorted0:note:s4:f7\\ndistorted1:rest\\nwait:480\\ndistorted0:rest\\ndistorted1:note:s2:f15\\ndistorted1:note:s3:f14\\ndistorted1:note:s4:f12\\nbass:note:s4:f0\\nwait:480\\ndistorted0:note:s1:f7\\ndistorted0:note:s2:f7\\ndistorted0:note:s3:f8\\ndistorted0:note:s4:f9\\ndistorted0:note:s5:f9\\ndistorted0:note:s6:f7\\ndistorted1:rest\\nwait:240\\ndistorted0:note:s1:f7\\ndistorted0:note:s2:f7\\ndistorted0:note:s3:f8\\ndistorted0:note:s4:f9\\ndistorted0:note:s5:f9\\ndistorted0:note:s6:f7\\nwait:240\\nnew_measure\\ndistorted0:note:s1:f7\\ndistorted0:note:s2:f7\\ndistorted0:note:s3:f8\\ndistorted0:note:s4:f9\\ndistorted0:note:s5:f9\\ndistorted0:note:s6:f7\\ndistorted1:note:s2:f12\\ndistorted1:note:s3:f11\\ndistorted1:note:s4:f9\\nbass:note:s4:f2\\nwait:960\\nbass:note:s4:f2\\nwait:960\\ndistorted0:note:s1:f7\\nnfx:tie\\ndistorted0:note:s2:f7\\nnfx:tie\\ndistorted0:note:s3:f8\\nnfx:tie\\ndistorted0:note:s4:f9\\nnfx:tie\\ndistorted0:note:s5:f9\\nnfx:tie\\ndistorted0:note:s6:f7\\nnfx:tie\\nbass:note:s5:f0\\nwait:480\\ndistorted0:note:s4:f9\\ndistorted0:note:s5:f9\\ndistorted0:note:s6:f7\\nbass:note:s5:f1\\nwait:480\\ndistorted0:note:s4:f9\\ndistorted0:note:s5:f9\\ndistorted0:note:s6:f7\\nbass:note:s5:f2\\nwait:480\\ndistorted0:note:s4:f5\\ndistorted0:note:s5:f5\\ndistorted0:note:s6:f3\\nbass:note:s5:f3\\nwait:480\\nnew_measure\\ndistorted0:note:s4:f0\\nnfx:tie\\ndistorted0:note:s5:f0\\nnfx:tie\\ndistorted0:note:s6:f0\\nnfx:tie\\ndistorted1:rest\\nbass:note:s5:f0\\nnfx:tie\\nwait:480\\ndistorted0:note:s4:f5\\ndistorted0:note:s5:f5\\ndistorted0:note:s6:f3\\nbass:rest\\nwait:480\\ndistorted0:note:s5:f7\\ndistorted0:note:s6:f3\\nbass:note:s4:f2\\nwait:480\\ndistorted0:note:s6:f3\\nwait:480\\ndistorted0:note:s4:f5\\ndistorted0:note:s5:f5\\ndistorted0:note:s6:f3\\nbass:note:s4:f3\\nwait:960\\ndistorted0:rest\\nbass:note:s4:f4\\nwait:480\\ndistorted0:note:s2:f7\\ndistorted0:note:s3:f7\\ndistorted0:note:s4:f7\\ndistorted0:note:s5:f5\\nbass:note:s4:f5\\nwait:480\\nnew_measure\\ndistorted0:note:s2:f0\\nnfx:tie\\ndistorted0:note:s3:f0\\nnfx:tie\\ndistorted0:note:s4:f0\\nnfx:tie\\ndistorted0:note:s5:f0\\nnfx:tie\\ndistorted1:rest\\nbass:note:s4:f0\\nnfx:tie\\nwait:480\\ndistorted0:note:s5:f5\\nbass:note:s4:f5\\nwait:480\\ndistorted0:note:s4:f9\\ndistorted0:note:s5:f5\\nbass:note:s3:f4\\nwait:480\\ndistorted0:note:s5:f5\\nbass:note:s3:f4\\nnfx:tie\\nwait:480\\ndistorted0:note:s3:f7\\ndistorted0:note:s4:f7\\ndistorted0:note:s5:f5\\nbass:note:s3:f7\\nwait:480\\ndistorted0:note:s3:f7\\ndistorted0:note:s4:f7\\ndistorted0:note:s5:f5\\nbass:note:s3:f4\\nnfx:tie\\nwait:480\\ndistorted0:rest\\nbass:note:s3:f4\\nwait:480\\ndistorted0:note:s4:f7\\ndistorted0:note:s5:f7\\ndistorted0:note:s6:f5\\nbass:note:s4:f0\\nwait:480\\nend\\nOutput: artist:drums\\ndowntune:0\\ntempo:130\\nstart\\nnew_measure\\ndrums:note:40\\nwait:480\\ndrums:note:36\\nwait:480\\ndrums:note:47\\nwait:480\\ndrums:note:36\\nwait:480\\ndrums:note:45\\nwait:480\\ndrums:note:36\\nwait:480\\ndrums:note:43\\nwait:480\\ndrums:rest\\nwait:480\\nnew_measure\\ndrums:note:49\\ndrums:note:36\\nwait:480\\ndrums:note:42\\nwait:480\\ndrums:note:42\\ndrums:note:40\\nwait:480\\ndrums:note:42\\nwait:480\\ndrums:note:42\\ndrums:note:36\\nwait:480\\ndrums:note:42\\nwait:480\\ndrums:note:42\\ndrums:note:40\\nwait:480\\ndrums:note:42\\nwait:480\\nnew_measure\\ndrums:note:42\\ndrums:note:36\\nwait:480\\ndrums:note:42\\nwait:480\\ndrums:note:42\\ndrums:note:40\\nwait:480\\ndrums:note:42\\nwait:480\\ndrums:note:42\\ndrums:note:36\\nwait:480\\ndrums:note:42\\nwait:480\\ndrums:note:42\\ndrums:note:40\\nwait:480\\ndrums:note:42\\nwait:480\\nnew_measure\\ndrums:note:42\\ndrums:note:36\\nwait:480\\ndrums:note:42\\nwait:480\\ndrums:note:42\\ndrums:note:40\\nwait:480\\ndrums:note:42\\nwait:480\\ndrums:note:42\\ndrums:note:36\\nwait:480\\ndrums:note:42\\nwait:480\\ndrums:note:42\\ndrums:note:40\\nwait:480\\ndrums:note:42\\nwait:480\\nnew_measure\\ndrums:note:40\\nwait:480\\ndrums:rest\\nwait:480\\ndrums:note:47\\nwait:480\\ndrums:rest\\nwait:480\\ndrums:note:45\\nwait:480\\ndrums:rest\\nwait:480\\ndrums:note:43\\nwait:480\\ndrums:rest\\nwait:480\\nnew_measure\\ndrums:note:49\\ndrums:note:36\\nwait:480\\ndrums:note:42\\nwait:480\\ndrums:note:42\\ndrums:note:40\\nwait:480\\ndrums:note:42\\nwait:480\\ndrums:note:42\\ndrums:note:36\\nwait:480\\ndrums:note:42\\nwait:480\\ndrums:note:42\\ndrums:note:40\\nwait:480\\ndrums:note:42\\nwait:480\\nnew_measure\\ndrums:note:42\\ndrums:note:36\\nwait:480\\ndrums:note:42\\nwait:480\\ndrums:note:42\\ndrums:note:40\\nwait:480\\ndrums:note:42\\nwait:480\\ndrums:note:42\\ndrums:note:36\\nwait:480\\ndrums:note:42\\nwait:480\\ndrums:note:42\\ndrums:note:40\\nwait:480\\ndrums:note:42\\nwait:480\\nnew_measure\\ndrums:note:42\\ndrums:note:36\\nwait:480\\ndrums:note:42\\nwait:480\\ndrums:note:42\\ndrums:note:40\\nwait:480\\ndrums:note:42\\nwait:480\\ndrums:note:42\\ndrums:note:36\\nwait:480\\ndrums:note:42\\nwait:480\\ndrums:note:42\\ndrums:note:40\\nwait:480\\ndrums:note:42\\nwait:480\\nnew_measure\\ndrums:note:40\\nwait:240\\ndrums:note:40\\nwait:240\\ndrums:note:40\\nwait:480\\ndrums:note:49\\ndrums:note:36\\nwait:480\\ndrums:note:36\\nwait:480\\ndrums:note:49\\ndrums:note:36\\nwait:480\\ndrums:rest\\nwait:480\\ndrums:note:49\\ndrums:note:36\\nwait:480\\ndrums:rest\\nwait:480\\nnew_measure\\ndrums:note:49\\ndrums:note:36\\nwait:480\\ndrums:note:42\\nwait:480\\ndrums:note:42\\ndrums:note:40\\nwait:480\\ndrums:note:42\\nwait:480\\ndrums:note:42\\ndrums:note:36\\nwait:480\\ndrums:note:42\\nwait:480\\ndrums:note:42\\ndrums:note:40\\nwait:480\\ndrums:note:42\\nwait:480\\nnew_measure\\ndrums:note:42\\ndrums:note:36\\nwait:480\\ndrums:note:42\\nwait:480\\ndrums:note:42\\ndrums:note:40\\nwait:480\\ndrums:note:42\\nwait:480\\ndrums:note:42\\ndrums:note:36\\nwait:480\\ndrums:note:42\\nwait:480\\ndrums:note:42\\ndrums:note:40\\nwait:480\\ndrums:note:42\\nwait:480\\nnew_measure\\ndrums:note:42\\ndrums:note:36\\nwait:480\\ndrums:note:42\\nwait:480\\ndrums:note:42\\ndrums:note:40\\nwait:480\\ndrums:note:42\\nwait:480\\ndrums:note:42\\ndrums:note:36\\nwait:480\\ndrums:note:42\\nwait:480\\ndrums:note:42\\ndrums:note:40\\nwait:480\\ndrums:note:42\\nwait:480\\nnew_measure\\ndrums:note:42\\ndrums:note:36\\nwait:480\\ndrums:note:42\\nwait:480\\ndrums:note:42\\ndrums:note:40\\nwait:480\\ndrums:note:42\\nwait:480\\ndrums:note:42\\ndrums:note:36\\nwait:480\\ndrums:note:42\\nwait:480\\ndrums:note:42\\ndrums:note:40\\nwait:480\\ndrums:note:42\\nwait:480\\nnew_measure\\ndrums:note:47\\nwait:240\\ndrums:note:47\\nwait:240\\ndrums:note:49\\nwait:480\\ndrums:note:42\\ndrums:note:40\\nwait:480\\ndrums:note:42\\nwait:480\\ndrums:note:42\\ndrums:note:36\\nwait:480\\ndrums:note:42\\nwait:480\\ndrums:note:42\\ndrums:note:40\\nwait:480\\ndrums:note:42\\nwait:480\\nnew_measure\\ndrums:note:42\\ndrums:note:36\\nwait:480\\ndrums:note:42\\nwait:480\\ndrums:note:42\\ndrums:note:40\\nwait:480\\ndrums:note:42\\nwait:480\\ndrums:note:42\\ndrums:note:36\\nwait:480\\ndrums:note:42\\nwait:480\\ndrums:note:42\\ndrums:note:40\\nwait:480\\ndrums:note:42\\nwait:480\\nnew_measure\\ndrums:note:42\\ndrums:note:36\\nwait:480\\ndrums:note:42\\nwait:480\\ndrums:note:42\\ndrums:note:40\\nwait:480\\ndrums:note:42\\nwait:480\\ndrums:note:42\\ndrums:note:36\\nwait:480\\ndrums:note:42\\nwait:480\\ndrums:note:42\\ndrums:note:40\\nwait:480\\ndrums:note:42\\nwait:480\\nend',\n",
              " 'input_text': 'artist:dgdgb\\ndowntune:-1\\ntempo:130\\nstart\\nnew_measure\\ndistorted0:rest\\ndistorted1:rest\\nbass:rest\\nwait:1920\\ndistorted0:rest\\ndistorted1:rest\\nwait:960\\ndistorted0:rest\\ndistorted1:rest\\nwait:480\\ndistorted0:note:s1:f7\\ndistorted0:note:s2:f7\\ndistorted0:note:s3:f8\\ndistorted0:note:s4:f9\\ndistorted0:note:s5:f9\\ndistorted0:note:s6:f7\\ndistorted1:note:s2:f12\\ndistorted1:note:s3:f11\\ndistorted1:note:s4:f9\\nwait:240\\ndistorted0:note:s1:f7\\ndistorted0:note:s2:f7\\ndistorted0:note:s3:f8\\ndistorted0:note:s4:f9\\ndistorted0:note:s5:f9\\ndistorted0:note:s6:f7\\ndistorted1:note:s2:f12\\ndistorted1:note:s3:f11\\ndistorted1:note:s4:f9\\nwait:240\\nnew_measure\\ndistorted0:note:s1:f7\\ndistorted0:note:s2:f7\\ndistorted0:note:s3:f8\\ndistorted0:note:s4:f9\\ndistorted0:note:s5:f9\\ndistorted0:note:s6:f7\\ndistorted1:note:s2:f12\\ndistorted1:note:s3:f11\\ndistorted1:note:s4:f9\\nbass:note:s4:f2\\nwait:960\\ndistorted0:note:s5:f11\\ndistorted0:note:s6:f7\\nbass:note:s4:f2\\nwait:480\\ndistorted0:note:s5:f9\\ndistorted0:note:s6:f7\\nwait:480\\ndistorted0:note:s5:f11\\ndistorted0:note:s6:f7\\ndistorted1:note:s2:f12\\nnfx:tie\\ndistorted1:note:s3:f11\\nnfx:tie\\ndistorted1:note:s4:f9\\nnfx:tie\\nbass:note:s5:f0\\nwait:480\\ndistorted0:note:s5:f9\\ndistorted0:note:s6:f7\\nbass:note:s5:f1\\nwait:480\\ndistorted0:note:s6:f7\\ndistorted1:note:s2:f12\\nnfx:tie\\ndistorted1:note:s3:f11\\nnfx:tie\\ndistorted1:note:s4:f9\\nnfx:tie\\nbass:note:s5:f2\\nwait:480\\ndistorted0:note:s2:f12\\ndistorted0:note:s3:f12\\ndistorted0:note:s4:f12\\ndistorted0:note:s5:f10\\ndistorted1:note:s3:f12\\ndistorted1:note:s4:f12\\ndistorted1:note:s5:f10\\nbass:note:s5:f3\\nwait:480\\nnew_measure\\ndistorted0:note:s2:f0\\nnfx:tie\\ndistorted0:note:s3:f0\\nnfx:tie\\ndistorted0:note:s4:f0\\nnfx:tie\\ndistorted0:note:s5:f0\\nnfx:tie\\ndistorted1:note:s3:f0\\nnfx:tie\\ndistorted1:note:s4:f0\\nnfx:tie\\ndistorted1:note:s5:f0\\nnfx:tie\\nbass:note:s5:f0\\nnfx:tie\\nwait:480\\ndistorted0:note:s5:f10\\nbass:rest\\nwait:480\\ndistorted0:note:s4:f14\\ndistorted0:note:s5:f10\\nbass:note:s4:f2\\nwait:480\\ndistorted0:note:s5:f10\\nwait:480\\ndistorted0:note:s3:f12\\ndistorted0:note:s4:f12\\ndistorted0:note:s5:f10\\ndistorted1:note:s3:f0\\nnfx:tie\\ndistorted1:note:s4:f0\\nnfx:tie\\ndistorted1:note:s5:f0\\nnfx:tie\\nbass:note:s4:f3\\nwait:480\\ndistorted0:note:s3:f12\\ndistorted0:note:s4:f12\\ndistorted0:note:s5:f10\\nwait:480\\ndistorted0:note:s5:f10\\ndistorted1:note:s3:f0\\nnfx:tie\\ndistorted1:note:s4:f0\\nnfx:tie\\ndistorted1:note:s5:f0\\nnfx:tie\\nbass:note:s4:f4\\nwait:480\\ndistorted0:note:s4:f12\\ndistorted0:note:s5:f12\\ndistorted0:note:s6:f10\\ndistorted1:note:s2:f15\\ndistorted1:note:s3:f14\\ndistorted1:note:s4:f12\\nbass:note:s4:f5\\nwait:240\\ndistorted0:note:s4:f12\\ndistorted0:note:s5:f12\\ndistorted0:note:s6:f10\\ndistorted1:note:s2:f15\\ndistorted1:note:s3:f14\\ndistorted1:note:s4:f12\\nwait:240\\nnew_measure\\ndistorted0:note:s4:f12\\ndistorted0:note:s5:f12\\ndistorted0:note:s6:f10\\ndistorted1:note:s2:f15\\ndistorted1:note:s3:f14\\ndistorted1:note:s4:f12\\nbass:note:s4:f0\\nnfx:tie\\nwait:480\\ndistorted0:note:s6:f10\\nbass:note:s4:f5\\nwait:480\\ndistorted0:note:s5:f14\\ndistorted0:note:s6:f10\\nbass:note:s3:f4\\nwait:480\\ndistorted0:note:s5:f12\\ndistorted0:note:s6:f10\\nbass:note:s3:f4\\nnfx:tie\\nwait:480\\ndistorted0:note:s5:f14\\ndistorted0:note:s6:f10\\ndistorted1:note:s2:f15\\nnfx:tie\\ndistorted1:note:s3:f14\\nnfx:tie\\ndistorted1:note:s4:f12\\nnfx:tie\\nbass:note:s3:f7\\nwait:480\\ndistorted0:note:s5:f12\\ndistorted0:note:s6:f10\\nbass:note:s3:f4\\nnfx:tie\\nwait:480\\ndistorted0:note:s6:f10\\ndistorted1:note:s2:f15\\nnfx:tie\\ndistorted1:note:s3:f14\\nnfx:tie\\ndistorted1:note:s4:f12\\nnfx:tie\\nbass:note:s3:f4\\nwait:480\\ndistorted0:note:s1:f5\\ndistorted0:note:s2:f5\\ndistorted0:note:s3:f6\\ndistorted0:note:s4:f7\\ndistorted0:note:s5:f7\\ndistorted0:note:s6:f5\\ndistorted1:note:s3:f14\\ndistorted1:note:s4:f14\\ndistorted1:note:s5:f12\\nbass:note:s4:f0\\nwait:480\\nnew_measure\\ndistorted0:note:s1:f0\\nnfx:tie\\ndistorted0:note:s2:f0\\nnfx:tie\\ndistorted0:note:s3:f0\\nnfx:tie\\ndistorted0:note:s4:f0\\nnfx:tie\\ndistorted0:note:s5:f0\\nnfx:tie\\ndistorted0:note:s6:f0\\nnfx:tie\\ndistorted1:note:s3:f0\\nnfx:tie\\ndistorted1:note:s4:f0\\nnfx:tie\\ndistorted1:note:s5:f0\\nnfx:tie\\nbass:note:s4:f0\\nnfx:tie\\nwait:480\\ndistorted0:note:s6:f5\\ndistorted1:note:s3:f0\\nnfx:tie\\ndistorted1:note:s4:f0\\nnfx:tie\\ndistorted1:note:s5:f0\\nnfx:tie\\nbass:note:s4:f0\\nwait:480\\ndistorted0:note:s5:f9\\ndistorted0:note:s6:f5\\ndistorted1:note:s3:f0\\nnfx:tie\\ndistorted1:note:s4:f0\\nnfx:tie\\ndistorted1:note:s5:f0\\nnfx:tie\\nbass:note:s4:f4\\nwait:480\\ndistorted0:note:s5:f7\\ndistorted0:note:s6:f5\\ndistorted1:note:s3:f14\\ndistorted1:note:s4:f14\\ndistorted1:note:s5:f12\\nwait:480\\ndistorted0:note:s5:f9\\ndistorted0:note:s6:f5\\ndistorted1:rest\\nbass:note:s3:f2\\nwait:480\\ndistorted0:note:s4:f7\\ndistorted0:note:s5:f7\\ndistorted0:note:s6:f5\\ndistorted1:note:s3:f14\\ndistorted1:note:s4:f14\\ndistorted1:note:s5:f12\\nwait:480\\ndistorted0:note:s6:f5\\ndistorted1:rest\\nbass:note:s4:f4\\nwait:480\\ndistorted0:note:s1:f7\\ndistorted0:note:s2:f7\\ndistorted0:note:s3:f8\\ndistorted0:note:s4:f9\\ndistorted0:note:s5:f9\\ndistorted0:note:s6:f7\\ndistorted1:note:s2:f12\\ndistorted1:note:s3:f11\\ndistorted1:note:s4:f9\\nwait:240\\ndistorted0:note:s1:f7\\ndistorted0:note:s2:f7\\ndistorted0:note:s3:f8\\ndistorted0:note:s4:f9\\ndistorted0:note:s5:f9\\ndistorted0:note:s6:f7\\ndistorted1:note:s2:f12\\ndistorted1:note:s3:f11\\ndistorted1:note:s4:f9\\nwait:240\\nnew_measure\\ndistorted0:note:s1:f7\\ndistorted0:note:s2:f7\\ndistorted0:note:s3:f8\\ndistorted0:note:s4:f9\\ndistorted0:note:s5:f9\\ndistorted0:note:s6:f7\\ndistorted1:note:s2:f12\\ndistorted1:note:s3:f11\\ndistorted1:note:s4:f9\\nbass:note:s4:f2\\nwait:960\\ndistorted0:note:s5:f11\\ndistorted0:note:s6:f7\\nbass:note:s4:f2\\nwait:480\\ndistorted0:note:s5:f9\\ndistorted0:note:s6:f7\\nwait:480\\ndistorted0:note:s5:f11\\ndistorted0:note:s6:f7\\ndistorted1:note:s2:f12\\nnfx:tie\\ndistorted1:note:s3:f11\\nnfx:tie\\ndistorted1:note:s4:f9\\nnfx:tie\\nbass:note:s5:f0\\nwait:480\\ndistorted0:note:s5:f9\\ndistorted0:note:s6:f7\\nbass:note:s5:f1\\nwait:480\\ndistorted0:note:s6:f7\\ndistorted1:note:s2:f12\\nnfx:tie\\ndistorted1:note:s3:f11\\nnfx:tie\\ndistorted1:note:s4:f9\\nnfx:tie\\nbass:note:s5:f2\\nwait:480\\ndistorted0:note:s2:f12\\ndistorted0:note:s3:f12\\ndistorted0:note:s4:f12\\ndistorted0:note:s5:f10\\ndistorted1:note:s3:f12\\ndistorted1:note:s4:f12\\ndistorted1:note:s5:f10\\nbass:note:s5:f3\\nwait:480\\nnew_measure\\ndistorted0:note:s2:f0\\nnfx:tie\\ndistorted0:note:s3:f0\\nnfx:tie\\ndistorted0:note:s4:f0\\nnfx:tie\\ndistorted0:note:s5:f0\\nnfx:tie\\ndistorted1:note:s3:f0\\nnfx:tie\\ndistorted1:note:s4:f0\\nnfx:tie\\ndistorted1:note:s5:f0\\nnfx:tie\\nbass:note:s5:f0\\nnfx:tie\\nwait:480\\ndistorted0:note:s5:f10\\nbass:rest\\nwait:480\\ndistorted0:note:s4:f14\\ndistorted0:note:s5:f10\\nbass:note:s4:f2\\nwait:480\\ndistorted0:note:s5:f10\\nwait:480\\ndistorted0:note:s3:f12\\ndistorted0:note:s4:f12\\ndistorted0:note:s5:f10\\ndistorted1:note:s3:f0\\nnfx:tie\\ndistorted1:note:s4:f0\\nnfx:tie\\ndistorted1:note:s5:f0\\nnfx:tie\\nbass:note:s4:f3\\nwait:480\\ndistorted0:note:s3:f12\\ndistorted0:note:s4:f12\\ndistorted0:note:s5:f10\\nwait:480\\ndistorted0:note:s5:f10\\ndistorted1:note:s3:f0\\nnfx:tie\\ndistorted1:note:s4:f0\\nnfx:tie\\ndistorted1:note:s5:f0\\nnfx:tie\\nbass:note:s4:f4\\nwait:480\\ndistorted0:note:s4:f12\\ndistorted0:note:s5:f12\\ndistorted0:note:s6:f10\\ndistorted1:note:s2:f15\\ndistorted1:note:s3:f14\\ndistorted1:note:s4:f12\\nbass:note:s4:f5\\nwait:240\\ndistorted0:note:s4:f12\\ndistorted0:note:s5:f12\\ndistorted0:note:s6:f10\\ndistorted1:note:s2:f15\\ndistorted1:note:s3:f14\\ndistorted1:note:s4:f12\\nwait:240\\nnew_measure\\ndistorted0:note:s5:f12\\ndistorted0:note:s6:f10\\ndistorted1:note:s2:f15\\ndistorted1:note:s3:f14\\ndistorted1:note:s4:f12\\nbass:note:s4:f0\\nnfx:tie\\nwait:480\\ndistorted0:note:s6:f10\\nbass:note:s4:f5\\nwait:480\\ndistorted0:note:s5:f14\\ndistorted0:note:s6:f10\\nbass:note:s3:f4\\nwait:480\\ndistorted0:note:s6:f10\\nbass:note:s3:f4\\nnfx:tie\\nwait:480\\ndistorted0:note:s4:f12\\ndistorted0:note:s5:f12\\ndistorted0:note:s6:f10\\nbass:note:s3:f7\\nwait:480\\ndistorted0:note:s4:f12\\ndistorted0:note:s5:f12\\ndistorted0:note:s6:f10\\nbass:note:s3:f4\\nnfx:tie\\nwait:480\\ndistorted0:note:s5:f14\\ndistorted0:note:s6:f10\\nbass:note:s3:f4\\nwait:480\\ndistorted0:note:s5:f12\\ndistorted0:note:s6:f10\\nbass:note:s4:f5\\nwait:480\\nnew_measure\\ndistorted0:note:s5:f0\\nnfx:tie\\ndistorted0:note:s6:f0\\nnfx:tie\\ndistorted1:note:s2:f15\\ndistorted1:note:s3:f14\\ndistorted1:note:s4:f12\\nbass:note:s4:f0\\nnfx:tie\\nwait:480\\ndistorted0:note:s6:f10\\nbass:note:s4:f5\\nwait:480\\ndistorted0:note:s5:f14\\ndistorted0:note:s6:f10\\ndistorted1:rest\\nbass:note:s3:f4\\nwait:480\\ndistorted0:note:s6:f10\\ndistorted1:note:s2:f15\\ndistorted1:note:s3:f14\\ndistorted1:note:s4:f12\\nwait:480\\ndistorted0:note:s5:f12\\ndistorted0:note:s6:f10\\ndistorted1:rest\\nbass:note:s3:f7\\nwait:480\\ndistorted0:note:s5:f12\\ndistorted0:note:s6:f10\\ndistorted1:note:s2:f15\\ndistorted1:note:s3:f14\\ndistorted1:note:s4:f12\\nwait:480\\ndistorted0:note:s4:f0\\nnfx:ghost_note\\ndistorted0:note:s5:f0\\nnfx:ghost_note\\ndistorted1:rest\\nbass:note:s3:f4\\nwait:480\\ndistorted0:note:s1:f7\\ndistorted0:note:s2:f7\\ndistorted0:note:s3:f8\\ndistorted0:note:s4:f9\\ndistorted0:note:s5:f9\\ndistorted0:note:s6:f7\\ndistorted1:rest\\nwait:240\\ndistorted0:note:s1:f7\\ndistorted0:note:s2:f7\\ndistorted0:note:s3:f8\\ndistorted0:note:s4:f9\\ndistorted0:note:s5:f9\\ndistorted0:note:s6:f7\\nwait:240\\nnew_measure\\ndistorted0:note:s1:f7\\ndistorted0:note:s2:f7\\ndistorted0:note:s3:f8\\ndistorted0:note:s4:f9\\ndistorted0:note:s5:f9\\ndistorted0:note:s6:f7\\ndistorted1:note:s2:f12\\ndistorted1:note:s3:f11\\ndistorted1:note:s4:f9\\nbass:note:s4:f2\\nwait:960\\nbass:note:s4:f2\\nwait:960\\ndistorted0:note:s1:f7\\nnfx:tie\\ndistorted0:note:s2:f7\\nnfx:tie\\ndistorted0:note:s3:f8\\nnfx:tie\\ndistorted0:note:s4:f9\\nnfx:tie\\ndistorted0:note:s5:f9\\nnfx:tie\\ndistorted0:note:s6:f7\\nnfx:tie\\nbass:note:s5:f0\\nwait:480\\ndistorted0:note:s4:f9\\ndistorted0:note:s5:f9\\ndistorted0:note:s6:f7\\nbass:note:s5:f1\\nwait:480\\ndistorted0:note:s4:f9\\ndistorted0:note:s5:f9\\ndistorted0:note:s6:f7\\nbass:note:s5:f2\\nwait:480\\ndistorted0:note:s4:f5\\ndistorted0:note:s5:f5\\ndistorted0:note:s6:f3\\nbass:note:s5:f3\\nwait:480\\nnew_measure\\ndistorted0:note:s4:f0\\nnfx:tie\\ndistorted0:note:s5:f0\\nnfx:tie\\ndistorted0:note:s6:f0\\nnfx:tie\\ndistorted1:rest\\nbass:note:s5:f0\\nnfx:tie\\nwait:480\\ndistorted0:note:s4:f5\\ndistorted0:note:s5:f5\\ndistorted0:note:s6:f3\\nbass:rest\\nwait:480\\ndistorted0:note:s5:f7\\ndistorted0:note:s6:f3\\nbass:note:s4:f2\\nwait:480\\ndistorted0:note:s6:f3\\nwait:480\\ndistorted0:note:s4:f5\\ndistorted0:note:s5:f5\\ndistorted0:note:s6:f3\\nbass:note:s4:f3\\nwait:960\\ndistorted0:rest\\nbass:note:s4:f4\\nwait:480\\ndistorted0:note:s2:f7\\ndistorted0:note:s3:f7\\ndistorted0:note:s4:f7\\ndistorted0:note:s5:f5\\nbass:note:s4:f5\\nwait:480\\nnew_measure\\ndistorted0:note:s2:f0\\nnfx:tie\\ndistorted0:note:s3:f0\\nnfx:tie\\ndistorted0:note:s4:f0\\nnfx:tie\\ndistorted0:note:s5:f0\\nnfx:tie\\ndistorted1:rest\\nbass:note:s4:f0\\nnfx:tie\\nwait:480\\ndistorted0:note:s5:f5\\nbass:note:s4:f5\\nwait:480\\ndistorted0:note:s4:f9\\ndistorted0:note:s5:f5\\nbass:note:s4:f4\\nwait:480\\ndistorted0:note:s5:f5\\nwait:480\\ndistorted0:note:s3:f7\\ndistorted0:note:s4:f7\\ndistorted0:note:s5:f5\\nbass:note:s4:f2\\nwait:480\\ndistorted0:note:s3:f7\\ndistorted0:note:s4:f7\\ndistorted0:note:s5:f5\\nwait:480\\ndistorted0:rest\\nbass:note:s4:f0\\nwait:480\\ndistorted0:note:s2:f7\\ndistorted0:note:s3:f7\\ndistorted0:note:s4:f7\\nbass:note:s4:f5\\nwait:480\\nnew_measure\\ndistorted0:note:s2:f8\\ndistorted0:note:s3:f7\\ndistorted0:note:s4:f9\\ndistorted1:rest\\nbass:note:s4:f0\\nnfx:tie\\nwait:480\\ndistorted0:note:s2:f8\\ndistorted0:note:s3:f7\\ndistorted0:note:s4:f9\\ndistorted1:note:s2:f15\\ndistorted1:note:s3:f14\\ndistorted1:note:s4:f12\\nbass:note:s4:f5\\nwait:480\\ndistorted0:note:s2:f8\\ndistorted0:note:s3:f7\\ndistorted0:note:s4:f9\\nbass:note:s4:f4\\nwait:480\\ndistorted0:note:s2:f8\\ndistorted0:note:s3:f7\\ndistorted0:note:s4:f9\\ndistorted1:rest\\nwait:480\\ndistorted0:note:s2:f8\\ndistorted0:note:s3:f7\\ndistorted0:note:s4:f9\\ndistorted1:note:s2:f15\\ndistorted1:note:s3:f14\\ndistorted1:note:s4:f12\\nbass:note:s4:f2\\nwait:480\\ndistorted0:note:s2:f7\\ndistorted0:note:s3:f7\\ndistorted0:note:s4:f7\\ndistorted1:rest\\nwait:480\\ndistorted0:rest\\ndistorted1:note:s2:f15\\ndistorted1:note:s3:f14\\ndistorted1:note:s4:f12\\nbass:note:s4:f0\\nwait:480\\ndistorted0:note:s1:f7\\ndistorted0:note:s2:f7\\ndistorted0:note:s3:f8\\ndistorted0:note:s4:f9\\ndistorted0:note:s5:f9\\ndistorted0:note:s6:f7\\ndistorted1:rest\\nwait:240\\ndistorted0:note:s1:f7\\ndistorted0:note:s2:f7\\ndistorted0:note:s3:f8\\ndistorted0:note:s4:f9\\ndistorted0:note:s5:f9\\ndistorted0:note:s6:f7\\nwait:240\\nnew_measure\\ndistorted0:note:s1:f7\\ndistorted0:note:s2:f7\\ndistorted0:note:s3:f8\\ndistorted0:note:s4:f9\\ndistorted0:note:s5:f9\\ndistorted0:note:s6:f7\\ndistorted1:note:s2:f12\\ndistorted1:note:s3:f11\\ndistorted1:note:s4:f9\\nbass:note:s4:f2\\nwait:960\\nbass:note:s4:f2\\nwait:960\\ndistorted0:note:s1:f7\\nnfx:tie\\ndistorted0:note:s2:f7\\nnfx:tie\\ndistorted0:note:s3:f8\\nnfx:tie\\ndistorted0:note:s4:f9\\nnfx:tie\\ndistorted0:note:s5:f9\\nnfx:tie\\ndistorted0:note:s6:f7\\nnfx:tie\\nbass:note:s5:f0\\nwait:480\\ndistorted0:note:s4:f9\\ndistorted0:note:s5:f9\\ndistorted0:note:s6:f7\\nbass:note:s5:f1\\nwait:480\\ndistorted0:note:s4:f9\\ndistorted0:note:s5:f9\\ndistorted0:note:s6:f7\\nbass:note:s5:f2\\nwait:480\\ndistorted0:note:s4:f5\\ndistorted0:note:s5:f5\\ndistorted0:note:s6:f3\\nbass:note:s5:f3\\nwait:480\\nnew_measure\\ndistorted0:note:s4:f0\\nnfx:tie\\ndistorted0:note:s5:f0\\nnfx:tie\\ndistorted0:note:s6:f0\\nnfx:tie\\ndistorted1:rest\\nbass:note:s5:f0\\nnfx:tie\\nwait:480\\ndistorted0:note:s4:f5\\ndistorted0:note:s5:f5\\ndistorted0:note:s6:f3\\nbass:rest\\nwait:480\\ndistorted0:note:s5:f7\\ndistorted0:note:s6:f3\\nbass:note:s4:f2\\nwait:480\\ndistorted0:note:s6:f3\\nwait:480\\ndistorted0:note:s4:f5\\ndistorted0:note:s5:f5\\ndistorted0:note:s6:f3\\nbass:note:s4:f3\\nwait:960\\ndistorted0:rest\\nbass:note:s4:f4\\nwait:480\\ndistorted0:note:s2:f7\\ndistorted0:note:s3:f7\\ndistorted0:note:s4:f7\\ndistorted0:note:s5:f5\\nbass:note:s4:f5\\nwait:480\\nnew_measure\\ndistorted0:note:s2:f0\\nnfx:tie\\ndistorted0:note:s3:f0\\nnfx:tie\\ndistorted0:note:s4:f0\\nnfx:tie\\ndistorted0:note:s5:f0\\nnfx:tie\\ndistorted1:rest\\nbass:note:s4:f0\\nnfx:tie\\nwait:480\\ndistorted0:note:s5:f5\\nbass:note:s4:f5\\nwait:480\\ndistorted0:note:s4:f9\\ndistorted0:note:s5:f5\\nbass:note:s3:f4\\nwait:480\\ndistorted0:note:s5:f5\\nbass:note:s3:f4\\nnfx:tie\\nwait:480\\ndistorted0:note:s3:f7\\ndistorted0:note:s4:f7\\ndistorted0:note:s5:f5\\nbass:note:s3:f7\\nwait:480\\ndistorted0:note:s3:f7\\ndistorted0:note:s4:f7\\ndistorted0:note:s5:f5\\nbass:note:s3:f4\\nnfx:tie\\nwait:480\\ndistorted0:rest\\nbass:note:s3:f4\\nwait:480\\ndistorted0:note:s4:f7\\ndistorted0:note:s5:f7\\ndistorted0:note:s6:f5\\nbass:note:s4:f0\\nwait:480\\nend',\n",
              " 'target_text': 'artist:drums\\ndowntune:0\\ntempo:130\\nstart\\nnew_measure\\ndrums:note:40\\nwait:480\\ndrums:note:36\\nwait:480\\ndrums:note:47\\nwait:480\\ndrums:note:36\\nwait:480\\ndrums:note:45\\nwait:480\\ndrums:note:36\\nwait:480\\ndrums:note:43\\nwait:480\\ndrums:rest\\nwait:480\\nnew_measure\\ndrums:note:49\\ndrums:note:36\\nwait:480\\ndrums:note:42\\nwait:480\\ndrums:note:42\\ndrums:note:40\\nwait:480\\ndrums:note:42\\nwait:480\\ndrums:note:42\\ndrums:note:36\\nwait:480\\ndrums:note:42\\nwait:480\\ndrums:note:42\\ndrums:note:40\\nwait:480\\ndrums:note:42\\nwait:480\\nnew_measure\\ndrums:note:42\\ndrums:note:36\\nwait:480\\ndrums:note:42\\nwait:480\\ndrums:note:42\\ndrums:note:40\\nwait:480\\ndrums:note:42\\nwait:480\\ndrums:note:42\\ndrums:note:36\\nwait:480\\ndrums:note:42\\nwait:480\\ndrums:note:42\\ndrums:note:40\\nwait:480\\ndrums:note:42\\nwait:480\\nnew_measure\\ndrums:note:42\\ndrums:note:36\\nwait:480\\ndrums:note:42\\nwait:480\\ndrums:note:42\\ndrums:note:40\\nwait:480\\ndrums:note:42\\nwait:480\\ndrums:note:42\\ndrums:note:36\\nwait:480\\ndrums:note:42\\nwait:480\\ndrums:note:42\\ndrums:note:40\\nwait:480\\ndrums:note:42\\nwait:480\\nnew_measure\\ndrums:note:40\\nwait:480\\ndrums:rest\\nwait:480\\ndrums:note:47\\nwait:480\\ndrums:rest\\nwait:480\\ndrums:note:45\\nwait:480\\ndrums:rest\\nwait:480\\ndrums:note:43\\nwait:480\\ndrums:rest\\nwait:480\\nnew_measure\\ndrums:note:49\\ndrums:note:36\\nwait:480\\ndrums:note:42\\nwait:480\\ndrums:note:42\\ndrums:note:40\\nwait:480\\ndrums:note:42\\nwait:480\\ndrums:note:42\\ndrums:note:36\\nwait:480\\ndrums:note:42\\nwait:480\\ndrums:note:42\\ndrums:note:40\\nwait:480\\ndrums:note:42\\nwait:480\\nnew_measure\\ndrums:note:42\\ndrums:note:36\\nwait:480\\ndrums:note:42\\nwait:480\\ndrums:note:42\\ndrums:note:40\\nwait:480\\ndrums:note:42\\nwait:480\\ndrums:note:42\\ndrums:note:36\\nwait:480\\ndrums:note:42\\nwait:480\\ndrums:note:42\\ndrums:note:40\\nwait:480\\ndrums:note:42\\nwait:480\\nnew_measure\\ndrums:note:42\\ndrums:note:36\\nwait:480\\ndrums:note:42\\nwait:480\\ndrums:note:42\\ndrums:note:40\\nwait:480\\ndrums:note:42\\nwait:480\\ndrums:note:42\\ndrums:note:36\\nwait:480\\ndrums:note:42\\nwait:480\\ndrums:note:42\\ndrums:note:40\\nwait:480\\ndrums:note:42\\nwait:480\\nnew_measure\\ndrums:note:40\\nwait:240\\ndrums:note:40\\nwait:240\\ndrums:note:40\\nwait:480\\ndrums:note:49\\ndrums:note:36\\nwait:480\\ndrums:note:36\\nwait:480\\ndrums:note:49\\ndrums:note:36\\nwait:480\\ndrums:rest\\nwait:480\\ndrums:note:49\\ndrums:note:36\\nwait:480\\ndrums:rest\\nwait:480\\nnew_measure\\ndrums:note:49\\ndrums:note:36\\nwait:480\\ndrums:note:42\\nwait:480\\ndrums:note:42\\ndrums:note:40\\nwait:480\\ndrums:note:42\\nwait:480\\ndrums:note:42\\ndrums:note:36\\nwait:480\\ndrums:note:42\\nwait:480\\ndrums:note:42\\ndrums:note:40\\nwait:480\\ndrums:note:42\\nwait:480\\nnew_measure\\ndrums:note:42\\ndrums:note:36\\nwait:480\\ndrums:note:42\\nwait:480\\ndrums:note:42\\ndrums:note:40\\nwait:480\\ndrums:note:42\\nwait:480\\ndrums:note:42\\ndrums:note:36\\nwait:480\\ndrums:note:42\\nwait:480\\ndrums:note:42\\ndrums:note:40\\nwait:480\\ndrums:note:42\\nwait:480\\nnew_measure\\ndrums:note:42\\ndrums:note:36\\nwait:480\\ndrums:note:42\\nwait:480\\ndrums:note:42\\ndrums:note:40\\nwait:480\\ndrums:note:42\\nwait:480\\ndrums:note:42\\ndrums:note:36\\nwait:480\\ndrums:note:42\\nwait:480\\ndrums:note:42\\ndrums:note:40\\nwait:480\\ndrums:note:42\\nwait:480\\nnew_measure\\ndrums:note:42\\ndrums:note:36\\nwait:480\\ndrums:note:42\\nwait:480\\ndrums:note:42\\ndrums:note:40\\nwait:480\\ndrums:note:42\\nwait:480\\ndrums:note:42\\ndrums:note:36\\nwait:480\\ndrums:note:42\\nwait:480\\ndrums:note:42\\ndrums:note:40\\nwait:480\\ndrums:note:42\\nwait:480\\nnew_measure\\ndrums:note:47\\nwait:240\\ndrums:note:47\\nwait:240\\ndrums:note:49\\nwait:480\\ndrums:note:42\\ndrums:note:40\\nwait:480\\ndrums:note:42\\nwait:480\\ndrums:note:42\\ndrums:note:36\\nwait:480\\ndrums:note:42\\nwait:480\\ndrums:note:42\\ndrums:note:40\\nwait:480\\ndrums:note:42\\nwait:480\\nnew_measure\\ndrums:note:42\\ndrums:note:36\\nwait:480\\ndrums:note:42\\nwait:480\\ndrums:note:42\\ndrums:note:40\\nwait:480\\ndrums:note:42\\nwait:480\\ndrums:note:42\\ndrums:note:36\\nwait:480\\ndrums:note:42\\nwait:480\\ndrums:note:42\\ndrums:note:40\\nwait:480\\ndrums:note:42\\nwait:480\\nnew_measure\\ndrums:note:42\\ndrums:note:36\\nwait:480\\ndrums:note:42\\nwait:480\\ndrums:note:42\\ndrums:note:40\\nwait:480\\ndrums:note:42\\nwait:480\\ndrums:note:42\\ndrums:note:36\\nwait:480\\ndrums:note:42\\nwait:480\\ndrums:note:42\\ndrums:note:40\\nwait:480\\ndrums:note:42\\nwait:480\\nend'}"
            ]
          },
          "metadata": {},
          "execution_count": 36
        }
      ]
    },
    {
      "cell_type": "code",
      "source": [
        "from transformers import T5Tokenizer\n",
        "\n",
        "# Load T5 tokenizer\n",
        "tokenizer = T5Tokenizer.from_pretrained(\"t5-small\")\n",
        "\n",
        "# Tokenization function\n",
        "def preprocess_function(examples):\n",
        "    # Tokenize input_text\n",
        "    model_inputs = tokenizer(\n",
        "        examples[\"input_text\"],\n",
        "        max_length=512,\n",
        "        padding=\"max_length\",\n",
        "        truncation=True,\n",
        "    )\n",
        "    # Tokenize target_text as labels\n",
        "    with tokenizer.as_target_tokenizer():\n",
        "        labels = tokenizer(\n",
        "            examples[\"target_text\"],\n",
        "            max_length=512,\n",
        "            padding=\"max_length\",\n",
        "            truncation=True,\n",
        "        )\n",
        "    model_inputs[\"labels\"] = labels[\"input_ids\"]\n",
        "    return model_inputs\n"
      ],
      "metadata": {
        "colab": {
          "base_uri": "https://localhost:8080/",
          "height": 255,
          "referenced_widgets": [
            "9a7e59cfed29410883b3b6ae7da394ec",
            "92ba795107b94be1860c86e2fd14a8cc",
            "30408d37a1fd4406b7a6d09284918b74",
            "bd7cdb7717944ee589afd491d13a9cbe",
            "a7436b3921f04d239fb9eb1dbede7562",
            "fa5f1016e57041238968b1eda1db29c9",
            "58b96207534e4573ade2099e6a05579d",
            "a6f83555680b41ddb208a8995dcef534",
            "df78710894d64574a661851c475db07b",
            "39157e1c98c84ee790ad87f13f781c3f",
            "2e393f1dd9ea46e6b4b8a12f0d586100",
            "58f8930c3bad4238b18b60ce432a81b3",
            "f543923b7c584c84ba51351632a034bd",
            "591ea174a9f34dd1aa35d460492db890",
            "1352aaeed9dd4991b611347341eff58a",
            "d757b6b0d97d421491fbed093e66beec",
            "61514cdd03d84ede93d1bc8f8d1ee35a",
            "f43a866ef5e045a282cf95fad0ebc7ca",
            "76403d67f80148deae2765d20faf7969",
            "74f22993698c4efa9301b2cde35e5600",
            "a07bf79560dc41708f795f08b0ef0499",
            "385124c9cdaa48f0bc3b564d51958baa",
            "eba595c32a084629bfe1fdc1e71d69d1",
            "c213f40b349b4f6397faa43c49f9ecd5",
            "69de7807cd3c404cadfb904407b53f42",
            "62923653c9184b9eb565b008b12c6383",
            "3896db7630044e23ad78095548de831b",
            "164560e7b37649c5806f090ae2084850",
            "839b271bc7d147768e5a4755e85c79c7",
            "7c98b0035ec7427ca00a08812b04adbd",
            "54fbc9a767b94036aef79cbd7f6fc6aa",
            "164417f584d943df94b56c87c06e350e",
            "f2055dae1ee5452d8c3256a36b388766"
          ]
        },
        "id": "GQIeQCDNzHsG",
        "outputId": "71ed9076-b077-4ab5-90cd-0c4d48182734"
      },
      "execution_count": null,
      "outputs": [
        {
          "output_type": "stream",
          "name": "stderr",
          "text": [
            "/usr/local/lib/python3.10/dist-packages/huggingface_hub/utils/_auth.py:94: UserWarning: \n",
            "The secret `HF_TOKEN` does not exist in your Colab secrets.\n",
            "To authenticate with the Hugging Face Hub, create a token in your settings tab (https://huggingface.co/settings/tokens), set it as secret in your Google Colab and restart your session.\n",
            "You will be able to reuse this secret in all of your notebooks.\n",
            "Please note that authentication is recommended but still optional to access public models or datasets.\n",
            "  warnings.warn(\n"
          ]
        },
        {
          "output_type": "display_data",
          "data": {
            "text/plain": [
              "tokenizer_config.json:   0%|          | 0.00/2.32k [00:00<?, ?B/s]"
            ],
            "application/vnd.jupyter.widget-view+json": {
              "version_major": 2,
              "version_minor": 0,
              "model_id": "9a7e59cfed29410883b3b6ae7da394ec"
            }
          },
          "metadata": {}
        },
        {
          "output_type": "display_data",
          "data": {
            "text/plain": [
              "spiece.model:   0%|          | 0.00/792k [00:00<?, ?B/s]"
            ],
            "application/vnd.jupyter.widget-view+json": {
              "version_major": 2,
              "version_minor": 0,
              "model_id": "58f8930c3bad4238b18b60ce432a81b3"
            }
          },
          "metadata": {}
        },
        {
          "output_type": "display_data",
          "data": {
            "text/plain": [
              "tokenizer.json:   0%|          | 0.00/1.39M [00:00<?, ?B/s]"
            ],
            "application/vnd.jupyter.widget-view+json": {
              "version_major": 2,
              "version_minor": 0,
              "model_id": "eba595c32a084629bfe1fdc1e71d69d1"
            }
          },
          "metadata": {}
        },
        {
          "output_type": "stream",
          "name": "stderr",
          "text": [
            "You are using the default legacy behaviour of the <class 'transformers.models.t5.tokenization_t5.T5Tokenizer'>. This is expected, and simply means that the `legacy` (previous) behavior will be used so nothing changes for you. If you want to use the new behaviour, set `legacy=False`. This should only be set if you understand what it means, and thoroughly read the reason why this was added as explained in https://github.com/huggingface/transformers/pull/24565\n"
          ]
        }
      ]
    },
    {
      "cell_type": "code",
      "source": [
        "# Apply tokenization\n",
        "tokenized_train = train_dataset.map(preprocess_function, batched=True)\n",
        "tokenized_validation = validation_dataset.map(preprocess_function, batched=True)\n"
      ],
      "metadata": {
        "id": "da34XxqsAesW"
      },
      "execution_count": null,
      "outputs": []
    },
    {
      "cell_type": "code",
      "source": [
        "print(tokenized_validation)"
      ],
      "metadata": {
        "colab": {
          "base_uri": "https://localhost:8080/"
        },
        "id": "W-pgwx6SAxMA",
        "outputId": "4c43ef32-a8a8-4c18-8748-c507cd5ce444"
      },
      "execution_count": null,
      "outputs": [
        {
          "output_type": "stream",
          "name": "stdout",
          "text": [
            "Dataset({\n",
            "    features: ['text', 'input_text', 'target_text', 'input_ids', 'attention_mask', 'labels'],\n",
            "    num_rows: 9915\n",
            "})\n"
          ]
        }
      ]
    },
    {
      "cell_type": "code",
      "source": [
        "tokenized_train.save_to_disk(\"/content/drive/MyDrive/bandGP/tokenized_train_t5_dgdgb-drums\")\n",
        "tokenized_validation.save_to_disk(\"/content/drive/MyDrive/bandGP/tokenized_validation_t5_dgdgb-drums\")"
      ],
      "metadata": {
        "colab": {
          "base_uri": "https://localhost:8080/",
          "height": 81,
          "referenced_widgets": [
            "67293bb269504255b787ac24bef0a275",
            "7c0de935b0954e4297f1679ca28cfda7",
            "c64b847dcb0644a0a5dea7d638a9d283",
            "bb5931337d9043e9994a8e98ea8f48d5",
            "cf97c111be394d91818f3a2a5cd77dd2",
            "5ba061c236dd4223ba3736ae8ac390d1",
            "de8cb77c177340ddae1e3c1d7d646dd4",
            "829955761cc6487aaa87262cced2c56c",
            "1497346891cf408f9da75917e163a3b8",
            "09c5cb8b132541e1a61d28117edbb009",
            "0065e410f8ea41039cb8ac0c2741e921",
            "c3ed4e122f1345c3a43333155dd69c8d",
            "a859ee7c3f354ccf9563f7cb0ff1bcd9",
            "3163f6c658ed4234aa2e46d9574c4112",
            "1874af82aef64b1da6be66804e61706c",
            "9c24567bf2fb4b12bc80fc1beb42f5dc",
            "4958de1a34564a0e91641f003bb3f37a",
            "a8bb37a5a0db4e7f9a76cedf4ee332b0",
            "e95c0deabba94213a3b4ade42e841d23",
            "63f9842f04d34f8fbe90098b514bead2",
            "f53331276f0447d589a31594d9d64d1b",
            "bd837943ca154701889547edeb0273ae"
          ]
        },
        "id": "ZN884w4G0v8p",
        "outputId": "dd1d2a89-64ca-40df-814a-45735afea648"
      },
      "execution_count": null,
      "outputs": [
        {
          "output_type": "display_data",
          "data": {
            "text/plain": [
              "Saving the dataset (0/4 shards):   0%|          | 0/39657 [00:00<?, ? examples/s]"
            ],
            "application/vnd.jupyter.widget-view+json": {
              "version_major": 2,
              "version_minor": 0,
              "model_id": "67293bb269504255b787ac24bef0a275"
            }
          },
          "metadata": {}
        },
        {
          "output_type": "display_data",
          "data": {
            "text/plain": [
              "Saving the dataset (0/1 shards):   0%|          | 0/9915 [00:00<?, ? examples/s]"
            ],
            "application/vnd.jupyter.widget-view+json": {
              "version_major": 2,
              "version_minor": 0,
              "model_id": "c3ed4e122f1345c3a43333155dd69c8d"
            }
          },
          "metadata": {}
        }
      ]
    },
    {
      "cell_type": "code",
      "source": [
        "# To load tokenized datasets\n",
        "from datasets import load_from_disk\n",
        "\n",
        "tokenized_train = load_from_disk(\"/content/drive/MyDrive/bandGP/tokenized_train_t5_dgdgb-drums\")\n",
        "tokenized_validation = load_from_disk(\"/content/drive/MyDrive/bandGP/tokenized_validation_t5_dgdgb-drums\")"
      ],
      "metadata": {
        "id": "HRsGylVU1j0X"
      },
      "execution_count": 7,
      "outputs": []
    },
    {
      "cell_type": "code",
      "source": [
        "import numpy as np\n",
        "\n",
        "# Calculate token length statistics // TRAINING\n",
        "token_lengths = [len(tokens[\"input_ids\"]) for tokens in tokenized_train]\n",
        "print(f\"Max Length: {max(token_lengths)}\")\n",
        "print(f\"Min Length: {min(token_lengths)}\")\n",
        "print(f\"Median Length: {np.median(token_lengths)}\")\n",
        "\n",
        "# IDEAL FOR TRAINING!"
      ],
      "metadata": {
        "colab": {
          "base_uri": "https://localhost:8080/"
        },
        "id": "HM1M33Vp3fSQ",
        "outputId": "e9701cf3-546f-4f48-e0e7-059dcc6a86b5"
      },
      "execution_count": null,
      "outputs": [
        {
          "output_type": "stream",
          "name": "stdout",
          "text": [
            "Max Length: 512\n",
            "Min Length: 512\n",
            "Median Length: 512.0\n"
          ]
        }
      ]
    },
    {
      "cell_type": "code",
      "source": [
        "# Remove unnecessary columns for fine-tuning\n",
        "tokenized_train = tokenized_train.remove_columns([\"text\", \"input_text\", \"target_text\"])\n",
        "tokenized_validation = tokenized_validation.remove_columns([\"text\", \"input_text\", \"target_text\"])\n",
        "\n",
        "print(tokenized_train)\n",
        "print(tokenized_validation)"
      ],
      "metadata": {
        "colab": {
          "base_uri": "https://localhost:8080/"
        },
        "id": "0bp1-5bI4OCL",
        "outputId": "97d1b3a4-830f-408d-aaf6-57a1522ea937"
      },
      "execution_count": 8,
      "outputs": [
        {
          "output_type": "stream",
          "name": "stdout",
          "text": [
            "Dataset({\n",
            "    features: ['input_ids', 'attention_mask', 'labels'],\n",
            "    num_rows: 39657\n",
            "})\n",
            "Dataset({\n",
            "    features: ['input_ids', 'attention_mask', 'labels'],\n",
            "    num_rows: 9915\n",
            "})\n"
          ]
        }
      ]
    },
    {
      "cell_type": "markdown",
      "source": [
        "## Training"
      ],
      "metadata": {
        "id": "XPAXVTkn7-65"
      }
    },
    {
      "cell_type": "code",
      "source": [
        "# sanity check GPU\n",
        "import torch\n",
        "\n",
        "# Check if GPU is available\n",
        "if torch.cuda.is_available():\n",
        "    print(f\"GPU is available: {torch.cuda.get_device_name(0)}\")\n",
        "else:\n",
        "    print(\"GPU not available, using CPU instead.\")"
      ],
      "metadata": {
        "colab": {
          "base_uri": "https://localhost:8080/"
        },
        "id": "pC5Ejs1k8A6f",
        "outputId": "bca1486b-2229-4f29-f09c-ef0e7b27b058"
      },
      "execution_count": 9,
      "outputs": [
        {
          "output_type": "stream",
          "name": "stdout",
          "text": [
            "GPU is available: Tesla T4\n"
          ]
        }
      ]
    },
    {
      "cell_type": "code",
      "source": [
        "from transformers import T5ForConditionalGeneration, T5Tokenizer, Trainer, TrainingArguments\n",
        "from transformers import DataCollatorForSeq2Seq\n",
        "\n",
        "# Load the model and tokenizer\n",
        "model = T5ForConditionalGeneration.from_pretrained(\"t5-small\")\n",
        "tokenizer = T5Tokenizer.from_pretrained(\"t5-small\")\n"
      ],
      "metadata": {
        "colab": {
          "base_uri": "https://localhost:8080/",
          "height": 150,
          "referenced_widgets": [
            "f8efa861578446a5b3d7f260cddcb992",
            "2bf04c4a3ab14e24bfa1c944ce9b0e99",
            "d42b21d443d741f192385a764d3fb5d3",
            "eefb05568a414023a7a34e68b290ea18",
            "67da2f0208b940b68e2ec1d69b339388",
            "b4c05c742a374167986817500e042dd0",
            "5569f2fb861847e39b862d2810a97723",
            "1b8f2a65f8844bb8934ee53eaf022a7b",
            "e1e24897a1874647b5c0494ded5383c0",
            "5230b388349c49ff9bd4799abefc00ed",
            "e34526e1c1374f279f130f53b051df4a",
            "cbfb1c9b02574a67bf857093e3170c5b",
            "a09d0c80345b49798e8555c76ca0726a",
            "3ca4765690794128956f4793e512e45e",
            "4318f5cb45ac41e6a78ef481d7bbae88",
            "4a3001d33c14484dbf1d794b78277d45",
            "f47050c17dd04b95a9459ba98bb0f11d",
            "a18167a60f0f4408830bc5740bf54c21",
            "e0f10f1f1ecd4dfa855ee01d5a2f531a",
            "0349a9052cde47ebb66be77b3b900fac",
            "97ec1b61e2c14371bc91161efaf6156e",
            "df5900691a5c49acb78a03afccab4063",
            "6e0e1ba5d59c4c399cfa020764c66d72",
            "c71c60ead4f246f6bf3d44df5bb9999c",
            "96a6f5d1a2fe4887b86d21d8c6b0e1cf",
            "9a7ae777a4d9470fbb7da03559ae374d",
            "b1419830560f4a9eb9613f90dfa791c0",
            "26e69428e75647a4ac5dda0d406186f4",
            "94b3c3fdb5d04381a51168106cb057e5",
            "645eb2bf187c4e67be924862f308f806",
            "2aa2de8d373f40ba9e6862766c467b65",
            "44edd8392d584449ad3d828544c35d4e",
            "7b6bcb927ec04db88448924ec32be00f"
          ]
        },
        "id": "qipAU4Uk5pzX",
        "outputId": "91bc68d7-7311-4f35-fb6d-bc3d3c3a66c3"
      },
      "execution_count": null,
      "outputs": [
        {
          "output_type": "display_data",
          "data": {
            "text/plain": [
              "config.json:   0%|          | 0.00/1.21k [00:00<?, ?B/s]"
            ],
            "application/vnd.jupyter.widget-view+json": {
              "version_major": 2,
              "version_minor": 0,
              "model_id": "f8efa861578446a5b3d7f260cddcb992"
            }
          },
          "metadata": {}
        },
        {
          "output_type": "display_data",
          "data": {
            "text/plain": [
              "model.safetensors:   0%|          | 0.00/242M [00:00<?, ?B/s]"
            ],
            "application/vnd.jupyter.widget-view+json": {
              "version_major": 2,
              "version_minor": 0,
              "model_id": "cbfb1c9b02574a67bf857093e3170c5b"
            }
          },
          "metadata": {}
        },
        {
          "output_type": "display_data",
          "data": {
            "text/plain": [
              "generation_config.json:   0%|          | 0.00/147 [00:00<?, ?B/s]"
            ],
            "application/vnd.jupyter.widget-view+json": {
              "version_major": 2,
              "version_minor": 0,
              "model_id": "6e0e1ba5d59c4c399cfa020764c66d72"
            }
          },
          "metadata": {}
        },
        {
          "output_type": "stream",
          "name": "stderr",
          "text": [
            "You are using the default legacy behaviour of the <class 'transformers.models.t5.tokenization_t5.T5Tokenizer'>. This is expected, and simply means that the `legacy` (previous) behavior will be used so nothing changes for you. If you want to use the new behaviour, set `legacy=False`. This should only be set if you understand what it means, and thoroughly read the reason why this was added as explained in https://github.com/huggingface/transformers/pull/24565\n"
          ]
        }
      ]
    },
    {
      "cell_type": "code",
      "source": [
        "from transformers import T5ForConditionalGeneration, T5Tokenizer, Trainer, TrainingArguments\n",
        "from transformers import DataCollatorForSeq2Seq\n",
        "\n",
        "# Run this cell to resume training from save checkpoint\n",
        "# Define the path to the last checkpoint\n",
        "checkpoint_path = \"/content/drive/MyDrive/bandGP/t5_finetune_dgdgb-drums/checkpoint-9916\"\n",
        "\n",
        "# Load the model and tokenizer from the checkpoint\n",
        "model = T5ForConditionalGeneration.from_pretrained(checkpoint_path)\n",
        "tokenizer = T5Tokenizer.from_pretrained(checkpoint_path)\n",
        "\n"
      ],
      "metadata": {
        "id": "tgeAOr3BBkwf"
      },
      "execution_count": 14,
      "outputs": []
    },
    {
      "cell_type": "code",
      "source": [
        "# Data collator for dynamic padding\n",
        "data_collator = DataCollatorForSeq2Seq(tokenizer=tokenizer, model=model)\n"
      ],
      "metadata": {
        "id": "TtjGkqkjBjNR"
      },
      "execution_count": 15,
      "outputs": []
    },
    {
      "cell_type": "code",
      "source": [
        "from transformers import Seq2SeqTrainingArguments\n",
        "\n",
        "# Define Seq2SeqTrainingArguments\n",
        "training_args = Seq2SeqTrainingArguments(\n",
        "    output_dir=\"./t5_finetune_dgdgb-drums\",  # Directory to save model checkpoints\n",
        "    evaluation_strategy=\"epoch\",            # Evaluate at the end of each epoch\n",
        "    learning_rate=5e-5,                     # Learning rate\n",
        "    per_device_train_batch_size=8,          # Batch size for training\n",
        "    per_device_eval_batch_size=8,           # Batch size for evaluation\n",
        "    num_train_epochs=3,                     # Number of epochs\n",
        "    weight_decay=0.01,                      # Regularization\n",
        "    save_strategy=\"epoch\",                  # Save checkpoints after each epoch\n",
        "    logging_dir=\"./logs\",                   # Logging directory\n",
        "    logging_steps=100,                      # Log every 100 steps\n",
        "    save_total_limit=2,                     # Keep only the 2 most recent checkpoints\n",
        "    load_best_model_at_end=True,            # Load best model at the end of training\n",
        "    predict_with_generate=True,             # Generate predictions during evaluation\n",
        "    fp16=True,                              # Enable mixed precision for faster training\n",
        "    seed=42                                 # Random seed for reproducibility\n",
        ")\n",
        "\n",
        "# Initialize Trainer\n",
        "trainer = Trainer(\n",
        "    model=model,                                # T5 model\n",
        "    args=training_args,                         # Training arguments\n",
        "    train_dataset=tokenized_train,              # Training dataset\n",
        "    eval_dataset=tokenized_validation,          # Validation dataset\n",
        "    tokenizer=tokenizer,                        # Tokenizer for preprocessing\n",
        "    data_collator=data_collator                 # Data collator for dynamic padding\n",
        ")"
      ],
      "metadata": {
        "colab": {
          "base_uri": "https://localhost:8080/"
        },
        "id": "9ESugsPF5xhN",
        "outputId": "e6b2bec6-177b-4ed8-8069-2fcbcdec462b"
      },
      "execution_count": null,
      "outputs": [
        {
          "output_type": "stream",
          "name": "stderr",
          "text": [
            "/usr/local/lib/python3.10/dist-packages/transformers/training_args.py:1568: FutureWarning: `evaluation_strategy` is deprecated and will be removed in version 4.46 of 🤗 Transformers. Use `eval_strategy` instead\n",
            "  warnings.warn(\n",
            "<ipython-input-13-4c3d319670ab>:23: FutureWarning: `tokenizer` is deprecated and will be removed in version 5.0.0 for `Trainer.__init__`. Use `processing_class` instead.\n",
            "  trainer = Trainer(\n"
          ]
        }
      ]
    },
    {
      "cell_type": "code",
      "source": [
        "# Run this cell for resuming training from checkpoin\n",
        "\n",
        "from transformers import Seq2SeqTrainingArguments\n",
        "\n",
        "# Training arguments (resume training with additional epochs)\n",
        "training_args = Seq2SeqTrainingArguments(\n",
        "    output_dir=\"./t5_finetune_dgdgb-drums-extended\",  # Save new checkpoints here\n",
        "    evaluation_strategy=\"epoch\",                    # Evaluate after each epoch\n",
        "    learning_rate=5e-5,                             # Keep the same learning rate\n",
        "    per_device_train_batch_size=8,                  # Keep batch size the same\n",
        "    per_device_eval_batch_size=8,\n",
        "    num_train_epochs=6,                             # Total epochs = current epochs + additional\n",
        "    weight_decay=0.01,\n",
        "    save_strategy=\"epoch\",\n",
        "    logging_dir=\"./logs_extended\",                  # Log directory\n",
        "    logging_steps=100,\n",
        "    save_total_limit=2,                             # Keep the 2 most recent checkpoints\n",
        "    load_best_model_at_end=True,\n",
        "    fp16=True,\n",
        "    predict_with_generate=True,\n",
        "    seed=42\n",
        ")\n",
        "\n",
        "# Trainer (resume from the checkpoint)\n",
        "trainer = Trainer(\n",
        "    model=model,\n",
        "    args=training_args,\n",
        "    train_dataset=tokenized_train,\n",
        "    eval_dataset=tokenized_validation,\n",
        "    tokenizer=tokenizer\n",
        ")\n",
        "\n",
        "# Resume training\n",
        "trainer.train(resume_from_checkpoint=checkpoint_path)"
      ],
      "metadata": {
        "colab": {
          "base_uri": "https://localhost:8080/",
          "height": 286
        },
        "id": "4Y12L7EqB9RM",
        "outputId": "8a3b2ba3-bcca-4c49-ef41-44cb840c2b7a"
      },
      "execution_count": null,
      "outputs": [
        {
          "output_type": "stream",
          "name": "stderr",
          "text": [
            "/usr/local/lib/python3.10/dist-packages/transformers/training_args.py:1568: FutureWarning: `evaluation_strategy` is deprecated and will be removed in version 4.46 of 🤗 Transformers. Use `eval_strategy` instead\n",
            "  warnings.warn(\n",
            "<ipython-input-16-9b7d7bf2be2f>:25: FutureWarning: `tokenizer` is deprecated and will be removed in version 5.0.0 for `Trainer.__init__`. Use `processing_class` instead.\n",
            "  trainer = Trainer(\n",
            "There were missing keys in the checkpoint model loaded: ['encoder.embed_tokens.weight', 'decoder.embed_tokens.weight', 'lm_head.weight'].\n",
            "/usr/local/lib/python3.10/dist-packages/transformers/trainer.py:3354: FutureWarning: You are using `torch.load` with `weights_only=False` (the current default value), which uses the default pickle module implicitly. It is possible to construct malicious pickle data which will execute arbitrary code during unpickling (See https://github.com/pytorch/pytorch/blob/main/SECURITY.md#untrusted-models for more details). In a future release, the default value for `weights_only` will be flipped to `True`. This limits the functions that could be executed during unpickling. Arbitrary objects will no longer be allowed to be loaded via this mode unless they are explicitly allowlisted by the user via `torch.serialization.add_safe_globals`. We recommend you start setting `weights_only=True` for any use case where you don't have full control of the loaded file. Please open an issue on GitHub for any issues related to this experimental feature.\n",
            "  torch.load(os.path.join(checkpoint, OPTIMIZER_NAME), map_location=map_location)\n",
            "\u001b[34m\u001b[1mwandb\u001b[0m: \u001b[33mWARNING\u001b[0m The `run_name` is currently set to the same value as `TrainingArguments.output_dir`. If this was not intended, please specify a different run name by setting the `TrainingArguments.run_name` parameter.\n",
            "/usr/local/lib/python3.10/dist-packages/transformers/trainer.py:3033: FutureWarning: You are using `torch.load` with `weights_only=False` (the current default value), which uses the default pickle module implicitly. It is possible to construct malicious pickle data which will execute arbitrary code during unpickling (See https://github.com/pytorch/pytorch/blob/main/SECURITY.md#untrusted-models for more details). In a future release, the default value for `weights_only` will be flipped to `True`. This limits the functions that could be executed during unpickling. Arbitrary objects will no longer be allowed to be loaded via this mode unless they are explicitly allowlisted by the user via `torch.serialization.add_safe_globals`. We recommend you start setting `weights_only=True` for any use case where you don't have full control of the loaded file. Please open an issue on GitHub for any issues related to this experimental feature.\n",
            "  checkpoint_rng_state = torch.load(rng_file)\n",
            "Passing a tuple of `past_key_values` is deprecated and will be removed in Transformers v4.48.0. You should pass an instance of `EncoderDecoderCache` instead, e.g. `past_key_values=EncoderDecoderCache.from_legacy_cache(past_key_values)`.\n"
          ]
        },
        {
          "output_type": "display_data",
          "data": {
            "text/plain": [
              "<IPython.core.display.HTML object>"
            ],
            "text/html": [
              "\n",
              "    <div>\n",
              "      \n",
              "      <progress value='9963' max='29748' style='width:300px; height:20px; vertical-align: middle;'></progress>\n",
              "      [ 9963/29748 00:18 < 2:16:56, 2.41 it/s, Epoch 2.01/6]\n",
              "    </div>\n",
              "    <table border=\"1\" class=\"dataframe\">\n",
              "  <thead>\n",
              " <tr style=\"text-align: left;\">\n",
              "      <th>Epoch</th>\n",
              "      <th>Training Loss</th>\n",
              "      <th>Validation Loss</th>\n",
              "    </tr>\n",
              "  </thead>\n",
              "  <tbody>\n",
              "  </tbody>\n",
              "</table><p>"
            ]
          },
          "metadata": {}
        }
      ]
    },
    {
      "cell_type": "code",
      "source": [
        "# Train the model\n",
        "trainer.train()\n",
        "\n",
        "# Save the final model and tokenizer\n",
        "model.save_pretrained(\"./t5_finetune_dgdgb-drums_final\")\n",
        "tokenizer.save_pretrained(\"./t5_finetune_dgdgb-drums_final\")\n"
      ],
      "metadata": {
        "colab": {
          "base_uri": "https://localhost:8080/",
          "height": 311
        },
        "id": "S7loPjYc6EUk",
        "outputId": "48166a7a-a461-494d-9444-318172c7df65"
      },
      "execution_count": null,
      "outputs": [
        {
          "output_type": "stream",
          "name": "stderr",
          "text": [
            "\u001b[34m\u001b[1mwandb\u001b[0m: \u001b[33mWARNING\u001b[0m The `run_name` is currently set to the same value as `TrainingArguments.output_dir`. If this was not intended, please specify a different run name by setting the `TrainingArguments.run_name` parameter.\n",
            "Passing a tuple of `past_key_values` is deprecated and will be removed in Transformers v4.48.0. You should pass an instance of `EncoderDecoderCache` instead, e.g. `past_key_values=EncoderDecoderCache.from_legacy_cache(past_key_values)`.\n"
          ]
        },
        {
          "output_type": "display_data",
          "data": {
            "text/plain": [
              "<IPython.core.display.HTML object>"
            ],
            "text/html": [
              "\n",
              "    <div>\n",
              "      \n",
              "      <progress value='14874' max='14874' style='width:300px; height:20px; vertical-align: middle;'></progress>\n",
              "      [14874/14874 1:42:38, Epoch 3/3]\n",
              "    </div>\n",
              "    <table border=\"1\" class=\"dataframe\">\n",
              "  <thead>\n",
              " <tr style=\"text-align: left;\">\n",
              "      <th>Epoch</th>\n",
              "      <th>Training Loss</th>\n",
              "      <th>Validation Loss</th>\n",
              "    </tr>\n",
              "  </thead>\n",
              "  <tbody>\n",
              "    <tr>\n",
              "      <td>1</td>\n",
              "      <td>0.237300</td>\n",
              "      <td>0.202253</td>\n",
              "    </tr>\n",
              "    <tr>\n",
              "      <td>2</td>\n",
              "      <td>0.204400</td>\n",
              "      <td>0.175971</td>\n",
              "    </tr>\n",
              "    <tr>\n",
              "      <td>3</td>\n",
              "      <td>0.197400</td>\n",
              "      <td>0.169718</td>\n",
              "    </tr>\n",
              "  </tbody>\n",
              "</table><p>"
            ]
          },
          "metadata": {}
        },
        {
          "output_type": "stream",
          "name": "stderr",
          "text": [
            "There were missing keys in the checkpoint model loaded: ['encoder.embed_tokens.weight', 'decoder.embed_tokens.weight', 'lm_head.weight'].\n"
          ]
        },
        {
          "output_type": "execute_result",
          "data": {
            "text/plain": [
              "('./t5_finetune_dgdgb-drums_final/tokenizer_config.json',\n",
              " './t5_finetune_dgdgb-drums_final/special_tokens_map.json',\n",
              " './t5_finetune_dgdgb-drums_final/spiece.model',\n",
              " './t5_finetune_dgdgb-drums_final/added_tokens.json')"
            ]
          },
          "metadata": {},
          "execution_count": 14
        }
      ]
    },
    {
      "cell_type": "markdown",
      "source": [
        "## Inference"
      ],
      "metadata": {
        "id": "UjYUvFXsScRc"
      }
    },
    {
      "cell_type": "code",
      "source": [
        "!nvidia-smi"
      ],
      "metadata": {
        "colab": {
          "base_uri": "https://localhost:8080/"
        },
        "id": "TYJk1CvC1-l8",
        "outputId": "f96dd2ae-1767-4641-ac21-b834bfc2d772"
      },
      "execution_count": null,
      "outputs": [
        {
          "output_type": "stream",
          "name": "stdout",
          "text": [
            "Tue Nov 26 14:20:06 2024       \n",
            "+---------------------------------------------------------------------------------------+\n",
            "| NVIDIA-SMI 535.104.05             Driver Version: 535.104.05   CUDA Version: 12.2     |\n",
            "|-----------------------------------------+----------------------+----------------------+\n",
            "| GPU  Name                 Persistence-M | Bus-Id        Disp.A | Volatile Uncorr. ECC |\n",
            "| Fan  Temp   Perf          Pwr:Usage/Cap |         Memory-Usage | GPU-Util  Compute M. |\n",
            "|                                         |                      |               MIG M. |\n",
            "|=========================================+======================+======================|\n",
            "|   0  Tesla T4                       Off | 00000000:00:04.0 Off |                    0 |\n",
            "| N/A   32C    P8               9W /  70W |      0MiB / 15360MiB |      0%      Default |\n",
            "|                                         |                      |                  N/A |\n",
            "+-----------------------------------------+----------------------+----------------------+\n",
            "                                                                                         \n",
            "+---------------------------------------------------------------------------------------+\n",
            "| Processes:                                                                            |\n",
            "|  GPU   GI   CI        PID   Type   Process name                            GPU Memory |\n",
            "|        ID   ID                                                             Usage      |\n",
            "|=======================================================================================|\n",
            "|  No running processes found                                                           |\n",
            "+---------------------------------------------------------------------------------------+\n"
          ]
        }
      ]
    },
    {
      "cell_type": "code",
      "source": [
        "# saved weights path (final epoch - 3)\n",
        "model_path = \"/content/drive/MyDrive/bandGP/t5_finetune_dgdgb-drums_final\"\n",
        "\n",
        "# second epoch\n",
        "# model_path = '/content/drive/MyDrive/bandGP/t5_finetune_dgdgb-drums/checkpoint-9916'"
      ],
      "metadata": {
        "id": "9PViuB9wUuz5"
      },
      "execution_count": null,
      "outputs": []
    },
    {
      "cell_type": "code",
      "source": [
        "# load model and tokenizer\n",
        "model = T5ForConditionalGeneration.from_pretrained(model_path)\n",
        "tokenizer = T5Tokenizer.from_pretrained(model_path)"
      ],
      "metadata": {
        "id": "FsuLS8ox0y0d"
      },
      "execution_count": null,
      "outputs": []
    },
    {
      "cell_type": "code",
      "source": [
        "from transformers import T5ForConditionalGeneration, T5Tokenizer\n",
        "\n",
        "# Path to your .txt prompt file\n",
        "file_path = \"/content/drive/MyDrive/bandGP/prompt-dgdgb-8bars.txt\"\n",
        "\n",
        "# Read the file content\n",
        "with open(file_path, \"r\") as file:\n",
        "    dummy_input = file.read().strip()\n",
        "\n",
        "# Tokenize the input\n",
        "input_tokens = tokenizer(\n",
        "    dummy_input,\n",
        "    return_tensors=\"pt\",\n",
        "    max_length=512,\n",
        "    padding=\"max_length\",\n",
        "    truncation=True\n",
        ")\n",
        "\n",
        "# Generate output (initial attempt)\n",
        "# outputs = model.generate(\n",
        "#     input_tokens[\"input_ids\"],\n",
        "#     max_length=512,\n",
        "#     num_beams=5,\n",
        "#     early_stopping=True\n",
        "# )\n",
        "\n",
        "# Generate outputs with different structure\n",
        "# outputs = model.generate(\n",
        "#     input_tokens[\"input_ids\"],\n",
        "#     max_length=512,\n",
        "#     min_length=200,\n",
        "#     do_sample=True,         # Enable sampling\n",
        "#     top_k=50,               # Consider top-k tokens for diversity\n",
        "#     top_p=0.95,             # Nucleus sampling\n",
        "#     temperature=0.9        # Adjust randomness\n",
        "#     # early_stopping=True\n",
        "# )\n",
        "\n",
        "# New inference attempt\n",
        "outputs = model.generate(\n",
        "    input_tokens[\"input_ids\"],\n",
        "    max_length=512,\n",
        "    min_length=400,\n",
        "    num_beams=5,\n",
        "    length_penalty=2.0,  # Encourages longer sequences\n",
        "    repetition_penalty=2.0,\n",
        "    early_stopping=False\n",
        ")\n",
        "\n",
        "\n",
        "\n",
        "\n",
        "# Decode and print the output\n",
        "generated_output = tokenizer.decode(outputs[0], skip_special_tokens=True)\n",
        "print(\"Generated Output:\", generated_output)\n"
      ],
      "metadata": {
        "colab": {
          "base_uri": "https://localhost:8080/"
        },
        "id": "JJiSEbiJ0yI5",
        "outputId": "d10dd714-e661-450a-f958-df4b6509fe1d"
      },
      "execution_count": null,
      "outputs": [
        {
          "output_type": "stream",
          "name": "stdout",
          "text": [
            "Generated Output: artist:drums downtune:0 tempo:130 start new_measure drums:note:42 drums:note:36 wait:480 drums:note:42 wait:480 drums:note:42 drums:note:38 wait:480 drums:note:42 wait:480 drums:note:42 drums:note:36 wait:480 drums:note:42 wait:480 drums:note:42 drums:note:38 wait:480 drums:note:42 wait:480 new_measure drums:note:42 drums:note:36 wait:480 drums:note:42 wait:480 drums:note:42 drums:note:38 wait:480 drums:note:42 wait:480 drums:note:42 drums:note:36 wait:480 drums:note:42 wait:480 drums:note:42 drums:note:38 wait:480 drums:note:42 wait:480 new_measure drums:note:42 drums:note:36 wait:480 drums:note:42 wait:480 drums:note:42 drums:note:38 wait:480 drums:note:42 wait:480 drums:note:42 drums:note:36 wait:480 drums:note:42 wait:480 drums:note:42 drums:note:38 wait:480 drums:note:42 wait:480 new_measure drums:note:42 drums:note:36 wait:480 drums:note:42 wait:480 drums:note:42 drums:note:38 wait:480 drums:note:42 wait:480 drums:note:42 drums:note:36 wait:480 drums:note:42 wait:480 drums:note:42 drums:note:38 wait:480 drums:note:42 wait:480 new_measure drums:note:42 drums:note:36 wait:480 drums:note:42 wait:480 drums:note:42 drums:note:38 wait:480 drums:note:42 wait:480 drums:note:42 drums:note:36 wait:480 drums:note:42 wait:480 drums:note:42 drums:note:38 wait:480 drums:note:42 wait:480 new_\n"
          ]
        }
      ]
    },
    {
      "cell_type": "code",
      "source": [
        "# Process the output: add '\\n' after every token and append 'end'\n",
        "tokens = generated_output.split()  # Split the output into tokens\n",
        "processed_output = \"\\n\".join(tokens) + \"\\nend\"  # Add '\\n' and append 'end'\n",
        "\n",
        "# Save the processed output to a file\n",
        "output_path = \"output8-8bars.txt\"\n",
        "with open(output_path, \"w\") as file:\n",
        "    file.write(processed_output)\n",
        "\n",
        "print(f\"Generated output saved to {output_path}.\")"
      ],
      "metadata": {
        "colab": {
          "base_uri": "https://localhost:8080/"
        },
        "id": "-PftqNK227dm",
        "outputId": "040e521d-7675-464a-dc13-b49ec93eff2f"
      },
      "execution_count": null,
      "outputs": [
        {
          "output_type": "stream",
          "name": "stdout",
          "text": [
            "Generated output saved to output8-8bars.txt.\n"
          ]
        }
      ]
    },
    {
      "cell_type": "code",
      "source": [],
      "metadata": {
        "id": "FzBz6TqiSkc3"
      },
      "execution_count": null,
      "outputs": []
    }
  ]
}