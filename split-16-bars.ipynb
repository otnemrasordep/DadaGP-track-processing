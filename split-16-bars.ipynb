{
 "cells": [
  {
   "cell_type": "markdown",
   "metadata": {},
   "source": [
    "## Splitting whole files into 16 bar chunks"
   ]
  },
  {
   "cell_type": "code",
   "execution_count": 10,
   "metadata": {},
   "outputs": [],
   "source": [
    "import os \n",
    "\n",
    "path_output = '/Users/pedro/Desktop/DadaGP-v1.1/data-prep-acc-gen/txts_drums/'\n",
    "path_input = '/Users/pedro/Desktop/DadaGP-v1.1/data-prep-acc-gen/txts_dg-dg-b/'"
   ]
  },
  {
   "cell_type": "markdown",
   "metadata": {},
   "source": [
    "## Assess there is an equal number of measures in each file"
   ]
  },
  {
   "cell_type": "code",
   "execution_count": 11,
   "metadata": {},
   "outputs": [],
   "source": [
    "output = []\n",
    "input = []\n",
    "\n",
    "for file in os.listdir(path_output):\n",
    "    output.append(os.path.join(path_output, file))\n",
    "\n",
    "for file in os.listdir(path_input):\n",
    "    input.append(os.path.join(path_input, file))"
   ]
  },
  {
   "cell_type": "code",
   "execution_count": 12,
   "metadata": {},
   "outputs": [],
   "source": [
    "assert len(input) == len(output)"
   ]
  },
  {
   "cell_type": "code",
   "execution_count": 5,
   "metadata": {},
   "outputs": [],
   "source": [
    "# Function to count occurrences of a string in a file\n",
    "def count_occurrences_in_file(file_path, search_string):\n",
    "    count = 0\n",
    "    try:\n",
    "        with open(file_path, 'r') as file:\n",
    "            for line in file:\n",
    "                count += line.count(search_string)\n",
    "    except Exception as e:\n",
    "        print(\"Could not process file {}: {}\".format(file_path, e))\n",
    "    return count"
   ]
  },
  {
   "cell_type": "code",
<<<<<<< HEAD
<<<<<<< HEAD
   "execution_count": 24,
   "metadata": {},
   "outputs": [
    {
     "data": {
      "text/plain": [
       "149"
      ]
     },
     "execution_count": 24,
     "metadata": {},
     "output_type": "execute_result"
    }
   ],
   "source": [
    "count_occurrences_in_file(input[0], 'new_measure')"
   ]
  },
  {
   "cell_type": "code",
   "execution_count": 25,
   "metadata": {},
   "outputs": [
    {
     "data": {
      "text/plain": [
       "'/Users/pedro/Desktop/DadaGP-v1.1/data-prep-acc-gen/txts_dg-dg-b/HammerFall - Remember Yesterday (2).gp4.tokens.txt'"
      ]
     },
     "execution_count": 25,
     "metadata": {},
     "output_type": "execute_result"
    }
   ],
   "source": [
    "input[0]"
   ]
  },
  {
   "cell_type": "code",
=======
>>>>>>> e85b6e590248d50cc96aabe58844fb6d9cc74985
=======
>>>>>>> e85b6e590248d50cc96aabe58844fb6d9cc74985
   "execution_count": 19,
   "metadata": {},
   "outputs": [
    {
     "name": "stdout",
     "output_type": "stream",
     "text": [
      "/Users/pedro/Desktop/DadaGP-v1.1/data-prep-acc-gen/txts_dg-dg-b/Obtest - Auka Seniems Dievams.gp4.tokens.txt\n",
      "\n",
      "\n",
      "/Users/pedro/Desktop/DadaGP-v1.1/data-prep-acc-gen/txts_drums/Obtest - Auka Seniems Dievams.gp4.tokens.txt\n"
     ]
    }
   ],
   "source": [
    "print(input[100])\n",
    "print('\\n')\n",
    "print(output[100])"
   ]
  },
  {
   "cell_type": "code",
   "execution_count": 22,
   "metadata": {},
   "outputs": [],
   "source": [
    "search_string = 'new_measure'\n",
    "exceptions = []\n",
    "\n",
    "for file in input:\n",
    "    if count_occurrences_in_file(file, search_string) == count_occurrences_in_file(os.path.join(path_output, file.split('/')[-1]), search_string):\n",
    "        continue\n",
    "    else:\n",
    "        print('Here is an exception: {}', file)\n",
    "        exceptions.append(file)"
   ]
  },
  {
<<<<<<< HEAD
<<<<<<< HEAD
   "cell_type": "code",
   "execution_count": 48,
   "metadata": {},
   "outputs": [],
   "source": [
    "import os\n",
    "\n",
    "# Directory containing the text files\n",
    "text_files_directory = path_input\n",
    "output_directory = \"/Users/pedro/Desktop/DadaGP-v1.1/data-prep-acc-gen/txts_16_dg-dg-b\"\n",
    "\n",
    "# Ensure the output directory exists\n",
    "os.makedirs(output_directory, exist_ok=True)\n",
    "\n",
    "# String to search for and the chunk size\n",
    "search_string = \"new_measure\"\n",
    "split_size = 16\n",
    "\n",
    "# Define footer token\n",
    "footer_token = \"end\\n\"\n",
    "\n",
    "# Function to split the file\n",
    "def split_file(file_path, output_directory, search_string, split_size, footer_token):\n",
    "    try:\n",
    "        with open(file_path, 'r') as file:\n",
    "            lines = file.readlines()\n",
    "\n",
    "        # Extract the first 4 lines as the header tokens\n",
    "        header_tokens = lines[:4]\n",
    "\n",
    "        # The remaining lines to process after the header\n",
    "        remaining_lines = lines[4:]\n",
    "\n",
    "        current_chunk = []\n",
    "        occurrence_count = 0\n",
    "        chunk_index = 0\n",
    "        start_measure = 1\n",
    "        carryover_line = None  # To hold the last discarded new_measure\n",
    "\n",
    "        for line in remaining_lines:\n",
    "            # If there is a carryover line from the previous chunk, add it first\n",
    "            if carryover_line:\n",
    "                current_chunk.append(carryover_line)\n",
    "                carryover_line = None\n",
    "\n",
    "            # Count occurrences of the search string in the current line\n",
    "            if line.strip() == search_string:  # Ensure we only count full \"new_measure\" lines\n",
    "                occurrence_count += 1\n",
    "\n",
    "            current_chunk.append(line)\n",
    "\n",
    "            # If the occurrence count reaches split_size + 1, save the chunk and handle carryover\n",
    "            if occurrence_count == split_size + 1:\n",
    "                # Remove the last \"new_measure\" token from the chunk and save it as carryover\n",
    "                while current_chunk and current_chunk[-1].strip() != search_string:\n",
    "                    current_chunk.pop()  # Remove non-\"new_measure\" lines at the end\n",
    "                if current_chunk:\n",
    "                    carryover_line = current_chunk.pop()  # Save the last \"new_measure\" as carryover\n",
    "\n",
    "                # Calculate the range of measures for the current chunk\n",
    "                end_measure = start_measure + split_size - 1\n",
    "\n",
    "                # Save the chunk\n",
    "                save_chunk(file_path, output_directory, current_chunk, chunk_index, start_measure, end_measure, header_tokens, footer_token)\n",
    "                chunk_index += 1\n",
    "\n",
    "                # Prepare for the next chunk\n",
    "                current_chunk = []\n",
    "                occurrence_count = 1  # The last \"new_measure\" starts the next chunk\n",
    "                start_measure += split_size\n",
    "\n",
    "        # Save any remaining content (if not empty)\n",
    "        if current_chunk or carryover_line:\n",
    "            # Add carryover line to the start of the final chunk\n",
    "            if carryover_line:\n",
    "                current_chunk.insert(0, carryover_line)\n",
    "\n",
    "            # Calculate the final range of measures\n",
    "            end_measure = start_measure + occurrence_count - 1\n",
    "\n",
    "            # Check if footer token is already in the chunk\n",
    "            if footer_token.strip() not in ''.join(current_chunk):\n",
    "                current_chunk.append(footer_token)\n",
    "\n",
    "            # Save the final chunk\n",
    "            save_chunk(file_path, output_directory, current_chunk, chunk_index, start_measure, end_measure, header_tokens, footer_token)\n",
    "\n",
    "    except Exception as e:\n",
    "        print(\"Could not process file {}: {}\".format(file_path, e))\n",
    "\n",
    "\n",
    "\n",
    "# Function to save a chunk to a new file\n",
    "def save_chunk(original_file_path, output_directory, chunk, chunk_index, start_measure, end_measure, header_tokens, footer_token):\n",
    "    try:\n",
    "        # Generate a new file name with the measure range\n",
    "        base_name, file_extension = os.path.splitext(os.path.basename(original_file_path))\n",
    "        measure_range = \"_{}-{}_\".format(start_measure, end_measure)\n",
    "        if base_name.endswith(\".tokens\"):  # Handle files with \".tokens.txt\" suffix\n",
    "            base_name = base_name[:-7]  # Remove \".tokens\" from the end of the base name\n",
    "            new_file_name = \"{}.{}.tokens{}\".format(base_name, measure_range, file_extension)\n",
    "        else:\n",
    "            new_file_name = \"{}{}{}\".format(base_name, measure_range, file_extension)\n",
    "        new_file_path = os.path.join(output_directory, new_file_name)\n",
    "\n",
    "        with open(new_file_path, 'w') as new_file:\n",
    "            # Write header tokens (first 4 lines of the original file)\n",
    "            new_file.writelines(header_tokens)\n",
    "\n",
    "            # Write the chunk content\n",
    "            new_file.writelines(chunk)\n",
    "\n",
    "            # Write the footer token\n",
    "            new_file.write(footer_token + \"\\n\")\n",
    "\n",
    "        print(\"Saved chunk to {}\".format(new_file_path))\n",
    "\n",
    "    except Exception as e:\n",
    "        print(\"Could not save chunk {}: {}\".format(new_file_path, e))\n"
   ]
  },
  {
   "cell_type": "code",
   "execution_count": 49,
   "metadata": {},
   "outputs": [
    {
     "name": "stdout",
     "output_type": "stream",
     "text": [
      "Saved chunk to /Users/pedro/Desktop/DadaGP-v1.1/data-prep-acc-gen/txts_16_dg-dg-b/HammerFall - Remember Yesterday (2).gp4._1-16_.tokens.txt\n",
      "Saved chunk to /Users/pedro/Desktop/DadaGP-v1.1/data-prep-acc-gen/txts_16_dg-dg-b/HammerFall - Remember Yesterday (2).gp4._17-32_.tokens.txt\n",
      "Saved chunk to /Users/pedro/Desktop/DadaGP-v1.1/data-prep-acc-gen/txts_16_dg-dg-b/HammerFall - Remember Yesterday (2).gp4._33-48_.tokens.txt\n",
      "Saved chunk to /Users/pedro/Desktop/DadaGP-v1.1/data-prep-acc-gen/txts_16_dg-dg-b/HammerFall - Remember Yesterday (2).gp4._49-64_.tokens.txt\n",
      "Saved chunk to /Users/pedro/Desktop/DadaGP-v1.1/data-prep-acc-gen/txts_16_dg-dg-b/HammerFall - Remember Yesterday (2).gp4._65-80_.tokens.txt\n",
      "Saved chunk to /Users/pedro/Desktop/DadaGP-v1.1/data-prep-acc-gen/txts_16_dg-dg-b/HammerFall - Remember Yesterday (2).gp4._81-96_.tokens.txt\n",
      "Saved chunk to /Users/pedro/Desktop/DadaGP-v1.1/data-prep-acc-gen/txts_16_dg-dg-b/HammerFall - Remember Yesterday (2).gp4._97-112_.tokens.txt\n",
      "Saved chunk to /Users/pedro/Desktop/DadaGP-v1.1/data-prep-acc-gen/txts_16_dg-dg-b/HammerFall - Remember Yesterday (2).gp4._113-128_.tokens.txt\n",
      "Saved chunk to /Users/pedro/Desktop/DadaGP-v1.1/data-prep-acc-gen/txts_16_dg-dg-b/HammerFall - Remember Yesterday (2).gp4._129-144_.tokens.txt\n",
      "Saved chunk to /Users/pedro/Desktop/DadaGP-v1.1/data-prep-acc-gen/txts_16_dg-dg-b/HammerFall - Remember Yesterday (2).gp4._145-149_.tokens.txt\n"
     ]
    }
   ],
   "source": [
    "split_file(input[0], output_directory, search_string, split_size, footer_token)"
   ]
  },
  {
=======
>>>>>>> e85b6e590248d50cc96aabe58844fb6d9cc74985
=======
>>>>>>> e85b6e590248d50cc96aabe58844fb6d9cc74985
   "cell_type": "markdown",
   "metadata": {},
   "source": [
    "All the tracks seem to have the same number of bars, as expected."
   ]
  }
 ],
 "metadata": {
  "kernelspec": {
   "display_name": "dadaMe",
   "language": "python",
   "name": "python3"
  },
  "language_info": {
   "codemirror_mode": {
    "name": "ipython",
    "version": 3
   },
   "file_extension": ".py",
   "mimetype": "text/x-python",
   "name": "python",
   "nbconvert_exporter": "python",
   "pygments_lexer": "ipython3",
   "version": "3.5.4"
  }
 },
 "nbformat": 4,
 "nbformat_minor": 2
}
