{
 "cells": [
  {
   "cell_type": "code",
   "execution_count": 3,
   "metadata": {},
   "outputs": [],
   "source": [
    "dadagp_path = '/Users/pedro/Desktop/DadaGP-v1.1/'\n",
    "all_files_path = '/Users/pedro/Desktop/DadaGP-v1.1/_DadaGP_all_filenames.json'"
   ]
  },
  {
   "cell_type": "markdown",
   "metadata": {},
   "source": [
    "## Get all .gp files"
   ]
  },
  {
   "cell_type": "code",
   "execution_count": 12,
   "metadata": {},
   "outputs": [
    {
     "name": "stdout",
     "output_type": "stream",
     "text": [
      "26181\n"
     ]
    }
   ],
   "source": [
    "import json\n",
    "\n",
    "# Assuming 'all_files_path' contains the path to your JSON file\n",
    "with open(all_files_path, 'r') as f:\n",
    "    file_paths = json.load(f)  # Load JSON data into a Python list\n",
    "\n",
    "# Remove the \".tokens.txt\" part from each path\n",
    "all_gps_paths = [path.replace(\".tokens.txt\", \"\") for path in file_paths]\n",
    "\n",
    "# Print the number of files\n",
    "print(len(all_gps_paths))"
   ]
  },
  {
   "cell_type": "markdown",
   "metadata": {},
   "source": [
    "## Get all .gp files with => 4 tracks"
   ]
  },
  {
   "cell_type": "code",
   "execution_count": 25,
   "metadata": {},
   "outputs": [
    {
     "name": "stderr",
     "output_type": "stream",
     "text": [
      "100%|██████████| 26181/26181 [30:38<00:00, 14.24it/s]  \n"
     ]
    }
   ],
   "source": [
    "import guitarpro as gp\n",
    "import os\n",
    "from tqdm import tqdm\n",
    "\n",
    "gp_files_4plus = []\n",
    "\n",
    "# Iterate over the list of .gp file paths\n",
    "for gp_file_path in tqdm(all_gps_paths):\n",
    "    # Get full path\n",
    "    file_path = os.path.join(dadagp_path, gp_file_path)\n",
    "    # Parse them with pyguitarpro\n",
    "    try:\n",
    "        # Parse the Guitar Pro file\n",
    "        gp_file = gp.parse(file_path)\n",
    "\n",
    "        # Check the number of tracks\n",
    "        if len(gp_file.tracks) >= 4:\n",
    "            gp_files_4plus.append(file_path)\n",
    "            # print('File {} has {} tracks.'.format(file_path, len(gp_file.tracks)))\n",
    "\n",
    "    except Exception as e:\n",
    "        # Handle any parsing errors gracefully\n",
    "        print('Could not parse {}: {}'.format(file_path, e))\n",
    "    "
   ]
  },
  {
   "cell_type": "code",
   "execution_count": 33,
   "metadata": {},
   "outputs": [
    {
     "name": "stdout",
     "output_type": "stream",
     "text": [
      "There are 13413 files with 4 or more tracks, which is 51.23% of the dataset.\n"
     ]
    }
   ],
   "source": [
    "print('There are {} files with 4 or more tracks, which is {:.2f}% of the dataset.'.format(len(gp_files_4plus), 100*len(gp_files_4plus)/len(all_gps_paths)))"
   ]
  },
  {
   "cell_type": "code",
   "execution_count": 34,
   "metadata": {},
   "outputs": [],
   "source": [
    "# Save gp_files_4plus into a .json\n",
    "with open(\"gp_paths_4plustracks.json\", \"w\") as final:\n",
    "\tjson.dump(gp_files_4plus, final)"
   ]
  },
  {
   "cell_type": "markdown",
   "metadata": {},
   "source": [
    "## Remove extra tracks from .gp files"
   ]
  },
  {
   "cell_type": "code",
   "execution_count": 38,
   "metadata": {},
   "outputs": [
    {
     "name": "stdout",
     "output_type": "stream",
     "text": [
      "13413\n"
     ]
    }
   ],
   "source": [
    "# If a track only has 2 distorted guitars, bass, drums -> save the track\n",
    "# If a track has more than those instruments, check if it has 2 DGs, B, D -> save those in new file\n",
    "\n",
    "with open('gp_paths_4plustracks.json', 'r') as f:\n",
    "    gp_files_4plus = json.load(f)  # Load JSON data into a Python list"
   ]
  },
  {
   "cell_type": "code",
   "execution_count": 218,
   "metadata": {},
   "outputs": [
    {
     "name": "stdout",
     "output_type": "stream",
     "text": [
      "Track 1 25\n",
      "Track 2 32\n",
      "bass\n",
      "Track 3 27\n",
      "Percussion 0\n",
      "drums\n",
      "Percussion 0\n",
      "[]\n"
     ]
    }
   ],
   "source": [
    "gp_file = gp.parse(gp_files_4plus[14])\n",
    "_ = gp_file\n",
    "filename = gp_files_4plus[14]\n",
    "\n",
    "# Initialize lists to store required instruments\n",
    "distorted_guitars = []\n",
    "bass = None\n",
    "drums = None\n",
    "\n",
    "for track in gp_file.tracks:\n",
    "        print(track.name, track.channel.instrument)\n",
    "        instrument_type = is_required_instrument(track)\n",
    "        if instrument_type == 'distorted_guitar' and len(distorted_guitars) < 2:\n",
    "            print('dg')\n",
    "            distorted_guitars.append(track)\n",
    "        elif instrument_type == 'bass' and bass is None:\n",
    "            print('bass')\n",
    "            bass = track\n",
    "        elif instrument_type == 'drums' and drums is None:\n",
    "            print('drums')\n",
    "            drums = track\n",
    "\n",
    "print(distorted_guitars)\n",
    "\n",
    "if len(distorted_guitars) == 2 and bass and drums:\n",
    "    required_tracks = distorted_guitars + [bass, drums]\n",
    "    print(required_tracks)\n",
    "\n",
    "    _.tracks = []\n",
    "    for track in required_tracks:\n",
    "        # print(track)\n",
    "        _.tracks.append(track)\n",
    "    gp.write(_, 'a.gp5')\n",
    "    print(\"Created new file with 4 tracks: {}\".format(output_directory + filename))"
   ]
  },
  {
   "cell_type": "code",
   "execution_count": 219,
   "metadata": {},
   "outputs": [
    {
     "name": "stderr",
     "output_type": "stream",
     "text": [
      "  0%|          | 1/13413 [00:00<26:14,  8.52it/s]"
     ]
    },
    {
     "name": "stdout",
     "output_type": "stream",
     "text": [
      "12 Stones - Crash.gp4\n",
      "Created new file with 4 tracks: /Users/pedro/Desktop/DadaGP-v1.1/data-prep-acc-gen/gps_with_4/12 Stones - Crash.gp4\n",
      "704 exercises for guitar, 1-96 - Beast.gp3\n",
      "Copied /Users/pedro/Desktop/DadaGP-v1.1/Z/Zyklon/Zyklon - Psyklon Aeon.gp4 to /Users/pedro/Desktop/DadaGP-v1.1/data-prep-acc-gen/gps_with_4/704 exercises for guitar, 1-96 - Beast.gp3.\n",
      "1974 AD, Pahilo Junema - Jungi Nishan.gp4\n"
     ]
    },
    {
     "name": "stderr",
     "output_type": "stream",
     "text": [
      "  0%|          | 7/13413 [00:00<22:27,  9.95it/s]"
     ]
    },
    {
     "name": "stdout",
     "output_type": "stream",
     "text": [
      "1Kempfi1 - 4 Seasons.gp4\n",
      "1Kempfi1 - Short & Stupid.gp4\n",
      "Copied /Users/pedro/Desktop/DadaGP-v1.1/Z/Zyklon/Zyklon - Psyklon Aeon.gp4 to /Users/pedro/Desktop/DadaGP-v1.1/data-prep-acc-gen/gps_with_4/1Kempfi1 - Short & Stupid.gp4.\n",
      "1Kempfi1 - Sunrise.gp4\n",
      "1st Man For Her - A Peach Fantasy.gp4\n",
      "2 Unlimited - No One (2).gp3\n"
     ]
    },
    {
     "name": "stderr",
     "output_type": "stream",
     "text": [
      "  0%|          | 11/13413 [00:01<37:50,  5.90it/s]"
     ]
    },
    {
     "name": "stdout",
     "output_type": "stream",
     "text": [
      "2 Unlimited - The Real Thing.gp3\n",
      "2 Unlimited - Twilight Zone (2).gp3\n",
      "20-70 - Harmonious Distruption.gp4\n",
      "Created new file with 4 tracks: /Users/pedro/Desktop/DadaGP-v1.1/data-prep-acc-gen/gps_with_4/20-70 - Harmonious Distruption.gp4\n"
     ]
    },
    {
     "name": "stderr",
     "output_type": "stream",
     "text": [
      "  0%|          | 13/13413 [00:02<33:49,  6.60it/s]"
     ]
    },
    {
     "name": "stdout",
     "output_type": "stream",
     "text": [
      "20-70 - Overwound Music Box.gp4\n",
      "Created new file with 4 tracks: /Users/pedro/Desktop/DadaGP-v1.1/data-prep-acc-gen/gps_with_4/20-70 - Overwound Music Box.gp4\n",
      "20-70 - To Hell And Back.gp4\n",
      "Created new file with 4 tracks: /Users/pedro/Desktop/DadaGP-v1.1/data-prep-acc-gen/gps_with_4/20-70 - To Hell And Back.gp4\n",
      "20-70 - Zinfandel 2006.gp4\n"
     ]
    },
    {
     "name": "stderr",
     "output_type": "stream",
     "text": [
      "  0%|          | 15/13413 [00:02<29:03,  7.69it/s]"
     ]
    },
    {
     "name": "stdout",
     "output_type": "stream",
     "text": [
      "Created new file with 4 tracks: /Users/pedro/Desktop/DadaGP-v1.1/data-prep-acc-gen/gps_with_4/20-70 - Zinfandel 2006.gp4\n",
      "23 P.H. - Break Down And Up.gp3\n",
      "3 Doors Down - Be Like That.gp4\n",
      "Created new file with 4 tracks: /Users/pedro/Desktop/DadaGP-v1.1/data-prep-acc-gen/gps_with_4/3 Doors Down - Be Like That.gp4\n"
     ]
    },
    {
     "name": "stderr",
     "output_type": "stream",
     "text": [
      "  0%|          | 18/13413 [00:02<35:40,  6.26it/s]"
     ]
    },
    {
     "name": "stdout",
     "output_type": "stream",
     "text": [
      "3 Doors Down - By My Side (2).gp3\n",
      "Copied /Users/pedro/Desktop/DadaGP-v1.1/Z/Zyklon/Zyklon - Psyklon Aeon.gp4 to /Users/pedro/Desktop/DadaGP-v1.1/data-prep-acc-gen/gps_with_4/3 Doors Down - By My Side (2).gp3.\n",
      "3 Doors Down - By My Side.gp4\n",
      "Copied /Users/pedro/Desktop/DadaGP-v1.1/Z/Zyklon/Zyklon - Psyklon Aeon.gp4 to /Users/pedro/Desktop/DadaGP-v1.1/data-prep-acc-gen/gps_with_4/3 Doors Down - By My Side.gp4.\n"
     ]
    },
    {
     "name": "stderr",
     "output_type": "stream",
     "text": [
      "  0%|          | 21/13413 [00:03<28:20,  7.87it/s]"
     ]
    },
    {
     "name": "stdout",
     "output_type": "stream",
     "text": [
      "3 Doors Down - Here Without You (2).gp3\n",
      "3 Doors Down - Kryptonite (2).gp3\n",
      "3 Doors Down - Kryptonite (3).gp3\n",
      "Created new file with 4 tracks: /Users/pedro/Desktop/DadaGP-v1.1/data-prep-acc-gen/gps_with_4/3 Doors Down - Kryptonite (3).gp3\n"
     ]
    },
    {
     "name": "stderr",
     "output_type": "stream",
     "text": [
      "  0%|          | 22/13413 [00:03<28:57,  7.71it/s]"
     ]
    },
    {
     "name": "stdout",
     "output_type": "stream",
     "text": [
      "3 Doors Down - Kryptonite (4).gp3\n",
      "Created new file with 4 tracks: /Users/pedro/Desktop/DadaGP-v1.1/data-prep-acc-gen/gps_with_4/3 Doors Down - Kryptonite (4).gp3\n"
     ]
    },
    {
     "name": "stderr",
     "output_type": "stream",
     "text": [
      "  0%|          | 23/13413 [00:03<42:58,  5.19it/s]"
     ]
    },
    {
     "name": "stdout",
     "output_type": "stream",
     "text": [
      "3 Doors Down - Kryptonite (4).gp4\n",
      "Created new file with 4 tracks: /Users/pedro/Desktop/DadaGP-v1.1/data-prep-acc-gen/gps_with_4/3 Doors Down - Kryptonite (4).gp4\n",
      "3 Doors Down - Life Of My Own.gp3\n",
      "3 Doors Down - Not Enough.gp3\n"
     ]
    },
    {
     "name": "stderr",
     "output_type": "stream",
     "text": [
      "  0%|          | 27/13413 [00:03<27:49,  8.02it/s]"
     ]
    },
    {
     "name": "stdout",
     "output_type": "stream",
     "text": [
      "Created new file with 4 tracks: /Users/pedro/Desktop/DadaGP-v1.1/data-prep-acc-gen/gps_with_4/3 Doors Down - Not Enough.gp3\n",
      "3 Doors Down - Sarah Yellin.gp4\n",
      "3 Doors Down - The Road I'm On.gp4\n",
      "Created new file with 4 tracks: /Users/pedro/Desktop/DadaGP-v1.1/data-prep-acc-gen/gps_with_4/3 Doors Down - The Road I'm On.gp4\n",
      "301 Izquierda - (r)Por Que No Me Dijeron Eso Antes_.gp3\n",
      "Copied /Users/pedro/Desktop/DadaGP-v1.1/Z/Zyklon/Zyklon - Psyklon Aeon.gp4 to /Users/pedro/Desktop/DadaGP-v1.1/data-prep-acc-gen/gps_with_4/301 Izquierda - (r)Por Que No Me Dijeron Eso Antes_.gp3.\n"
     ]
    },
    {
     "name": "stderr",
     "output_type": "stream",
     "text": [
      "  0%|          | 32/13413 [00:04<16:28, 13.54it/s]"
     ]
    },
    {
     "name": "stdout",
     "output_type": "stream",
     "text": [
      "301 Izquierda - Calcetas.gp3\n",
      "Copied /Users/pedro/Desktop/DadaGP-v1.1/Z/Zyklon/Zyklon - Psyklon Aeon.gp4 to /Users/pedro/Desktop/DadaGP-v1.1/data-prep-acc-gen/gps_with_4/301 Izquierda - Calcetas.gp3.\n",
      "31 Minutos - Equilibrio Espiritual.gp3\n",
      "Copied /Users/pedro/Desktop/DadaGP-v1.1/Z/Zyklon/Zyklon - Psyklon Aeon.gp4 to /Users/pedro/Desktop/DadaGP-v1.1/data-prep-acc-gen/gps_with_4/31 Minutos - Equilibrio Espiritual.gp3.\n",
      "31 Minutos - Tema Central.gp3\n",
      "311 - All Mixed Up (2).gp4\n",
      "311 - Beautiful Disaster (2).gp3\n",
      "311 - Beautiful Disaster (3).gp4\n"
     ]
    },
    {
     "name": "stderr",
     "output_type": "stream",
     "text": [
      "  0%|          | 36/13413 [00:04<26:58,  8.26it/s]"
     ]
    },
    {
     "name": "stdout",
     "output_type": "stream",
     "text": [
      "Created new file with 4 tracks: /Users/pedro/Desktop/DadaGP-v1.1/data-prep-acc-gen/gps_with_4/311 - Beautiful Disaster (3).gp4\n",
      "311 - Beautiful Disaster.gp3\n",
      "311 - Come Original.gp3\n",
      "311 - Down (2).gp3\n",
      "Copied /Users/pedro/Desktop/DadaGP-v1.1/Z/Zyklon/Zyklon - Psyklon Aeon.gp4 to /Users/pedro/Desktop/DadaGP-v1.1/data-prep-acc-gen/gps_with_4/311 - Down (2).gp3.\n"
     ]
    },
    {
     "name": "stderr",
     "output_type": "stream",
     "text": [
      "  0%|          | 40/13413 [00:05<31:03,  7.18it/s]"
     ]
    },
    {
     "name": "stdout",
     "output_type": "stream",
     "text": [
      "311 - Down.gp3\n",
      "Copied /Users/pedro/Desktop/DadaGP-v1.1/Z/Zyklon/Zyklon - Psyklon Aeon.gp4 to /Users/pedro/Desktop/DadaGP-v1.1/data-prep-acc-gen/gps_with_4/311 - Down.gp3.\n",
      "311 - Freeze Time (2).gp4\n",
      "Copied /Users/pedro/Desktop/DadaGP-v1.1/Z/Zyklon/Zyklon - Psyklon Aeon.gp4 to /Users/pedro/Desktop/DadaGP-v1.1/data-prep-acc-gen/gps_with_4/311 - Freeze Time (2).gp4.\n",
      "311 - Homebrew (2).gp4\n",
      "Copied /Users/pedro/Desktop/DadaGP-v1.1/Z/Zyklon/Zyklon - Psyklon Aeon.gp4 to /Users/pedro/Desktop/DadaGP-v1.1/data-prep-acc-gen/gps_with_4/311 - Homebrew (2).gp4.\n"
     ]
    },
    {
     "name": "stderr",
     "output_type": "stream",
     "text": [
      "  0%|          | 44/13413 [00:05<22:12, 10.03it/s]"
     ]
    },
    {
     "name": "stdout",
     "output_type": "stream",
     "text": [
      "311 - Prisoner.gp4\n",
      "311 - You Wouldn_'t Believe.gp4\n",
      "Copied /Users/pedro/Desktop/DadaGP-v1.1/Z/Zyklon/Zyklon - Psyklon Aeon.gp4 to /Users/pedro/Desktop/DadaGP-v1.1/data-prep-acc-gen/gps_with_4/311 - You Wouldn_'t Believe.gp4.\n",
      "36 CrazyFists - An Agreement Called Forever.gp3\n",
      "Copied /Users/pedro/Desktop/DadaGP-v1.1/Z/Zyklon/Zyklon - Psyklon Aeon.gp4 to /Users/pedro/Desktop/DadaGP-v1.1/data-prep-acc-gen/gps_with_4/36 CrazyFists - An Agreement Called Forever.gp3.\n",
      "36 CrazyFists - Slit Wrist Theory (3).gp3\n",
      "Copied /Users/pedro/Desktop/DadaGP-v1.1/Z/Zyklon/Zyklon - Psyklon Aeon.gp4 to /Users/pedro/Desktop/DadaGP-v1.1/data-prep-acc-gen/gps_with_4/36 CrazyFists - Slit Wrist Theory (3).gp3.\n"
     ]
    },
    {
     "name": "stderr",
     "output_type": "stream",
     "text": [
      "  0%|          | 46/13413 [00:06<19:53, 11.20it/s]"
     ]
    },
    {
     "name": "stdout",
     "output_type": "stream",
     "text": [
      "36 CrazyFists - Waterhaul.gp4\n",
      "38 Special - Robin Hood.gp3\n"
     ]
    },
    {
     "name": "stderr",
     "output_type": "stream",
     "text": [
      "  0%|          | 48/13413 [00:06<26:34,  8.38it/s]"
     ]
    },
    {
     "name": "stdout",
     "output_type": "stream",
     "text": [
      "38 Special - Rockin_' Into The Night.gp3\n",
      "4 Non Blondes - What's Up (3).gp4\n",
      "4 Non Blondes - What's Up.gp3\n"
     ]
    },
    {
     "name": "stderr",
     "output_type": "stream",
     "text": [
      "  0%|          | 50/13413 [00:06<24:54,  8.94it/s]"
     ]
    },
    {
     "name": "stdout",
     "output_type": "stream",
     "text": [
      "4 Non Blondes - What's Up.gp4\n",
      "50 Cent - In Da Club.gp4\n"
     ]
    },
    {
     "name": "stderr",
     "output_type": "stream",
     "text": [
      "  0%|          | 52/13413 [00:06<29:07,  7.65it/s]"
     ]
    },
    {
     "name": "stdout",
     "output_type": "stream",
     "text": [
      "500 And China Blue - Mon A Bo Ya Gar Ki.gp4\n",
      "Created new file with 4 tracks: /Users/pedro/Desktop/DadaGP-v1.1/data-prep-acc-gen/gps_with_4/500 And China Blue - Mon A Bo Ya Gar Ki.gp4\n"
     ]
    },
    {
     "name": "stderr",
     "output_type": "stream",
     "text": [
      "  0%|          | 55/13413 [00:07<29:26,  7.56it/s]"
     ]
    },
    {
     "name": "stdout",
     "output_type": "stream",
     "text": [
      "500 and China Blue - Flower of Spring and Moon of Fall.gp3\n",
      "59 Times The Pain - Weekend revolution.gp3\n",
      "Copied /Users/pedro/Desktop/DadaGP-v1.1/Z/Zyklon/Zyklon - Psyklon Aeon.gp4 to /Users/pedro/Desktop/DadaGP-v1.1/data-prep-acc-gen/gps_with_4/59 Times The Pain - Weekend revolution.gp3.\n",
      "5th Prokurator - Turkish Delight.gp3\n",
      "Copied /Users/pedro/Desktop/DadaGP-v1.1/Z/Zyklon/Zyklon - Psyklon Aeon.gp4 to /Users/pedro/Desktop/DadaGP-v1.1/data-prep-acc-gen/gps_with_4/5th Prokurator - Turkish Delight.gp3.\n",
      "5th Prokurator - Turkish Delight.gp4\n",
      "Created new file with 4 tracks: /Users/pedro/Desktop/DadaGP-v1.1/data-prep-acc-gen/gps_with_4/5th Prokurator - Turkish Delight.gp4\n"
     ]
    },
    {
     "name": "stderr",
     "output_type": "stream",
     "text": [
      "  0%|          | 57/13413 [00:07<27:46,  8.02it/s]"
     ]
    },
    {
     "name": "stdout",
     "output_type": "stream",
     "text": [
      "6 Voltios - ARPG.gp3\n",
      "Created new file with 4 tracks: /Users/pedro/Desktop/DadaGP-v1.1/data-prep-acc-gen/gps_with_4/6 Voltios - ARPG.gp3\n",
      "6 Voltios - Chicas Tontas.gp3\n",
      "Copied /Users/pedro/Desktop/DadaGP-v1.1/Z/Zyklon/Zyklon - Psyklon Aeon.gp4 to /Users/pedro/Desktop/DadaGP-v1.1/data-prep-acc-gen/gps_with_4/6 Voltios - Chicas Tontas.gp3.\n"
     ]
    },
    {
     "name": "stderr",
     "output_type": "stream",
     "text": [
      "  0%|          | 59/13413 [00:07<24:53,  8.94it/s]"
     ]
    },
    {
     "name": "stdout",
     "output_type": "stream",
     "text": [
      "6 Voltios - Dando Vueltas.gp3\n",
      "Copied /Users/pedro/Desktop/DadaGP-v1.1/Z/Zyklon/Zyklon - Psyklon Aeon.gp4 to /Users/pedro/Desktop/DadaGP-v1.1/data-prep-acc-gen/gps_with_4/6 Voltios - Dando Vueltas.gp3.\n",
      "6 Voltios - Desde Que Te Conocdeg.gp3\n",
      "Copied /Users/pedro/Desktop/DadaGP-v1.1/Z/Zyklon/Zyklon - Psyklon Aeon.gp4 to /Users/pedro/Desktop/DadaGP-v1.1/data-prep-acc-gen/gps_with_4/6 Voltios - Desde Que Te Conocdeg.gp3.\n"
     ]
    },
    {
     "name": "stderr",
     "output_type": "stream",
     "text": [
      "  0%|          | 62/13413 [00:08<31:14,  7.12it/s]"
     ]
    },
    {
     "name": "stdout",
     "output_type": "stream",
     "text": [
      "6 Voltios - Desequilibrado.gp3\n",
      "Copied /Users/pedro/Desktop/DadaGP-v1.1/Z/Zyklon/Zyklon - Psyklon Aeon.gp4 to /Users/pedro/Desktop/DadaGP-v1.1/data-prep-acc-gen/gps_with_4/6 Voltios - Desequilibrado.gp3.\n",
      "6 Voltios - Lucas (2).gp4\n",
      "Copied /Users/pedro/Desktop/DadaGP-v1.1/Z/Zyklon/Zyklon - Psyklon Aeon.gp4 to /Users/pedro/Desktop/DadaGP-v1.1/data-prep-acc-gen/gps_with_4/6 Voltios - Lucas (2).gp4.\n",
      "6 Voltios - Lucas.gp4\n"
     ]
    },
    {
     "name": "stderr",
     "output_type": "stream",
     "text": [
      "  0%|          | 67/13413 [00:08<18:52, 11.78it/s]"
     ]
    },
    {
     "name": "stdout",
     "output_type": "stream",
     "text": [
      "69 Eyes - Velvet Touch.gp3\n",
      "69ers (The) - From The Heart Of My Bottom.gp3\n",
      "69ers (The) - Go Aways From Me.gp3\n",
      "69ers (The) - Pass The Past.gp3\n",
      "69ers (The) - Romance - Rock mix.gp3\n",
      "Copied /Users/pedro/Desktop/DadaGP-v1.1/Z/Zyklon/Zyklon - Psyklon Aeon.gp4 to /Users/pedro/Desktop/DadaGP-v1.1/data-prep-acc-gen/gps_with_4/69ers (The) - Romance - Rock mix.gp3.\n",
      "69ers (The) - Tuoi da buon - Rock remix.gp3\n",
      "Copied /Users/pedro/Desktop/DadaGP-v1.1/Z/Zyklon/Zyklon - Psyklon Aeon.gp4 to /Users/pedro/Desktop/DadaGP-v1.1/data-prep-acc-gen/gps_with_4/69ers (The) - Tuoi da buon - Rock remix.gp3.\n"
     ]
    },
    {
     "name": "stderr",
     "output_type": "stream",
     "text": [
      "  1%|          | 71/13413 [00:08<13:13, 16.82it/s]"
     ]
    },
    {
     "name": "stdout",
     "output_type": "stream",
     "text": [
      "69ers (The) - Way to nirvana.gp3\n",
      "69ers (The) - From The Heart Of My Bottom.gp3\n",
      "69ers (The) - Go Aways From Me.gp3\n"
     ]
    },
    {
     "name": "stderr",
     "output_type": "stream",
     "text": [
      "  1%|          | 74/13413 [00:09<18:17, 12.16it/s]"
     ]
    },
    {
     "name": "stdout",
     "output_type": "stream",
     "text": [
      "69ers (The) - Pass The Past.gp3\n",
      "69ers (The) - Romance - Rock mix.gp3\n",
      "Copied /Users/pedro/Desktop/DadaGP-v1.1/Z/Zyklon/Zyklon - Psyklon Aeon.gp4 to /Users/pedro/Desktop/DadaGP-v1.1/data-prep-acc-gen/gps_with_4/69ers (The) - Romance - Rock mix.gp3.\n",
      "69ers (The) - Tuoi da buon - Rock remix.gp3\n",
      "Copied /Users/pedro/Desktop/DadaGP-v1.1/Z/Zyklon/Zyklon - Psyklon Aeon.gp4 to /Users/pedro/Desktop/DadaGP-v1.1/data-prep-acc-gen/gps_with_4/69ers (The) - Tuoi da buon - Rock remix.gp3.\n",
      "69ers (The) - Way to nirvana.gp3\n"
     ]
    },
    {
     "name": "stderr",
     "output_type": "stream",
     "text": [
      "  1%|          | 77/13413 [00:09<17:01, 13.05it/s]"
     ]
    },
    {
     "name": "stdout",
     "output_type": "stream",
     "text": [
      "7b - Osen'.gp4\n",
      "870621345 - Ashamed Again.gp4\n",
      "Created new file with 4 tracks: /Users/pedro/Desktop/DadaGP-v1.1/data-prep-acc-gen/gps_with_4/870621345 - Ashamed Again.gp4\n",
      "870621345 - By Suffer Like Me.gp4\n"
     ]
    },
    {
     "name": "stderr",
     "output_type": "stream",
     "text": [
      "  1%|          | 79/13413 [00:09<26:11,  8.48it/s]"
     ]
    },
    {
     "name": "stdout",
     "output_type": "stream",
     "text": [
      "Created new file with 4 tracks: /Users/pedro/Desktop/DadaGP-v1.1/data-prep-acc-gen/gps_with_4/870621345 - By Suffer Like Me.gp4\n",
      "870621345 - Despise In Me.gp4\n"
     ]
    },
    {
     "name": "stderr",
     "output_type": "stream",
     "text": [
      "  1%|          | 83/13413 [00:10<25:06,  8.85it/s]"
     ]
    },
    {
     "name": "stdout",
     "output_type": "stream",
     "text": [
      "870621345 - Forgive Me.gp4\n",
      "870621345 - Friends_.gp4\n",
      "Copied /Users/pedro/Desktop/DadaGP-v1.1/Z/Zyklon/Zyklon - Psyklon Aeon.gp4 to /Users/pedro/Desktop/DadaGP-v1.1/data-prep-acc-gen/gps_with_4/870621345 - Friends_.gp4.\n",
      "870621345 - Hate.gp4\n",
      "Copied /Users/pedro/Desktop/DadaGP-v1.1/Z/Zyklon/Zyklon - Psyklon Aeon.gp4 to /Users/pedro/Desktop/DadaGP-v1.1/data-prep-acc-gen/gps_with_4/870621345 - Hate.gp4.\n"
     ]
    },
    {
     "name": "stderr",
     "output_type": "stream",
     "text": [
      "  1%|          | 85/13413 [00:10<24:21,  9.12it/s]"
     ]
    },
    {
     "name": "stdout",
     "output_type": "stream",
     "text": [
      "870621345 - Kissing My Nightmares.gp4\n",
      "Created new file with 4 tracks: /Users/pedro/Desktop/DadaGP-v1.1/data-prep-acc-gen/gps_with_4/870621345 - Kissing My Nightmares.gp4\n",
      "870621345 - Lost Forever.gp4\n",
      "Copied /Users/pedro/Desktop/DadaGP-v1.1/Z/Zyklon/Zyklon - Psyklon Aeon.gp4 to /Users/pedro/Desktop/DadaGP-v1.1/data-prep-acc-gen/gps_with_4/870621345 - Lost Forever.gp4.\n",
      "870621345 - Remember Me.gp4\n"
     ]
    },
    {
     "name": "stderr",
     "output_type": "stream",
     "text": [
      "  1%|          | 87/13413 [00:10<21:56, 10.12it/s]"
     ]
    },
    {
     "name": "stdout",
     "output_type": "stream",
     "text": [
      "870621345 - The End Of An Happy Time.gp4\n",
      "870621345 - Through The Shadows.gp4\n",
      "Copied /Users/pedro/Desktop/DadaGP-v1.1/Z/Zyklon/Zyklon - Psyklon Aeon.gp4 to /Users/pedro/Desktop/DadaGP-v1.1/data-prep-acc-gen/gps_with_4/870621345 - Through The Shadows.gp4.\n"
     ]
    },
    {
     "name": "stderr",
     "output_type": "stream",
     "text": [
      "  1%|          | 91/13413 [00:11<27:01,  8.22it/s]"
     ]
    },
    {
     "name": "stdout",
     "output_type": "stream",
     "text": [
      "870621345 - Trust.gp4\n",
      "Copied /Users/pedro/Desktop/DadaGP-v1.1/Z/Zyklon/Zyklon - Psyklon Aeon.gp4 to /Users/pedro/Desktop/DadaGP-v1.1/data-prep-acc-gen/gps_with_4/870621345 - Trust.gp4.\n",
      "870621345 - Weakness.gp4\n",
      "88 Fingers Louie - Go Away.gp4\n"
     ]
    },
    {
     "name": "stderr",
     "output_type": "stream",
     "text": [
      "  1%|          | 93/13413 [00:11<26:12,  8.47it/s]"
     ]
    },
    {
     "name": "stdout",
     "output_type": "stream",
     "text": [
      "88 Fingers Louie - Tomorrow Starts Today.gp3\n",
      "Copied /Users/pedro/Desktop/DadaGP-v1.1/Z/Zyklon/Zyklon - Psyklon Aeon.gp4 to /Users/pedro/Desktop/DadaGP-v1.1/data-prep-acc-gen/gps_with_4/88 Fingers Louie - Tomorrow Starts Today.gp3.\n",
      "88 Fingers Louie - Won't Stay Late.gp4\n",
      "Created new file with 4 tracks: /Users/pedro/Desktop/DadaGP-v1.1/data-prep-acc-gen/gps_with_4/88 Fingers Louie - Won't Stay Late.gp4\n",
      "A Perfect Circle - Renhold%r.gp3\n",
      "A Perfect Circle - Renholdar.gp3\n",
      "A Static Lullaby - Annunciate While You Masticate.gp4\n",
      "Copied /Users/pedro/Desktop/DadaGP-v1.1/Z/Zyklon/Zyklon - Psyklon Aeon.gp4 to /Users/pedro/Desktop/DadaGP-v1.1/data-prep-acc-gen/gps_with_4/A Static Lullaby - Annunciate While You Masticate.gp4.\n"
     ]
    },
    {
     "name": "stderr",
     "output_type": "stream",
     "text": [
      "  1%|          | 99/13413 [00:11<21:15, 10.44it/s]"
     ]
    },
    {
     "name": "stdout",
     "output_type": "stream",
     "text": [
      "A, Dominique - Free Wheel.gp3\n",
      "A, Dominique - Je T'ai Toujours Aim_e.gp4\n",
      "A, Dominique - Je t_'ai toujours aimCe.gp3\n",
      "A, Dominique - Le mCtier de faussaire.gp3\n",
      "A, Dominique - Tutti va bene.gp3\n"
     ]
    },
    {
     "name": "stderr",
     "output_type": "stream",
     "text": [
      "  1%|          | 104/13413 [00:12<17:00, 13.04it/s]"
     ]
    },
    {
     "name": "stdout",
     "output_type": "stream",
     "text": [
      "A-YUE & FreeNight - Freedom.gp4\n",
      "Copied /Users/pedro/Desktop/DadaGP-v1.1/Z/Zyklon/Zyklon - Psyklon Aeon.gp4 to /Users/pedro/Desktop/DadaGP-v1.1/data-prep-acc-gen/gps_with_4/A-YUE & FreeNight - Freedom.gp4.\n",
      "A. McGrath, Andrew - Rock With Horns.gp4\n",
      "A.C.A.B - Fight For Your Right (2).gp4\n",
      "A.C.A.B - Our Country.gp4\n",
      "Created new file with 4 tracks: /Users/pedro/Desktop/DadaGP-v1.1/data-prep-acc-gen/gps_with_4/A.C.A.B - Our Country.gp4\n"
     ]
    },
    {
     "name": "stderr",
     "output_type": "stream",
     "text": [
      "  1%|          | 106/13413 [00:12<29:28,  7.53it/s]"
     ]
    },
    {
     "name": "stdout",
     "output_type": "stream",
     "text": [
      "A.C.A.B - Racial Hatred 2.gp4\n",
      "Created new file with 4 tracks: /Users/pedro/Desktop/DadaGP-v1.1/data-prep-acc-gen/gps_with_4/A.C.A.B - Racial Hatred 2.gp4\n"
     ]
    },
    {
     "name": "stderr",
     "output_type": "stream",
     "text": [
      "  1%|          | 108/13413 [00:13<29:14,  7.58it/s]"
     ]
    },
    {
     "name": "stdout",
     "output_type": "stream",
     "text": [
      "A - Better Off With Him.gp4\n",
      "Created new file with 4 tracks: /Users/pedro/Desktop/DadaGP-v1.1/data-prep-acc-gen/gps_with_4/A - Better Off With Him.gp4\n",
      "A - Monkey Kong.gp4\n"
     ]
    },
    {
     "name": "stderr",
     "output_type": "stream",
     "text": [
      "  1%|          | 110/13413 [00:13<26:04,  8.50it/s]"
     ]
    },
    {
     "name": "stdout",
     "output_type": "stream",
     "text": [
      "AA Le Composer - Dead Or Life.gp4\n",
      "Copied /Users/pedro/Desktop/DadaGP-v1.1/Z/Zyklon/Zyklon - Psyklon Aeon.gp4 to /Users/pedro/Desktop/DadaGP-v1.1/data-prep-acc-gen/gps_with_4/AA Le Composer - Dead Or Life.gp4.\n",
      "AA Le Composer - Extremist.gp4\n",
      "Copied /Users/pedro/Desktop/DadaGP-v1.1/Z/Zyklon/Zyklon - Psyklon Aeon.gp4 to /Users/pedro/Desktop/DadaGP-v1.1/data-prep-acc-gen/gps_with_4/AA Le Composer - Extremist.gp4.\n",
      "AA Le Composer - Ouverture - Stone Heart.gp4\n"
     ]
    },
    {
     "name": "stderr",
     "output_type": "stream",
     "text": [
      "  1%|          | 113/13413 [00:13<30:41,  7.22it/s]"
     ]
    },
    {
     "name": "stdout",
     "output_type": "stream",
     "text": [
      "AA Le Composer - Rock Of Peace.gp4\n",
      "Copied /Users/pedro/Desktop/DadaGP-v1.1/Z/Zyklon/Zyklon - Psyklon Aeon.gp4 to /Users/pedro/Desktop/DadaGP-v1.1/data-prep-acc-gen/gps_with_4/AA Le Composer - Rock Of Peace.gp4.\n",
      "AA Le Composer - Stone Heart Part II.gp4\n",
      "Created new file with 4 tracks: /Users/pedro/Desktop/DadaGP-v1.1/data-prep-acc-gen/gps_with_4/AA Le Composer - Stone Heart Part II.gp4\n",
      "AALA - AALA Song.gp4\n",
      "AALA - Again.gp4\n"
     ]
    },
    {
     "name": "stderr",
     "output_type": "stream",
     "text": [
      "  1%|          | 117/13413 [00:13<19:23, 11.43it/s]"
     ]
    },
    {
     "name": "stdout",
     "output_type": "stream",
     "text": [
      "AALA - Double Bass.gp4\n",
      "AALA - Mi II (Remix).gp4\n",
      "AALA - Nex One.gp4\n",
      "AC-DC - Can't Stop Rock N' Roll.gp4\n",
      "Copied /Users/pedro/Desktop/DadaGP-v1.1/Z/Zyklon/Zyklon - Psyklon Aeon.gp4 to /Users/pedro/Desktop/DadaGP-v1.1/data-prep-acc-gen/gps_with_4/AC-DC - Can't Stop Rock N' Roll.gp4.\n"
     ]
    },
    {
     "name": "stderr",
     "output_type": "stream",
     "text": [
      "  1%|          | 120/13413 [00:14<17:28, 12.67it/s]"
     ]
    },
    {
     "name": "stdout",
     "output_type": "stream",
     "text": [
      "AC-DC - Cover You In Oil.gp4\n",
      "Copied /Users/pedro/Desktop/DadaGP-v1.1/Z/Zyklon/Zyklon - Psyklon Aeon.gp4 to /Users/pedro/Desktop/DadaGP-v1.1/data-prep-acc-gen/gps_with_4/AC-DC - Cover You In Oil.gp4.\n",
      "AC-DC - Dirty Deeds Done Dirt Cheap (2).gp4\n",
      "Created new file with 4 tracks: /Users/pedro/Desktop/DadaGP-v1.1/data-prep-acc-gen/gps_with_4/AC-DC - Dirty Deeds Done Dirt Cheap (2).gp4\n"
     ]
    },
    {
     "name": "stderr",
     "output_type": "stream",
     "text": [
      "  1%|          | 124/13413 [00:14<24:29,  9.04it/s]"
     ]
    },
    {
     "name": "stdout",
     "output_type": "stream",
     "text": [
      "AC-DC - Dirty Deeds Done Dirt Cheap.gp4\n",
      "Copied /Users/pedro/Desktop/DadaGP-v1.1/Z/Zyklon/Zyklon - Psyklon Aeon.gp4 to /Users/pedro/Desktop/DadaGP-v1.1/data-prep-acc-gen/gps_with_4/AC-DC - Dirty Deeds Done Dirt Cheap.gp4.\n",
      "AC-DC - Flick Of The Switch.gp4\n",
      "Created new file with 4 tracks: /Users/pedro/Desktop/DadaGP-v1.1/data-prep-acc-gen/gps_with_4/AC-DC - Flick Of The Switch.gp4\n",
      "AC-DC - Fling Thing.gp4\n",
      "Copied /Users/pedro/Desktop/DadaGP-v1.1/Z/Zyklon/Zyklon - Psyklon Aeon.gp4 to /Users/pedro/Desktop/DadaGP-v1.1/data-prep-acc-gen/gps_with_4/AC-DC - Fling Thing.gp4.\n"
     ]
    },
    {
     "name": "stderr",
     "output_type": "stream",
     "text": [
      "  1%|          | 126/13413 [00:14<23:48,  9.30it/s]"
     ]
    },
    {
     "name": "stdout",
     "output_type": "stream",
     "text": [
      "AC-DC - Gimme A Bullet.gp4\n",
      "Copied /Users/pedro/Desktop/DadaGP-v1.1/Z/Zyklon/Zyklon - Psyklon Aeon.gp4 to /Users/pedro/Desktop/DadaGP-v1.1/data-prep-acc-gen/gps_with_4/AC-DC - Gimme A Bullet.gp4.\n",
      "AC-DC - Heatseeker.gp4\n",
      "Copied /Users/pedro/Desktop/DadaGP-v1.1/Z/Zyklon/Zyklon - Psyklon Aeon.gp4 to /Users/pedro/Desktop/DadaGP-v1.1/data-prep-acc-gen/gps_with_4/AC-DC - Heatseeker.gp4.\n",
      "AC-DC - If You Want Blood (You've Got It).gp4\n",
      "Copied /Users/pedro/Desktop/DadaGP-v1.1/Z/Zyklon/Zyklon - Psyklon Aeon.gp4 to /Users/pedro/Desktop/DadaGP-v1.1/data-prep-acc-gen/gps_with_4/AC-DC - If You Want Blood (You've Got It).gp4.\n",
      "AC-DC - It's A Long Way To The Top (If You Wanna Rock 'n' Roll) (2).gp4\n"
     ]
    },
    {
     "name": "stderr",
     "output_type": "stream",
     "text": [
      "  1%|          | 128/13413 [00:15<29:58,  7.39it/s]"
     ]
    },
    {
     "name": "stdout",
     "output_type": "stream",
     "text": [
      "Created new file with 4 tracks: /Users/pedro/Desktop/DadaGP-v1.1/data-prep-acc-gen/gps_with_4/AC-DC - It's A Long Way To The Top (If You Wanna Rock 'n' Roll) (2).gp4\n"
     ]
    },
    {
     "name": "stderr",
     "output_type": "stream",
     "text": [
      "  1%|          | 129/13413 [00:15<45:09,  4.90it/s]"
     ]
    },
    {
     "name": "stdout",
     "output_type": "stream",
     "text": [
      "AC-DC - Jailbreak (2).gp4\n",
      "Created new file with 4 tracks: /Users/pedro/Desktop/DadaGP-v1.1/data-prep-acc-gen/gps_with_4/AC-DC - Jailbreak (2).gp4\n",
      "AC-DC - Moneytalks (2).gp4\n"
     ]
    },
    {
     "name": "stderr",
     "output_type": "stream",
     "text": [
      "  1%|          | 131/13413 [00:16<40:37,  5.45it/s]"
     ]
    },
    {
     "name": "stdout",
     "output_type": "stream",
     "text": [
      "Created new file with 4 tracks: /Users/pedro/Desktop/DadaGP-v1.1/data-prep-acc-gen/gps_with_4/AC-DC - Moneytalks (2).gp4\n",
      "AC-DC - Moneytalks.gp4\n",
      "Created new file with 4 tracks: /Users/pedro/Desktop/DadaGP-v1.1/data-prep-acc-gen/gps_with_4/AC-DC - Moneytalks.gp4\n"
     ]
    },
    {
     "name": "stderr",
     "output_type": "stream",
     "text": [
      "  1%|          | 134/13413 [00:16<29:36,  7.48it/s]"
     ]
    },
    {
     "name": "stdout",
     "output_type": "stream",
     "text": [
      "AC-DC - Problem Child (2).gp4\n",
      "Copied /Users/pedro/Desktop/DadaGP-v1.1/Z/Zyklon/Zyklon - Psyklon Aeon.gp4 to /Users/pedro/Desktop/DadaGP-v1.1/data-prep-acc-gen/gps_with_4/AC-DC - Problem Child (2).gp4.\n",
      "AC-DC - Shot Down In Flames.gp4\n",
      "Copied /Users/pedro/Desktop/DadaGP-v1.1/Z/Zyklon/Zyklon - Psyklon Aeon.gp4 to /Users/pedro/Desktop/DadaGP-v1.1/data-prep-acc-gen/gps_with_4/AC-DC - Shot Down In Flames.gp4.\n",
      "AC-DC - Sink The Pink (2).gp4\n",
      "Copied /Users/pedro/Desktop/DadaGP-v1.1/Z/Zyklon/Zyklon - Psyklon Aeon.gp4 to /Users/pedro/Desktop/DadaGP-v1.1/data-prep-acc-gen/gps_with_4/AC-DC - Sink The Pink (2).gp4.\n"
     ]
    },
    {
     "name": "stderr",
     "output_type": "stream",
     "text": [
      "  1%|          | 135/13413 [00:17<49:30,  4.47it/s]"
     ]
    },
    {
     "name": "stdout",
     "output_type": "stream",
     "text": [
      "AC-DC - Sink The Pink.gp4\n",
      "Created new file with 4 tracks: /Users/pedro/Desktop/DadaGP-v1.1/data-prep-acc-gen/gps_with_4/AC-DC - Sink The Pink.gp4\n"
     ]
    },
    {
     "name": "stderr",
     "output_type": "stream",
     "text": [
      "  1%|          | 136/13413 [00:17<51:01,  4.34it/s]"
     ]
    },
    {
     "name": "stdout",
     "output_type": "stream",
     "text": [
      "AC-DC - Thunderstruck(live At Donington).gp4\n",
      "Created new file with 4 tracks: /Users/pedro/Desktop/DadaGP-v1.1/data-prep-acc-gen/gps_with_4/AC-DC - Thunderstruck(live At Donington).gp4\n",
      "AC-DC - Who Made Who (2).gp4\n"
     ]
    },
    {
     "name": "stderr",
     "output_type": "stream",
     "text": [
      "  1%|          | 137/13413 [00:17<46:32,  4.75it/s]"
     ]
    },
    {
     "name": "stdout",
     "output_type": "stream",
     "text": [
      "Created new file with 4 tracks: /Users/pedro/Desktop/DadaGP-v1.1/data-prep-acc-gen/gps_with_4/AC-DC - Who Made Who (2).gp4\n",
      "AC-DC - Whole Lotta Rosie.gp4\n"
     ]
    },
    {
     "name": "stderr",
     "output_type": "stream",
     "text": [
      "  1%|          | 139/13413 [00:17<42:33,  5.20it/s]"
     ]
    },
    {
     "name": "stdout",
     "output_type": "stream",
     "text": [
      "Created new file with 4 tracks: /Users/pedro/Desktop/DadaGP-v1.1/data-prep-acc-gen/gps_with_4/AC-DC - Whole Lotta Rosie.gp4\n",
      "AC-DC - You Ain't Got A Hold On Me.gp3\n",
      "Created new file with 4 tracks: /Users/pedro/Desktop/DadaGP-v1.1/data-prep-acc-gen/gps_with_4/AC-DC - You Ain't Got A Hold On Me.gp3\n"
     ]
    },
    {
     "name": "stderr",
     "output_type": "stream",
     "text": [
      "  1%|          | 140/13413 [00:18<58:42,  3.77it/s]"
     ]
    },
    {
     "name": "stdout",
     "output_type": "stream",
     "text": [
      "AC-DC - You Shook Me All Night Long (2).gp4\n",
      "Created new file with 4 tracks: /Users/pedro/Desktop/DadaGP-v1.1/data-prep-acc-gen/gps_with_4/AC-DC - You Shook Me All Night Long (2).gp4\n"
     ]
    },
    {
     "name": "stderr",
     "output_type": "stream",
     "text": [
      "  1%|          | 141/13413 [00:18<54:24,  4.07it/s]"
     ]
    },
    {
     "name": "stdout",
     "output_type": "stream",
     "text": [
      "AC-DC - You Shook Me All Night Long (3).gp4\n",
      "Created new file with 4 tracks: /Users/pedro/Desktop/DadaGP-v1.1/data-prep-acc-gen/gps_with_4/AC-DC - You Shook Me All Night Long (3).gp4\n",
      "ACDC - Back In Black (3).gp3\n"
     ]
    },
    {
     "name": "stderr",
     "output_type": "stream",
     "text": [
      "  1%|          | 143/13413 [00:18<45:00,  4.91it/s]"
     ]
    },
    {
     "name": "stdout",
     "output_type": "stream",
     "text": [
      "ACDC - Back In Black (4).gp3\n",
      "Created new file with 4 tracks: /Users/pedro/Desktop/DadaGP-v1.1/data-prep-acc-gen/gps_with_4/ACDC - Back In Black (4).gp3\n",
      "ACDC - Back In Black (5).gp4\n"
     ]
    },
    {
     "name": "stderr",
     "output_type": "stream",
     "text": [
      "  1%|          | 144/13413 [00:18<42:24,  5.21it/s]"
     ]
    },
    {
     "name": "stdout",
     "output_type": "stream",
     "text": [
      "Created new file with 4 tracks: /Users/pedro/Desktop/DadaGP-v1.1/data-prep-acc-gen/gps_with_4/ACDC - Back In Black (5).gp4\n"
     ]
    },
    {
     "name": "stderr",
     "output_type": "stream",
     "text": [
      "  1%|          | 145/13413 [00:19<52:54,  4.18it/s]"
     ]
    },
    {
     "name": "stdout",
     "output_type": "stream",
     "text": [
      "ACDC - Back in Black.gp3\n",
      "Copied /Users/pedro/Desktop/DadaGP-v1.1/Z/Zyklon/Zyklon - Psyklon Aeon.gp4 to /Users/pedro/Desktop/DadaGP-v1.1/data-prep-acc-gen/gps_with_4/ACDC - Back in Black.gp3.\n",
      "ACDC - Burnin_' Alive.gp3\n"
     ]
    },
    {
     "name": "stderr",
     "output_type": "stream",
     "text": [
      "  1%|          | 147/13413 [00:19<42:44,  5.17it/s]"
     ]
    },
    {
     "name": "stdout",
     "output_type": "stream",
     "text": [
      "ACDC - Can_'t Stand Still (2).gp4\n",
      "Created new file with 4 tracks: /Users/pedro/Desktop/DadaGP-v1.1/data-prep-acc-gen/gps_with_4/ACDC - Can_'t Stand Still (2).gp4\n",
      "ACDC - Dirty Deeds Done Dirt Cheap.gp3\n",
      "Copied /Users/pedro/Desktop/DadaGP-v1.1/Z/Zyklon/Zyklon - Psyklon Aeon.gp4 to /Users/pedro/Desktop/DadaGP-v1.1/data-prep-acc-gen/gps_with_4/ACDC - Dirty Deeds Done Dirt Cheap.gp3.\n",
      "ACDC - Dog Eat Dog (3).gp3\n"
     ]
    },
    {
     "name": "stderr",
     "output_type": "stream",
     "text": [
      "  1%|          | 150/13413 [00:19<31:24,  7.04it/s]"
     ]
    },
    {
     "name": "stdout",
     "output_type": "stream",
     "text": [
      "Created new file with 4 tracks: /Users/pedro/Desktop/DadaGP-v1.1/data-prep-acc-gen/gps_with_4/ACDC - Dog Eat Dog (3).gp3\n",
      "ACDC - Dog eat dog (2).gp3\n",
      "Copied /Users/pedro/Desktop/DadaGP-v1.1/Z/Zyklon/Zyklon - Psyklon Aeon.gp4 to /Users/pedro/Desktop/DadaGP-v1.1/data-prep-acc-gen/gps_with_4/ACDC - Dog eat dog (2).gp3.\n"
     ]
    },
    {
     "name": "stderr",
     "output_type": "stream",
     "text": [
      "  1%|          | 151/13413 [00:20<53:18,  4.15it/s]"
     ]
    },
    {
     "name": "stdout",
     "output_type": "stream",
     "text": [
      "ACDC - For Those About To Rock.gp3\n",
      "Created new file with 4 tracks: /Users/pedro/Desktop/DadaGP-v1.1/data-prep-acc-gen/gps_with_4/ACDC - For Those About To Rock.gp3\n",
      "ACDC - Hard As A Rock (2).gp3\n"
     ]
    },
    {
     "name": "stderr",
     "output_type": "stream",
     "text": [
      "  1%|          | 153/13413 [00:20<42:50,  5.16it/s]"
     ]
    },
    {
     "name": "stdout",
     "output_type": "stream",
     "text": [
      "ACDC - Hard As A Rock (2).gp4\n",
      "Created new file with 4 tracks: /Users/pedro/Desktop/DadaGP-v1.1/data-prep-acc-gen/gps_with_4/ACDC - Hard As A Rock (2).gp4\n",
      "ACDC - Hard As A Rock.gp3\n",
      "Copied /Users/pedro/Desktop/DadaGP-v1.1/Z/Zyklon/Zyklon - Psyklon Aeon.gp4 to /Users/pedro/Desktop/DadaGP-v1.1/data-prep-acc-gen/gps_with_4/ACDC - Hard As A Rock.gp3.\n"
     ]
    },
    {
     "name": "stderr",
     "output_type": "stream",
     "text": [
      "  1%|          | 155/13413 [00:20<32:50,  6.73it/s]"
     ]
    }
   ],
   "source": [
    "import os\n",
    "import shutil\n",
    "from tqdm import tqdm\n",
    "\n",
    "# Directory to save filtered files\n",
    "output_directory = \"/Users/pedro/Desktop/DadaGP-v1.1/data-prep-acc-gen/gps_with_4/\"\n",
    "\n",
    "# Make sure the output directory exists\n",
    "os.makedirs(output_directory, exist_ok=True)\n",
    "\n",
    "# MIDI Channel numbers for the required instruments\n",
    "DISTORTED_GUITAR_CHANNELS = [29, 30]  # Distorted/Overdriven guitars\n",
    "BASS_CHANNEL = [32, 33, 34, 35, 36, 37, 38, 39]  # Finger/Picked Bass\n",
    "# No need to define drums channel as we'll use isPercussionTrack for this\n",
    "\n",
    "# Function to check if a track is a distorted guitar, bass, or drums\n",
    "def is_required_instrument(track):\n",
    "    instrument = track.channel.instrument\n",
    "    if track.isPercussionTrack:  # Check if it's a percussion (drum) track\n",
    "        return 'drums'\n",
    "    elif instrument in DISTORTED_GUITAR_CHANNELS:\n",
    "        return 'distorted_guitar'\n",
    "    elif instrument in BASS_CHANNEL:\n",
    "        return 'bass'\n",
    "    \n",
    "    return None\n",
    "\n",
    "for file in tqdm(gp_files_4plus):\n",
    "    # print(file)\n",
    "    try:\n",
    "        # Parse the Guitar Pro file\n",
    "        # print(gp_files_4plus[666])\n",
    "        gp_file = gp.parse(file)\n",
    "        _ = gp_file\n",
    "        # print(gp_file)\n",
    "        filename = file.split('/')[-1]\n",
    "        print(filename)\n",
    "\n",
    "        # Initialize lists to store required instruments\n",
    "        distorted_guitars = []\n",
    "        bass = None\n",
    "        drums = None\n",
    "\n",
    "        # Filter tracks based on MIDI channel and percussion check\n",
    "        for track in gp_file.tracks:\n",
    "            # print(track)\n",
    "            instrument_type = is_required_instrument(track)\n",
    "            if instrument_type == 'distorted_guitar' and len(distorted_guitars) < 2:\n",
    "                distorted_guitars.append(track)\n",
    "            elif instrument_type == 'bass' and bass is None:\n",
    "                bass = track\n",
    "            elif instrument_type == 'drums' and drums is None:\n",
    "                drums = track\n",
    "\n",
    "        # Check if we have the required tracks (2 distorted guitars, 1 bass, 1 drums)\n",
    "        if len(distorted_guitars) == 2 and bass and drums:\n",
    "            required_tracks = distorted_guitars + [bass, drums]\n",
    "            # print(required_tracks)\n",
    "\n",
    "            if len(gp_file.tracks) == 4:\n",
    "                # If the file already has exactly 4 tracks, just copy it\n",
    "                output_file = os.path.join(output_directory, filename)\n",
    "                shutil.copy(file, output_file)\n",
    "                print(\"Copied {} to {}.\".format(file_path, output_file))\n",
    "            else:\n",
    "                # _ was a copy of the current .gp file with all tracks\n",
    "                # we need to clear its tracks\n",
    "                _.tracks = []\n",
    "                for track in required_tracks:\n",
    "                    # print(track)\n",
    "                    _.tracks.append(track)\n",
    "                gp.write(_, output_directory + filename)\n",
    "                print(\"Created new file with 4 tracks: {}\".format(output_directory + filename))\n",
    "\n",
    "    except Exception as e:\n",
    "        print(\"Could not process {}: {}\".format(gp_file, e))\n",
    "\n"
   ]
  }
 ],
 "metadata": {
  "kernelspec": {
   "display_name": "dadaMe",
   "language": "python",
   "name": "python3"
  },
  "language_info": {
   "codemirror_mode": {
    "name": "ipython",
    "version": 3
   },
   "file_extension": ".py",
   "mimetype": "text/x-python",
   "name": "python",
   "nbconvert_exporter": "python",
   "pygments_lexer": "ipython3",
   "version": "3.5.4"
  }
 },
 "nbformat": 4,
 "nbformat_minor": 2
}
