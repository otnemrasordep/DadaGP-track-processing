{
 "cells": [
  {
   "cell_type": "code",
   "execution_count": 3,
   "metadata": {},
   "outputs": [],
   "source": [
    "dadagp_path = '/Users/pedro/Desktop/DadaGP-v1.1/'\n",
    "all_files_path = '/Users/pedro/Desktop/DadaGP-v1.1/_DadaGP_all_filenames.json'"
   ]
  },
  {
   "cell_type": "markdown",
   "metadata": {},
   "source": [
    "## Get all .gp files"
   ]
  },
  {
   "cell_type": "code",
   "execution_count": 12,
   "metadata": {},
   "outputs": [
    {
     "name": "stdout",
     "output_type": "stream",
     "text": [
      "26181\n"
     ]
    }
   ],
   "source": [
    "import json\n",
    "\n",
    "# Assuming 'all_files_path' contains the path to your JSON file\n",
    "with open(all_files_path, 'r') as f:\n",
    "    file_paths = json.load(f)  # Load JSON data into a Python list\n",
    "\n",
    "# Remove the \".tokens.txt\" part from each path\n",
    "all_gps_paths = [path.replace(\".tokens.txt\", \"\") for path in file_paths]\n",
    "\n",
    "# Print the number of files\n",
    "print(len(all_gps_paths))"
   ]
  },
  {
   "cell_type": "markdown",
   "metadata": {},
   "source": [
    "## Get all .gp files with => 4 tracks"
   ]
  },
  {
   "cell_type": "code",
   "execution_count": 25,
   "metadata": {},
   "outputs": [
    {
     "name": "stderr",
     "output_type": "stream",
     "text": [
      "100%|██████████| 26181/26181 [30:38<00:00, 14.24it/s]  \n"
     ]
    }
   ],
   "source": [
    "import guitarpro as gp\n",
    "import os\n",
    "from tqdm import tqdm\n",
    "\n",
    "gp_files_4plus = []\n",
    "\n",
    "# Iterate over the list of .gp file paths\n",
    "for gp_file_path in tqdm(all_gps_paths):\n",
    "    # Get full path\n",
    "    file_path = os.path.join(dadagp_path, gp_file_path)\n",
    "    # Parse them with pyguitarpro\n",
    "    try:\n",
    "        # Parse the Guitar Pro file\n",
    "        gp_file = gp.parse(file_path)\n",
    "\n",
    "        # Check the number of tracks\n",
    "        if len(gp_file.tracks) >= 4:\n",
    "            gp_files_4plus.append(file_path)\n",
    "            # print('File {} has {} tracks.'.format(file_path, len(gp_file.tracks)))\n",
    "\n",
    "    except Exception as e:\n",
    "        # Handle any parsing errors gracefully\n",
    "        print('Could not parse {}: {}'.format(file_path, e))\n",
    "    "
   ]
  },
  {
   "cell_type": "code",
   "execution_count": 33,
   "metadata": {},
   "outputs": [
    {
     "name": "stdout",
     "output_type": "stream",
     "text": [
      "There are 13413 files with 4 or more tracks, which is 51.23% of the dataset.\n"
     ]
    }
   ],
   "source": [
    "print('There are {} files with 4 or more tracks, which is {:.2f}% of the dataset.'.format(len(gp_files_4plus), 100*len(gp_files_4plus)/len(all_gps_paths)))"
   ]
  },
  {
   "cell_type": "code",
   "execution_count": 34,
   "metadata": {},
   "outputs": [],
   "source": [
    "# Save gp_files_4plus into a .json\n",
    "with open(\"gp_paths_4plustracks.json\", \"w\") as final:\n",
    "\tjson.dump(gp_files_4plus, final)"
   ]
  },
  {
   "cell_type": "markdown",
   "metadata": {},
   "source": [
    "## Remove extra tracks from .gp files"
   ]
  },
  {
   "cell_type": "code",
   "execution_count": 38,
   "metadata": {},
   "outputs": [
    {
     "name": "stdout",
     "output_type": "stream",
     "text": [
      "13413\n"
     ]
    }
   ],
   "source": [
    "# If a track only has 2 distorted guitars, bass, drums -> save the track\n",
    "# If a track has more than those instruments, check if it has 2 DGs, B, D -> save those in new file\n",
    "\n",
    "with open('gp_paths_4plustracks.json', 'r') as f:\n",
    "    gp_files_4plus = json.load(f)  # Load JSON data into a Python list"
   ]
  },
  {
   "cell_type": "code",
   "execution_count": 115,
   "metadata": {},
   "outputs": [
    {
     "data": {
      "text/plain": [
       "'/Users/pedro/Desktop/DadaGP-v1.1/A/Angra/Angra - Speed (3).gp3'"
      ]
     },
     "execution_count": 115,
     "metadata": {},
     "output_type": "execute_result"
    }
   ],
   "source": [
    "gp_files_4plus[666]"
   ]
  },
  {
   "cell_type": "code",
   "execution_count": 123,
   "metadata": {},
   "outputs": [
    {
     "name": "stdout",
     "output_type": "stream",
     "text": [
      "<guitarpro.models.Song object at 0x7fc6c180f898>\n"
     ]
    },
    {
     "ename": "AttributeError",
     "evalue": "'Song' object has no attribute 'Song'",
     "output_type": "error",
     "traceback": [
      "\u001b[0;31m---------------------------------------------------------------------------\u001b[0m",
      "\u001b[0;31mAttributeError\u001b[0m                            Traceback (most recent call last)",
      "\u001b[0;32m<ipython-input-123-753eb8466adf>\u001b[0m in \u001b[0;36m<module>\u001b[0;34m()\u001b[0m\n\u001b[1;32m      2\u001b[0m \u001b[0mprint\u001b[0m\u001b[0;34m(\u001b[0m\u001b[0mgp_file\u001b[0m\u001b[0;34m)\u001b[0m\u001b[0;34m\u001b[0m\u001b[0m\n\u001b[1;32m      3\u001b[0m \u001b[0;34m\u001b[0m\u001b[0m\n\u001b[0;32m----> 4\u001b[0;31m \u001b[0mgp_file\u001b[0m\u001b[0;34m.\u001b[0m\u001b[0mSong\u001b[0m\u001b[0;34m\u001b[0m\u001b[0m\n\u001b[0m",
      "\u001b[0;31mAttributeError\u001b[0m: 'Song' object has no attribute 'Song'"
     ]
    }
   ],
   "source": [
    "gp_file = gp.parse(gp_files_4plus[666])\n",
    "print(gp_file)\n",
    "\n",
    "gp_file"
   ]
  },
  {
   "cell_type": "code",
   "execution_count": 122,
   "metadata": {},
   "outputs": [
    {
     "ename": "AttributeError",
     "evalue": "'Track' object has no attribute 'clipboard'",
     "output_type": "error",
     "traceback": [
      "\u001b[0;31m---------------------------------------------------------------------------\u001b[0m",
      "\u001b[0;31mAttributeError\u001b[0m                            Traceback (most recent call last)",
      "\u001b[0;32m<ipython-input-122-885c91108c79>\u001b[0m in \u001b[0;36m<module>\u001b[0;34m()\u001b[0m\n\u001b[1;32m      2\u001b[0m \u001b[0;34m\u001b[0m\u001b[0m\n\u001b[1;32m      3\u001b[0m \u001b[0;32mfor\u001b[0m \u001b[0mt\u001b[0m \u001b[0;32min\u001b[0m \u001b[0mrequired_tracks\u001b[0m\u001b[0;34m:\u001b[0m\u001b[0;34m\u001b[0m\u001b[0m\n\u001b[0;32m----> 4\u001b[0;31m     \u001b[0ma\u001b[0m \u001b[0;34m=\u001b[0m \u001b[0mgp\u001b[0m\u001b[0;34m.\u001b[0m\u001b[0mwrite\u001b[0m\u001b[0;34m(\u001b[0m\u001b[0mt\u001b[0m\u001b[0;34m,\u001b[0m \u001b[0;34m'a.gp5'\u001b[0m\u001b[0;34m)\u001b[0m\u001b[0;34m\u001b[0m\u001b[0m\n\u001b[0m\u001b[1;32m      5\u001b[0m \u001b[0;34m\u001b[0m\u001b[0m\n\u001b[1;32m      6\u001b[0m \u001b[0ma\u001b[0m\u001b[0;34m\u001b[0m\u001b[0m\n",
      "\u001b[0;32m/Users/pedro/anaconda3/envs/dadaMe/lib/python3.5/site-packages/guitarpro/io.py\u001b[0m in \u001b[0;36mwrite\u001b[0;34m(song, stream, version, encoding)\u001b[0m\n\u001b[1;32m     76\u001b[0m \u001b[0;34m\u001b[0m\u001b[0m\n\u001b[1;32m     77\u001b[0m     \"\"\"\n\u001b[0;32m---> 78\u001b[0;31m     \u001b[0mgpfile\u001b[0m \u001b[0;34m=\u001b[0m \u001b[0m_open\u001b[0m\u001b[0;34m(\u001b[0m\u001b[0msong\u001b[0m\u001b[0;34m,\u001b[0m \u001b[0mstream\u001b[0m\u001b[0;34m,\u001b[0m \u001b[0;34m'wb'\u001b[0m\u001b[0;34m,\u001b[0m \u001b[0mversion\u001b[0m\u001b[0;34m=\u001b[0m\u001b[0mversion\u001b[0m\u001b[0;34m,\u001b[0m \u001b[0mencoding\u001b[0m\u001b[0;34m=\u001b[0m\u001b[0mencoding\u001b[0m\u001b[0;34m)\u001b[0m\u001b[0;34m\u001b[0m\u001b[0m\n\u001b[0m\u001b[1;32m     79\u001b[0m     \u001b[0mgpfile\u001b[0m\u001b[0;34m.\u001b[0m\u001b[0mwriteSong\u001b[0m\u001b[0;34m(\u001b[0m\u001b[0msong\u001b[0m\u001b[0;34m)\u001b[0m\u001b[0;34m\u001b[0m\u001b[0m\n\u001b[1;32m     80\u001b[0m     \u001b[0mgpfile\u001b[0m\u001b[0;34m.\u001b[0m\u001b[0mclose\u001b[0m\u001b[0;34m(\u001b[0m\u001b[0;34m)\u001b[0m\u001b[0;34m\u001b[0m\u001b[0m\n",
      "\u001b[0;32m/Users/pedro/anaconda3/envs/dadaMe/lib/python3.5/site-packages/guitarpro/io.py\u001b[0m in \u001b[0;36m_open\u001b[0;34m(song, stream, mode, version, encoding)\u001b[0m\n\u001b[1;32m     97\u001b[0m         \u001b[0mversionString\u001b[0m \u001b[0;34m=\u001b[0m \u001b[0mgpfilebase\u001b[0m\u001b[0;34m.\u001b[0m\u001b[0mreadVersion\u001b[0m\u001b[0;34m(\u001b[0m\u001b[0;34m)\u001b[0m\u001b[0;34m\u001b[0m\u001b[0m\n\u001b[1;32m     98\u001b[0m     \u001b[0;32melif\u001b[0m \u001b[0mmode\u001b[0m \u001b[0;34m==\u001b[0m \u001b[0;34m'wb'\u001b[0m\u001b[0;34m:\u001b[0m\u001b[0;34m\u001b[0m\u001b[0m\n\u001b[0;32m---> 99\u001b[0;31m         \u001b[0misClipboard\u001b[0m \u001b[0;34m=\u001b[0m \u001b[0msong\u001b[0m\u001b[0;34m.\u001b[0m\u001b[0mclipboard\u001b[0m \u001b[0;32mis\u001b[0m \u001b[0;32mnot\u001b[0m \u001b[0;32mNone\u001b[0m\u001b[0;34m\u001b[0m\u001b[0m\n\u001b[0m\u001b[1;32m    100\u001b[0m         \u001b[0;32mif\u001b[0m \u001b[0mversion\u001b[0m \u001b[0;32mis\u001b[0m \u001b[0;32mNone\u001b[0m\u001b[0;34m:\u001b[0m\u001b[0;34m\u001b[0m\u001b[0m\n\u001b[1;32m    101\u001b[0m             \u001b[0mversion\u001b[0m \u001b[0;34m=\u001b[0m \u001b[0msong\u001b[0m\u001b[0;34m.\u001b[0m\u001b[0mversionTuple\u001b[0m\u001b[0;34m\u001b[0m\u001b[0m\n",
      "\u001b[0;31mAttributeError\u001b[0m: 'Track' object has no attribute 'clipboard'"
     ]
    }
   ],
   "source": [
    "required_tracks \n",
    "\n",
    "for t in required_tracks:\n",
    "    a = gp.write(t, 'a.gp5')\n",
    "\n",
    "a"
   ]
  },
  {
   "cell_type": "code",
   "execution_count": 119,
   "metadata": {},
   "outputs": [
    {
     "name": "stdout",
     "output_type": "stream",
     "text": [
      "<guitarpro.models.Song object at 0x7fc6c157deb8>\n",
      "/Users/pedro/Desktop/DadaGP-v1.1/A/Angra/Angra - Speed (3).gp3\n",
      "[<guitarpro.models.Track object at 0x7fc6c1838f60>, <guitarpro.models.Track object at 0x7fc6c183a240>]\n",
      "<guitarpro.models.Track object at 0x7fc6c183a4e0>\n",
      "<guitarpro.models.Track object at 0x7fc6c183af60>\n",
      "[<guitarpro.models.Track object at 0x7fc6c1838f60>, <guitarpro.models.Track object at 0x7fc6c183a240>, <guitarpro.models.Track object at 0x7fc6c183a4e0>, <guitarpro.models.Track object at 0x7fc6c183af60>]\n",
      "HERE-NOT\n",
      "Could not process /Users/pedro/Desktop/DadaGP-v1.1/Z/Zyklon/Zyklon - Psyklon Aeon.gp4: 'list' object has no attribute 'Song'\n"
     ]
    }
   ],
   "source": [
    "import os\n",
    "import shutil\n",
    "\n",
    "# Directory to save filtered files\n",
    "output_directory = \"/Users/pedro/Desktop/DadaGP-v1.1/data-prep-acc-gen/gps_with_4\"\n",
    "\n",
    "# Make sure the output directory exists\n",
    "os.makedirs(output_directory, exist_ok=True)\n",
    "\n",
    "# MIDI Channel numbers for the required instruments\n",
    "DISTORTED_GUITAR_CHANNELS = [30, 31]  # Distorted/Overdriven guitars\n",
    "BASS_CHANNEL = [33,34]  # Finger/Picked Bass\n",
    "# No need to define drums channel as we'll use isPercussionTrack for this\n",
    "\n",
    "# Function to check if a track is a distorted guitar, bass, or drums\n",
    "def is_required_instrument(track):\n",
    "    instrument = track.channel.instrument\n",
    "    if track.isPercussionTrack:  # Check if it's a percussion (drum) track\n",
    "        return 'drums'\n",
    "    elif instrument in DISTORTED_GUITAR_CHANNELS:\n",
    "        return 'distorted_guitar'\n",
    "    elif instrument in BASS_CHANNEL:\n",
    "        return 'bass'\n",
    "    \n",
    "    return None\n",
    "\n",
    "\n",
    "try:\n",
    "    # Parse the Guitar Pro file\n",
    "    # print(gp_files_4plus[666])\n",
    "    gp_file = gp.parse(gp_files_4plus[666])\n",
    "    print(gp_file)\n",
    "    gp_filename = gp_files_4plus[666]\n",
    "    print(gp_filename)\n",
    "\n",
    "    # Initialize lists to store required instruments\n",
    "    distorted_guitars = []\n",
    "    bass = None\n",
    "    drums = None\n",
    "\n",
    "    # Filter tracks based on MIDI channel and percussion check\n",
    "    for track in gp_file.tracks:\n",
    "        # print(track)\n",
    "        instrument_type = is_required_instrument(track)\n",
    "        if instrument_type == 'distorted_guitar':\n",
    "            distorted_guitars.append(track)\n",
    "        elif instrument_type == 'bass' and bass is None:\n",
    "            bass = track\n",
    "        elif instrument_type == 'drums' and drums is None:\n",
    "            drums = track\n",
    "\n",
    "    print(distorted_guitars)\n",
    "    print(bass)\n",
    "    print(drums)\n",
    "\n",
    "    # Check if we have the required tracks (2 distorted guitars, 1 bass, 1 drums)\n",
    "    if len(distorted_guitars) == 2 and bass and drums:\n",
    "        required_tracks = distorted_guitars + [bass, drums]\n",
    "        print(required_tracks)\n",
    "\n",
    "        if len(gp_file.tracks) == 4:\n",
    "            print('HERE!')\n",
    "            # If the file already has exactly 4 tracks, just copy it\n",
    "            output_file = os.path.join(output_directory, os.path.basename(file_path))\n",
    "            shutil.copy(file_path, output_file)\n",
    "            print(\"Copied {} to {}.\".format(file_path, output_file))\n",
    "        else:\n",
    "            print('HERE-NOT')\n",
    "            # If there are more than 4 tracks, create a new file with the filtered tracks\n",
    "            new_gp_file_tracks = required_tracks  # Set the filtered tracks\n",
    "            new_gp_file = gp.write(new_gp_file_tracks, 'a.gp5')\n",
    "\n",
    "            # Save the new file with '_4tracks' appended\n",
    "            # file_name, file_extension = os.path.splitext(os.path.basename(file_path))\n",
    "            # new_file_path = os.path.join(output_directory, \"{}_4tracks{}\".format(file_name, file_extension))\n",
    "            # gp.write(new_gp_file, new_file_path)\n",
    "\n",
    "            print(\"Created new file with 4 tracks: {}\".format(new_file_path))\n",
    "\n",
    "except Exception as e:\n",
    "    print(\"Could not process {}: {}\".format(file_path, e))\n",
    "\n"
   ]
  },
  {
   "cell_type": "code",
   "execution_count": 86,
   "metadata": {},
   "outputs": [
    {
     "name": "stdout",
     "output_type": "stream",
     "text": [
      "False\n",
      "33\n"
     ]
    }
   ],
   "source": [
    "print(gp_file.tracks[0].isPercussionTrack)\n",
    "print(gp_file.tracks[2].channel.instrument)"
   ]
  },
  {
   "cell_type": "code",
   "execution_count": 91,
   "metadata": {},
   "outputs": [
    {
     "data": {
      "text/plain": [
       "'drums'"
      ]
     },
     "execution_count": 91,
     "metadata": {},
     "output_type": "execute_result"
    }
   ],
   "source": [
    "gp_file.tracks[2].channel\n",
    "\n",
    "def is_required_instrument(track):\n",
    "    instrument = track.channel.instrument\n",
    "    if track.isPercussionTrack:  # Check if it's a percussion (drum) track\n",
    "        return 'drums'\n",
    "    elif instrument in DISTORTED_GUITAR_CHANNELS:\n",
    "        return 'distorted_guitar'\n",
    "    elif instrument in BASS_CHANNEL:\n",
    "        return 'bass'\n",
    "    \n",
    "    return None\n",
    "\n",
    "is_required_instrument(gp_file.tracks[6])\n"
   ]
  },
  {
   "cell_type": "code",
   "execution_count": null,
   "metadata": {},
   "outputs": [],
   "source": []
  }
 ],
 "metadata": {
  "kernelspec": {
   "display_name": "dadaMe",
   "language": "python",
   "name": "python3"
  },
  "language_info": {
   "codemirror_mode": {
    "name": "ipython",
    "version": 3
   },
   "file_extension": ".py",
   "mimetype": "text/x-python",
   "name": "python",
   "nbconvert_exporter": "python",
   "pygments_lexer": "ipython3",
   "version": "3.5.4"
  }
 },
 "nbformat": 4,
 "nbformat_minor": 2
}
