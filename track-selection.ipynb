{
 "cells": [
  {
   "cell_type": "code",
   "execution_count": 3,
   "metadata": {},
   "outputs": [],
   "source": [
    "dadagp_path = '/Users/pedro/Desktop/DadaGP-v1.1/'\n",
    "all_files_path = '/Users/pedro/Desktop/DadaGP-v1.1/_DadaGP_all_filenames.json'"
   ]
  },
  {
   "cell_type": "markdown",
   "metadata": {},
   "source": [
    "## Get all .gp files"
   ]
  },
  {
   "cell_type": "code",
   "execution_count": 12,
   "metadata": {},
   "outputs": [
    {
     "name": "stdout",
     "output_type": "stream",
     "text": [
      "26181\n"
     ]
    }
   ],
   "source": [
    "import json\n",
    "\n",
    "# Assuming 'all_files_path' contains the path to your JSON file\n",
    "with open(all_files_path, 'r') as f:\n",
    "    file_paths = json.load(f)  # Load JSON data into a Python list\n",
    "\n",
    "# Remove the \".tokens.txt\" part from each path\n",
    "all_gps_paths = [path.replace(\".tokens.txt\", \"\") for path in file_paths]\n",
    "\n",
    "# Print the number of files\n",
    "print(len(all_gps_paths))"
   ]
  },
  {
   "cell_type": "markdown",
   "metadata": {},
   "source": [
    "## Get all .gp files with => 4 tracks"
   ]
  },
  {
   "cell_type": "code",
   "execution_count": 25,
   "metadata": {},
   "outputs": [
    {
     "name": "stderr",
     "output_type": "stream",
     "text": [
      "100%|██████████| 26181/26181 [30:38<00:00, 14.24it/s]  \n"
     ]
    }
   ],
   "source": [
    "import guitarpro as gp\n",
    "import os\n",
    "from tqdm import tqdm\n",
    "\n",
    "gp_files_4plus = []\n",
    "\n",
    "# Iterate over the list of .gp file paths\n",
    "for gp_file_path in tqdm(all_gps_paths):\n",
    "    # Get full path\n",
    "    file_path = os.path.join(dadagp_path, gp_file_path)\n",
    "    # Parse them with pyguitarpro\n",
    "    try:\n",
    "        # Parse the Guitar Pro file\n",
    "        gp_file = gp.parse(file_path)\n",
    "\n",
    "        # Check the number of tracks\n",
    "        if len(gp_file.tracks) >= 4:\n",
    "            gp_files_4plus.append(file_path)\n",
    "            # print('File {} has {} tracks.'.format(file_path, len(gp_file.tracks)))\n",
    "\n",
    "    except Exception as e:\n",
    "        # Handle any parsing errors gracefully\n",
    "        print('Could not parse {}: {}'.format(file_path, e))\n",
    "    "
   ]
  },
  {
   "cell_type": "code",
   "execution_count": 33,
   "metadata": {},
   "outputs": [
    {
     "name": "stdout",
     "output_type": "stream",
     "text": [
      "There are 13413 files with 4 or more tracks, which is 51.23% of the dataset.\n"
     ]
    }
   ],
   "source": [
    "print('There are {} files with 4 or more tracks, which is {:.2f}% of the dataset.'.format(len(gp_files_4plus), 100*len(gp_files_4plus)/len(all_gps_paths)))"
   ]
  },
  {
   "cell_type": "code",
   "execution_count": 34,
   "metadata": {},
   "outputs": [],
   "source": [
    "# Save gp_files_4plus into a .json\n",
    "with open(\"gp_paths_4plustracks.json\", \"w\") as final:\n",
    "\tjson.dump(gp_files_4plus, final)"
   ]
  },
  {
   "cell_type": "markdown",
   "metadata": {},
   "source": [
    "## Remove extra tracks from .gp files"
   ]
  },
  {
   "cell_type": "code",
   "execution_count": 38,
   "metadata": {},
   "outputs": [
    {
     "name": "stdout",
     "output_type": "stream",
     "text": [
      "13413\n"
     ]
    }
   ],
   "source": [
    "# If a track only has 2 distorted guitars, bass, drums -> save the track\n",
    "# If a track has more than those instruments, check if it has 2 DGs, B, D -> save those in new file\n",
    "\n",
    "with open('gp_paths_4plustracks.json', 'r') as f:\n",
    "    gp_files_4plus = json.load(f)  # Load JSON data into a Python list"
   ]
  },
  {
   "cell_type": "code",
   "execution_count": 220,
   "metadata": {},
   "outputs": [
    {
     "name": "stderr",
     "output_type": "stream",
     "text": [
      "  0%|          | 0/13413 [00:00<?, ?it/s]"
     ]
    },
    {
     "name": "stderr",
     "output_type": "stream",
     "text": [
      "100%|██████████| 13413/13413 [35:32<00:00,  6.29it/s] \n"
     ]
    }
   ],
   "source": [
    "import os\n",
    "import shutil\n",
    "from tqdm import tqdm\n",
    "\n",
    "# Directory to save filtered files\n",
    "output_directory = \"/Users/pedro/Desktop/DadaGP-v1.1/data-prep-acc-gen/gps_with_4/\"\n",
    "\n",
    "# Make sure the output directory exists\n",
    "os.makedirs(output_directory, exist_ok=True)\n",
    "\n",
    "# MIDI Channel numbers for the required instruments\n",
    "DISTORTED_GUITAR_CHANNELS = [29, 30]  # Distorted/Overdriven guitars\n",
    "BASS_CHANNEL = [32, 33, 34, 35, 36, 37, 38, 39]  # Finger/Picked Bass\n",
    "# No need to define drums channel as we'll use isPercussionTrack for this\n",
    "\n",
    "# Function to check if a track is a distorted guitar, bass, or drums\n",
    "def is_required_instrument(track):\n",
    "    instrument = track.channel.instrument\n",
    "    if track.isPercussionTrack:  # Check if it's a percussion (drum) track\n",
    "        return 'drums'\n",
    "    elif instrument in DISTORTED_GUITAR_CHANNELS:\n",
    "        return 'distorted_guitar'\n",
    "    elif instrument in BASS_CHANNEL:\n",
    "        return 'bass'\n",
    "    \n",
    "    return None\n",
    "\n",
    "for file in tqdm(gp_files_4plus):\n",
    "    try:\n",
    "        # Parse the Guitar Pro file\n",
    "        gp_file = gp.parse(file)\n",
    "        _ = gp_file\n",
    "        # print(gp_file)\n",
    "        filename = file.split('/')[-1]\n",
    "        # print(filename)\n",
    "\n",
    "        # Initialize lists to store required instruments\n",
    "        distorted_guitars = []\n",
    "        bass = None\n",
    "        drums = None\n",
    "\n",
    "        # Filter tracks based on MIDI channel and percussion check\n",
    "        for track in gp_file.tracks:\n",
    "            # print(track)\n",
    "            instrument_type = is_required_instrument(track)\n",
    "            if instrument_type == 'distorted_guitar' and len(distorted_guitars) < 2:\n",
    "                distorted_guitars.append(track)\n",
    "            elif instrument_type == 'bass' and bass is None:\n",
    "                bass = track\n",
    "            elif instrument_type == 'drums' and drums is None:\n",
    "                drums = track\n",
    "\n",
    "        # Check if we have the required tracks (2 distorted guitars, 1 bass, 1 drums)\n",
    "        if len(distorted_guitars) == 2 and bass and drums:\n",
    "            required_tracks = distorted_guitars + [bass, drums]\n",
    "            # print(required_tracks)\n",
    "\n",
    "            if len(gp_file.tracks) == 4:\n",
    "                # If the file already has exactly 4 tracks, just copy it\n",
    "                output_file = os.path.join(output_directory, filename)\n",
    "                shutil.copy(file, output_file)\n",
    "                # print(\"Copied {} to {}.\".format(filename, output_file))\n",
    "            else:\n",
    "                # _ was a copy of the current .gp file with all tracks\n",
    "                # we need to clear its tracks\n",
    "                _.tracks = []\n",
    "                for track in required_tracks:\n",
    "                    # print(track)\n",
    "                    _.tracks.append(track)\n",
    "                gp.write(_, output_directory + filename)\n",
    "                # print(\"Created new file with 4 tracks: {}\".format(output_directory + filename))\n",
    "\n",
    "    except Exception as e:\n",
    "        print(\"Could not process {}: {}\".format(gp_file, e))\n",
    "\n"
   ]
  },
  {
   "cell_type": "markdown",
   "metadata": {},
   "source": [
    "## Assert all files have four correct tracks"
   ]
  },
  {
   "cell_type": "code",
   "execution_count": 221,
   "metadata": {},
   "outputs": [
    {
     "name": "stdout",
     "output_type": "stream",
     "text": [
      "There are 7725 files with 4 tracks, which is 29.51% of the dataset.\n"
     ]
    }
   ],
   "source": [
    "import os\n",
    "\n",
    "gps_path = '/Users/pedro/Desktop/DadaGP-v1.1/data-prep-acc-gen/gps_with_4'\n",
    "files_4tracks = []\n",
    "for file in os.listdir(gps_path):\n",
    "    files_4tracks.append(file)\n",
    "\n",
    "print('There are {} files with 4 tracks, which is {:.2f}% of the dataset.'.format(len(files_4tracks), 100*len(files_4tracks)/len(all_gps_paths)))"
   ]
  },
  {
   "cell_type": "code",
   "execution_count": 228,
   "metadata": {},
   "outputs": [
    {
     "name": "stdout",
     "output_type": "stream",
     "text": [
      "True\n"
     ]
    }
   ],
   "source": [
    "x = ['dg', 'b', 'dg', 'd']\n",
    "\n",
    "print(set(x) == set(['dg', 'dg', 'b', 'd']))"
   ]
  },
  {
   "cell_type": "code",
   "execution_count": null,
   "metadata": {},
   "outputs": [],
   "source": [
    "import os\n",
    "\n",
    "gps_path = '/Users/pedro/Desktop/DadaGP-v1.1/data-prep-acc-gen/gps_with_4/'\n",
    "\n",
    "DISTORTED_GUITAR_CHANNELS = [29, 30]  # Distorted/Overdriven guitars\n",
    "BASS_CHANNEL = [32, 33, 34, 35, 36, 37, 38, 39]  # Finger/Picked Bass\n",
    "\n",
    "corrupted_list = []\n",
    "\n",
    "for file in tqdm(os.listdir(gps_path)):\n",
    "    try:\n",
    "        # print(file)\n",
    "        track_list = []\n",
    "        gp_ = gp.parse(gps_path + file)\n",
    "        assert len(gp_.tracks) == 4\n",
    "        for track in gp_.tracks:\n",
    "            if track.channel.instrument in DISTORTED_GUITAR_CHANNELS:\n",
    "                track_list.append('dg')\n",
    "            elif track.isPercussionTrack:\n",
    "                track_list.append('d')\n",
    "            elif track.channel.instrument in BASS_CHANNEL:\n",
    "                track_list.append('b')\n",
    "\n",
    "        assert set(track_list) == set(['dg', 'dg', 'b', 'd'])\n",
    "\n",
    "    except Exception as e:\n",
    "        print(\"Could not process {}: {}\".format(file, e))\n",
    "        corrupted_list.append(file)\n",
    "\n"
   ]
  },
  {
   "cell_type": "code",
   "execution_count": 238,
   "metadata": {},
   "outputs": [
    {
     "data": {
      "text/plain": [
       "64"
      ]
     },
     "execution_count": 238,
     "metadata": {},
     "output_type": "execute_result"
    }
   ],
   "source": [
    "len(corrupted_list)"
   ]
  },
  {
   "cell_type": "markdown",
   "metadata": {},
   "source": [
    "## Removing corrupted entries"
   ]
  },
  {
   "cell_type": "code",
   "execution_count": 239,
   "metadata": {},
   "outputs": [
    {
     "name": "stdout",
     "output_type": "stream",
     "text": [
      "Before: 7725 files\n",
      "Removed: Black Sabbath - Paranoid (5).gp3\n",
      "Removed: Disturbed - Conflict (2).gp3\n",
      "Removed: All That Remains - Regret Not.gp4\n",
      "Removed: Whitesnake - Fool For Your Loving.gp3\n",
      "Removed: Megadeth - Promises (3).gp4\n",
      "Removed: System Of A Down - Chop Suey!.gp4\n",
      "Removed: Osbourne, Ozzy - I Don_'t Know (2).gp3\n",
      "Removed: Ruiz, Jacques - Star Life.gp3\n",
      "Removed: Scorpions - Rock You Like A Hurricane (2).gp3\n",
      "Removed: Scorpions - Rock You Like A Hurricane (3).gp3\n",
      "Removed: Led Zeppelin - The Wanton Song.gp3\n",
      "Removed: Aerosmith - Livin' on the Edge.gp3\n",
      "Removed: H_tk_znapi Csal_d_sok - Target.gp4\n",
      "Removed: Hermetica - Olvidalo y volvera por mas.gp3\n",
      "Removed: Springsteen, Bruce - Further On (Up the Road).gp3\n",
      "Removed: ALMAFUERTE - TC.gp3\n",
      "Removed: Nahui Ollin - Solo Por Tu Amor.gp4\n",
      "Removed: Audioslave - Cochise (2).gp3\n",
      "Removed: Scorpions - Rock You Like a Hurricane.gp3\n",
      "Removed: Metallica - Whiplash (2).gp3\n",
      "Removed: Metallica - The Outlaw Torn.gp3\n",
      "Removed: Pixies - Velouria.gp3\n",
      "Removed: Guns N' Roses - Sweet Child O_'Mine.gp3\n",
      "Removed: Garbage - I Think I'm Paranoid.gp3\n",
      "Removed: Muse - Plug in baby.gp3\n",
      "Removed: Iron Maiden - Hallowed Be Thy Name.gp3\n",
      "Removed: Metallica - Jump In The Fire.gp3\n",
      "Removed: Mor Ve Otesi - Cambaz.gp3\n",
      "Removed: Guns N' Roses - Knockin_' on Heaven_'s Door (3).gp3\n",
      "Removed: Nada Surf - Icebox.gp3\n",
      "Removed: Metallica - The Outlaw Torn (2).gp3\n",
      "Removed: Blur - Coffee & TV.gp3\n",
      "Removed: Pink Floyd - What do you want from me.gp3\n",
      "Removed: Pixies - Cecilia Ann.gp3\n",
      "Removed: Fredheim, Rolf - The Scarecrow.gp3\n",
      "Removed: Guns N' Roses - Mr. Brownstone.gp3\n",
      "Removed: Funeral For A Friend - The End Of Nothing.gp4\n",
      "Removed: Dream Theater - Lie (3).gp3\n",
      "Removed: Disturbed - Meaning Of Life.gp4\n",
      "Removed: Nahui Ollin - Contigo.gp4\n",
      "Removed: Mudvayne - Not Falling (3).gp3\n",
      "Removed: Fear Factory - Body Hammer.gp3\n",
      "Removed: ALMAFUERTE - En Este Viaje.gp3\n",
      "Removed: Twisted Machine - Nobody Give You Face.gp3\n",
      "Removed: Jym - SnakeByte.gp3\n",
      "Removed: Foo Fighters - Learn To Fly.gp3\n",
      "Removed: Yoon Do-hyun Band - back ha sa tang.gp3\n",
      "Removed: Rhapsody - Triumph For My Magic Steel.gp3\n",
      "Removed: ACDC - You Shook Me All Night Long (2).gp3\n",
      "Removed: Flower - Please.gp3\n",
      "Removed: Marilyn Manson - The Love Song (2).gp3\n",
      "Removed: Guns N' Roses - Chinese Democracy (Live In Rio 2001).gp3\n",
      "Removed: H_tk_znapi Csal_d_sok - Meztelen_l R_szegen.gp4\n",
      "Removed: Slipknot - Wait And Bleed (8).gp3\n",
      "Removed: Pantera - Fucking Hostile (2).gp3\n",
      "Removed: No Doubt - Hella Good.gp3\n",
      "Removed: Led Zeppelin - Houses of the holy.gp3\n",
      "Removed: Creed - Higher (2).gp3\n",
      "Removed: System Of A Down - Chop Suey (7).gp3\n",
      "Removed: ACDC - Back In Black (4).gp3\n",
      "Removed: Vai, Steve - Tender Surrender (2).gp3\n",
      "Removed: Metallica - Outlaw Torn (Outro).gp3\n",
      "Removed: Guns N' Roses - Bad Apples.gp3\n",
      "Removed: Three Days Grace - Home (2).gp4\n",
      "After: 7661 files.\n"
     ]
    }
   ],
   "source": [
    "import os\n",
    "\n",
    "# Define the path to the folder containing the files\n",
    "folder_path = \"/Users/pedro/Desktop/DadaGP-v1.1/data-prep-acc-gen/gps_with_4\"\n",
    "\n",
    "print('Before: {} files'.format(len(files_4tracks)))\n",
    "\n",
    "# Iterate through the list and remove the files\n",
    "for file_name in corrupted_list:\n",
    "    file_path = os.path.join(folder_path, file_name)\n",
    "    if os.path.exists(file_path):\n",
    "        os.remove(file_path)\n",
    "        print(\"Removed: {}\".format(file_name))\n",
    "    else:\n",
    "        print(\"File not found: {}\".format(file_name))\n",
    "\n",
    "files_4tracks_clean = []\n",
    "for file in os.listdir(gps_path):\n",
    "    files_4tracks_clean.append(file)\n",
    "\n",
    "print('After: {} files.'.format(len(files_4tracks_clean)))"
   ]
  }
 ],
 "metadata": {
  "kernelspec": {
   "display_name": "dadaMe",
   "language": "python",
   "name": "python3"
  },
  "language_info": {
   "codemirror_mode": {
    "name": "ipython",
    "version": 3
   },
   "file_extension": ".py",
   "mimetype": "text/x-python",
   "name": "python",
   "nbconvert_exporter": "python",
   "pygments_lexer": "ipython3",
   "version": "3.5.4"
  }
 },
 "nbformat": 4,
 "nbformat_minor": 2
}
