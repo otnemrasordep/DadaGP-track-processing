{
 "cells": [
  {
   "cell_type": "code",
   "execution_count": 4,
   "metadata": {},
   "outputs": [
    {
     "data": {
      "text/plain": [
       "7661"
      ]
     },
     "execution_count": 4,
     "metadata": {},
     "output_type": "execute_result"
    }
   ],
   "source": [
    "import os\n",
    "\n",
    "gps_path = \"/Users/pedro/Desktop/DadaGP-v1.1/data-prep-acc-gen/gps_with_4/\"\n",
    "file_list = []\n",
    "for file in os.listdir(gps_path):\n",
    "    file_list.append(gps_path + file)\n",
    "\n",
    "len(file_list)"
   ]
  },
  {
   "cell_type": "markdown",
   "metadata": {},
   "source": [
    "## Save drums into new .gp file and save the rest into a new .gp file"
   ]
  },
  {
   "cell_type": "code",
   "execution_count": 11,
   "metadata": {},
   "outputs": [
    {
     "name": "stdout",
     "output_type": "stream",
     "text": [
      "drums\n"
     ]
    }
   ],
   "source": [
    "import guitarpro as gp\n",
    "\n",
    "output_directory = \"/Users/pedro/Desktop/DadaGP-v1.1/data-prep-acc-gen/gps_drums/\"\n",
    "\n",
    "# Parse the Guitar Pro file\n",
    "gp_file = gp.parse(file_list[666])\n",
    "_ = gp_file\n",
    "# print(gp_file)\n",
    "filename = file.split('/')[-1]\n",
    "\n",
    "# Filter tracks based on MIDI channel and percussion check\n",
    "for track in gp_file.tracks:\n",
    "    # print(track)\n",
    "    _.tracks = []\n",
    "    if track.isPercussionTrack:\n",
    "        print('drums')\n",
    "        _.tracks.append(track)\n",
    "        gp.write(_, output_directory + filename)"
   ]
  },
  {
   "cell_type": "code",
   "execution_count": 23,
   "metadata": {},
   "outputs": [
    {
     "name": "stderr",
     "output_type": "stream",
     "text": [
      " 10%|█         | 1/10 [00:00<00:01,  5.27it/s]"
     ]
    },
    {
     "name": "stdout",
     "output_type": "stream",
     "text": [
      "Could not process <guitarpro.models.Song object at 0x7f8dc8492da0>: pop index out of range\n",
      "Could not process <guitarpro.models.Song object at 0x7f8dc8492f98>: pop index out of range\n"
     ]
    },
    {
     "name": "stderr",
     "output_type": "stream",
     "text": [
      " 40%|████      | 4/10 [00:00<00:00,  6.65it/s]"
     ]
    },
    {
     "name": "stdout",
     "output_type": "stream",
     "text": [
      "Could not process <guitarpro.models.Song object at 0x7f8dc84929b0>: pop index out of range\n",
      "Could not process <guitarpro.models.Song object at 0x7f8dd85a29b0>: pop index out of range\n"
     ]
    },
    {
     "name": "stderr",
     "output_type": "stream",
     "text": [
      " 70%|███████   | 7/10 [00:00<00:00,  8.85it/s]"
     ]
    },
    {
     "name": "stdout",
     "output_type": "stream",
     "text": [
      "Could not process <guitarpro.models.Song object at 0x7f8dd8531748>: pop index out of range\n",
      "Could not process <guitarpro.models.Song object at 0x7f8e08748080>: pop index out of range\n",
      "Could not process <guitarpro.models.Song object at 0x7f8de85e2128>: pop index out of range\n"
     ]
    },
    {
     "name": "stderr",
     "output_type": "stream",
     "text": [
      "100%|██████████| 10/10 [00:01<00:00,  9.14it/s]"
     ]
    },
    {
     "name": "stdout",
     "output_type": "stream",
     "text": [
      "Could not process <guitarpro.models.Song object at 0x7f8de85e9198>: pop index out of range\n",
      "Could not process <guitarpro.models.Song object at 0x7f8e0873f9b0>: pop index out of range\n",
      "Could not process <guitarpro.models.Song object at 0x7f8de85e9160>: pop index out of range\n"
     ]
    },
    {
     "name": "stderr",
     "output_type": "stream",
     "text": [
      "\n"
     ]
    }
   ],
   "source": [
    "import os\n",
    "import shutil\n",
    "from tqdm import tqdm\n",
    "import guitarpro as gp\n",
    "\n",
    "# Directory to save filtered files\n",
    "output_directory_drums = \"/Users/pedro/Desktop/DadaGP-v1.1/data-prep-acc-gen/gps_drums/\"\n",
    "output_directory_others = '/Users/pedro/Desktop/DadaGP-v1.1/data-prep-acc-gen/gps_dg-dg-b/'\n",
    "\n",
    "# Make sure the output directory exists\n",
    "os.makedirs(output_directory, exist_ok=True)\n",
    "\n",
    "for file in tqdm(file_list[0:10]):\n",
    "    try:\n",
    "        # Parse the Guitar Pro file\n",
    "        gp_file = gp.parse(file)\n",
    "        drums = gp_file\n",
    "        others = gp_file\n",
    "        # print(gp_file)\n",
    "        filename = file.split('/')[-1]\n",
    "\n",
    "        # Filter tracks based on MIDI channel and percussion check\n",
    " \n",
    "        for i, track in enumerate(gp_file.tracks):\n",
    "            # print(track)\n",
    "            if track.isPercussionTrack:\n",
    "                drums.tracks = []\n",
    "                drums.tracks.append(track)\n",
    "                others.tracks.pop(i)\n",
    "                gp.write(drums, output_directory_drums + filename)\n",
    "                gp.write(others, output_directory_others + filename)\n",
    "\n",
    "    except Exception as e:\n",
    "        print(\"Could not process {}: {}\".format(gp_file, e))\n",
    "\n"
   ]
  },
  {
   "cell_type": "code",
   "execution_count": 22,
   "metadata": {},
   "outputs": [
    {
     "data": {
      "text/plain": [
       "[<guitarpro.models.Track at 0x7f8e084810b8>]"
      ]
     },
     "execution_count": 22,
     "metadata": {},
     "output_type": "execute_result"
    }
   ],
   "source": [
    "others.tracks"
   ]
  },
  {
   "cell_type": "code",
   "execution_count": null,
   "metadata": {},
   "outputs": [],
   "source": []
  }
 ],
 "metadata": {
  "kernelspec": {
   "display_name": "dadaMe",
   "language": "python",
   "name": "python3"
  },
  "language_info": {
   "codemirror_mode": {
    "name": "ipython",
    "version": 3
   },
   "file_extension": ".py",
   "mimetype": "text/x-python",
   "name": "python",
   "nbconvert_exporter": "python",
   "pygments_lexer": "ipython3",
   "version": "3.5.4"
  }
 },
 "nbformat": 4,
 "nbformat_minor": 2
}
