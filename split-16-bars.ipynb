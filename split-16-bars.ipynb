{
 "cells": [
  {
   "cell_type": "markdown",
   "metadata": {},
   "source": [
    "## Splitting whole files into 16 bar chunks"
   ]
  },
  {
   "cell_type": "code",
   "execution_count": 10,
   "metadata": {},
   "outputs": [],
   "source": [
    "import os \n",
    "\n",
    "path_output = '/Users/pedro/Desktop/DadaGP-v1.1/data-prep-acc-gen/txts_drums/'\n",
    "path_input = '/Users/pedro/Desktop/DadaGP-v1.1/data-prep-acc-gen/txts_dg-dg-b/'"
   ]
  },
  {
   "cell_type": "markdown",
   "metadata": {},
   "source": [
    "## Assess there is an equal number of measures in each file"
   ]
  },
  {
   "cell_type": "code",
   "execution_count": 11,
   "metadata": {},
   "outputs": [],
   "source": [
    "output = []\n",
    "input = []\n",
    "\n",
    "for file in os.listdir(path_output):\n",
    "    output.append(os.path.join(path_output, file))\n",
    "\n",
    "for file in os.listdir(path_input):\n",
    "    input.append(os.path.join(path_input, file))"
   ]
  },
  {
   "cell_type": "code",
   "execution_count": 12,
   "metadata": {},
   "outputs": [],
   "source": [
    "assert len(input) == len(output)"
   ]
  },
  {
   "cell_type": "code",
   "execution_count": 5,
   "metadata": {},
   "outputs": [],
   "source": [
    "# Function to count occurrences of a string in a file\n",
    "def count_occurrences_in_file(file_path, search_string):\n",
    "    count = 0\n",
    "    try:\n",
    "        with open(file_path, 'r') as file:\n",
    "            for line in file:\n",
    "                count += line.count(search_string)\n",
    "    except Exception as e:\n",
    "        print(\"Could not process file {}: {}\".format(file_path, e))\n",
    "    return count"
   ]
  },
  {
   "cell_type": "code",
   "execution_count": 19,
   "metadata": {},
   "outputs": [
    {
     "name": "stdout",
     "output_type": "stream",
     "text": [
      "/Users/pedro/Desktop/DadaGP-v1.1/data-prep-acc-gen/txts_dg-dg-b/Obtest - Auka Seniems Dievams.gp4.tokens.txt\n",
      "\n",
      "\n",
      "/Users/pedro/Desktop/DadaGP-v1.1/data-prep-acc-gen/txts_drums/Obtest - Auka Seniems Dievams.gp4.tokens.txt\n"
     ]
    }
   ],
   "source": [
    "print(input[100])\n",
    "print('\\n')\n",
    "print(output[100])"
   ]
  },
  {
   "cell_type": "code",
   "execution_count": 22,
   "metadata": {},
   "outputs": [],
   "source": [
    "search_string = 'new_measure'\n",
    "exceptions = []\n",
    "\n",
    "for file in input:\n",
    "    if count_occurrences_in_file(file, search_string) == count_occurrences_in_file(os.path.join(path_output, file.split('/')[-1]), search_string):\n",
    "        continue\n",
    "    else:\n",
    "        print('Here is an exception: {}', file)\n",
    "        exceptions.append(file)"
   ]
  },
  {
   "cell_type": "markdown",
   "metadata": {},
   "source": [
    "All the tracks seem to have the same number of bars, as expected."
   ]
  }
 ],
 "metadata": {
  "kernelspec": {
   "display_name": "dadaMe",
   "language": "python",
   "name": "python3"
  },
  "language_info": {
   "codemirror_mode": {
    "name": "ipython",
    "version": 3
   },
   "file_extension": ".py",
   "mimetype": "text/x-python",
   "name": "python",
   "nbconvert_exporter": "python",
   "pygments_lexer": "ipython3",
   "version": "3.5.4"
  }
 },
 "nbformat": 4,
 "nbformat_minor": 2
}
