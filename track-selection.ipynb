{
 "cells": [
  {
   "cell_type": "code",
   "execution_count": 3,
   "metadata": {},
   "outputs": [],
   "source": [
    "dadagp_path = '/Users/pedro/Desktop/DadaGP-v1.1/'\n",
    "all_files_path = '/Users/pedro/Desktop/DadaGP-v1.1/_DadaGP_all_filenames.json'"
   ]
  },
  {
   "cell_type": "markdown",
   "metadata": {},
   "source": [
    "## Get all .gp files"
   ]
  },
  {
   "cell_type": "code",
   "execution_count": 12,
   "metadata": {},
   "outputs": [
    {
     "name": "stdout",
     "output_type": "stream",
     "text": [
      "26181\n"
     ]
    }
   ],
   "source": [
    "import json\n",
    "\n",
    "# Assuming 'all_files_path' contains the path to your JSON file\n",
    "with open(all_files_path, 'r') as f:\n",
    "    file_paths = json.load(f)  # Load JSON data into a Python list\n",
    "\n",
    "# Remove the \".tokens.txt\" part from each path\n",
    "all_gps_paths = [path.replace(\".tokens.txt\", \"\") for path in file_paths]\n",
    "\n",
    "# Print the number of files\n",
    "print(len(all_gps_paths))"
   ]
  },
  {
   "cell_type": "markdown",
   "metadata": {},
   "source": [
    "## Get all .gp files with => 4 tracks"
   ]
  },
  {
   "cell_type": "code",
   "execution_count": 24,
   "metadata": {},
   "outputs": [],
   "source": []
  },
  {
   "cell_type": "code",
   "execution_count": 25,
   "metadata": {},
   "outputs": [
    {
     "name": "stderr",
     "output_type": "stream",
     "text": [
      "  2%|▏         | 588/26181 [00:45<26:02, 16.38it/s]  "
     ]
    }
   ],
   "source": [
    "import guitarpro as gp\n",
    "import os\n",
    "from tqdm import tqdm\n",
    "\n",
    "gp_files_4plus = []\n",
    "\n",
    "# Iterate over the list of .gp file paths\n",
    "for gp_file_path in tqdm(all_gps_paths):\n",
    "    # Get full path\n",
    "    file_path = os.path.join(dadagp_path, gp_file_path)\n",
    "    # Parse them with pyguitarpro\n",
    "    try:\n",
    "        # Parse the Guitar Pro file\n",
    "        gp_file = gp.parse(file_path)\n",
    "\n",
    "        # Check the number of tracks\n",
    "        if len(gp_file.tracks) >= 4:\n",
    "            gp_files_4plus.append(file_path)\n",
    "            # print('File {} has {} tracks.'.format(file_path, len(gp_file.tracks)))\n",
    "\n",
    "    except Exception as e:\n",
    "        # Handle any parsing errors gracefully\n",
    "        print('Could not parse {}: {}'.format(file_path, e))\n",
    "    "
   ]
  }
 ],
 "metadata": {
  "kernelspec": {
   "display_name": "dadaMe",
   "language": "python",
   "name": "python3"
  },
  "language_info": {
   "codemirror_mode": {
    "name": "ipython",
    "version": 3
   },
   "file_extension": ".py",
   "mimetype": "text/x-python",
   "name": "python",
   "nbconvert_exporter": "python",
   "pygments_lexer": "ipython3",
   "version": "3.5.4"
  }
 },
 "nbformat": 4,
 "nbformat_minor": 2
}
